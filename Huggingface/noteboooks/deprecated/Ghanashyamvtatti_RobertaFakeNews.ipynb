{
 "cells": [
  {
   "cell_type": "code",
   "execution_count": 1,
   "metadata": {
    "pycharm": {
     "name": "#%%\n"
    }
   },
   "outputs": [],
   "source": [
    "%load_ext autoreload\n",
    "%autoreload 2"
   ]
  },
  {
   "cell_type": "code",
   "execution_count": 2,
   "metadata": {
    "pycharm": {
     "name": "#%%\n"
    }
   },
   "outputs": [
    {
     "name": "stdout",
     "output_type": "stream",
     "text": [
      "This project is written and tested in Python 3.7.13\n"
     ]
    }
   ],
   "source": [
    "from Huggingface.utils import HuggingfaceDatasetManager, get_most_important_n_tokens, TransformersModelTypeEnum, ModelManager, barplot_token_shap_values"
   ]
  },
  {
   "cell_type": "markdown",
   "metadata": {
    "pycharm": {
     "name": "#%% md\n"
    }
   },
   "source": [
    "# Load model from huggingface"
   ]
  },
  {
   "cell_type": "code",
   "execution_count": 3,
   "metadata": {
    "pycharm": {
     "name": "#%%\n"
    }
   },
   "outputs": [
    {
     "name": "stdout",
     "output_type": "stream",
     "text": [
      "Using device: cuda\n"
     ]
    }
   ],
   "source": [
    "model_type = TransformersModelTypeEnum.GS_ROBERTA_FAKE_NEWS\n",
    "model_manager = ModelManager(model_type)"
   ]
  },
  {
   "cell_type": "markdown",
   "metadata": {
    "pycharm": {
     "name": "#%% md\n"
    }
   },
   "source": [
    "# Load the respective dataset for the model"
   ]
  },
  {
   "cell_type": "code",
   "execution_count": 4,
   "metadata": {
    "pycharm": {
     "name": "#%%\n"
    }
   },
   "outputs": [
    {
     "name": "stdout",
     "output_type": "stream",
     "text": [
      "Loading instances from dir: /home/sersery/Desktop/TUM Informatik/SS22/Thesis/Code/Explainability_of_FND_Models/Huggingface/data/RobertaFakeNews/True.csv\n",
      "Loaded 21417 instances from /home/sersery/Desktop/TUM Informatik/SS22/Thesis/Code/Explainability_of_FND_Models/Huggingface/data/RobertaFakeNews/True.csv\n",
      "Loading instances from dir: /home/sersery/Desktop/TUM Informatik/SS22/Thesis/Code/Explainability_of_FND_Models/Huggingface/data/RobertaFakeNews/Fake.csv\n",
      "Loaded 23481 instances from /home/sersery/Desktop/TUM Informatik/SS22/Thesis/Code/Explainability_of_FND_Models/Huggingface/data/RobertaFakeNews/Fake.csv\n"
     ]
    }
   ],
   "source": [
    "dataset_manager = HuggingfaceDatasetManager(model_type)"
   ]
  },
  {
   "cell_type": "code",
   "execution_count": 5,
   "metadata": {
    "pycharm": {
     "name": "#%%\n"
    }
   },
   "outputs": [],
   "source": [
    "labels, samples = dataset_manager.fetch_random_samples(sample_count=200)"
   ]
  },
  {
   "cell_type": "code",
   "execution_count": 6,
   "outputs": [
    {
     "name": "stderr",
     "output_type": "stream",
     "text": [
      "You seem to be using the pipelines sequentially on GPU. In order to maximize efficiency please use a dataset\n"
     ]
    },
    {
     "data": {
      "text/plain": "  0%|          | 0/248 [00:00<?, ?it/s]",
      "application/vnd.jupyter.widget-view+json": {
       "version_major": 2,
       "version_minor": 0,
       "model_id": "6c4f753b3eab482a92b33b2333c67a7a"
      }
     },
     "metadata": {},
     "output_type": "display_data"
    },
    {
     "name": "stderr",
     "output_type": "stream",
     "text": [
      "Partition explainer:   1%|          | 2/200 [00:00<?, ?it/s]Token indices sequence length is longer than the specified maximum sequence length for this model (848 > 512). Running this sequence through the model will result in indexing errors\n"
     ]
    },
    {
     "data": {
      "text/plain": "  0%|          | 0/248 [00:00<?, ?it/s]",
      "application/vnd.jupyter.widget-view+json": {
       "version_major": 2,
       "version_minor": 0,
       "model_id": "f8d7bc666a0749f0966b34738af68109"
      }
     },
     "metadata": {},
     "output_type": "display_data"
    },
    {
     "name": "stderr",
     "output_type": "stream",
     "text": [
      "Partition explainer:   2%|▏         | 4/200 [00:23<18:20,  5.62s/it]"
     ]
    },
    {
     "data": {
      "text/plain": "  0%|          | 0/248 [00:00<?, ?it/s]",
      "application/vnd.jupyter.widget-view+json": {
       "version_major": 2,
       "version_minor": 0,
       "model_id": "f84f0b8db5b94df48c884dde04d6d20d"
      }
     },
     "metadata": {},
     "output_type": "display_data"
    },
    {
     "name": "stderr",
     "output_type": "stream",
     "text": [
      "Partition explainer:   2%|▎         | 5/200 [00:29<17:48,  5.48s/it]"
     ]
    },
    {
     "data": {
      "text/plain": "  0%|          | 0/248 [00:00<?, ?it/s]",
      "application/vnd.jupyter.widget-view+json": {
       "version_major": 2,
       "version_minor": 0,
       "model_id": "f151b009bc624c4aa6deb5d746317407"
      }
     },
     "metadata": {},
     "output_type": "display_data"
    },
    {
     "name": "stderr",
     "output_type": "stream",
     "text": [
      "Partition explainer:   3%|▎         | 6/200 [00:39<23:03,  7.13s/it]"
     ]
    },
    {
     "data": {
      "text/plain": "  0%|          | 0/248 [00:00<?, ?it/s]",
      "application/vnd.jupyter.widget-view+json": {
       "version_major": 2,
       "version_minor": 0,
       "model_id": "292cd9035c1740519d015bdb7484479c"
      }
     },
     "metadata": {},
     "output_type": "display_data"
    },
    {
     "name": "stderr",
     "output_type": "stream",
     "text": [
      "Partition explainer:   4%|▎         | 7/200 [00:49<26:51,  8.35s/it]"
     ]
    },
    {
     "data": {
      "text/plain": "  0%|          | 0/248 [00:00<?, ?it/s]",
      "application/vnd.jupyter.widget-view+json": {
       "version_major": 2,
       "version_minor": 0,
       "model_id": "a1eead8b4d824194a4c4aa50cd9849e5"
      }
     },
     "metadata": {},
     "output_type": "display_data"
    },
    {
     "name": "stderr",
     "output_type": "stream",
     "text": [
      "Partition explainer:   4%|▍         | 8/200 [00:57<26:25,  8.26s/it]"
     ]
    },
    {
     "data": {
      "text/plain": "  0%|          | 0/248 [00:00<?, ?it/s]",
      "application/vnd.jupyter.widget-view+json": {
       "version_major": 2,
       "version_minor": 0,
       "model_id": "2eca02537a164c72acc6f80080e20ff9"
      }
     },
     "metadata": {},
     "output_type": "display_data"
    },
    {
     "name": "stderr",
     "output_type": "stream",
     "text": [
      "Partition explainer:   5%|▌         | 10/200 [01:14<25:04,  7.92s/it]"
     ]
    },
    {
     "data": {
      "text/plain": "  0%|          | 0/248 [00:00<?, ?it/s]",
      "application/vnd.jupyter.widget-view+json": {
       "version_major": 2,
       "version_minor": 0,
       "model_id": "5e0462cb5f0043e29471e34d710e645d"
      }
     },
     "metadata": {},
     "output_type": "display_data"
    },
    {
     "name": "stderr",
     "output_type": "stream",
     "text": [
      "Partition explainer:   6%|▌         | 11/200 [01:23<26:41,  8.48s/it]"
     ]
    },
    {
     "data": {
      "text/plain": "  0%|          | 0/248 [00:00<?, ?it/s]",
      "application/vnd.jupyter.widget-view+json": {
       "version_major": 2,
       "version_minor": 0,
       "model_id": "290b36d2550d421cb7b0cfc686ca08bf"
      }
     },
     "metadata": {},
     "output_type": "display_data"
    },
    {
     "name": "stderr",
     "output_type": "stream",
     "text": [
      "Partition explainer:   6%|▋         | 13/200 [01:35<21:57,  7.04s/it]"
     ]
    },
    {
     "data": {
      "text/plain": "  0%|          | 0/248 [00:00<?, ?it/s]",
      "application/vnd.jupyter.widget-view+json": {
       "version_major": 2,
       "version_minor": 0,
       "model_id": "4cf67ba5d591411da09900756564740d"
      }
     },
     "metadata": {},
     "output_type": "display_data"
    },
    {
     "name": "stderr",
     "output_type": "stream",
     "text": [
      "Partition explainer:   7%|▋         | 14/200 [01:43<22:10,  7.15s/it]"
     ]
    },
    {
     "data": {
      "text/plain": "  0%|          | 0/248 [00:00<?, ?it/s]",
      "application/vnd.jupyter.widget-view+json": {
       "version_major": 2,
       "version_minor": 0,
       "model_id": "4f71687525c84767a26bda9cece6dd7f"
      }
     },
     "metadata": {},
     "output_type": "display_data"
    },
    {
     "name": "stderr",
     "output_type": "stream",
     "text": [
      "Partition explainer:   8%|▊         | 15/200 [01:51<23:06,  7.50s/it]"
     ]
    },
    {
     "data": {
      "text/plain": "  0%|          | 0/248 [00:00<?, ?it/s]",
      "application/vnd.jupyter.widget-view+json": {
       "version_major": 2,
       "version_minor": 0,
       "model_id": "60213d5246bd43579173f09b0ab1314e"
      }
     },
     "metadata": {},
     "output_type": "display_data"
    },
    {
     "name": "stderr",
     "output_type": "stream",
     "text": [
      "Partition explainer:   8%|▊         | 16/200 [02:02<26:18,  8.58s/it]"
     ]
    },
    {
     "data": {
      "text/plain": "  0%|          | 0/248 [00:00<?, ?it/s]",
      "application/vnd.jupyter.widget-view+json": {
       "version_major": 2,
       "version_minor": 0,
       "model_id": "7c398156d6a645b38d88d7989632e559"
      }
     },
     "metadata": {},
     "output_type": "display_data"
    },
    {
     "name": "stderr",
     "output_type": "stream",
     "text": [
      "Partition explainer:   8%|▊         | 17/200 [02:10<25:05,  8.23s/it]"
     ]
    },
    {
     "data": {
      "text/plain": "  0%|          | 0/248 [00:00<?, ?it/s]",
      "application/vnd.jupyter.widget-view+json": {
       "version_major": 2,
       "version_minor": 0,
       "model_id": "c4816e62760047a49566b962cd289342"
      }
     },
     "metadata": {},
     "output_type": "display_data"
    },
    {
     "name": "stderr",
     "output_type": "stream",
     "text": [
      "Partition explainer:  10%|▉         | 19/200 [02:25<23:11,  7.69s/it]"
     ]
    },
    {
     "data": {
      "text/plain": "  0%|          | 0/248 [00:00<?, ?it/s]",
      "application/vnd.jupyter.widget-view+json": {
       "version_major": 2,
       "version_minor": 0,
       "model_id": "9b9db16a3cd54310896b08b054a21a8e"
      }
     },
     "metadata": {},
     "output_type": "display_data"
    },
    {
     "name": "stderr",
     "output_type": "stream",
     "text": [
      "Partition explainer:  10%|█         | 21/200 [02:43<23:49,  7.99s/it]"
     ]
    },
    {
     "data": {
      "text/plain": "  0%|          | 0/248 [00:00<?, ?it/s]",
      "application/vnd.jupyter.widget-view+json": {
       "version_major": 2,
       "version_minor": 0,
       "model_id": "14f8f160fae64101a1ed25f85c5c15bc"
      }
     },
     "metadata": {},
     "output_type": "display_data"
    },
    {
     "name": "stderr",
     "output_type": "stream",
     "text": [
      "Partition explainer:  11%|█         | 22/200 [02:54<26:33,  8.95s/it]"
     ]
    },
    {
     "data": {
      "text/plain": "  0%|          | 0/248 [00:00<?, ?it/s]",
      "application/vnd.jupyter.widget-view+json": {
       "version_major": 2,
       "version_minor": 0,
       "model_id": "6c1512a431a448699e5a28f0995dd846"
      }
     },
     "metadata": {},
     "output_type": "display_data"
    },
    {
     "name": "stderr",
     "output_type": "stream",
     "text": [
      "Partition explainer:  12%|█▏        | 23/200 [03:03<26:18,  8.92s/it]"
     ]
    },
    {
     "data": {
      "text/plain": "  0%|          | 0/248 [00:00<?, ?it/s]",
      "application/vnd.jupyter.widget-view+json": {
       "version_major": 2,
       "version_minor": 0,
       "model_id": "bc2b1bc0c92344898a9fb17bfd702327"
      }
     },
     "metadata": {},
     "output_type": "display_data"
    },
    {
     "name": "stderr",
     "output_type": "stream",
     "text": [
      "Partition explainer:  12%|█▎        | 25/200 [03:19<23:01,  7.89s/it]"
     ]
    },
    {
     "data": {
      "text/plain": "  0%|          | 0/248 [00:00<?, ?it/s]",
      "application/vnd.jupyter.widget-view+json": {
       "version_major": 2,
       "version_minor": 0,
       "model_id": "d499d082daab4ff9b7eafff6d585a2fd"
      }
     },
     "metadata": {},
     "output_type": "display_data"
    },
    {
     "name": "stderr",
     "output_type": "stream",
     "text": [
      "Partition explainer:  13%|█▎        | 26/200 [03:30<26:00,  8.97s/it]"
     ]
    },
    {
     "data": {
      "text/plain": "  0%|          | 0/248 [00:00<?, ?it/s]",
      "application/vnd.jupyter.widget-view+json": {
       "version_major": 2,
       "version_minor": 0,
       "model_id": "90e76b8c25324777bdf79c62971b0fcc"
      }
     },
     "metadata": {},
     "output_type": "display_data"
    },
    {
     "name": "stderr",
     "output_type": "stream",
     "text": [
      "Partition explainer:  14%|█▎        | 27/200 [03:42<28:02,  9.73s/it]"
     ]
    },
    {
     "data": {
      "text/plain": "  0%|          | 0/248 [00:00<?, ?it/s]",
      "application/vnd.jupyter.widget-view+json": {
       "version_major": 2,
       "version_minor": 0,
       "model_id": "a48c89d2f3814d0c812564dd8ebcf6b9"
      }
     },
     "metadata": {},
     "output_type": "display_data"
    },
    {
     "name": "stderr",
     "output_type": "stream",
     "text": [
      "Partition explainer:  14%|█▍        | 28/200 [03:47<24:03,  8.39s/it]"
     ]
    },
    {
     "data": {
      "text/plain": "  0%|          | 0/248 [00:00<?, ?it/s]",
      "application/vnd.jupyter.widget-view+json": {
       "version_major": 2,
       "version_minor": 0,
       "model_id": "a0db56f220864ca1b2f794384b77acc2"
      }
     },
     "metadata": {},
     "output_type": "display_data"
    },
    {
     "name": "stderr",
     "output_type": "stream",
     "text": [
      "Partition explainer:  14%|█▍        | 29/200 [03:59<26:47,  9.40s/it]"
     ]
    },
    {
     "data": {
      "text/plain": "  0%|          | 0/248 [00:00<?, ?it/s]",
      "application/vnd.jupyter.widget-view+json": {
       "version_major": 2,
       "version_minor": 0,
       "model_id": "bc47471ef4954251878944e011e4d861"
      }
     },
     "metadata": {},
     "output_type": "display_data"
    },
    {
     "name": "stderr",
     "output_type": "stream",
     "text": [
      "Partition explainer:  15%|█▌        | 30/200 [04:10<27:51,  9.83s/it]"
     ]
    },
    {
     "data": {
      "text/plain": "  0%|          | 0/248 [00:00<?, ?it/s]",
      "application/vnd.jupyter.widget-view+json": {
       "version_major": 2,
       "version_minor": 0,
       "model_id": "dddcf9e3d9b94256a9f2c58fd59e5c63"
      }
     },
     "metadata": {},
     "output_type": "display_data"
    },
    {
     "name": "stderr",
     "output_type": "stream",
     "text": [
      "Partition explainer:  16%|█▌        | 31/200 [04:20<28:39, 10.18s/it]"
     ]
    },
    {
     "data": {
      "text/plain": "  0%|          | 0/248 [00:00<?, ?it/s]",
      "application/vnd.jupyter.widget-view+json": {
       "version_major": 2,
       "version_minor": 0,
       "model_id": "b45d713318be4972980a4b2d60a9ddaa"
      }
     },
     "metadata": {},
     "output_type": "display_data"
    },
    {
     "name": "stderr",
     "output_type": "stream",
     "text": [
      "Partition explainer:  16%|█▌        | 32/200 [04:32<29:31, 10.54s/it]"
     ]
    },
    {
     "data": {
      "text/plain": "  0%|          | 0/248 [00:00<?, ?it/s]",
      "application/vnd.jupyter.widget-view+json": {
       "version_major": 2,
       "version_minor": 0,
       "model_id": "6a0dda71de564cd5ab97eab4a91bf31a"
      }
     },
     "metadata": {},
     "output_type": "display_data"
    },
    {
     "name": "stderr",
     "output_type": "stream",
     "text": [
      "Partition explainer:  16%|█▋        | 33/200 [04:37<24:54,  8.95s/it]"
     ]
    },
    {
     "data": {
      "text/plain": "  0%|          | 0/248 [00:00<?, ?it/s]",
      "application/vnd.jupyter.widget-view+json": {
       "version_major": 2,
       "version_minor": 0,
       "model_id": "ee46ad5b7acb42b9bb2db700c0435e0f"
      }
     },
     "metadata": {},
     "output_type": "display_data"
    },
    {
     "name": "stderr",
     "output_type": "stream",
     "text": [
      "Partition explainer:  17%|█▋        | 34/200 [04:48<26:33,  9.60s/it]"
     ]
    },
    {
     "data": {
      "text/plain": "  0%|          | 0/248 [00:00<?, ?it/s]",
      "application/vnd.jupyter.widget-view+json": {
       "version_major": 2,
       "version_minor": 0,
       "model_id": "ab8f38836092456082ad2955beeb3930"
      }
     },
     "metadata": {},
     "output_type": "display_data"
    },
    {
     "name": "stderr",
     "output_type": "stream",
     "text": [
      "Partition explainer:  18%|█▊        | 35/200 [05:00<28:25, 10.33s/it]"
     ]
    },
    {
     "data": {
      "text/plain": "  0%|          | 0/248 [00:00<?, ?it/s]",
      "application/vnd.jupyter.widget-view+json": {
       "version_major": 2,
       "version_minor": 0,
       "model_id": "425a807a02a74f6e919a2076645adb88"
      }
     },
     "metadata": {},
     "output_type": "display_data"
    },
    {
     "name": "stderr",
     "output_type": "stream",
     "text": [
      "Partition explainer:  18%|█▊        | 36/200 [05:06<24:05,  8.81s/it]"
     ]
    },
    {
     "data": {
      "text/plain": "  0%|          | 0/248 [00:00<?, ?it/s]",
      "application/vnd.jupyter.widget-view+json": {
       "version_major": 2,
       "version_minor": 0,
       "model_id": "ba731f0aee9c439dbef0dd9e815b02df"
      }
     },
     "metadata": {},
     "output_type": "display_data"
    },
    {
     "name": "stderr",
     "output_type": "stream",
     "text": [
      "Partition explainer:  18%|█▊        | 37/200 [05:20<28:29, 10.49s/it]"
     ]
    },
    {
     "data": {
      "text/plain": "  0%|          | 0/248 [00:00<?, ?it/s]",
      "application/vnd.jupyter.widget-view+json": {
       "version_major": 2,
       "version_minor": 0,
       "model_id": "de98666b0d3d49f0b3c3ea408351eb21"
      }
     },
     "metadata": {},
     "output_type": "display_data"
    },
    {
     "name": "stderr",
     "output_type": "stream",
     "text": [
      "Partition explainer:  20%|█▉        | 39/200 [05:34<22:57,  8.56s/it]"
     ]
    },
    {
     "data": {
      "text/plain": "  0%|          | 0/248 [00:00<?, ?it/s]",
      "application/vnd.jupyter.widget-view+json": {
       "version_major": 2,
       "version_minor": 0,
       "model_id": "e0efa3ab5e17466f8ce1390970a68199"
      }
     },
     "metadata": {},
     "output_type": "display_data"
    },
    {
     "name": "stderr",
     "output_type": "stream",
     "text": [
      "Partition explainer:  20%|██        | 40/200 [05:47<26:13,  9.83s/it]"
     ]
    },
    {
     "data": {
      "text/plain": "  0%|          | 0/248 [00:00<?, ?it/s]",
      "application/vnd.jupyter.widget-view+json": {
       "version_major": 2,
       "version_minor": 0,
       "model_id": "533ba227b2c2457e8622a5c1912510b4"
      }
     },
     "metadata": {},
     "output_type": "display_data"
    },
    {
     "name": "stderr",
     "output_type": "stream",
     "text": [
      "Partition explainer:  20%|██        | 41/200 [06:01<28:55, 10.92s/it]"
     ]
    },
    {
     "data": {
      "text/plain": "  0%|          | 0/248 [00:00<?, ?it/s]",
      "application/vnd.jupyter.widget-view+json": {
       "version_major": 2,
       "version_minor": 0,
       "model_id": "09c21ba4affe4c41a5fcfd525ffccda8"
      }
     },
     "metadata": {},
     "output_type": "display_data"
    },
    {
     "name": "stderr",
     "output_type": "stream",
     "text": [
      "Partition explainer:  21%|██        | 42/200 [06:09<26:22, 10.02s/it]"
     ]
    },
    {
     "data": {
      "text/plain": "  0%|          | 0/248 [00:00<?, ?it/s]",
      "application/vnd.jupyter.widget-view+json": {
       "version_major": 2,
       "version_minor": 0,
       "model_id": "89d4a138f88c423baa379dbc3723efb3"
      }
     },
     "metadata": {},
     "output_type": "display_data"
    },
    {
     "name": "stderr",
     "output_type": "stream",
     "text": [
      "Partition explainer:  22%|██▏       | 44/200 [06:22<20:36,  7.93s/it]"
     ]
    },
    {
     "data": {
      "text/plain": "  0%|          | 0/248 [00:00<?, ?it/s]",
      "application/vnd.jupyter.widget-view+json": {
       "version_major": 2,
       "version_minor": 0,
       "model_id": "ce633daf7aa24543b49ffa81412ae752"
      }
     },
     "metadata": {},
     "output_type": "display_data"
    },
    {
     "name": "stderr",
     "output_type": "stream",
     "text": [
      "Partition explainer:  23%|██▎       | 46/200 [06:32<16:44,  6.52s/it]"
     ]
    },
    {
     "data": {
      "text/plain": "  0%|          | 0/248 [00:00<?, ?it/s]",
      "application/vnd.jupyter.widget-view+json": {
       "version_major": 2,
       "version_minor": 0,
       "model_id": "9f7a83d36a72497ea9425a6b1121799b"
      }
     },
     "metadata": {},
     "output_type": "display_data"
    },
    {
     "name": "stderr",
     "output_type": "stream",
     "text": [
      "Partition explainer:  24%|██▎       | 47/200 [06:41<18:41,  7.33s/it]"
     ]
    },
    {
     "data": {
      "text/plain": "  0%|          | 0/248 [00:00<?, ?it/s]",
      "application/vnd.jupyter.widget-view+json": {
       "version_major": 2,
       "version_minor": 0,
       "model_id": "f8f98829ea4f44d091543a1be1681f0b"
      }
     },
     "metadata": {},
     "output_type": "display_data"
    },
    {
     "name": "stderr",
     "output_type": "stream",
     "text": [
      "Partition explainer:  24%|██▍       | 48/200 [06:51<20:12,  7.98s/it]"
     ]
    },
    {
     "data": {
      "text/plain": "  0%|          | 0/248 [00:00<?, ?it/s]",
      "application/vnd.jupyter.widget-view+json": {
       "version_major": 2,
       "version_minor": 0,
       "model_id": "949190a373524ec19fd56215fd27726c"
      }
     },
     "metadata": {},
     "output_type": "display_data"
    },
    {
     "name": "stderr",
     "output_type": "stream",
     "text": [
      "Partition explainer:  24%|██▍       | 49/200 [06:59<19:54,  7.91s/it]"
     ]
    },
    {
     "data": {
      "text/plain": "  0%|          | 0/248 [00:00<?, ?it/s]",
      "application/vnd.jupyter.widget-view+json": {
       "version_major": 2,
       "version_minor": 0,
       "model_id": "c4702c9cbdde430ebd8d1e14c1134ce0"
      }
     },
     "metadata": {},
     "output_type": "display_data"
    },
    {
     "name": "stderr",
     "output_type": "stream",
     "text": [
      "Partition explainer:  25%|██▌       | 50/200 [07:10<22:06,  8.84s/it]"
     ]
    },
    {
     "data": {
      "text/plain": "  0%|          | 0/248 [00:00<?, ?it/s]",
      "application/vnd.jupyter.widget-view+json": {
       "version_major": 2,
       "version_minor": 0,
       "model_id": "88eb951b56a24a49bb80d9647978da09"
      }
     },
     "metadata": {},
     "output_type": "display_data"
    },
    {
     "name": "stderr",
     "output_type": "stream",
     "text": [
      "Partition explainer:  26%|██▌       | 51/200 [07:21<23:29,  9.46s/it]"
     ]
    },
    {
     "data": {
      "text/plain": "  0%|          | 0/248 [00:00<?, ?it/s]",
      "application/vnd.jupyter.widget-view+json": {
       "version_major": 2,
       "version_minor": 0,
       "model_id": "dfea7540de2d4bd4950331f002538983"
      }
     },
     "metadata": {},
     "output_type": "display_data"
    },
    {
     "name": "stderr",
     "output_type": "stream",
     "text": [
      "Partition explainer:  26%|██▌       | 52/200 [07:35<27:01, 10.96s/it]"
     ]
    },
    {
     "data": {
      "text/plain": "  0%|          | 0/248 [00:00<?, ?it/s]",
      "application/vnd.jupyter.widget-view+json": {
       "version_major": 2,
       "version_minor": 0,
       "model_id": "6c32ff4d6c5744ad84879b458395bc15"
      }
     },
     "metadata": {},
     "output_type": "display_data"
    },
    {
     "name": "stderr",
     "output_type": "stream",
     "text": [
      "Partition explainer:  26%|██▋       | 53/200 [07:47<27:56, 11.41s/it]"
     ]
    },
    {
     "data": {
      "text/plain": "  0%|          | 0/248 [00:00<?, ?it/s]",
      "application/vnd.jupyter.widget-view+json": {
       "version_major": 2,
       "version_minor": 0,
       "model_id": "ed54c1610f0143bab835af699590917f"
      }
     },
     "metadata": {},
     "output_type": "display_data"
    },
    {
     "name": "stderr",
     "output_type": "stream",
     "text": [
      "Partition explainer:  27%|██▋       | 54/200 [07:55<25:04, 10.31s/it]"
     ]
    },
    {
     "data": {
      "text/plain": "  0%|          | 0/248 [00:00<?, ?it/s]",
      "application/vnd.jupyter.widget-view+json": {
       "version_major": 2,
       "version_minor": 0,
       "model_id": "b7a20c92024f471297d4c3d00ff12eb7"
      }
     },
     "metadata": {},
     "output_type": "display_data"
    },
    {
     "name": "stderr",
     "output_type": "stream",
     "text": [
      "Partition explainer:  28%|██▊       | 55/200 [08:05<24:31, 10.14s/it]"
     ]
    },
    {
     "data": {
      "text/plain": "  0%|          | 0/248 [00:00<?, ?it/s]",
      "application/vnd.jupyter.widget-view+json": {
       "version_major": 2,
       "version_minor": 0,
       "model_id": "4181b88965984b899c501da5848647fb"
      }
     },
     "metadata": {},
     "output_type": "display_data"
    },
    {
     "name": "stderr",
     "output_type": "stream",
     "text": [
      "Partition explainer:  28%|██▊       | 56/200 [08:15<24:21, 10.15s/it]"
     ]
    },
    {
     "data": {
      "text/plain": "  0%|          | 0/248 [00:00<?, ?it/s]",
      "application/vnd.jupyter.widget-view+json": {
       "version_major": 2,
       "version_minor": 0,
       "model_id": "2a68714219d4415fb466a509da59de61"
      }
     },
     "metadata": {},
     "output_type": "display_data"
    },
    {
     "name": "stderr",
     "output_type": "stream",
     "text": [
      "Partition explainer:  28%|██▊       | 57/200 [08:22<21:34,  9.05s/it]"
     ]
    },
    {
     "data": {
      "text/plain": "  0%|          | 0/248 [00:00<?, ?it/s]",
      "application/vnd.jupyter.widget-view+json": {
       "version_major": 2,
       "version_minor": 0,
       "model_id": "26cccd301e89476da2f27ca146fa5b58"
      }
     },
     "metadata": {},
     "output_type": "display_data"
    },
    {
     "name": "stderr",
     "output_type": "stream",
     "text": [
      "Partition explainer:  30%|██▉       | 59/200 [08:37<18:57,  8.07s/it]"
     ]
    },
    {
     "data": {
      "text/plain": "  0%|          | 0/248 [00:00<?, ?it/s]",
      "application/vnd.jupyter.widget-view+json": {
       "version_major": 2,
       "version_minor": 0,
       "model_id": "e7971cec3f724a439e75b7c3bb1b44b2"
      }
     },
     "metadata": {},
     "output_type": "display_data"
    },
    {
     "name": "stderr",
     "output_type": "stream",
     "text": [
      "Partition explainer:  30%|███       | 61/200 [08:52<16:51,  7.27s/it]"
     ]
    },
    {
     "data": {
      "text/plain": "  0%|          | 0/248 [00:00<?, ?it/s]",
      "application/vnd.jupyter.widget-view+json": {
       "version_major": 2,
       "version_minor": 0,
       "model_id": "d76c25d4a2d24f0b8ab101c1e3788157"
      }
     },
     "metadata": {},
     "output_type": "display_data"
    },
    {
     "name": "stderr",
     "output_type": "stream",
     "text": [
      "Partition explainer:  31%|███       | 62/200 [09:03<19:22,  8.42s/it]"
     ]
    },
    {
     "data": {
      "text/plain": "  0%|          | 0/248 [00:00<?, ?it/s]",
      "application/vnd.jupyter.widget-view+json": {
       "version_major": 2,
       "version_minor": 0,
       "model_id": "53bdcd1b54e440efb4c33d2442618a0b"
      }
     },
     "metadata": {},
     "output_type": "display_data"
    },
    {
     "name": "stderr",
     "output_type": "stream",
     "text": [
      "Partition explainer:  32%|███▏      | 63/200 [09:14<21:10,  9.27s/it]"
     ]
    },
    {
     "data": {
      "text/plain": "  0%|          | 0/248 [00:00<?, ?it/s]",
      "application/vnd.jupyter.widget-view+json": {
       "version_major": 2,
       "version_minor": 0,
       "model_id": "bbc4d87272da48b28daef87d8ba43ee8"
      }
     },
     "metadata": {},
     "output_type": "display_data"
    },
    {
     "name": "stderr",
     "output_type": "stream",
     "text": [
      "Partition explainer:  32%|███▏      | 64/200 [09:20<18:58,  8.37s/it]"
     ]
    },
    {
     "data": {
      "text/plain": "  0%|          | 0/248 [00:00<?, ?it/s]",
      "application/vnd.jupyter.widget-view+json": {
       "version_major": 2,
       "version_minor": 0,
       "model_id": "795dd38f22f4464ea3752794eeabb2f4"
      }
     },
     "metadata": {},
     "output_type": "display_data"
    },
    {
     "name": "stderr",
     "output_type": "stream",
     "text": [
      "Partition explainer:  32%|███▎      | 65/200 [09:27<17:58,  7.99s/it]"
     ]
    },
    {
     "data": {
      "text/plain": "  0%|          | 0/248 [00:00<?, ?it/s]",
      "application/vnd.jupyter.widget-view+json": {
       "version_major": 2,
       "version_minor": 0,
       "model_id": "9206867430e74e5187a38a6bd682f35e"
      }
     },
     "metadata": {},
     "output_type": "display_data"
    },
    {
     "name": "stderr",
     "output_type": "stream",
     "text": [
      "Partition explainer:  33%|███▎      | 66/200 [09:37<18:43,  8.39s/it]"
     ]
    },
    {
     "data": {
      "text/plain": "  0%|          | 0/248 [00:00<?, ?it/s]",
      "application/vnd.jupyter.widget-view+json": {
       "version_major": 2,
       "version_minor": 0,
       "model_id": "b6fe5efa0eec40a2b277e214f8e8e79f"
      }
     },
     "metadata": {},
     "output_type": "display_data"
    },
    {
     "name": "stderr",
     "output_type": "stream",
     "text": [
      "Partition explainer:  34%|███▎      | 67/200 [09:47<20:03,  9.05s/it]"
     ]
    },
    {
     "data": {
      "text/plain": "  0%|          | 0/248 [00:00<?, ?it/s]",
      "application/vnd.jupyter.widget-view+json": {
       "version_major": 2,
       "version_minor": 0,
       "model_id": "e6030e1d874e44399e6f0e55a8efaa40"
      }
     },
     "metadata": {},
     "output_type": "display_data"
    },
    {
     "name": "stderr",
     "output_type": "stream",
     "text": [
      "Partition explainer:  34%|███▍      | 69/200 [09:59<15:30,  7.11s/it]"
     ]
    },
    {
     "data": {
      "text/plain": "  0%|          | 0/248 [00:00<?, ?it/s]",
      "application/vnd.jupyter.widget-view+json": {
       "version_major": 2,
       "version_minor": 0,
       "model_id": "8b127bec6f214a4f8437685ab13f8807"
      }
     },
     "metadata": {},
     "output_type": "display_data"
    },
    {
     "name": "stderr",
     "output_type": "stream",
     "text": [
      "Partition explainer:  35%|███▌      | 70/200 [10:06<15:55,  7.35s/it]"
     ]
    },
    {
     "data": {
      "text/plain": "  0%|          | 0/248 [00:00<?, ?it/s]",
      "application/vnd.jupyter.widget-view+json": {
       "version_major": 2,
       "version_minor": 0,
       "model_id": "2be9d67a355e4c60aa4ab62980b0c64d"
      }
     },
     "metadata": {},
     "output_type": "display_data"
    },
    {
     "name": "stderr",
     "output_type": "stream",
     "text": [
      "Partition explainer:  36%|███▌      | 72/200 [10:19<13:59,  6.56s/it]"
     ]
    },
    {
     "data": {
      "text/plain": "  0%|          | 0/248 [00:00<?, ?it/s]",
      "application/vnd.jupyter.widget-view+json": {
       "version_major": 2,
       "version_minor": 0,
       "model_id": "6a1a99d716114303b686011afda73b4c"
      }
     },
     "metadata": {},
     "output_type": "display_data"
    },
    {
     "name": "stderr",
     "output_type": "stream",
     "text": [
      "Partition explainer:  36%|███▋      | 73/200 [10:31<17:02,  8.05s/it]"
     ]
    },
    {
     "data": {
      "text/plain": "  0%|          | 0/248 [00:00<?, ?it/s]",
      "application/vnd.jupyter.widget-view+json": {
       "version_major": 2,
       "version_minor": 0,
       "model_id": "cedb1c37c4e145a89cfdd245caa8f7fd"
      }
     },
     "metadata": {},
     "output_type": "display_data"
    },
    {
     "name": "stderr",
     "output_type": "stream",
     "text": [
      "Partition explainer:  37%|███▋      | 74/200 [10:41<17:56,  8.54s/it]"
     ]
    },
    {
     "data": {
      "text/plain": "  0%|          | 0/248 [00:00<?, ?it/s]",
      "application/vnd.jupyter.widget-view+json": {
       "version_major": 2,
       "version_minor": 0,
       "model_id": "bbd8a667c75e4d16874d714d7aa7aca4"
      }
     },
     "metadata": {},
     "output_type": "display_data"
    },
    {
     "name": "stderr",
     "output_type": "stream",
     "text": [
      "Partition explainer:  38%|███▊      | 75/200 [10:52<19:24,  9.32s/it]"
     ]
    },
    {
     "data": {
      "text/plain": "  0%|          | 0/248 [00:00<?, ?it/s]",
      "application/vnd.jupyter.widget-view+json": {
       "version_major": 2,
       "version_minor": 0,
       "model_id": "72b5cc74dbe74196b625724a2a0e63ec"
      }
     },
     "metadata": {},
     "output_type": "display_data"
    },
    {
     "name": "stderr",
     "output_type": "stream",
     "text": [
      "Partition explainer:  38%|███▊      | 76/200 [11:01<19:17,  9.34s/it]"
     ]
    },
    {
     "data": {
      "text/plain": "  0%|          | 0/248 [00:00<?, ?it/s]",
      "application/vnd.jupyter.widget-view+json": {
       "version_major": 2,
       "version_minor": 0,
       "model_id": "206172eb976f425b9eab7e718b40aa38"
      }
     },
     "metadata": {},
     "output_type": "display_data"
    },
    {
     "name": "stderr",
     "output_type": "stream",
     "text": [
      "Partition explainer:  40%|███▉      | 79/200 [11:18<13:24,  6.64s/it]"
     ]
    },
    {
     "data": {
      "text/plain": "  0%|          | 0/248 [00:00<?, ?it/s]",
      "application/vnd.jupyter.widget-view+json": {
       "version_major": 2,
       "version_minor": 0,
       "model_id": "690002ff64d945aea65fc898ad39b990"
      }
     },
     "metadata": {},
     "output_type": "display_data"
    },
    {
     "name": "stderr",
     "output_type": "stream",
     "text": [
      "Partition explainer:  40%|████      | 80/200 [11:26<14:02,  7.02s/it]"
     ]
    },
    {
     "data": {
      "text/plain": "  0%|          | 0/248 [00:00<?, ?it/s]",
      "application/vnd.jupyter.widget-view+json": {
       "version_major": 2,
       "version_minor": 0,
       "model_id": "d09e741fd2754b8d9c302dccc8fbee0d"
      }
     },
     "metadata": {},
     "output_type": "display_data"
    },
    {
     "name": "stderr",
     "output_type": "stream",
     "text": [
      "Partition explainer:  40%|████      | 81/200 [11:36<15:49,  7.98s/it]"
     ]
    },
    {
     "data": {
      "text/plain": "  0%|          | 0/248 [00:00<?, ?it/s]",
      "application/vnd.jupyter.widget-view+json": {
       "version_major": 2,
       "version_minor": 0,
       "model_id": "7e80e01e612f41dcb8a3c2f9626d1279"
      }
     },
     "metadata": {},
     "output_type": "display_data"
    },
    {
     "name": "stderr",
     "output_type": "stream",
     "text": [
      "Partition explainer:  41%|████      | 82/200 [11:47<17:30,  8.90s/it]"
     ]
    },
    {
     "data": {
      "text/plain": "  0%|          | 0/248 [00:00<?, ?it/s]",
      "application/vnd.jupyter.widget-view+json": {
       "version_major": 2,
       "version_minor": 0,
       "model_id": "5602eddb83e14c9c8095985d7140f378"
      }
     },
     "metadata": {},
     "output_type": "display_data"
    },
    {
     "name": "stderr",
     "output_type": "stream",
     "text": [
      "Partition explainer:  42%|████▏     | 83/200 [11:59<19:00,  9.75s/it]"
     ]
    },
    {
     "data": {
      "text/plain": "  0%|          | 0/248 [00:00<?, ?it/s]",
      "application/vnd.jupyter.widget-view+json": {
       "version_major": 2,
       "version_minor": 0,
       "model_id": "aea30a214a6f4571b381bfd844fae55f"
      }
     },
     "metadata": {},
     "output_type": "display_data"
    },
    {
     "name": "stderr",
     "output_type": "stream",
     "text": [
      "Partition explainer:  42%|████▏     | 84/200 [12:12<20:34, 10.64s/it]"
     ]
    },
    {
     "data": {
      "text/plain": "  0%|          | 0/248 [00:00<?, ?it/s]",
      "application/vnd.jupyter.widget-view+json": {
       "version_major": 2,
       "version_minor": 0,
       "model_id": "e7734e00a3094f2fbdd808a53817683a"
      }
     },
     "metadata": {},
     "output_type": "display_data"
    },
    {
     "name": "stderr",
     "output_type": "stream",
     "text": [
      "Partition explainer:  42%|████▎     | 85/200 [12:17<17:24,  9.08s/it]"
     ]
    },
    {
     "data": {
      "text/plain": "  0%|          | 0/248 [00:00<?, ?it/s]",
      "application/vnd.jupyter.widget-view+json": {
       "version_major": 2,
       "version_minor": 0,
       "model_id": "066650b64e024ad59ec2fad7ef9538e8"
      }
     },
     "metadata": {},
     "output_type": "display_data"
    },
    {
     "name": "stderr",
     "output_type": "stream",
     "text": [
      "Partition explainer:  43%|████▎     | 86/200 [12:28<18:24,  9.69s/it]"
     ]
    },
    {
     "data": {
      "text/plain": "  0%|          | 0/248 [00:00<?, ?it/s]",
      "application/vnd.jupyter.widget-view+json": {
       "version_major": 2,
       "version_minor": 0,
       "model_id": "c4c7dc5a14c74345be5772546f19723e"
      }
     },
     "metadata": {},
     "output_type": "display_data"
    },
    {
     "name": "stderr",
     "output_type": "stream",
     "text": [
      "Partition explainer:  44%|████▍     | 88/200 [12:44<15:22,  8.24s/it]"
     ]
    },
    {
     "data": {
      "text/plain": "  0%|          | 0/248 [00:00<?, ?it/s]",
      "application/vnd.jupyter.widget-view+json": {
       "version_major": 2,
       "version_minor": 0,
       "model_id": "239ab384534b420ba2ae2303eefe1139"
      }
     },
     "metadata": {},
     "output_type": "display_data"
    },
    {
     "name": "stderr",
     "output_type": "stream",
     "text": [
      "Partition explainer:  44%|████▍     | 89/200 [12:55<17:06,  9.25s/it]"
     ]
    },
    {
     "data": {
      "text/plain": "  0%|          | 0/248 [00:00<?, ?it/s]",
      "application/vnd.jupyter.widget-view+json": {
       "version_major": 2,
       "version_minor": 0,
       "model_id": "d63885f7cd144328ab89b8937e7c0d5c"
      }
     },
     "metadata": {},
     "output_type": "display_data"
    },
    {
     "name": "stderr",
     "output_type": "stream",
     "text": [
      "Partition explainer:  45%|████▌     | 90/200 [13:06<17:35,  9.60s/it]"
     ]
    },
    {
     "data": {
      "text/plain": "  0%|          | 0/248 [00:00<?, ?it/s]",
      "application/vnd.jupyter.widget-view+json": {
       "version_major": 2,
       "version_minor": 0,
       "model_id": "22f676f41a664983a0f6bc7d1989641c"
      }
     },
     "metadata": {},
     "output_type": "display_data"
    },
    {
     "name": "stderr",
     "output_type": "stream",
     "text": [
      "Partition explainer:  46%|████▌     | 91/200 [13:13<16:15,  8.95s/it]"
     ]
    },
    {
     "data": {
      "text/plain": "  0%|          | 0/248 [00:00<?, ?it/s]",
      "application/vnd.jupyter.widget-view+json": {
       "version_major": 2,
       "version_minor": 0,
       "model_id": "cae79742bab74adc9ca891f0a05860e6"
      }
     },
     "metadata": {},
     "output_type": "display_data"
    },
    {
     "name": "stderr",
     "output_type": "stream",
     "text": [
      "Partition explainer:  46%|████▌     | 92/200 [13:19<14:20,  7.96s/it]"
     ]
    },
    {
     "data": {
      "text/plain": "  0%|          | 0/248 [00:00<?, ?it/s]",
      "application/vnd.jupyter.widget-view+json": {
       "version_major": 2,
       "version_minor": 0,
       "model_id": "a4dd493689b44bdbacbb6fd031eeb38c"
      }
     },
     "metadata": {},
     "output_type": "display_data"
    },
    {
     "name": "stderr",
     "output_type": "stream",
     "text": [
      "Partition explainer:  46%|████▋     | 93/200 [13:29<15:14,  8.55s/it]"
     ]
    },
    {
     "data": {
      "text/plain": "  0%|          | 0/248 [00:00<?, ?it/s]",
      "application/vnd.jupyter.widget-view+json": {
       "version_major": 2,
       "version_minor": 0,
       "model_id": "c79c2365fd9043ff8033e1b03da9797d"
      }
     },
     "metadata": {},
     "output_type": "display_data"
    },
    {
     "name": "stderr",
     "output_type": "stream",
     "text": [
      "Partition explainer:  47%|████▋     | 94/200 [13:39<15:45,  8.92s/it]"
     ]
    },
    {
     "data": {
      "text/plain": "  0%|          | 0/248 [00:00<?, ?it/s]",
      "application/vnd.jupyter.widget-view+json": {
       "version_major": 2,
       "version_minor": 0,
       "model_id": "3101b4246a2a4024b152de7acd4a6328"
      }
     },
     "metadata": {},
     "output_type": "display_data"
    },
    {
     "name": "stderr",
     "output_type": "stream",
     "text": [
      "Partition explainer:  48%|████▊     | 95/200 [13:50<16:57,  9.69s/it]"
     ]
    },
    {
     "data": {
      "text/plain": "  0%|          | 0/248 [00:00<?, ?it/s]",
      "application/vnd.jupyter.widget-view+json": {
       "version_major": 2,
       "version_minor": 0,
       "model_id": "fb14a41796044ea2890d588564c1ccd0"
      }
     },
     "metadata": {},
     "output_type": "display_data"
    },
    {
     "name": "stderr",
     "output_type": "stream",
     "text": [
      "Partition explainer:  48%|████▊     | 96/200 [14:00<16:57,  9.79s/it]"
     ]
    },
    {
     "data": {
      "text/plain": "  0%|          | 0/248 [00:00<?, ?it/s]",
      "application/vnd.jupyter.widget-view+json": {
       "version_major": 2,
       "version_minor": 0,
       "model_id": "13b17c62d7a243b3a819d0a503fda87d"
      }
     },
     "metadata": {},
     "output_type": "display_data"
    },
    {
     "name": "stderr",
     "output_type": "stream",
     "text": [
      "Partition explainer:  49%|████▉     | 98/200 [14:13<13:23,  7.88s/it]"
     ]
    },
    {
     "data": {
      "text/plain": "  0%|          | 0/248 [00:00<?, ?it/s]",
      "application/vnd.jupyter.widget-view+json": {
       "version_major": 2,
       "version_minor": 0,
       "model_id": "2ebab866a87c436385462fabc2b7e385"
      }
     },
     "metadata": {},
     "output_type": "display_data"
    },
    {
     "name": "stderr",
     "output_type": "stream",
     "text": [
      "Partition explainer:  50%|█████     | 101/200 [14:34<10:56,  6.63s/it]"
     ]
    },
    {
     "data": {
      "text/plain": "  0%|          | 0/248 [00:00<?, ?it/s]",
      "application/vnd.jupyter.widget-view+json": {
       "version_major": 2,
       "version_minor": 0,
       "model_id": "ada0bbf23d584f529c797b02f597876a"
      }
     },
     "metadata": {},
     "output_type": "display_data"
    },
    {
     "name": "stderr",
     "output_type": "stream",
     "text": [
      "Partition explainer:  51%|█████     | 102/200 [14:47<13:55,  8.52s/it]"
     ]
    },
    {
     "data": {
      "text/plain": "  0%|          | 0/248 [00:00<?, ?it/s]",
      "application/vnd.jupyter.widget-view+json": {
       "version_major": 2,
       "version_minor": 0,
       "model_id": "b9f0bba2e5e540ac97ca3f7970be12ac"
      }
     },
     "metadata": {},
     "output_type": "display_data"
    },
    {
     "name": "stderr",
     "output_type": "stream",
     "text": [
      "Partition explainer:  52%|█████▏    | 103/200 [14:55<13:54,  8.60s/it]"
     ]
    },
    {
     "data": {
      "text/plain": "  0%|          | 0/248 [00:00<?, ?it/s]",
      "application/vnd.jupyter.widget-view+json": {
       "version_major": 2,
       "version_minor": 0,
       "model_id": "aa836b4283e94014a03c7a2aad825d17"
      }
     },
     "metadata": {},
     "output_type": "display_data"
    },
    {
     "name": "stderr",
     "output_type": "stream",
     "text": [
      "Partition explainer:  52%|█████▏    | 104/200 [15:06<14:35,  9.12s/it]"
     ]
    },
    {
     "data": {
      "text/plain": "  0%|          | 0/248 [00:00<?, ?it/s]",
      "application/vnd.jupyter.widget-view+json": {
       "version_major": 2,
       "version_minor": 0,
       "model_id": "55891c2c4f68442ba14aa8a93532ca85"
      }
     },
     "metadata": {},
     "output_type": "display_data"
    },
    {
     "name": "stderr",
     "output_type": "stream",
     "text": [
      "Partition explainer:  52%|█████▎    | 105/200 [15:17<15:22,  9.71s/it]"
     ]
    },
    {
     "data": {
      "text/plain": "  0%|          | 0/248 [00:00<?, ?it/s]",
      "application/vnd.jupyter.widget-view+json": {
       "version_major": 2,
       "version_minor": 0,
       "model_id": "6c3c3bcb4bfa4075bf739881430454e4"
      }
     },
     "metadata": {},
     "output_type": "display_data"
    },
    {
     "name": "stderr",
     "output_type": "stream",
     "text": [
      "Partition explainer:  53%|█████▎    | 106/200 [15:30<16:41, 10.66s/it]"
     ]
    },
    {
     "data": {
      "text/plain": "  0%|          | 0/248 [00:00<?, ?it/s]",
      "application/vnd.jupyter.widget-view+json": {
       "version_major": 2,
       "version_minor": 0,
       "model_id": "fe782fca868843c48d41ce54463f893e"
      }
     },
     "metadata": {},
     "output_type": "display_data"
    },
    {
     "name": "stderr",
     "output_type": "stream",
     "text": [
      "Partition explainer:  54%|█████▍    | 108/200 [15:45<13:33,  8.85s/it]"
     ]
    },
    {
     "data": {
      "text/plain": "  0%|          | 0/248 [00:00<?, ?it/s]",
      "application/vnd.jupyter.widget-view+json": {
       "version_major": 2,
       "version_minor": 0,
       "model_id": "c2f78576e8474c84ad2f873498551a66"
      }
     },
     "metadata": {},
     "output_type": "display_data"
    },
    {
     "name": "stderr",
     "output_type": "stream",
     "text": [
      "Partition explainer:  55%|█████▍    | 109/200 [15:55<13:52,  9.15s/it]"
     ]
    },
    {
     "data": {
      "text/plain": "  0%|          | 0/248 [00:00<?, ?it/s]",
      "application/vnd.jupyter.widget-view+json": {
       "version_major": 2,
       "version_minor": 0,
       "model_id": "b74d6a4903c8449f934276f740607a98"
      }
     },
     "metadata": {},
     "output_type": "display_data"
    },
    {
     "name": "stderr",
     "output_type": "stream",
     "text": [
      "Partition explainer:  55%|█████▌    | 110/200 [16:03<13:09,  8.77s/it]"
     ]
    },
    {
     "data": {
      "text/plain": "  0%|          | 0/248 [00:00<?, ?it/s]",
      "application/vnd.jupyter.widget-view+json": {
       "version_major": 2,
       "version_minor": 0,
       "model_id": "13ec6a7474f545eebafe9081fb4e0bb4"
      }
     },
     "metadata": {},
     "output_type": "display_data"
    },
    {
     "name": "stderr",
     "output_type": "stream",
     "text": [
      "Partition explainer:  56%|█████▌    | 111/200 [16:12<13:05,  8.82s/it]"
     ]
    },
    {
     "data": {
      "text/plain": "  0%|          | 0/248 [00:00<?, ?it/s]",
      "application/vnd.jupyter.widget-view+json": {
       "version_major": 2,
       "version_minor": 0,
       "model_id": "2ba0942108294f658918cd090b9e0c91"
      }
     },
     "metadata": {},
     "output_type": "display_data"
    },
    {
     "name": "stderr",
     "output_type": "stream",
     "text": [
      "Partition explainer:  56%|█████▌    | 112/200 [16:21<13:10,  8.98s/it]"
     ]
    },
    {
     "data": {
      "text/plain": "  0%|          | 0/248 [00:00<?, ?it/s]",
      "application/vnd.jupyter.widget-view+json": {
       "version_major": 2,
       "version_minor": 0,
       "model_id": "58ae318258ba4701a2dc7defc206eea3"
      }
     },
     "metadata": {},
     "output_type": "display_data"
    },
    {
     "name": "stderr",
     "output_type": "stream",
     "text": [
      "Partition explainer:  56%|█████▋    | 113/200 [16:30<12:56,  8.92s/it]"
     ]
    },
    {
     "data": {
      "text/plain": "  0%|          | 0/248 [00:00<?, ?it/s]",
      "application/vnd.jupyter.widget-view+json": {
       "version_major": 2,
       "version_minor": 0,
       "model_id": "6f6ccdc5108a47ee90929d4d52133b1c"
      }
     },
     "metadata": {},
     "output_type": "display_data"
    },
    {
     "name": "stderr",
     "output_type": "stream",
     "text": [
      "Partition explainer:  57%|█████▋    | 114/200 [16:35<11:19,  7.90s/it]"
     ]
    },
    {
     "data": {
      "text/plain": "  0%|          | 0/248 [00:00<?, ?it/s]",
      "application/vnd.jupyter.widget-view+json": {
       "version_major": 2,
       "version_minor": 0,
       "model_id": "a3a1a675063948ff9a90266ab02f16fe"
      }
     },
     "metadata": {},
     "output_type": "display_data"
    },
    {
     "name": "stderr",
     "output_type": "stream",
     "text": [
      "Partition explainer:  57%|█████▊    | 115/200 [16:45<12:02,  8.50s/it]"
     ]
    },
    {
     "data": {
      "text/plain": "  0%|          | 0/248 [00:00<?, ?it/s]",
      "application/vnd.jupyter.widget-view+json": {
       "version_major": 2,
       "version_minor": 0,
       "model_id": "1111d518f2f248f68122c7f67ee5b523"
      }
     },
     "metadata": {},
     "output_type": "display_data"
    },
    {
     "name": "stderr",
     "output_type": "stream",
     "text": [
      "Partition explainer:  58%|█████▊    | 116/200 [16:56<12:43,  9.09s/it]"
     ]
    },
    {
     "data": {
      "text/plain": "  0%|          | 0/248 [00:00<?, ?it/s]",
      "application/vnd.jupyter.widget-view+json": {
       "version_major": 2,
       "version_minor": 0,
       "model_id": "9f3c566ef14b4afe85436033d9e39914"
      }
     },
     "metadata": {},
     "output_type": "display_data"
    },
    {
     "name": "stderr",
     "output_type": "stream",
     "text": [
      "Partition explainer:  58%|█████▊    | 117/200 [17:06<13:01,  9.42s/it]"
     ]
    },
    {
     "data": {
      "text/plain": "  0%|          | 0/248 [00:00<?, ?it/s]",
      "application/vnd.jupyter.widget-view+json": {
       "version_major": 2,
       "version_minor": 0,
       "model_id": "d9738116ac8b49308511dd3cc92d3cb3"
      }
     },
     "metadata": {},
     "output_type": "display_data"
    },
    {
     "name": "stderr",
     "output_type": "stream",
     "text": [
      "Partition explainer:  59%|█████▉    | 118/200 [17:17<13:35,  9.95s/it]"
     ]
    },
    {
     "data": {
      "text/plain": "  0%|          | 0/248 [00:00<?, ?it/s]",
      "application/vnd.jupyter.widget-view+json": {
       "version_major": 2,
       "version_minor": 0,
       "model_id": "8ed8fe185a2249498d1b1067c55d606b"
      }
     },
     "metadata": {},
     "output_type": "display_data"
    },
    {
     "name": "stderr",
     "output_type": "stream",
     "text": [
      "Partition explainer:  60%|█████▉    | 119/200 [17:27<13:34, 10.06s/it]"
     ]
    },
    {
     "data": {
      "text/plain": "  0%|          | 0/248 [00:00<?, ?it/s]",
      "application/vnd.jupyter.widget-view+json": {
       "version_major": 2,
       "version_minor": 0,
       "model_id": "fbf0528305254df783bcb3c29752c65d"
      }
     },
     "metadata": {},
     "output_type": "display_data"
    },
    {
     "name": "stderr",
     "output_type": "stream",
     "text": [
      "Partition explainer:  60%|██████    | 120/200 [17:37<13:10,  9.88s/it]"
     ]
    },
    {
     "data": {
      "text/plain": "  0%|          | 0/248 [00:00<?, ?it/s]",
      "application/vnd.jupyter.widget-view+json": {
       "version_major": 2,
       "version_minor": 0,
       "model_id": "31aa57dbc00a45058a3e32a62959a18e"
      }
     },
     "metadata": {},
     "output_type": "display_data"
    },
    {
     "name": "stderr",
     "output_type": "stream",
     "text": [
      "Partition explainer:  61%|██████    | 122/200 [17:52<10:52,  8.37s/it]"
     ]
    },
    {
     "data": {
      "text/plain": "  0%|          | 0/248 [00:00<?, ?it/s]",
      "application/vnd.jupyter.widget-view+json": {
       "version_major": 2,
       "version_minor": 0,
       "model_id": "2cf58243c6cf46ac926f0a9f853d53ed"
      }
     },
     "metadata": {},
     "output_type": "display_data"
    },
    {
     "name": "stderr",
     "output_type": "stream",
     "text": [
      "Partition explainer:  62%|██████▏   | 123/200 [17:59<10:16,  8.00s/it]"
     ]
    },
    {
     "data": {
      "text/plain": "  0%|          | 0/248 [00:00<?, ?it/s]",
      "application/vnd.jupyter.widget-view+json": {
       "version_major": 2,
       "version_minor": 0,
       "model_id": "945464a81e0b445d984e455e853070a8"
      }
     },
     "metadata": {},
     "output_type": "display_data"
    },
    {
     "name": "stderr",
     "output_type": "stream",
     "text": [
      "Partition explainer:  62%|██████▏   | 124/200 [18:06<09:43,  7.68s/it]"
     ]
    },
    {
     "data": {
      "text/plain": "  0%|          | 0/248 [00:00<?, ?it/s]",
      "application/vnd.jupyter.widget-view+json": {
       "version_major": 2,
       "version_minor": 0,
       "model_id": "951ffa6849c147ffb55e8fcc8914b82a"
      }
     },
     "metadata": {},
     "output_type": "display_data"
    },
    {
     "name": "stderr",
     "output_type": "stream",
     "text": [
      "Partition explainer:  62%|██████▎   | 125/200 [18:17<10:55,  8.74s/it]"
     ]
    },
    {
     "data": {
      "text/plain": "  0%|          | 0/248 [00:00<?, ?it/s]",
      "application/vnd.jupyter.widget-view+json": {
       "version_major": 2,
       "version_minor": 0,
       "model_id": "22913517ef0847c28ad439baddb9a494"
      }
     },
     "metadata": {},
     "output_type": "display_data"
    },
    {
     "name": "stderr",
     "output_type": "stream",
     "text": [
      "Partition explainer:  63%|██████▎   | 126/200 [18:27<11:17,  9.15s/it]"
     ]
    },
    {
     "data": {
      "text/plain": "  0%|          | 0/248 [00:00<?, ?it/s]",
      "application/vnd.jupyter.widget-view+json": {
       "version_major": 2,
       "version_minor": 0,
       "model_id": "f6a266c8d0e241e0a53467430512bde7"
      }
     },
     "metadata": {},
     "output_type": "display_data"
    },
    {
     "name": "stderr",
     "output_type": "stream",
     "text": [
      "Partition explainer:  64%|██████▎   | 127/200 [18:36<11:10,  9.18s/it]"
     ]
    },
    {
     "data": {
      "text/plain": "  0%|          | 0/248 [00:00<?, ?it/s]",
      "application/vnd.jupyter.widget-view+json": {
       "version_major": 2,
       "version_minor": 0,
       "model_id": "10a5afffc19249d796188c743dfb59db"
      }
     },
     "metadata": {},
     "output_type": "display_data"
    },
    {
     "name": "stderr",
     "output_type": "stream",
     "text": [
      "Partition explainer:  64%|██████▍   | 128/200 [18:44<10:22,  8.65s/it]"
     ]
    },
    {
     "data": {
      "text/plain": "  0%|          | 0/248 [00:00<?, ?it/s]",
      "application/vnd.jupyter.widget-view+json": {
       "version_major": 2,
       "version_minor": 0,
       "model_id": "acd7b9a01db64e7ea1b971a467afe3fb"
      }
     },
     "metadata": {},
     "output_type": "display_data"
    },
    {
     "name": "stderr",
     "output_type": "stream",
     "text": [
      "Partition explainer:  66%|██████▌   | 131/200 [19:01<06:59,  6.08s/it]"
     ]
    },
    {
     "data": {
      "text/plain": "  0%|          | 0/248 [00:00<?, ?it/s]",
      "application/vnd.jupyter.widget-view+json": {
       "version_major": 2,
       "version_minor": 0,
       "model_id": "a9fecfa176cb432ab70433fcd18b64fe"
      }
     },
     "metadata": {},
     "output_type": "display_data"
    },
    {
     "name": "stderr",
     "output_type": "stream",
     "text": [
      "Partition explainer:  67%|██████▋   | 134/200 [19:20<06:22,  5.79s/it]"
     ]
    },
    {
     "data": {
      "text/plain": "  0%|          | 0/248 [00:00<?, ?it/s]",
      "application/vnd.jupyter.widget-view+json": {
       "version_major": 2,
       "version_minor": 0,
       "model_id": "dcf8b35f4ac946f898b14d8433d1a7e2"
      }
     },
     "metadata": {},
     "output_type": "display_data"
    },
    {
     "name": "stderr",
     "output_type": "stream",
     "text": [
      "Partition explainer:  68%|██████▊   | 135/200 [19:30<07:37,  7.03s/it]"
     ]
    },
    {
     "data": {
      "text/plain": "  0%|          | 0/248 [00:00<?, ?it/s]",
      "application/vnd.jupyter.widget-view+json": {
       "version_major": 2,
       "version_minor": 0,
       "model_id": "1524e7faa38345b38c4119aa58f0ed0d"
      }
     },
     "metadata": {},
     "output_type": "display_data"
    },
    {
     "name": "stderr",
     "output_type": "stream",
     "text": [
      "Partition explainer:  68%|██████▊   | 136/200 [19:41<08:31,  8.00s/it]"
     ]
    },
    {
     "data": {
      "text/plain": "  0%|          | 0/248 [00:00<?, ?it/s]",
      "application/vnd.jupyter.widget-view+json": {
       "version_major": 2,
       "version_minor": 0,
       "model_id": "46ccbd2448844cf4ab6f86477e7403e0"
      }
     },
     "metadata": {},
     "output_type": "display_data"
    },
    {
     "name": "stderr",
     "output_type": "stream",
     "text": [
      "Partition explainer:  68%|██████▊   | 137/200 [19:48<08:22,  7.98s/it]"
     ]
    },
    {
     "data": {
      "text/plain": "  0%|          | 0/248 [00:00<?, ?it/s]",
      "application/vnd.jupyter.widget-view+json": {
       "version_major": 2,
       "version_minor": 0,
       "model_id": "10bc5946bc5545d3ac6656eceee795fd"
      }
     },
     "metadata": {},
     "output_type": "display_data"
    },
    {
     "name": "stderr",
     "output_type": "stream",
     "text": [
      "Partition explainer:  69%|██████▉   | 138/200 [19:57<08:26,  8.17s/it]"
     ]
    },
    {
     "data": {
      "text/plain": "  0%|          | 0/248 [00:00<?, ?it/s]",
      "application/vnd.jupyter.widget-view+json": {
       "version_major": 2,
       "version_minor": 0,
       "model_id": "862b37df58ad4a65bc1a91a8d8ff7e23"
      }
     },
     "metadata": {},
     "output_type": "display_data"
    },
    {
     "name": "stderr",
     "output_type": "stream",
     "text": [
      "Partition explainer:  70%|██████▉   | 139/200 [20:43<19:57, 19.64s/it]"
     ]
    },
    {
     "data": {
      "text/plain": "  0%|          | 0/248 [00:00<?, ?it/s]",
      "application/vnd.jupyter.widget-view+json": {
       "version_major": 2,
       "version_minor": 0,
       "model_id": "cf7e020debe24be58c1230f149952987"
      }
     },
     "metadata": {},
     "output_type": "display_data"
    },
    {
     "name": "stderr",
     "output_type": "stream",
     "text": [
      "Partition explainer:  70%|███████   | 141/200 [20:57<12:30, 12.72s/it]"
     ]
    },
    {
     "data": {
      "text/plain": "  0%|          | 0/248 [00:00<?, ?it/s]",
      "application/vnd.jupyter.widget-view+json": {
       "version_major": 2,
       "version_minor": 0,
       "model_id": "91ebd4d41bfa4720b86ba90678d6fae3"
      }
     },
     "metadata": {},
     "output_type": "display_data"
    },
    {
     "name": "stderr",
     "output_type": "stream",
     "text": [
      "Partition explainer:  71%|███████   | 142/200 [21:05<11:07, 11.50s/it]"
     ]
    },
    {
     "data": {
      "text/plain": "  0%|          | 0/248 [00:00<?, ?it/s]",
      "application/vnd.jupyter.widget-view+json": {
       "version_major": 2,
       "version_minor": 0,
       "model_id": "781f350ffe2b4eec816f344e67b64172"
      }
     },
     "metadata": {},
     "output_type": "display_data"
    },
    {
     "name": "stderr",
     "output_type": "stream",
     "text": [
      "Partition explainer:  72%|███████▏  | 143/200 [21:13<09:46, 10.30s/it]"
     ]
    },
    {
     "data": {
      "text/plain": "  0%|          | 0/248 [00:00<?, ?it/s]",
      "application/vnd.jupyter.widget-view+json": {
       "version_major": 2,
       "version_minor": 0,
       "model_id": "19807f337d874229a1248f5e5615185a"
      }
     },
     "metadata": {},
     "output_type": "display_data"
    },
    {
     "name": "stderr",
     "output_type": "stream",
     "text": [
      "Partition explainer:  72%|███████▏  | 144/200 [21:23<09:31, 10.20s/it]"
     ]
    },
    {
     "data": {
      "text/plain": "  0%|          | 0/248 [00:00<?, ?it/s]",
      "application/vnd.jupyter.widget-view+json": {
       "version_major": 2,
       "version_minor": 0,
       "model_id": "ba5bf84ff67c4422ae28775a8011b138"
      }
     },
     "metadata": {},
     "output_type": "display_data"
    },
    {
     "name": "stderr",
     "output_type": "stream",
     "text": [
      "Partition explainer:  72%|███████▎  | 145/200 [21:30<08:32,  9.32s/it]"
     ]
    },
    {
     "data": {
      "text/plain": "  0%|          | 0/248 [00:00<?, ?it/s]",
      "application/vnd.jupyter.widget-view+json": {
       "version_major": 2,
       "version_minor": 0,
       "model_id": "3033eedfa8b14bffbe93e9d5d07eea57"
      }
     },
     "metadata": {},
     "output_type": "display_data"
    },
    {
     "name": "stderr",
     "output_type": "stream",
     "text": [
      "Partition explainer:  73%|███████▎  | 146/200 [21:42<09:03, 10.07s/it]"
     ]
    },
    {
     "data": {
      "text/plain": "  0%|          | 0/248 [00:00<?, ?it/s]",
      "application/vnd.jupyter.widget-view+json": {
       "version_major": 2,
       "version_minor": 0,
       "model_id": "a9e857e91a45471ab2972a875a0077ee"
      }
     },
     "metadata": {},
     "output_type": "display_data"
    },
    {
     "name": "stderr",
     "output_type": "stream",
     "text": [
      "Partition explainer:  74%|███████▍  | 148/200 [21:59<07:50,  9.05s/it]"
     ]
    },
    {
     "data": {
      "text/plain": "  0%|          | 0/248 [00:00<?, ?it/s]",
      "application/vnd.jupyter.widget-view+json": {
       "version_major": 2,
       "version_minor": 0,
       "model_id": "332a266afbec48899cdd7e9d31c76c5f"
      }
     },
     "metadata": {},
     "output_type": "display_data"
    },
    {
     "name": "stderr",
     "output_type": "stream",
     "text": [
      "Partition explainer:  74%|███████▍  | 149/200 [22:10<08:06,  9.54s/it]"
     ]
    },
    {
     "data": {
      "text/plain": "  0%|          | 0/248 [00:00<?, ?it/s]",
      "application/vnd.jupyter.widget-view+json": {
       "version_major": 2,
       "version_minor": 0,
       "model_id": "8f22730bf8ec4748aba90eef4510190d"
      }
     },
     "metadata": {},
     "output_type": "display_data"
    },
    {
     "name": "stderr",
     "output_type": "stream",
     "text": [
      "Partition explainer:  75%|███████▌  | 150/200 [22:20<07:56,  9.53s/it]"
     ]
    },
    {
     "data": {
      "text/plain": "  0%|          | 0/248 [00:00<?, ?it/s]",
      "application/vnd.jupyter.widget-view+json": {
       "version_major": 2,
       "version_minor": 0,
       "model_id": "351ea860abf94a22ab05e18a43781f99"
      }
     },
     "metadata": {},
     "output_type": "display_data"
    },
    {
     "name": "stderr",
     "output_type": "stream",
     "text": [
      "Partition explainer:  76%|███████▌  | 151/200 [22:31<08:21, 10.23s/it]"
     ]
    },
    {
     "data": {
      "text/plain": "  0%|          | 0/248 [00:00<?, ?it/s]",
      "application/vnd.jupyter.widget-view+json": {
       "version_major": 2,
       "version_minor": 0,
       "model_id": "46f62c5bd5174973af722da6a87f3c2e"
      }
     },
     "metadata": {},
     "output_type": "display_data"
    },
    {
     "name": "stderr",
     "output_type": "stream",
     "text": [
      "Partition explainer:  77%|███████▋  | 154/200 [22:43<04:34,  5.97s/it]"
     ]
    },
    {
     "data": {
      "text/plain": "  0%|          | 0/248 [00:00<?, ?it/s]",
      "application/vnd.jupyter.widget-view+json": {
       "version_major": 2,
       "version_minor": 0,
       "model_id": "d883fee767654a97865472c6e3a2eece"
      }
     },
     "metadata": {},
     "output_type": "display_data"
    },
    {
     "name": "stderr",
     "output_type": "stream",
     "text": [
      "Partition explainer:  78%|███████▊  | 155/200 [22:54<05:21,  7.14s/it]"
     ]
    },
    {
     "data": {
      "text/plain": "  0%|          | 0/248 [00:00<?, ?it/s]",
      "application/vnd.jupyter.widget-view+json": {
       "version_major": 2,
       "version_minor": 0,
       "model_id": "48554f68f92a4c28a096841bfa43d77c"
      }
     },
     "metadata": {},
     "output_type": "display_data"
    },
    {
     "name": "stderr",
     "output_type": "stream",
     "text": [
      "Partition explainer:  78%|███████▊  | 156/200 [23:04<05:50,  7.98s/it]"
     ]
    },
    {
     "data": {
      "text/plain": "  0%|          | 0/248 [00:00<?, ?it/s]",
      "application/vnd.jupyter.widget-view+json": {
       "version_major": 2,
       "version_minor": 0,
       "model_id": "7c82b6bd07304749aef874ed37b8e917"
      }
     },
     "metadata": {},
     "output_type": "display_data"
    },
    {
     "name": "stderr",
     "output_type": "stream",
     "text": [
      "Partition explainer:  78%|███████▊  | 157/200 [23:15<06:22,  8.89s/it]"
     ]
    },
    {
     "data": {
      "text/plain": "  0%|          | 0/248 [00:00<?, ?it/s]",
      "application/vnd.jupyter.widget-view+json": {
       "version_major": 2,
       "version_minor": 0,
       "model_id": "dfdb68a03b91423ea81c9bbba132bfe9"
      }
     },
     "metadata": {},
     "output_type": "display_data"
    },
    {
     "name": "stderr",
     "output_type": "stream",
     "text": [
      "Partition explainer:  79%|███████▉  | 158/200 [23:21<05:32,  7.92s/it]"
     ]
    },
    {
     "data": {
      "text/plain": "  0%|          | 0/248 [00:00<?, ?it/s]",
      "application/vnd.jupyter.widget-view+json": {
       "version_major": 2,
       "version_minor": 0,
       "model_id": "cdac9bd9ee0f4764b67b8de9bdffd440"
      }
     },
     "metadata": {},
     "output_type": "display_data"
    },
    {
     "name": "stderr",
     "output_type": "stream",
     "text": [
      "Partition explainer:  80%|███████▉  | 159/200 [23:32<06:08,  8.99s/it]"
     ]
    },
    {
     "data": {
      "text/plain": "  0%|          | 0/248 [00:00<?, ?it/s]",
      "application/vnd.jupyter.widget-view+json": {
       "version_major": 2,
       "version_minor": 0,
       "model_id": "f3f47324ecc844f9a2d916cda0bbaeb8"
      }
     },
     "metadata": {},
     "output_type": "display_data"
    },
    {
     "name": "stderr",
     "output_type": "stream",
     "text": [
      "Partition explainer:  80%|████████  | 161/200 [23:44<04:40,  7.19s/it]"
     ]
    },
    {
     "data": {
      "text/plain": "  0%|          | 0/248 [00:00<?, ?it/s]",
      "application/vnd.jupyter.widget-view+json": {
       "version_major": 2,
       "version_minor": 0,
       "model_id": "31e814dca2e44b0bab0fa1f891da3b1e"
      }
     },
     "metadata": {},
     "output_type": "display_data"
    },
    {
     "name": "stderr",
     "output_type": "stream",
     "text": [
      "Partition explainer:  82%|████████▏ | 163/200 [23:59<04:16,  6.92s/it]"
     ]
    },
    {
     "data": {
      "text/plain": "  0%|          | 0/248 [00:00<?, ?it/s]",
      "application/vnd.jupyter.widget-view+json": {
       "version_major": 2,
       "version_minor": 0,
       "model_id": "fc30f84df7b34a30a8363ac662bff0e6"
      }
     },
     "metadata": {},
     "output_type": "display_data"
    },
    {
     "name": "stderr",
     "output_type": "stream",
     "text": [
      "Partition explainer:  82%|████████▏ | 164/200 [24:04<03:54,  6.50s/it]"
     ]
    },
    {
     "data": {
      "text/plain": "  0%|          | 0/248 [00:00<?, ?it/s]",
      "application/vnd.jupyter.widget-view+json": {
       "version_major": 2,
       "version_minor": 0,
       "model_id": "510f6a02b77542c9af5b3d1b0e5a6981"
      }
     },
     "metadata": {},
     "output_type": "display_data"
    },
    {
     "name": "stderr",
     "output_type": "stream",
     "text": [
      "Partition explainer:  83%|████████▎ | 166/200 [24:15<03:19,  5.86s/it]"
     ]
    },
    {
     "data": {
      "text/plain": "  0%|          | 0/248 [00:00<?, ?it/s]",
      "application/vnd.jupyter.widget-view+json": {
       "version_major": 2,
       "version_minor": 0,
       "model_id": "5df1ff89b53c473982132c27c4e89589"
      }
     },
     "metadata": {},
     "output_type": "display_data"
    },
    {
     "name": "stderr",
     "output_type": "stream",
     "text": [
      "Partition explainer:  84%|████████▎ | 167/200 [24:22<03:20,  6.07s/it]"
     ]
    },
    {
     "data": {
      "text/plain": "  0%|          | 0/248 [00:00<?, ?it/s]",
      "application/vnd.jupyter.widget-view+json": {
       "version_major": 2,
       "version_minor": 0,
       "model_id": "ceb251e4ed5447e683fe1e1f5cd92486"
      }
     },
     "metadata": {},
     "output_type": "display_data"
    },
    {
     "name": "stderr",
     "output_type": "stream",
     "text": [
      "Partition explainer:  84%|████████▍ | 168/200 [24:28<03:11,  5.99s/it]"
     ]
    },
    {
     "data": {
      "text/plain": "  0%|          | 0/248 [00:00<?, ?it/s]",
      "application/vnd.jupyter.widget-view+json": {
       "version_major": 2,
       "version_minor": 0,
       "model_id": "1a0c0cb6c3204e3a8e7c21c1a15eb5c2"
      }
     },
     "metadata": {},
     "output_type": "display_data"
    },
    {
     "name": "stderr",
     "output_type": "stream",
     "text": [
      "Partition explainer:  86%|████████▌ | 172/200 [24:41<01:43,  3.68s/it]"
     ]
    },
    {
     "data": {
      "text/plain": "  0%|          | 0/248 [00:00<?, ?it/s]",
      "application/vnd.jupyter.widget-view+json": {
       "version_major": 2,
       "version_minor": 0,
       "model_id": "6700840ce4b94a618ba889854ee8007a"
      }
     },
     "metadata": {},
     "output_type": "display_data"
    },
    {
     "name": "stderr",
     "output_type": "stream",
     "text": [
      "Partition explainer:  86%|████████▋ | 173/200 [24:47<01:54,  4.24s/it]"
     ]
    },
    {
     "data": {
      "text/plain": "  0%|          | 0/248 [00:00<?, ?it/s]",
      "application/vnd.jupyter.widget-view+json": {
       "version_major": 2,
       "version_minor": 0,
       "model_id": "beaa8cd4c7d04a5389ca6cc94ba3c73c"
      }
     },
     "metadata": {},
     "output_type": "display_data"
    },
    {
     "name": "stderr",
     "output_type": "stream",
     "text": [
      "Partition explainer:  87%|████████▋ | 174/200 [24:52<01:59,  4.62s/it]"
     ]
    },
    {
     "data": {
      "text/plain": "  0%|          | 0/248 [00:00<?, ?it/s]",
      "application/vnd.jupyter.widget-view+json": {
       "version_major": 2,
       "version_minor": 0,
       "model_id": "73c13ce3d1dd4a85b3cb70b192240d23"
      }
     },
     "metadata": {},
     "output_type": "display_data"
    },
    {
     "name": "stderr",
     "output_type": "stream",
     "text": [
      "Partition explainer:  88%|████████▊ | 175/200 [24:57<02:00,  4.82s/it]"
     ]
    },
    {
     "data": {
      "text/plain": "  0%|          | 0/248 [00:00<?, ?it/s]",
      "application/vnd.jupyter.widget-view+json": {
       "version_major": 2,
       "version_minor": 0,
       "model_id": "7b881af09ebd4f9181dac9356fc96dff"
      }
     },
     "metadata": {},
     "output_type": "display_data"
    },
    {
     "name": "stderr",
     "output_type": "stream",
     "text": [
      "Partition explainer:  88%|████████▊ | 176/200 [25:03<02:03,  5.15s/it]"
     ]
    },
    {
     "data": {
      "text/plain": "  0%|          | 0/248 [00:00<?, ?it/s]",
      "application/vnd.jupyter.widget-view+json": {
       "version_major": 2,
       "version_minor": 0,
       "model_id": "f1f95eae155f4f1fab8018341b04e556"
      }
     },
     "metadata": {},
     "output_type": "display_data"
    },
    {
     "name": "stderr",
     "output_type": "stream",
     "text": [
      "Partition explainer:  90%|████████▉ | 179/200 [25:18<01:43,  4.92s/it]"
     ]
    },
    {
     "data": {
      "text/plain": "  0%|          | 0/248 [00:00<?, ?it/s]",
      "application/vnd.jupyter.widget-view+json": {
       "version_major": 2,
       "version_minor": 0,
       "model_id": "9836aa4234944764af4a64761fe84e64"
      }
     },
     "metadata": {},
     "output_type": "display_data"
    },
    {
     "name": "stderr",
     "output_type": "stream",
     "text": [
      "Partition explainer:  90%|█████████ | 180/200 [25:25<01:47,  5.37s/it]"
     ]
    },
    {
     "data": {
      "text/plain": "  0%|          | 0/248 [00:00<?, ?it/s]",
      "application/vnd.jupyter.widget-view+json": {
       "version_major": 2,
       "version_minor": 0,
       "model_id": "54c5d0a8ba304b0fa62b71b9a3099040"
      }
     },
     "metadata": {},
     "output_type": "display_data"
    },
    {
     "name": "stderr",
     "output_type": "stream",
     "text": [
      "Partition explainer:  92%|█████████▏| 184/200 [25:39<00:59,  3.70s/it]"
     ]
    },
    {
     "data": {
      "text/plain": "  0%|          | 0/248 [00:00<?, ?it/s]",
      "application/vnd.jupyter.widget-view+json": {
       "version_major": 2,
       "version_minor": 0,
       "model_id": "320203a70696481d85116aab4f89ccd4"
      }
     },
     "metadata": {},
     "output_type": "display_data"
    },
    {
     "name": "stderr",
     "output_type": "stream",
     "text": [
      "Partition explainer:  93%|█████████▎| 186/200 [25:50<01:04,  4.60s/it]"
     ]
    },
    {
     "data": {
      "text/plain": "  0%|          | 0/248 [00:00<?, ?it/s]",
      "application/vnd.jupyter.widget-view+json": {
       "version_major": 2,
       "version_minor": 0,
       "model_id": "191f8eb7788b4e2ca84f8af8f49973f3"
      }
     },
     "metadata": {},
     "output_type": "display_data"
    },
    {
     "name": "stderr",
     "output_type": "stream",
     "text": [
      "Partition explainer:  94%|█████████▎| 187/200 [25:56<01:04,  4.98s/it]"
     ]
    },
    {
     "data": {
      "text/plain": "  0%|          | 0/248 [00:00<?, ?it/s]",
      "application/vnd.jupyter.widget-view+json": {
       "version_major": 2,
       "version_minor": 0,
       "model_id": "3a6dcafba8244afe8483710a31097c1d"
      }
     },
     "metadata": {},
     "output_type": "display_data"
    },
    {
     "name": "stderr",
     "output_type": "stream",
     "text": [
      "Partition explainer:  98%|█████████▊| 197/200 [26:30<00:08,  2.89s/it]"
     ]
    },
    {
     "data": {
      "text/plain": "  0%|          | 0/248 [00:00<?, ?it/s]",
      "application/vnd.jupyter.widget-view+json": {
       "version_major": 2,
       "version_minor": 0,
       "model_id": "c55caec7deb7411aa6456518e5597f9a"
      }
     },
     "metadata": {},
     "output_type": "display_data"
    },
    {
     "name": "stderr",
     "output_type": "stream",
     "text": [
      "Partition explainer: 201it [26:39,  8.04s/it]                         \n"
     ]
    }
   ],
   "source": [
    "shap_values_dict_list, explainer = model_manager.explain_texts(samples, visualize=False)"
   ],
   "metadata": {
    "collapsed": false,
    "pycharm": {
     "name": "#%%\n"
    }
   }
  },
  {
   "cell_type": "code",
   "execution_count": 7,
   "outputs": [
    {
     "name": "stdout",
     "output_type": "stream",
     "text": [
      "This project is written and tested in Python 3.7.13\n"
     ]
    },
    {
     "data": {
      "text/plain": "<Figure size 1440x432 with 1 Axes>",
      "image/png": "[encoded data removed]"
     },
     "metadata": {
      "needs_background": "light"
     },
     "output_type": "display_data"
    }
   ],
   "source": [
    "tokens, shap_values = get_most_important_n_tokens(shap_values_dict_list[0], labels.iloc[0], n=10)\n",
    "barplot_token_shap_values(tokens, shap_values)"
   ],
   "metadata": {
    "collapsed": false,
    "pycharm": {
     "name": "#%%\n"
    }
   }
  },
  {
   "cell_type": "code",
   "execution_count": 8,
   "outputs": [
    {
     "data": {
      "text/plain": "<IPython.core.display.HTML object>",
      "text/html": "<div align='center'>\n<script>\n    document._hover_objszupjktclxkgebukf = '_tp_objszupjktclxkgebukf_output_0';\n    document._zoom_objszupjktclxkgebukf = undefined;\n    function _output_onclick_objszupjktclxkgebukf(i) {\n        var next_id = undefined;\n        \n        if (document._zoom_objszupjktclxkgebukf !== undefined) {\n            document.getElementById(document._zoom_objszupjktclxkgebukf+ '_zoom').style.display = 'none';\n            \n            if (document._zoom_objszupjktclxkgebukf === '_tp_objszupjktclxkgebukf_output_' + i) {\n                document.getElementById(document._zoom_objszupjktclxkgebukf).style.display = 'block';\n                document.getElementById(document._zoom_objszupjktclxkgebukf+'_name').style.borderBottom = '3px solid #000000';\n            } else {\n                document.getElementById(document._zoom_objszupjktclxkgebukf).style.display = 'none';\n                document.getElementById(document._zoom_objszupjktclxkgebukf+'_name').style.borderBottom = 'none';\n            }\n        }\n        if (document._zoom_objszupjktclxkgebukf !== '_tp_objszupjktclxkgebukf_output_' + i) {\n            next_id = '_tp_objszupjktclxkgebukf_output_' + i;\n            document.getElementById(next_id).style.display = 'none';\n            document.getElementById(next_id + '_zoom').style.display = 'block';\n            document.getElementById(next_id+'_name').style.borderBottom = '3px solid #000000';\n        }\n        document._zoom_objszupjktclxkgebukf = next_id;\n    }\n    function _output_onmouseover_objszupjktclxkgebukf(i, el) {\n        if (document._zoom_objszupjktclxkgebukf !== undefined) { return; }\n        if (document._hover_objszupjktclxkgebukf !== undefined) {\n            document.getElementById(document._hover_objszupjktclxkgebukf + '_name').style.borderBottom = 'none';\n            document.getElementById(document._hover_objszupjktclxkgebukf).style.display = 'none';\n        }\n        document.getElementById('_tp_objszupjktclxkgebukf_output_' + i).style.display = 'block';\n        el.style.borderBottom = '3px solid #000000';\n        document._hover_objszupjktclxkgebukf = '_tp_objszupjktclxkgebukf_output_' + i;\n    }\n</script>\n<div style=\"color: rgb(120,120,120); font-size: 12px;\">outputs</div>\n<div style=\"display: inline; border-bottom: 3px solid #000000; background: rgba(230.2941176470614, 26.505882352939775, 102.59215686274348, 0.0); border-radius: 3px; padding: 0px\" id=\"_tp_objszupjktclxkgebukf_output_0_name\"\n    onclick=\"_output_onclick_objszupjktclxkgebukf(0)\"\n    onmouseover=\"_output_onmouseover_objszupjktclxkgebukf(0, this);\">Fake</div>\n<div style=\"display: inline; border-bottom: none; background: rgba(255.0, 13.0, 87.0, 1.0); border-radius: 3px; padding: 0px\" id=\"_tp_objszupjktclxkgebukf_output_1_name\"\n    onclick=\"_output_onclick_objszupjktclxkgebukf(1)\"\n    onmouseover=\"_output_onmouseover_objszupjktclxkgebukf(1, this);\">True</div><br><br><div id='_tp_objszupjktclxkgebukf_output_0' style='display: block';><svg width=\"100%\" height=\"80px\"><line x1=\"0\" y1=\"33\" x2=\"100%\" y2=\"33\" style=\"stroke:rgb(150,150,150);stroke-width:1\" /><line x1=\"49.99999820194344%\" y1=\"33\" x2=\"49.99999820194344%\" y2=\"37\" style=\"stroke:rgb(150,150,150);stroke-width:1\" /><text x=\"49.99999820194344%\" y=\"27\" font-size=\"12px\" fill=\"rgb(120,120,120)\" dominant-baseline=\"bottom\" text-anchor=\"middle\">0.5</text><line x1=\"36.14045934982129%\" y1=\"33\" x2=\"36.14045934982129%\" y2=\"37\" style=\"stroke:rgb(150,150,150);stroke-width:1\" /><text x=\"36.14045934982129%\" y=\"27\" font-size=\"12px\" fill=\"rgb(120,120,120)\" dominant-baseline=\"bottom\" text-anchor=\"middle\">0.3</text><line x1=\"22.280920497699128%\" y1=\"33\" x2=\"22.280920497699128%\" y2=\"37\" style=\"stroke:rgb(150,150,150);stroke-width:1\" /><text x=\"22.280920497699128%\" y=\"27\" font-size=\"12px\" fill=\"rgb(120,120,120)\" dominant-baseline=\"bottom\" text-anchor=\"middle\">0.1</text><line x1=\"8.421381645576963%\" y1=\"33\" x2=\"8.421381645576963%\" y2=\"37\" style=\"stroke:rgb(150,150,150);stroke-width:1\" /><text x=\"8.421381645576963%\" y=\"27\" font-size=\"12px\" fill=\"rgb(120,120,120)\" dominant-baseline=\"bottom\" text-anchor=\"middle\">-0.1</text><line x1=\"63.859537054065605%\" y1=\"33\" x2=\"63.859537054065605%\" y2=\"37\" style=\"stroke:rgb(150,150,150);stroke-width:1\" /><text x=\"63.859537054065605%\" y=\"27\" font-size=\"12px\" fill=\"rgb(120,120,120)\" dominant-baseline=\"bottom\" text-anchor=\"middle\">0.7</text><line x1=\"77.71907590618775%\" y1=\"33\" x2=\"77.71907590618775%\" y2=\"37\" style=\"stroke:rgb(150,150,150);stroke-width:1\" /><text x=\"77.71907590618775%\" y=\"27\" font-size=\"12px\" fill=\"rgb(120,120,120)\" dominant-baseline=\"bottom\" text-anchor=\"middle\">0.9</text><line x1=\"91.57861475830993%\" y1=\"33\" x2=\"91.57861475830993%\" y2=\"37\" style=\"stroke:rgb(150,150,150);stroke-width:1\" /><text x=\"91.57861475830993%\" y=\"27\" font-size=\"12px\" fill=\"rgb(120,120,120)\" dominant-baseline=\"bottom\" text-anchor=\"middle\">1.1</text><line x1=\"76.53222659889377%\" y1=\"33\" x2=\"76.53222659889377%\" y2=\"37\" style=\"stroke:rgb(150,150,150);stroke-width:1\" /><text x=\"76.53222659889377%\" y=\"27\" font-size=\"13px\" style=\"stroke:#ffffff;stroke-width:8px;\" fill=\"rgb(255,255,255)\" dominant-baseline=\"bottom\" text-anchor=\"middle\">0.882873</text><text x=\"76.53222659889377%\" y=\"27\" font-size=\"12px\" fill=\"rgb(120,120,120)\" dominant-baseline=\"bottom\" text-anchor=\"middle\">0.882873</text><text x=\"76.53222659889377%\" y=\"10\" font-size=\"12px\" fill=\"rgb(120,120,120)\" dominant-baseline=\"bottom\" text-anchor=\"middle\">base value</text><line x1=\"15.351872170902459%\" y1=\"33\" x2=\"15.351872170902459%\" y2=\"37\" style=\"stroke:rgb(150,150,150);stroke-width:1\" /><text x=\"15.351872170902459%\" y=\"27\" font-size=\"13px\" style=\"stroke:#ffffff;stroke-width:8px;\" font-weight=\"bold\" fill=\"rgb(255,255,255)\" dominant-baseline=\"bottom\" text-anchor=\"middle\">1.04058e-05</text><text x=\"15.351872170902459%\" y=\"27\" font-size=\"13px\" font-weight=\"bold\" fill=\"rgb(0,0,0)\" dominant-baseline=\"bottom\" text-anchor=\"middle\">1.04058e-05</text><text x=\"15.351872170902459%\" y=\"10\" font-size=\"12px\" fill=\"rgb(120,120,120)\" dominant-baseline=\"bottom\" text-anchor=\"middle\">f<tspan baseline-shift=\"sub\" font-size=\"8px\">Fake</tspan>(inputs)</text><rect x=\"7.657008230816353%\" width=\"7.694863940086106%\" y=\"40\" height=\"18\" style=\"fill:rgb(255.0, 0.0, 81.08083606031792); stroke-width:0; stroke:rgb(0,0,0)\" /><line x1=\"13.393626059736027%\" x2=\"15.351872170902459%\" y1=\"60\" y2=\"60\" id=\"_fb_ickhtosfspmfimmfagor_ind_17\" style=\"stroke:rgb(255.0, 0.0, 81.08083606031792);stroke-width:2; opacity: 0\"/><text x=\"14.372749115319243%\" y=\"71\" font-size=\"12px\" id=\"_fs_ickhtosfspmfimmfagor_ind_17\" fill=\"rgb(255.0, 0.0, 81.08083606031792)\" style=\"opacity: 0\" dominant-baseline=\"middle\" text-anchor=\"middle\">0.028</text><svg x=\"13.393626059736027%\" y=\"40\" height=\"20\" width=\"1.9582461111664315%\">  <svg x=\"0\" y=\"0\" width=\"100%\" height=\"100%\">    <text x=\"50%\" y=\"9\" font-size=\"12px\" fill=\"rgb(255,255,255)\" dominant-baseline=\"middle\" text-anchor=\"middle\">the deeply divisive issue of the region s secession prompts participation from both sides.</text>  </svg></svg><line x1=\"11.511218832783678%\" x2=\"13.393626059736027%\" y1=\"60\" y2=\"60\" id=\"_fb_ickhtosfspmfimmfagor_ind_15\" style=\"stroke:rgb(255.0, 0.0, 81.08083606031792);stroke-width:2; opacity: 0\"/><text x=\"12.452422446259853%\" y=\"71\" font-size=\"12px\" id=\"_fs_ickhtosfspmfimmfagor_ind_15\" fill=\"rgb(255.0, 0.0, 81.08083606031792)\" style=\"opacity: 0\" dominant-baseline=\"middle\" text-anchor=\"middle\">0.027</text><svg x=\"11.511218832783678%\" y=\"40\" height=\"20\" width=\"1.882407226952349%\">  <svg x=\"0\" y=\"0\" width=\"100%\" height=\"100%\">    <text x=\"50%\" y=\"9\" font-size=\"12px\" fill=\"rgb(255,255,255)\" dominant-baseline=\"middle\" text-anchor=\"middle\">important in the region s history.</text>  </svg></svg><line x1=\"10.412312662820133%\" x2=\"11.511218832783678%\" y1=\"60\" y2=\"60\" id=\"_fb_ickhtosfspmfimmfagor_ind_11\" style=\"stroke:rgb(255.0, 0.0, 81.08083606031792);stroke-width:2; opacity: 0\"/><text x=\"10.961765747801905%\" y=\"71\" font-size=\"12px\" id=\"_fs_ickhtosfspmfimmfagor_ind_11\" fill=\"rgb(255.0, 0.0, 81.08083606031792)\" style=\"opacity: 0\" dominant-baseline=\"middle\" text-anchor=\"middle\">0.016</text><svg x=\"10.412312662820133%\" y=\"40\" height=\"20\" width=\"1.098906169963545%\">  <svg x=\"0\" y=\"0\" width=\"100%\" height=\"100%\">    <text x=\"50%\" y=\"9\" font-size=\"12px\" fill=\"rgb(255,255,255)\" dominant-baseline=\"middle\" text-anchor=\"middle\">Catalonia s secession drive has tipped Spain into its worst political crisis in decades and prompted Madrid to sack the Catalan government, led by Carles Puigdemont, and call a regional election for Dec. 21. The acceptance of Madrid s rule over the region could prompt the Supreme Court to overrule the decision to hold the defendants in custody while they await trial, and release them in time to campaign for the election. All four jailed ERC members - Junqueras, former foreign affairs chief Raul Romeva, justice affairs head Carles Mundo and work chief Dolors Bassa - have been named as candidates in the election.</text>  </svg></svg><line x1=\"9.482296021142957%\" x2=\"10.412312662820133%\" y1=\"60\" y2=\"60\" id=\"_fb_ickhtosfspmfimmfagor_ind_12\" style=\"stroke:rgb(255.0, 0.0, 81.08083606031792);stroke-width:2; opacity: 0\"/><text x=\"9.947304341981546%\" y=\"71\" font-size=\"12px\" id=\"_fs_ickhtosfspmfimmfagor_ind_12\" fill=\"rgb(255.0, 0.0, 81.08083606031792)\" style=\"opacity: 0\" dominant-baseline=\"middle\" text-anchor=\"middle\">0.013</text><svg x=\"9.482296021142957%\" y=\"40\" height=\"20\" width=\"0.9300166416771756%\">  <svg x=\"0\" y=\"0\" width=\"100%\" height=\"100%\">    <text x=\"50%\" y=\"9\" font-size=\"12px\" fill=\"rgb(255,255,255)\" dominant-baseline=\"middle\" text-anchor=\"middle\">The defendants did not agree with the application of Article 155, which stripped the regional government of its power after the secessionist ruling, but accepted it, their lawyer said in a statement to the Supreme Court.  My charges accepted, and accept, the application of 155 ... but have done so from a position of deep political and judicial discrepancy,  the lawyer said. The lawyer added that the statement does not mean that they renounce their political convictions.</text>  </svg></svg><line x1=\"8.780374491554094%\" x2=\"9.482296021142957%\" y1=\"60\" y2=\"60\" id=\"_fb_ickhtosfspmfimmfagor_ind_10\" style=\"stroke:rgb(255.0, 0.0, 81.08083606031792);stroke-width:2; opacity: 0\"/><text x=\"9.131335256348525%\" y=\"71\" font-size=\"12px\" id=\"_fs_ickhtosfspmfimmfagor_ind_10\" fill=\"rgb(255.0, 0.0, 81.08083606031792)\" style=\"opacity: 0\" dominant-baseline=\"middle\" text-anchor=\"middle\">0.01</text><svg x=\"8.780374491554094%\" y=\"40\" height=\"20\" width=\"0.7019215295888639%\">  <svg x=\"0\" y=\"0\" width=\"100%\" height=\"100%\">    <text x=\"50%\" y=\"9\" font-size=\"12px\" fill=\"rgb(255,255,255)\" dominant-baseline=\"middle\" text-anchor=\"middle\">their defense lawyer said on Tuesday. Junqueras and seven other former members of the Catalonia regional cabinet were jailed on Nov. 2 pending trial, accused of sedition, rebellion and misappropriation of funds after the local government declared independence from Spain.</text>  </svg></svg><line x1=\"8.25664591224009%\" x2=\"8.780374491554094%\" y1=\"60\" y2=\"60\" id=\"_fb_ickhtosfspmfimmfagor_ind_16\" style=\"stroke:rgb(255.0, 0.0, 81.08083606031792);stroke-width:2; opacity: 0\"/><text x=\"8.518510201897092%\" y=\"71\" font-size=\"12px\" id=\"_fs_ickhtosfspmfimmfagor_ind_16\" fill=\"rgb(255.0, 0.0, 81.08083606031792)\" style=\"opacity: 0\" dominant-baseline=\"middle\" text-anchor=\"middle\">0.008</text><svg x=\"8.25664591224009%\" y=\"40\" height=\"20\" width=\"0.5237285793140032%\">  <svg x=\"0\" y=\"0\" width=\"100%\" height=\"100%\">    <text x=\"50%\" y=\"9\" font-size=\"12px\" fill=\"rgb(255,255,255)\" dominant-baseline=\"middle\" text-anchor=\"middle\">Turnout for the election is expected to reach a record 80 percent as</text>  </svg></svg><line x1=\"7.8261829048094125%\" x2=\"8.25664591224009%\" y1=\"60\" y2=\"60\" id=\"_fb_ickhtosfspmfimmfagor_ind_14\" style=\"stroke:rgb(255.0, 0.0, 81.08083606031792);stroke-width:2; opacity: 0\"/><text x=\"8.041414408524751%\" y=\"71\" font-size=\"12px\" id=\"_fs_ickhtosfspmfimmfagor_ind_14\" fill=\"rgb(255.0, 0.0, 81.08083606031792)\" style=\"opacity: 0\" dominant-baseline=\"middle\" text-anchor=\"middle\">0.006</text><svg x=\"7.8261829048094125%\" y=\"40\" height=\"20\" width=\"0.4304630074306779%\">  <svg x=\"0\" y=\"0\" width=\"100%\" height=\"100%\">    <text x=\"50%\" y=\"9\" font-size=\"12px\" fill=\"rgb(255,255,255)\" dominant-baseline=\"middle\" text-anchor=\"middle\">said on Saturday the election would be most</text>  </svg></svg><line x1=\"7.657008230816353%\" x2=\"7.8261829048094125%\" y1=\"60\" y2=\"60\" id=\"_fb_ickhtosfspmfimmfagor_ind_13\" style=\"stroke:rgb(255.0, 0.0, 81.08083606031792);stroke-width:2; opacity: 0\"/><text x=\"7.741595567812883%\" y=\"71\" font-size=\"12px\" id=\"_fs_ickhtosfspmfimmfagor_ind_13\" fill=\"rgb(255.0, 0.0, 81.08083606031792)\" style=\"opacity: 0\" dominant-baseline=\"middle\" text-anchor=\"middle\">0.002</text><svg x=\"7.657008230816353%\" y=\"40\" height=\"20\" width=\"0.16917467399305952%\">  <svg x=\"0\" y=\"0\" width=\"100%\" height=\"100%\">    <text x=\"50%\" y=\"9\" font-size=\"12px\" fill=\"rgb(255,255,255)\" dominant-baseline=\"middle\" text-anchor=\"middle\">Former leader of Catalonia Puigdemont, who has been in self-imposed exile in Belgium since declaring independence,</text>  </svg></svg><g transform=\"translate(0,0)\">  <svg x=\"13.393626059736027%\" y=\"40\" height=\"18\" overflow=\"visible\" width=\"30\">    <path d=\"M 0 -9 l 6 18 L 0 25\" fill=\"none\" style=\"stroke:rgb(255.0, 0.0, 81.08083606031792);stroke-width:2\" />  </svg></g><g transform=\"translate(2,0)\">  <svg x=\"13.393626059736027%\" y=\"40\" height=\"18\" overflow=\"visible\" width=\"30\">    <path d=\"M 0 -9 l 6 18 L 0 25\" fill=\"none\" style=\"stroke:rgb(255.0, 0.0, 81.08083606031792);stroke-width:2\" />  </svg></g><g transform=\"translate(4,0)\">  <svg x=\"13.393626059736027%\" y=\"40\" height=\"18\" overflow=\"visible\" width=\"30\">    <path d=\"M 0 -9 l 6 18 L 0 25\" fill=\"none\" style=\"stroke:rgb(255.0, 0.0, 81.08083606031792);stroke-width:2\" />  </svg></g><g transform=\"translate(6,0)\">  <svg x=\"13.393626059736027%\" y=\"40\" height=\"18\" overflow=\"visible\" width=\"30\">    <path d=\"M 0 -9 l 6 18 L 0 25\" fill=\"none\" style=\"stroke:rgb(255.0, 0.0, 81.08083606031792);stroke-width:2\" />  </svg></g><g transform=\"translate(-8,0)\">  <svg x=\"13.393626059736027%\" y=\"40\" height=\"18\" overflow=\"visible\" width=\"30\">    <path d=\"M 0 -9 l 6 18 L 0 25\" fill=\"none\" style=\"stroke:rgb(255.0, 0.0, 81.08083606031792);stroke-width:2\" />  </svg></g><g transform=\"translate(-6,0)\">  <svg x=\"13.393626059736027%\" y=\"40\" height=\"18\" overflow=\"visible\" width=\"30\">    <path d=\"M 0 -9 l 6 18 L 0 25\" fill=\"none\" style=\"stroke:rgb(255.0, 0.0, 81.08083606031792);stroke-width:2\" />  </svg></g><g transform=\"translate(-4,0)\">  <svg x=\"13.393626059736027%\" y=\"40\" height=\"18\" overflow=\"visible\" width=\"30\">    <path d=\"M 0 -9 l 6 18 L 0 25\" fill=\"none\" style=\"stroke:rgb(255.0, 0.0, 81.08083606031792);stroke-width:2\" />  </svg></g><g transform=\"translate(-2,0)\">  <svg x=\"13.393626059736027%\" y=\"40\" height=\"18\" overflow=\"visible\" width=\"30\">    <path d=\"M 0 -9 l 6 18 L 0 25\" fill=\"none\" style=\"stroke:rgb(255.0, 0.0, 81.08083606031792);stroke-width:2\" />  </svg></g><g transform=\"translate(0,0)\">  <svg x=\"11.511218832783678%\" y=\"40\" height=\"18\" overflow=\"visible\" width=\"30\">    <path d=\"M 0 -9 l 6 18 L 0 25\" fill=\"none\" style=\"stroke:rgb(255.0, 0.0, 81.08083606031792);stroke-width:2\" />  </svg></g><g transform=\"translate(2,0)\">  <svg x=\"11.511218832783678%\" y=\"40\" height=\"18\" overflow=\"visible\" width=\"30\">    <path d=\"M 0 -9 l 6 18 L 0 25\" fill=\"none\" style=\"stroke:rgb(255.0, 0.0, 81.08083606031792);stroke-width:2\" />  </svg></g><g transform=\"translate(4,0)\">  <svg x=\"11.511218832783678%\" y=\"40\" height=\"18\" overflow=\"visible\" width=\"30\">    <path d=\"M 0 -9 l 6 18 L 0 25\" fill=\"none\" style=\"stroke:rgb(255.0, 0.0, 81.08083606031792);stroke-width:2\" />  </svg></g><g transform=\"translate(6,0)\">  <svg x=\"11.511218832783678%\" y=\"40\" height=\"18\" overflow=\"visible\" width=\"30\">    <path d=\"M 0 -9 l 6 18 L 0 25\" fill=\"none\" style=\"stroke:rgb(255.0, 0.0, 81.08083606031792);stroke-width:2\" />  </svg></g><g transform=\"translate(-8,0)\">  <svg x=\"11.511218832783678%\" y=\"40\" height=\"18\" overflow=\"visible\" width=\"30\">    <path d=\"M 0 -9 l 6 18 L 0 25\" fill=\"none\" style=\"stroke:rgb(255.0, 0.0, 81.08083606031792);stroke-width:2\" />  </svg></g><g transform=\"translate(-6,0)\">  <svg x=\"11.511218832783678%\" y=\"40\" height=\"18\" overflow=\"visible\" width=\"30\">    <path d=\"M 0 -9 l 6 18 L 0 25\" fill=\"none\" style=\"stroke:rgb(255.0, 0.0, 81.08083606031792);stroke-width:2\" />  </svg></g><g transform=\"translate(-4,0)\">  <svg x=\"11.511218832783678%\" y=\"40\" height=\"18\" overflow=\"visible\" width=\"30\">    <path d=\"M 0 -9 l 6 18 L 0 25\" fill=\"none\" style=\"stroke:rgb(255.0, 0.0, 81.08083606031792);stroke-width:2\" />  </svg></g><g transform=\"translate(-2,0)\">  <svg x=\"11.511218832783678%\" y=\"40\" height=\"18\" overflow=\"visible\" width=\"30\">    <path d=\"M 0 -9 l 6 18 L 0 25\" fill=\"none\" style=\"stroke:rgb(255.0, 0.0, 81.08083606031792);stroke-width:2\" />  </svg></g><g transform=\"translate(0,0)\">  <svg x=\"10.412312662820133%\" y=\"40\" height=\"18\" overflow=\"visible\" width=\"30\">    <path d=\"M 0 -9 l 6 18 L 0 25\" fill=\"none\" style=\"stroke:rgb(255.0, 0.0, 81.08083606031792);stroke-width:2\" />  </svg></g><g transform=\"translate(2,0)\">  <svg x=\"10.412312662820133%\" y=\"40\" height=\"18\" overflow=\"visible\" width=\"30\">    <path d=\"M 0 -9 l 6 18 L 0 25\" fill=\"none\" style=\"stroke:rgb(255.0, 0.0, 81.08083606031792);stroke-width:2\" />  </svg></g><g transform=\"translate(4,0)\">  <svg x=\"10.412312662820133%\" y=\"40\" height=\"18\" overflow=\"visible\" width=\"30\">    <path d=\"M 0 -9 l 6 18 L 0 25\" fill=\"none\" style=\"stroke:rgb(255.0, 0.0, 81.08083606031792);stroke-width:2\" />  </svg></g><g transform=\"translate(6,0)\">  <svg x=\"10.412312662820133%\" y=\"40\" height=\"18\" overflow=\"visible\" width=\"30\">    <path d=\"M 0 -9 l 6 18 L 0 25\" fill=\"none\" style=\"stroke:rgb(255.0, 0.0, 81.08083606031792);stroke-width:2\" />  </svg></g><g transform=\"translate(-8,0)\">  <svg x=\"10.412312662820133%\" y=\"40\" height=\"18\" overflow=\"visible\" width=\"30\">    <path d=\"M 0 -9 l 6 18 L 0 25\" fill=\"none\" style=\"stroke:rgb(255.0, 0.0, 81.08083606031792);stroke-width:2\" />  </svg></g><g transform=\"translate(-6,0)\">  <svg x=\"10.412312662820133%\" y=\"40\" height=\"18\" overflow=\"visible\" width=\"30\">    <path d=\"M 0 -9 l 6 18 L 0 25\" fill=\"none\" style=\"stroke:rgb(255.0, 0.0, 81.08083606031792);stroke-width:2\" />  </svg></g><g transform=\"translate(-4,0)\">  <svg x=\"10.412312662820133%\" y=\"40\" height=\"18\" overflow=\"visible\" width=\"30\">    <path d=\"M 0 -9 l 6 18 L 0 25\" fill=\"none\" style=\"stroke:rgb(255.0, 0.0, 81.08083606031792);stroke-width:2\" />  </svg></g><g transform=\"translate(-2,0)\">  <svg x=\"10.412312662820133%\" y=\"40\" height=\"18\" overflow=\"visible\" width=\"30\">    <path d=\"M 0 -9 l 6 18 L 0 25\" fill=\"none\" style=\"stroke:rgb(255.0, 0.0, 81.08083606031792);stroke-width:2\" />  </svg></g><g transform=\"translate(0,0)\">  <svg x=\"9.482296021142957%\" y=\"40\" height=\"18\" overflow=\"visible\" width=\"30\">    <path d=\"M 0 -9 l 6 18 L 0 25\" fill=\"none\" style=\"stroke:rgb(255.0, 0.0, 81.08083606031792);stroke-width:2\" />  </svg></g><g transform=\"translate(2,0)\">  <svg x=\"9.482296021142957%\" y=\"40\" height=\"18\" overflow=\"visible\" width=\"30\">    <path d=\"M 0 -9 l 6 18 L 0 25\" fill=\"none\" style=\"stroke:rgb(255.0, 0.0, 81.08083606031792);stroke-width:2\" />  </svg></g><g transform=\"translate(4,0)\">  <svg x=\"9.482296021142957%\" y=\"40\" height=\"18\" overflow=\"visible\" width=\"30\">    <path d=\"M 0 -9 l 6 18 L 0 25\" fill=\"none\" style=\"stroke:rgb(255.0, 0.0, 81.08083606031792);stroke-width:2\" />  </svg></g><g transform=\"translate(6,0)\">  <svg x=\"9.482296021142957%\" y=\"40\" height=\"18\" overflow=\"visible\" width=\"30\">    <path d=\"M 0 -9 l 6 18 L 0 25\" fill=\"none\" style=\"stroke:rgb(255.0, 0.0, 81.08083606031792);stroke-width:2\" />  </svg></g><g transform=\"translate(-8,0)\">  <svg x=\"9.482296021142957%\" y=\"40\" height=\"18\" overflow=\"visible\" width=\"30\">    <path d=\"M 0 -9 l 6 18 L 0 25\" fill=\"none\" style=\"stroke:rgb(255.0, 0.0, 81.08083606031792);stroke-width:2\" />  </svg></g><g transform=\"translate(-6,0)\">  <svg x=\"9.482296021142957%\" y=\"40\" height=\"18\" overflow=\"visible\" width=\"30\">    <path d=\"M 0 -9 l 6 18 L 0 25\" fill=\"none\" style=\"stroke:rgb(255.0, 0.0, 81.08083606031792);stroke-width:2\" />  </svg></g><g transform=\"translate(-4,0)\">  <svg x=\"9.482296021142957%\" y=\"40\" height=\"18\" overflow=\"visible\" width=\"30\">    <path d=\"M 0 -9 l 6 18 L 0 25\" fill=\"none\" style=\"stroke:rgb(255.0, 0.0, 81.08083606031792);stroke-width:2\" />  </svg></g><g transform=\"translate(-2,0)\">  <svg x=\"9.482296021142957%\" y=\"40\" height=\"18\" overflow=\"visible\" width=\"30\">    <path d=\"M 0 -9 l 6 18 L 0 25\" fill=\"none\" style=\"stroke:rgb(255.0, 0.0, 81.08083606031792);stroke-width:2\" />  </svg></g><g transform=\"translate(0,0)\">  <svg x=\"8.780374491554094%\" y=\"40\" height=\"18\" overflow=\"visible\" width=\"30\">    <path d=\"M 0 -9 l 6 18 L 0 25\" fill=\"none\" style=\"stroke:rgb(255.0, 0.0, 81.08083606031792);stroke-width:2\" />  </svg></g><g transform=\"translate(2,0)\">  <svg x=\"8.780374491554094%\" y=\"40\" height=\"18\" overflow=\"visible\" width=\"30\">    <path d=\"M 0 -9 l 6 18 L 0 25\" fill=\"none\" style=\"stroke:rgb(255.0, 0.0, 81.08083606031792);stroke-width:2\" />  </svg></g><g transform=\"translate(4,0)\">  <svg x=\"8.780374491554094%\" y=\"40\" height=\"18\" overflow=\"visible\" width=\"30\">    <path d=\"M 0 -9 l 6 18 L 0 25\" fill=\"none\" style=\"stroke:rgb(255.0, 0.0, 81.08083606031792);stroke-width:2\" />  </svg></g><g transform=\"translate(6,0)\">  <svg x=\"8.780374491554094%\" y=\"40\" height=\"18\" overflow=\"visible\" width=\"30\">    <path d=\"M 0 -9 l 6 18 L 0 25\" fill=\"none\" style=\"stroke:rgb(255.0, 0.0, 81.08083606031792);stroke-width:2\" />  </svg></g><g transform=\"translate(-8,0)\">  <svg x=\"8.780374491554094%\" y=\"40\" height=\"18\" overflow=\"visible\" width=\"30\">    <path d=\"M 0 -9 l 6 18 L 0 25\" fill=\"none\" style=\"stroke:rgb(255.0, 0.0, 81.08083606031792);stroke-width:2\" />  </svg></g><g transform=\"translate(-6,0)\">  <svg x=\"8.780374491554094%\" y=\"40\" height=\"18\" overflow=\"visible\" width=\"30\">    <path d=\"M 0 -9 l 6 18 L 0 25\" fill=\"none\" style=\"stroke:rgb(255.0, 0.0, 81.08083606031792);stroke-width:2\" />  </svg></g><g transform=\"translate(-4,0)\">  <svg x=\"8.780374491554094%\" y=\"40\" height=\"18\" overflow=\"visible\" width=\"30\">    <path d=\"M 0 -9 l 6 18 L 0 25\" fill=\"none\" style=\"stroke:rgb(255.0, 0.0, 81.08083606031792);stroke-width:2\" />  </svg></g><g transform=\"translate(-2,0)\">  <svg x=\"8.780374491554094%\" y=\"40\" height=\"18\" overflow=\"visible\" width=\"30\">    <path d=\"M 0 -9 l 6 18 L 0 25\" fill=\"none\" style=\"stroke:rgb(255.0, 0.0, 81.08083606031792);stroke-width:2\" />  </svg></g><g transform=\"translate(0,0)\">  <svg x=\"8.25664591224009%\" y=\"40\" height=\"18\" overflow=\"visible\" width=\"30\">    <path d=\"M 0 -9 l 6 18 L 0 25\" fill=\"none\" style=\"stroke:rgb(255.0, 0.0, 81.08083606031792);stroke-width:2\" />  </svg></g><g transform=\"translate(2,0)\">  <svg x=\"8.25664591224009%\" y=\"40\" height=\"18\" overflow=\"visible\" width=\"30\">    <path d=\"M 0 -9 l 6 18 L 0 25\" fill=\"none\" style=\"stroke:rgb(255.0, 0.0, 81.08083606031792);stroke-width:2\" />  </svg></g><g transform=\"translate(4,0)\">  <svg x=\"8.25664591224009%\" y=\"40\" height=\"18\" overflow=\"visible\" width=\"30\">    <path d=\"M 0 -9 l 6 18 L 0 25\" fill=\"none\" style=\"stroke:rgb(255.0, 0.0, 81.08083606031792);stroke-width:2\" />  </svg></g><g transform=\"translate(6,0)\">  <svg x=\"8.25664591224009%\" y=\"40\" height=\"18\" overflow=\"visible\" width=\"30\">    <path d=\"M 0 -9 l 6 18 L 0 25\" fill=\"none\" style=\"stroke:rgb(255.0, 0.0, 81.08083606031792);stroke-width:2\" />  </svg></g><g transform=\"translate(-8,0)\">  <svg x=\"8.25664591224009%\" y=\"40\" height=\"18\" overflow=\"visible\" width=\"30\">    <path d=\"M 0 -9 l 6 18 L 0 25\" fill=\"none\" style=\"stroke:rgb(255.0, 0.0, 81.08083606031792);stroke-width:2\" />  </svg></g><g transform=\"translate(-6,0)\">  <svg x=\"8.25664591224009%\" y=\"40\" height=\"18\" overflow=\"visible\" width=\"30\">    <path d=\"M 0 -9 l 6 18 L 0 25\" fill=\"none\" style=\"stroke:rgb(255.0, 0.0, 81.08083606031792);stroke-width:2\" />  </svg></g><g transform=\"translate(-4,0)\">  <svg x=\"8.25664591224009%\" y=\"40\" height=\"18\" overflow=\"visible\" width=\"30\">    <path d=\"M 0 -9 l 6 18 L 0 25\" fill=\"none\" style=\"stroke:rgb(255.0, 0.0, 81.08083606031792);stroke-width:2\" />  </svg></g><g transform=\"translate(-2,0)\">  <svg x=\"8.25664591224009%\" y=\"40\" height=\"18\" overflow=\"visible\" width=\"30\">    <path d=\"M 0 -9 l 6 18 L 0 25\" fill=\"none\" style=\"stroke:rgb(255.0, 0.0, 81.08083606031792);stroke-width:2\" />  </svg></g><g transform=\"translate(0,0)\">  <svg x=\"7.8261829048094125%\" y=\"40\" height=\"18\" overflow=\"visible\" width=\"30\">    <path d=\"M 0 -9 l 6 18 L 0 25\" fill=\"none\" style=\"stroke:rgb(255.0, 0.0, 81.08083606031792);stroke-width:2\" />  </svg></g><g transform=\"translate(2,0)\">  <svg x=\"7.8261829048094125%\" y=\"40\" height=\"18\" overflow=\"visible\" width=\"30\">    <path d=\"M 0 -9 l 6 18 L 0 25\" fill=\"none\" style=\"stroke:rgb(255.0, 0.0, 81.08083606031792);stroke-width:2\" />  </svg></g><g transform=\"translate(4,0)\">  <svg x=\"7.8261829048094125%\" y=\"40\" height=\"18\" overflow=\"visible\" width=\"30\">    <path d=\"M 0 -9 l 6 18 L 0 25\" fill=\"none\" style=\"stroke:rgb(255.0, 0.0, 81.08083606031792);stroke-width:2\" />  </svg></g><g transform=\"translate(6,0)\">  <svg x=\"7.8261829048094125%\" y=\"40\" height=\"18\" overflow=\"visible\" width=\"30\">    <path d=\"M 0 -9 l 6 18 L 0 25\" fill=\"none\" style=\"stroke:rgb(255.0, 0.0, 81.08083606031792);stroke-width:2\" />  </svg></g><g transform=\"translate(-8,0)\">  <svg x=\"7.8261829048094125%\" y=\"40\" height=\"18\" overflow=\"visible\" width=\"30\">    <path d=\"M 0 -9 l 6 18 L 0 25\" fill=\"none\" style=\"stroke:rgb(255.0, 0.0, 81.08083606031792);stroke-width:2\" />  </svg></g><g transform=\"translate(-6,0)\">  <svg x=\"7.8261829048094125%\" y=\"40\" height=\"18\" overflow=\"visible\" width=\"30\">    <path d=\"M 0 -9 l 6 18 L 0 25\" fill=\"none\" style=\"stroke:rgb(255.0, 0.0, 81.08083606031792);stroke-width:2\" />  </svg></g><g transform=\"translate(-4,0)\">  <svg x=\"7.8261829048094125%\" y=\"40\" height=\"18\" overflow=\"visible\" width=\"30\">    <path d=\"M 0 -9 l 6 18 L 0 25\" fill=\"none\" style=\"stroke:rgb(255.0, 0.0, 81.08083606031792);stroke-width:2\" />  </svg></g><g transform=\"translate(-2,0)\">  <svg x=\"7.8261829048094125%\" y=\"40\" height=\"18\" overflow=\"visible\" width=\"30\">    <path d=\"M 0 -9 l 6 18 L 0 25\" fill=\"none\" style=\"stroke:rgb(255.0, 0.0, 81.08083606031792);stroke-width:2\" />  </svg></g><rect transform=\"translate(-8,0)\" x=\"15.351872170902459%\" y=\"40\" width=\"8\" height=\"18\" style=\"fill:rgb(255.0, 0.0, 81.08083606031792)\"/><g transform=\"translate(-11.5,0)\">  <svg x=\"7.657008230816353%\" y=\"40\" height=\"18\" overflow=\"visible\" width=\"30\">    <path d=\"M 10 -9 l 6 18 L 10 25 L 0 25 L 0 -9\" fill=\"#ffffff\" style=\"stroke:rgb(255,255,255);stroke-width:2\" />  </svg></g><g transform=\"translate(-1.5,0)\">  <svg x=\"15.351872170902459%\" y=\"40\" height=\"18\" overflow=\"visible\" width=\"30\">    <path d=\"M 0 -9 l 6 18 L 0 25\" fill=\"none\" style=\"stroke:rgb(255, 195, 213);stroke-width:2\" />  </svg></g><rect x=\"13.393626059736027%\" y=\"40\" height=\"20\" width=\"1.9582461111664315%\"      onmouseover=\"document.getElementById('_tp_ickhtosfspmfimmfagor_ind_17').style.textDecoration = 'underline';document.getElementById('_fs_ickhtosfspmfimmfagor_ind_17').style.opacity = 1;document.getElementById('_fb_ickhtosfspmfimmfagor_ind_17').style.opacity = 1;\"      onmouseout=\"document.getElementById('_tp_ickhtosfspmfimmfagor_ind_17').style.textDecoration = 'none';document.getElementById('_fs_ickhtosfspmfimmfagor_ind_17').style.opacity = 0;document.getElementById('_fb_ickhtosfspmfimmfagor_ind_17').style.opacity = 0;\" style=\"fill:rgb(0,0,0,0)\" /><g transform=\"translate(-1.5,0)\">  <svg x=\"13.393626059736027%\" y=\"40\" height=\"18\" overflow=\"visible\" width=\"30\">    <path d=\"M 0 -9 l 6 18 L 0 25\" fill=\"none\" style=\"stroke:rgb(255, 195, 213);stroke-width:2\" />  </svg></g><rect x=\"11.511218832783678%\" y=\"40\" height=\"20\" width=\"1.882407226952349%\"      onmouseover=\"document.getElementById('_tp_ickhtosfspmfimmfagor_ind_15').style.textDecoration = 'underline';document.getElementById('_fs_ickhtosfspmfimmfagor_ind_15').style.opacity = 1;document.getElementById('_fb_ickhtosfspmfimmfagor_ind_15').style.opacity = 1;\"      onmouseout=\"document.getElementById('_tp_ickhtosfspmfimmfagor_ind_15').style.textDecoration = 'none';document.getElementById('_fs_ickhtosfspmfimmfagor_ind_15').style.opacity = 0;document.getElementById('_fb_ickhtosfspmfimmfagor_ind_15').style.opacity = 0;\" style=\"fill:rgb(0,0,0,0)\" /><g transform=\"translate(-1.5,0)\">  <svg x=\"11.511218832783678%\" y=\"40\" height=\"18\" overflow=\"visible\" width=\"30\">    <path d=\"M 0 -9 l 6 18 L 0 25\" fill=\"none\" style=\"stroke:rgb(255, 195, 213);stroke-width:2\" />  </svg></g><rect x=\"10.412312662820133%\" y=\"40\" height=\"20\" width=\"1.098906169963545%\"      onmouseover=\"document.getElementById('_tp_ickhtosfspmfimmfagor_ind_11').style.textDecoration = 'underline';document.getElementById('_fs_ickhtosfspmfimmfagor_ind_11').style.opacity = 1;document.getElementById('_fb_ickhtosfspmfimmfagor_ind_11').style.opacity = 1;\"      onmouseout=\"document.getElementById('_tp_ickhtosfspmfimmfagor_ind_11').style.textDecoration = 'none';document.getElementById('_fs_ickhtosfspmfimmfagor_ind_11').style.opacity = 0;document.getElementById('_fb_ickhtosfspmfimmfagor_ind_11').style.opacity = 0;\" style=\"fill:rgb(0,0,0,0)\" /><g transform=\"translate(-1.5,0)\">  <svg x=\"10.412312662820133%\" y=\"40\" height=\"18\" overflow=\"visible\" width=\"30\">    <path d=\"M 0 -9 l 6 18 L 0 25\" fill=\"none\" style=\"stroke:rgb(255, 195, 213);stroke-width:2\" />  </svg></g><rect x=\"9.482296021142957%\" y=\"40\" height=\"20\" width=\"0.9300166416771756%\"      onmouseover=\"document.getElementById('_tp_ickhtosfspmfimmfagor_ind_12').style.textDecoration = 'underline';document.getElementById('_fs_ickhtosfspmfimmfagor_ind_12').style.opacity = 1;document.getElementById('_fb_ickhtosfspmfimmfagor_ind_12').style.opacity = 1;\"      onmouseout=\"document.getElementById('_tp_ickhtosfspmfimmfagor_ind_12').style.textDecoration = 'none';document.getElementById('_fs_ickhtosfspmfimmfagor_ind_12').style.opacity = 0;document.getElementById('_fb_ickhtosfspmfimmfagor_ind_12').style.opacity = 0;\" style=\"fill:rgb(0,0,0,0)\" /><g transform=\"translate(-1.5,0)\">  <svg x=\"9.482296021142957%\" y=\"40\" height=\"18\" overflow=\"visible\" width=\"30\">    <path d=\"M 0 -9 l 6 18 L 0 25\" fill=\"none\" style=\"stroke:rgb(255, 195, 213);stroke-width:2\" />  </svg></g><rect x=\"8.780374491554094%\" y=\"40\" height=\"20\" width=\"0.7019215295888639%\"      onmouseover=\"document.getElementById('_tp_ickhtosfspmfimmfagor_ind_10').style.textDecoration = 'underline';document.getElementById('_fs_ickhtosfspmfimmfagor_ind_10').style.opacity = 1;document.getElementById('_fb_ickhtosfspmfimmfagor_ind_10').style.opacity = 1;\"      onmouseout=\"document.getElementById('_tp_ickhtosfspmfimmfagor_ind_10').style.textDecoration = 'none';document.getElementById('_fs_ickhtosfspmfimmfagor_ind_10').style.opacity = 0;document.getElementById('_fb_ickhtosfspmfimmfagor_ind_10').style.opacity = 0;\" style=\"fill:rgb(0,0,0,0)\" /><g transform=\"translate(-1.5,0)\">  <svg x=\"8.780374491554094%\" y=\"40\" height=\"18\" overflow=\"visible\" width=\"30\">    <path d=\"M 0 -9 l 6 18 L 0 25\" fill=\"none\" style=\"stroke:rgb(255, 195, 213);stroke-width:2\" />  </svg></g><rect x=\"8.25664591224009%\" y=\"40\" height=\"20\" width=\"0.5237285793140032%\"      onmouseover=\"document.getElementById('_tp_ickhtosfspmfimmfagor_ind_16').style.textDecoration = 'underline';document.getElementById('_fs_ickhtosfspmfimmfagor_ind_16').style.opacity = 1;document.getElementById('_fb_ickhtosfspmfimmfagor_ind_16').style.opacity = 1;\"      onmouseout=\"document.getElementById('_tp_ickhtosfspmfimmfagor_ind_16').style.textDecoration = 'none';document.getElementById('_fs_ickhtosfspmfimmfagor_ind_16').style.opacity = 0;document.getElementById('_fb_ickhtosfspmfimmfagor_ind_16').style.opacity = 0;\" style=\"fill:rgb(0,0,0,0)\" /><g transform=\"translate(-1.5,0)\">  <svg x=\"8.25664591224009%\" y=\"40\" height=\"18\" overflow=\"visible\" width=\"30\">    <path d=\"M 0 -9 l 6 18 L 0 25\" fill=\"none\" style=\"stroke:rgb(255, 195, 213);stroke-width:2\" />  </svg></g><rect x=\"7.8261829048094125%\" y=\"40\" height=\"20\" width=\"0.4304630074306779%\"      onmouseover=\"document.getElementById('_tp_ickhtosfspmfimmfagor_ind_14').style.textDecoration = 'underline';document.getElementById('_fs_ickhtosfspmfimmfagor_ind_14').style.opacity = 1;document.getElementById('_fb_ickhtosfspmfimmfagor_ind_14').style.opacity = 1;\"      onmouseout=\"document.getElementById('_tp_ickhtosfspmfimmfagor_ind_14').style.textDecoration = 'none';document.getElementById('_fs_ickhtosfspmfimmfagor_ind_14').style.opacity = 0;document.getElementById('_fb_ickhtosfspmfimmfagor_ind_14').style.opacity = 0;\" style=\"fill:rgb(0,0,0,0)\" /><rect x=\"7.657008230816353%\" y=\"40\" height=\"20\" width=\"0.16917467399305952%\"      onmouseover=\"document.getElementById('_tp_ickhtosfspmfimmfagor_ind_13').style.textDecoration = 'underline';document.getElementById('_fs_ickhtosfspmfimmfagor_ind_13').style.opacity = 1;document.getElementById('_fb_ickhtosfspmfimmfagor_ind_13').style.opacity = 1;\"      onmouseout=\"document.getElementById('_tp_ickhtosfspmfimmfagor_ind_13').style.textDecoration = 'none';document.getElementById('_fs_ickhtosfspmfimmfagor_ind_13').style.opacity = 0;document.getElementById('_fb_ickhtosfspmfimmfagor_ind_13').style.opacity = 0;\" style=\"fill:rgb(0,0,0,0)\" /><rect x=\"15.351872170902459%\" width=\"68.87521836807743%\" y=\"40\" height=\"18\" style=\"fill:rgb(0.0, 138.56128015770724, 250.76166088685727); stroke-width:0; stroke:rgb(0,0,0)\" /><line x1=\"15.351872170902459%\" x2=\"53.358991360629176%\" y1=\"60\" y2=\"60\" id=\"_fb_ickhtosfspmfimmfagor_ind_3\" style=\"stroke:rgb(0.0, 138.56128015770724, 250.76166088685727);stroke-width:2; opacity: 0\"/><text x=\"34.355431765765815%\" y=\"71\" font-size=\"12px\" fill=\"rgb(0.0, 138.56128015770724, 250.76166088685727)\" id=\"_fs_ickhtosfspmfimmfagor_ind_3\" style=\"opacity: 0\" dominant-baseline=\"middle\" text-anchor=\"middle\">-0.548</text><svg x=\"15.351872170902459%\" y=\"40\" height=\"20\" width=\"38.007119189726716%\">  <svg x=\"0\" y=\"0\" width=\"100%\" height=\"100%\">    <text x=\"50%\" y=\"9\" font-size=\"12px\" fill=\"rgb(255,255,255)\" dominant-baseline=\"middle\" text-anchor=\"middle\">Reuters)</text>  </svg></svg><line x1=\"53.358991360629176%\" x2=\"67.57012915991221%\" y1=\"60\" y2=\"60\" id=\"_fb_ickhtosfspmfimmfagor_ind_2\" style=\"stroke:rgb(0.0, 138.56128015770724, 250.76166088685727);stroke-width:2; opacity: 0\"/><text x=\"60.464560260270694%\" y=\"71\" font-size=\"12px\" fill=\"rgb(0.0, 138.56128015770724, 250.76166088685727)\" id=\"_fs_ickhtosfspmfimmfagor_ind_2\" style=\"opacity: 0\" dominant-baseline=\"middle\" text-anchor=\"middle\">-0.205</text><svg x=\"53.358991360629176%\" y=\"40\" height=\"20\" width=\"14.211137799283037%\">  <svg x=\"0\" y=\"0\" width=\"100%\" height=\"100%\">    <text x=\"50%\" y=\"9\" font-size=\"12px\" fill=\"rgb(255,255,255)\" dominant-baseline=\"middle\" text-anchor=\"middle\">(</text>  </svg></svg><line x1=\"67.57012915991221%\" x2=\"75.64761674244211%\" y1=\"60\" y2=\"60\" id=\"_fb_ickhtosfspmfimmfagor_ind_1\" style=\"stroke:rgb(0.0, 138.56128015770724, 250.76166088685727);stroke-width:2; opacity: 0\"/><text x=\"71.60887295117716%\" y=\"71\" font-size=\"12px\" fill=\"rgb(0.0, 138.56128015770724, 250.76166088685727)\" id=\"_fs_ickhtosfspmfimmfagor_ind_1\" style=\"opacity: 0\" dominant-baseline=\"middle\" text-anchor=\"middle\">-0.117</text><svg x=\"67.57012915991221%\" y=\"40\" height=\"20\" width=\"8.077487582529898%\">  <svg x=\"0\" y=\"0\" width=\"100%\" height=\"100%\">    <text x=\"50%\" y=\"9\" font-size=\"12px\" fill=\"rgb(255,255,255)\" dominant-baseline=\"middle\" text-anchor=\"middle\">MADRID</text>  </svg></svg><line x1=\"75.64761674244211%\" x2=\"77.91119926820531%\" y1=\"60\" y2=\"60\" id=\"_fb_ickhtosfspmfimmfagor_ind_5\" style=\"stroke:rgb(0.0, 138.56128015770724, 250.76166088685727);stroke-width:2; opacity: 0\"/><text x=\"76.77940800532372%\" y=\"71\" font-size=\"12px\" fill=\"rgb(0.0, 138.56128015770724, 250.76166088685727)\" id=\"_fs_ickhtosfspmfimmfagor_ind_5\" style=\"opacity: 0\" dominant-baseline=\"middle\" text-anchor=\"middle\">-0.033</text><svg x=\"75.64761674244211%\" y=\"40\" height=\"20\" width=\"2.263582525763198%\">  <svg x=\"0\" y=\"0\" width=\"100%\" height=\"100%\">    <text x=\"50%\" y=\"9\" font-size=\"12px\" fill=\"rgb(255,255,255)\" dominant-baseline=\"middle\" text-anchor=\"middle\">Imprisoned</text>  </svg></svg><line x1=\"77.91119926820531%\" x2=\"79.86353002021548%\" y1=\"60\" y2=\"60\" id=\"_fb_ickhtosfspmfimmfagor_ind_9\" style=\"stroke:rgb(0.0, 138.56128015770724, 250.76166088685727);stroke-width:2; opacity: 0\"/><text x=\"78.8873646442104%\" y=\"71\" font-size=\"12px\" fill=\"rgb(0.0, 138.56128015770724, 250.76166088685727)\" id=\"_fs_ickhtosfspmfimmfagor_ind_9\" style=\"opacity: 0\" dominant-baseline=\"middle\" text-anchor=\"middle\">-0.028</text><svg x=\"77.91119926820531%\" y=\"40\" height=\"20\" width=\"1.9523307520101696%\">  <svg x=\"0\" y=\"0\" width=\"100%\" height=\"100%\">    <text x=\"50%\" y=\"9\" font-size=\"12px\" fill=\"rgb(255,255,255)\" dominant-baseline=\"middle\" text-anchor=\"middle\">control over the region,</text>  </svg></svg><line x1=\"79.86353002021548%\" x2=\"81.45073023688889%\" y1=\"60\" y2=\"60\" id=\"_fb_ickhtosfspmfimmfagor_ind_0\" style=\"stroke:rgb(0.0, 138.56128015770724, 250.76166088685727);stroke-width:2; opacity: 0\"/><text x=\"80.65713012855218%\" y=\"71\" font-size=\"12px\" fill=\"rgb(0.0, 138.56128015770724, 250.76166088685727)\" id=\"_fs_ickhtosfspmfimmfagor_ind_0\" style=\"opacity: 0\" dominant-baseline=\"middle\" text-anchor=\"middle\">-0.023</text><svg x=\"79.86353002021548%\" y=\"40\" height=\"20\" width=\"1.5872002166734092%\">  <svg x=\"0\" y=\"0\" width=\"100%\" height=\"100%\">    <text x=\"50%\" y=\"9\" font-size=\"12px\" fill=\"rgb(255,255,255)\" dominant-baseline=\"middle\" text-anchor=\"middle\"></text>  </svg></svg><line x1=\"81.45073023688889%\" x2=\"82.35701758481387%\" y1=\"60\" y2=\"60\" id=\"_fb_ickhtosfspmfimmfagor_ind_18\" style=\"stroke:rgb(0.0, 138.56128015770724, 250.76166088685727);stroke-width:2; opacity: 0\"/><text x=\"81.90387391085139%\" y=\"71\" font-size=\"12px\" fill=\"rgb(0.0, 138.56128015770724, 250.76166088685727)\" id=\"_fs_ickhtosfspmfimmfagor_ind_18\" style=\"opacity: 0\" dominant-baseline=\"middle\" text-anchor=\"middle\">-0.013</text><svg x=\"81.45073023688889%\" y=\"40\" height=\"20\" width=\"0.9062873479249873%\">  <svg x=\"0\" y=\"0\" width=\"100%\" height=\"100%\">    <text x=\"50%\" y=\"9\" font-size=\"12px\" fill=\"rgb(255,255,255)\" dominant-baseline=\"middle\" text-anchor=\"middle\">Less than a quarter of Catalans want to continue with a plan to claim independence from Spain, according to a poll published in El Pais newspaper on Monday. However, the same poll showed the vote evenly split between pro- and anti-independence parties in the upcoming regional election.</text>  </svg></svg><line x1=\"82.35701758481387%\" x2=\"83.0567255271582%\" y1=\"60\" y2=\"60\" id=\"_fb_ickhtosfspmfimmfagor_ind_6\" style=\"stroke:rgb(0.0, 138.56128015770724, 250.76166088685727);stroke-width:2; opacity: 0\"/><text x=\"82.70687155598604%\" y=\"71\" font-size=\"12px\" fill=\"rgb(0.0, 138.56128015770724, 250.76166088685727)\" id=\"_fs_ickhtosfspmfimmfagor_ind_6\" style=\"opacity: 0\" dominant-baseline=\"middle\" text-anchor=\"middle\">-0.01</text><svg x=\"82.35701758481387%\" y=\"40\" height=\"20\" width=\"0.6997079423443324%\">  <svg x=\"0\" y=\"0\" width=\"100%\" height=\"100%\">    <text x=\"50%\" y=\"9\" font-size=\"12px\" fill=\"rgb(255,255,255)\" dominant-baseline=\"middle\" text-anchor=\"middle\">former vice-president</text>  </svg></svg><line x1=\"83.0567255271582%\" x2=\"83.70508412928906%\" y1=\"60\" y2=\"60\" id=\"_fb_ickhtosfspmfimmfagor_ind_4\" style=\"stroke:rgb(0.0, 138.56128015770724, 250.76166088685727);stroke-width:2; opacity: 0\"/><text x=\"83.38090482822363%\" y=\"71\" font-size=\"12px\" fill=\"rgb(0.0, 138.56128015770724, 250.76166088685727)\" id=\"_fs_ickhtosfspmfimmfagor_ind_4\" style=\"opacity: 0\" dominant-baseline=\"middle\" text-anchor=\"middle\">-0.009</text><svg x=\"83.0567255271582%\" y=\"40\" height=\"20\" width=\"0.6483586021308554%\">  <svg x=\"0\" y=\"0\" width=\"100%\" height=\"100%\">    <text x=\"50%\" y=\"9\" font-size=\"12px\" fill=\"rgb(255,255,255)\" dominant-baseline=\"middle\" text-anchor=\"middle\">-</text>  </svg></svg><line x1=\"83.70508412928906%\" x2=\"84.09344162342012%\" y1=\"60\" y2=\"60\" id=\"_fb_ickhtosfspmfimmfagor_ind_8\" style=\"stroke:rgb(0.0, 138.56128015770724, 250.76166088685727);stroke-width:2; opacity: 0\"/><text x=\"83.89926287635458%\" y=\"71\" font-size=\"12px\" fill=\"rgb(0.0, 138.56128015770724, 250.76166088685727)\" id=\"_fs_ickhtosfspmfimmfagor_ind_8\" style=\"opacity: 0\" dominant-baseline=\"middle\" text-anchor=\"middle\">-0.006</text><svg x=\"83.70508412928906%\" y=\"40\" height=\"20\" width=\"0.388357494131057%\">  <svg x=\"0\" y=\"0\" width=\"100%\" height=\"100%\">    <text x=\"50%\" y=\"9\" font-size=\"12px\" fill=\"rgb(255,255,255)\" dominant-baseline=\"middle\" text-anchor=\"middle\">party will abide by a ruling giving Madrid</text>  </svg></svg><line x1=\"84.09344162342012%\" x2=\"84.22709053897988%\" y1=\"60\" y2=\"60\" id=\"_fb_ickhtosfspmfimmfagor_ind_7\" style=\"stroke:rgb(0.0, 138.56128015770724, 250.76166088685727);stroke-width:2; opacity: 0\"/><text x=\"84.1602660812%\" y=\"71\" font-size=\"12px\" fill=\"rgb(0.0, 138.56128015770724, 250.76166088685727)\" id=\"_fs_ickhtosfspmfimmfagor_ind_7\" style=\"opacity: 0\" dominant-baseline=\"middle\" text-anchor=\"middle\">-0.002</text><svg x=\"84.09344162342012%\" y=\"40\" height=\"20\" width=\"0.13364891555976044%\">  <svg x=\"0\" y=\"0\" width=\"100%\" height=\"100%\">    <text x=\"50%\" y=\"9\" font-size=\"12px\" fill=\"rgb(255,255,255)\" dominant-baseline=\"middle\" text-anchor=\"middle\">of Catalonia Oriol Junqueras and three other jailed members of his ERC</text>  </svg></svg><g transform=\"translate(-8,0)\">  <svg x=\"53.358991360629176%\" y=\"40\" height=\"18\" overflow=\"visible\" width=\"30\">    <path d=\"M 8 -9 l -6 18 L 8 25\" fill=\"none\" style=\"stroke:rgb(0.0, 138.56128015770724, 250.76166088685727);stroke-width:2\" />  </svg></g><g transform=\"translate(-10,0)\">  <svg x=\"53.358991360629176%\" y=\"40\" height=\"18\" overflow=\"visible\" width=\"30\">    <path d=\"M 8 -9 l -6 18 L 8 25\" fill=\"none\" style=\"stroke:rgb(0.0, 138.56128015770724, 250.76166088685727);stroke-width:2\" />  </svg></g><g transform=\"translate(-12,0)\">  <svg x=\"53.358991360629176%\" y=\"40\" height=\"18\" overflow=\"visible\" width=\"30\">    <path d=\"M 8 -9 l -6 18 L 8 25\" fill=\"none\" style=\"stroke:rgb(0.0, 138.56128015770724, 250.76166088685727);stroke-width:2\" />  </svg></g><g transform=\"translate(-14,0)\">  <svg x=\"53.358991360629176%\" y=\"40\" height=\"18\" overflow=\"visible\" width=\"30\">    <path d=\"M 8 -9 l -6 18 L 8 25\" fill=\"none\" style=\"stroke:rgb(0.0, 138.56128015770724, 250.76166088685727);stroke-width:2\" />  </svg></g><g transform=\"translate(2,0)\">  <svg x=\"53.358991360629176%\" y=\"40\" height=\"18\" overflow=\"visible\" width=\"30\">    <path d=\"M 8 -9 l -6 18 L 8 25\" fill=\"none\" style=\"stroke:rgb(0.0, 138.56128015770724, 250.76166088685727);stroke-width:2\" />  </svg></g><g transform=\"translate(0,0)\">  <svg x=\"53.358991360629176%\" y=\"40\" height=\"18\" overflow=\"visible\" width=\"30\">    <path d=\"M 8 -9 l -6 18 L 8 25\" fill=\"none\" style=\"stroke:rgb(0.0, 138.56128015770724, 250.76166088685727);stroke-width:2\" />  </svg></g><g transform=\"translate(-2,0)\">  <svg x=\"53.358991360629176%\" y=\"40\" height=\"18\" overflow=\"visible\" width=\"30\">    <path d=\"M 8 -9 l -6 18 L 8 25\" fill=\"none\" style=\"stroke:rgb(0.0, 138.56128015770724, 250.76166088685727);stroke-width:2\" />  </svg></g><g transform=\"translate(-4,0)\">  <svg x=\"53.358991360629176%\" y=\"40\" height=\"18\" overflow=\"visible\" width=\"30\">    <path d=\"M 8 -9 l -6 18 L 8 25\" fill=\"none\" style=\"stroke:rgb(0.0, 138.56128015770724, 250.76166088685727);stroke-width:2\" />  </svg></g><g transform=\"translate(-8,0)\">  <svg x=\"67.57012915991221%\" y=\"40\" height=\"18\" overflow=\"visible\" width=\"30\">    <path d=\"M 8 -9 l -6 18 L 8 25\" fill=\"none\" style=\"stroke:rgb(0.0, 138.56128015770724, 250.76166088685727);stroke-width:2\" />  </svg></g><g transform=\"translate(-10,0)\">  <svg x=\"67.57012915991221%\" y=\"40\" height=\"18\" overflow=\"visible\" width=\"30\">    <path d=\"M 8 -9 l -6 18 L 8 25\" fill=\"none\" style=\"stroke:rgb(0.0, 138.56128015770724, 250.76166088685727);stroke-width:2\" />  </svg></g><g transform=\"translate(-12,0)\">  <svg x=\"67.57012915991221%\" y=\"40\" height=\"18\" overflow=\"visible\" width=\"30\">    <path d=\"M 8 -9 l -6 18 L 8 25\" fill=\"none\" style=\"stroke:rgb(0.0, 138.56128015770724, 250.76166088685727);stroke-width:2\" />  </svg></g><g transform=\"translate(-14,0)\">  <svg x=\"67.57012915991221%\" y=\"40\" height=\"18\" overflow=\"visible\" width=\"30\">    <path d=\"M 8 -9 l -6 18 L 8 25\" fill=\"none\" style=\"stroke:rgb(0.0, 138.56128015770724, 250.76166088685727);stroke-width:2\" />  </svg></g><g transform=\"translate(2,0)\">  <svg x=\"67.57012915991221%\" y=\"40\" height=\"18\" overflow=\"visible\" width=\"30\">    <path d=\"M 8 -9 l -6 18 L 8 25\" fill=\"none\" style=\"stroke:rgb(0.0, 138.56128015770724, 250.76166088685727);stroke-width:2\" />  </svg></g><g transform=\"translate(0,0)\">  <svg x=\"67.57012915991221%\" y=\"40\" height=\"18\" overflow=\"visible\" width=\"30\">    <path d=\"M 8 -9 l -6 18 L 8 25\" fill=\"none\" style=\"stroke:rgb(0.0, 138.56128015770724, 250.76166088685727);stroke-width:2\" />  </svg></g><g transform=\"translate(-2,0)\">  <svg x=\"67.57012915991221%\" y=\"40\" height=\"18\" overflow=\"visible\" width=\"30\">    <path d=\"M 8 -9 l -6 18 L 8 25\" fill=\"none\" style=\"stroke:rgb(0.0, 138.56128015770724, 250.76166088685727);stroke-width:2\" />  </svg></g><g transform=\"translate(-4,0)\">  <svg x=\"67.57012915991221%\" y=\"40\" height=\"18\" overflow=\"visible\" width=\"30\">    <path d=\"M 8 -9 l -6 18 L 8 25\" fill=\"none\" style=\"stroke:rgb(0.0, 138.56128015770724, 250.76166088685727);stroke-width:2\" />  </svg></g><g transform=\"translate(-8,0)\">  <svg x=\"75.64761674244211%\" y=\"40\" height=\"18\" overflow=\"visible\" width=\"30\">    <path d=\"M 8 -9 l -6 18 L 8 25\" fill=\"none\" style=\"stroke:rgb(0.0, 138.56128015770724, 250.76166088685727);stroke-width:2\" />  </svg></g><g transform=\"translate(-10,0)\">  <svg x=\"75.64761674244211%\" y=\"40\" height=\"18\" overflow=\"visible\" width=\"30\">    <path d=\"M 8 -9 l -6 18 L 8 25\" fill=\"none\" style=\"stroke:rgb(0.0, 138.56128015770724, 250.76166088685727);stroke-width:2\" />  </svg></g><g transform=\"translate(-12,0)\">  <svg x=\"75.64761674244211%\" y=\"40\" height=\"18\" overflow=\"visible\" width=\"30\">    <path d=\"M 8 -9 l -6 18 L 8 25\" fill=\"none\" style=\"stroke:rgb(0.0, 138.56128015770724, 250.76166088685727);stroke-width:2\" />  </svg></g><g transform=\"translate(-14,0)\">  <svg x=\"75.64761674244211%\" y=\"40\" height=\"18\" overflow=\"visible\" width=\"30\">    <path d=\"M 8 -9 l -6 18 L 8 25\" fill=\"none\" style=\"stroke:rgb(0.0, 138.56128015770724, 250.76166088685727);stroke-width:2\" />  </svg></g><g transform=\"translate(2,0)\">  <svg x=\"75.64761674244211%\" y=\"40\" height=\"18\" overflow=\"visible\" width=\"30\">    <path d=\"M 8 -9 l -6 18 L 8 25\" fill=\"none\" style=\"stroke:rgb(0.0, 138.56128015770724, 250.76166088685727);stroke-width:2\" />  </svg></g><g transform=\"translate(0,0)\">  <svg x=\"75.64761674244211%\" y=\"40\" height=\"18\" overflow=\"visible\" width=\"30\">    <path d=\"M 8 -9 l -6 18 L 8 25\" fill=\"none\" style=\"stroke:rgb(0.0, 138.56128015770724, 250.76166088685727);stroke-width:2\" />  </svg></g><g transform=\"translate(-2,0)\">  <svg x=\"75.64761674244211%\" y=\"40\" height=\"18\" overflow=\"visible\" width=\"30\">    <path d=\"M 8 -9 l -6 18 L 8 25\" fill=\"none\" style=\"stroke:rgb(0.0, 138.56128015770724, 250.76166088685727);stroke-width:2\" />  </svg></g><g transform=\"translate(-4,0)\">  <svg x=\"75.64761674244211%\" y=\"40\" height=\"18\" overflow=\"visible\" width=\"30\">    <path d=\"M 8 -9 l -6 18 L 8 25\" fill=\"none\" style=\"stroke:rgb(0.0, 138.56128015770724, 250.76166088685727);stroke-width:2\" />  </svg></g><g transform=\"translate(-8,0)\">  <svg x=\"77.91119926820531%\" y=\"40\" height=\"18\" overflow=\"visible\" width=\"30\">    <path d=\"M 8 -9 l -6 18 L 8 25\" fill=\"none\" style=\"stroke:rgb(0.0, 138.56128015770724, 250.76166088685727);stroke-width:2\" />  </svg></g><g transform=\"translate(-10,0)\">  <svg x=\"77.91119926820531%\" y=\"40\" height=\"18\" overflow=\"visible\" width=\"30\">    <path d=\"M 8 -9 l -6 18 L 8 25\" fill=\"none\" style=\"stroke:rgb(0.0, 138.56128015770724, 250.76166088685727);stroke-width:2\" />  </svg></g><g transform=\"translate(-12,0)\">  <svg x=\"77.91119926820531%\" y=\"40\" height=\"18\" overflow=\"visible\" width=\"30\">    <path d=\"M 8 -9 l -6 18 L 8 25\" fill=\"none\" style=\"stroke:rgb(0.0, 138.56128015770724, 250.76166088685727);stroke-width:2\" />  </svg></g><g transform=\"translate(-14,0)\">  <svg x=\"77.91119926820531%\" y=\"40\" height=\"18\" overflow=\"visible\" width=\"30\">    <path d=\"M 8 -9 l -6 18 L 8 25\" fill=\"none\" style=\"stroke:rgb(0.0, 138.56128015770724, 250.76166088685727);stroke-width:2\" />  </svg></g><g transform=\"translate(2,0)\">  <svg x=\"77.91119926820531%\" y=\"40\" height=\"18\" overflow=\"visible\" width=\"30\">    <path d=\"M 8 -9 l -6 18 L 8 25\" fill=\"none\" style=\"stroke:rgb(0.0, 138.56128015770724, 250.76166088685727);stroke-width:2\" />  </svg></g><g transform=\"translate(0,0)\">  <svg x=\"77.91119926820531%\" y=\"40\" height=\"18\" overflow=\"visible\" width=\"30\">    <path d=\"M 8 -9 l -6 18 L 8 25\" fill=\"none\" style=\"stroke:rgb(0.0, 138.56128015770724, 250.76166088685727);stroke-width:2\" />  </svg></g><g transform=\"translate(-2,0)\">  <svg x=\"77.91119926820531%\" y=\"40\" height=\"18\" overflow=\"visible\" width=\"30\">    <path d=\"M 8 -9 l -6 18 L 8 25\" fill=\"none\" style=\"stroke:rgb(0.0, 138.56128015770724, 250.76166088685727);stroke-width:2\" />  </svg></g><g transform=\"translate(-4,0)\">  <svg x=\"77.91119926820531%\" y=\"40\" height=\"18\" overflow=\"visible\" width=\"30\">    <path d=\"M 8 -9 l -6 18 L 8 25\" fill=\"none\" style=\"stroke:rgb(0.0, 138.56128015770724, 250.76166088685727);stroke-width:2\" />  </svg></g><g transform=\"translate(-8,0)\">  <svg x=\"79.86353002021548%\" y=\"40\" height=\"18\" overflow=\"visible\" width=\"30\">    <path d=\"M 8 -9 l -6 18 L 8 25\" fill=\"none\" style=\"stroke:rgb(0.0, 138.56128015770724, 250.76166088685727);stroke-width:2\" />  </svg></g><g transform=\"translate(-10,0)\">  <svg x=\"79.86353002021548%\" y=\"40\" height=\"18\" overflow=\"visible\" width=\"30\">    <path d=\"M 8 -9 l -6 18 L 8 25\" fill=\"none\" style=\"stroke:rgb(0.0, 138.56128015770724, 250.76166088685727);stroke-width:2\" />  </svg></g><g transform=\"translate(-12,0)\">  <svg x=\"79.86353002021548%\" y=\"40\" height=\"18\" overflow=\"visible\" width=\"30\">    <path d=\"M 8 -9 l -6 18 L 8 25\" fill=\"none\" style=\"stroke:rgb(0.0, 138.56128015770724, 250.76166088685727);stroke-width:2\" />  </svg></g><g transform=\"translate(-14,0)\">  <svg x=\"79.86353002021548%\" y=\"40\" height=\"18\" overflow=\"visible\" width=\"30\">    <path d=\"M 8 -9 l -6 18 L 8 25\" fill=\"none\" style=\"stroke:rgb(0.0, 138.56128015770724, 250.76166088685727);stroke-width:2\" />  </svg></g><g transform=\"translate(2,0)\">  <svg x=\"79.86353002021548%\" y=\"40\" height=\"18\" overflow=\"visible\" width=\"30\">    <path d=\"M 8 -9 l -6 18 L 8 25\" fill=\"none\" style=\"stroke:rgb(0.0, 138.56128015770724, 250.76166088685727);stroke-width:2\" />  </svg></g><g transform=\"translate(0,0)\">  <svg x=\"79.86353002021548%\" y=\"40\" height=\"18\" overflow=\"visible\" width=\"30\">    <path d=\"M 8 -9 l -6 18 L 8 25\" fill=\"none\" style=\"stroke:rgb(0.0, 138.56128015770724, 250.76166088685727);stroke-width:2\" />  </svg></g><g transform=\"translate(-2,0)\">  <svg x=\"79.86353002021548%\" y=\"40\" height=\"18\" overflow=\"visible\" width=\"30\">    <path d=\"M 8 -9 l -6 18 L 8 25\" fill=\"none\" style=\"stroke:rgb(0.0, 138.56128015770724, 250.76166088685727);stroke-width:2\" />  </svg></g><g transform=\"translate(-4,0)\">  <svg x=\"79.86353002021548%\" y=\"40\" height=\"18\" overflow=\"visible\" width=\"30\">    <path d=\"M 8 -9 l -6 18 L 8 25\" fill=\"none\" style=\"stroke:rgb(0.0, 138.56128015770724, 250.76166088685727);stroke-width:2\" />  </svg></g><g transform=\"translate(-8,0)\">  <svg x=\"81.45073023688889%\" y=\"40\" height=\"18\" overflow=\"visible\" width=\"30\">    <path d=\"M 8 -9 l -6 18 L 8 25\" fill=\"none\" style=\"stroke:rgb(0.0, 138.56128015770724, 250.76166088685727);stroke-width:2\" />  </svg></g><g transform=\"translate(-10,0)\">  <svg x=\"81.45073023688889%\" y=\"40\" height=\"18\" overflow=\"visible\" width=\"30\">    <path d=\"M 8 -9 l -6 18 L 8 25\" fill=\"none\" style=\"stroke:rgb(0.0, 138.56128015770724, 250.76166088685727);stroke-width:2\" />  </svg></g><g transform=\"translate(-12,0)\">  <svg x=\"81.45073023688889%\" y=\"40\" height=\"18\" overflow=\"visible\" width=\"30\">    <path d=\"M 8 -9 l -6 18 L 8 25\" fill=\"none\" style=\"stroke:rgb(0.0, 138.56128015770724, 250.76166088685727);stroke-width:2\" />  </svg></g><g transform=\"translate(-14,0)\">  <svg x=\"81.45073023688889%\" y=\"40\" height=\"18\" overflow=\"visible\" width=\"30\">    <path d=\"M 8 -9 l -6 18 L 8 25\" fill=\"none\" style=\"stroke:rgb(0.0, 138.56128015770724, 250.76166088685727);stroke-width:2\" />  </svg></g><g transform=\"translate(2,0)\">  <svg x=\"81.45073023688889%\" y=\"40\" height=\"18\" overflow=\"visible\" width=\"30\">    <path d=\"M 8 -9 l -6 18 L 8 25\" fill=\"none\" style=\"stroke:rgb(0.0, 138.56128015770724, 250.76166088685727);stroke-width:2\" />  </svg></g><g transform=\"translate(0,0)\">  <svg x=\"81.45073023688889%\" y=\"40\" height=\"18\" overflow=\"visible\" width=\"30\">    <path d=\"M 8 -9 l -6 18 L 8 25\" fill=\"none\" style=\"stroke:rgb(0.0, 138.56128015770724, 250.76166088685727);stroke-width:2\" />  </svg></g><g transform=\"translate(-2,0)\">  <svg x=\"81.45073023688889%\" y=\"40\" height=\"18\" overflow=\"visible\" width=\"30\">    <path d=\"M 8 -9 l -6 18 L 8 25\" fill=\"none\" style=\"stroke:rgb(0.0, 138.56128015770724, 250.76166088685727);stroke-width:2\" />  </svg></g><g transform=\"translate(-4,0)\">  <svg x=\"81.45073023688889%\" y=\"40\" height=\"18\" overflow=\"visible\" width=\"30\">    <path d=\"M 8 -9 l -6 18 L 8 25\" fill=\"none\" style=\"stroke:rgb(0.0, 138.56128015770724, 250.76166088685727);stroke-width:2\" />  </svg></g><g transform=\"translate(-8,0)\">  <svg x=\"82.35701758481387%\" y=\"40\" height=\"18\" overflow=\"visible\" width=\"30\">    <path d=\"M 8 -9 l -6 18 L 8 25\" fill=\"none\" style=\"stroke:rgb(0.0, 138.56128015770724, 250.76166088685727);stroke-width:2\" />  </svg></g><g transform=\"translate(-10,0)\">  <svg x=\"82.35701758481387%\" y=\"40\" height=\"18\" overflow=\"visible\" width=\"30\">    <path d=\"M 8 -9 l -6 18 L 8 25\" fill=\"none\" style=\"stroke:rgb(0.0, 138.56128015770724, 250.76166088685727);stroke-width:2\" />  </svg></g><g transform=\"translate(-12,0)\">  <svg x=\"82.35701758481387%\" y=\"40\" height=\"18\" overflow=\"visible\" width=\"30\">    <path d=\"M 8 -9 l -6 18 L 8 25\" fill=\"none\" style=\"stroke:rgb(0.0, 138.56128015770724, 250.76166088685727);stroke-width:2\" />  </svg></g><g transform=\"translate(-14,0)\">  <svg x=\"82.35701758481387%\" y=\"40\" height=\"18\" overflow=\"visible\" width=\"30\">    <path d=\"M 8 -9 l -6 18 L 8 25\" fill=\"none\" style=\"stroke:rgb(0.0, 138.56128015770724, 250.76166088685727);stroke-width:2\" />  </svg></g><g transform=\"translate(2,0)\">  <svg x=\"82.35701758481387%\" y=\"40\" height=\"18\" overflow=\"visible\" width=\"30\">    <path d=\"M 8 -9 l -6 18 L 8 25\" fill=\"none\" style=\"stroke:rgb(0.0, 138.56128015770724, 250.76166088685727);stroke-width:2\" />  </svg></g><g transform=\"translate(0,0)\">  <svg x=\"82.35701758481387%\" y=\"40\" height=\"18\" overflow=\"visible\" width=\"30\">    <path d=\"M 8 -9 l -6 18 L 8 25\" fill=\"none\" style=\"stroke:rgb(0.0, 138.56128015770724, 250.76166088685727);stroke-width:2\" />  </svg></g><g transform=\"translate(-2,0)\">  <svg x=\"82.35701758481387%\" y=\"40\" height=\"18\" overflow=\"visible\" width=\"30\">    <path d=\"M 8 -9 l -6 18 L 8 25\" fill=\"none\" style=\"stroke:rgb(0.0, 138.56128015770724, 250.76166088685727);stroke-width:2\" />  </svg></g><g transform=\"translate(-4,0)\">  <svg x=\"82.35701758481387%\" y=\"40\" height=\"18\" overflow=\"visible\" width=\"30\">    <path d=\"M 8 -9 l -6 18 L 8 25\" fill=\"none\" style=\"stroke:rgb(0.0, 138.56128015770724, 250.76166088685727);stroke-width:2\" />  </svg></g><g transform=\"translate(-8,0)\">  <svg x=\"83.0567255271582%\" y=\"40\" height=\"18\" overflow=\"visible\" width=\"30\">    <path d=\"M 8 -9 l -6 18 L 8 25\" fill=\"none\" style=\"stroke:rgb(0.0, 138.56128015770724, 250.76166088685727);stroke-width:2\" />  </svg></g><g transform=\"translate(-10,0)\">  <svg x=\"83.0567255271582%\" y=\"40\" height=\"18\" overflow=\"visible\" width=\"30\">    <path d=\"M 8 -9 l -6 18 L 8 25\" fill=\"none\" style=\"stroke:rgb(0.0, 138.56128015770724, 250.76166088685727);stroke-width:2\" />  </svg></g><g transform=\"translate(-12,0)\">  <svg x=\"83.0567255271582%\" y=\"40\" height=\"18\" overflow=\"visible\" width=\"30\">    <path d=\"M 8 -9 l -6 18 L 8 25\" fill=\"none\" style=\"stroke:rgb(0.0, 138.56128015770724, 250.76166088685727);stroke-width:2\" />  </svg></g><g transform=\"translate(-14,0)\">  <svg x=\"83.0567255271582%\" y=\"40\" height=\"18\" overflow=\"visible\" width=\"30\">    <path d=\"M 8 -9 l -6 18 L 8 25\" fill=\"none\" style=\"stroke:rgb(0.0, 138.56128015770724, 250.76166088685727);stroke-width:2\" />  </svg></g><g transform=\"translate(2,0)\">  <svg x=\"83.0567255271582%\" y=\"40\" height=\"18\" overflow=\"visible\" width=\"30\">    <path d=\"M 8 -9 l -6 18 L 8 25\" fill=\"none\" style=\"stroke:rgb(0.0, 138.56128015770724, 250.76166088685727);stroke-width:2\" />  </svg></g><g transform=\"translate(0,0)\">  <svg x=\"83.0567255271582%\" y=\"40\" height=\"18\" overflow=\"visible\" width=\"30\">    <path d=\"M 8 -9 l -6 18 L 8 25\" fill=\"none\" style=\"stroke:rgb(0.0, 138.56128015770724, 250.76166088685727);stroke-width:2\" />  </svg></g><g transform=\"translate(-2,0)\">  <svg x=\"83.0567255271582%\" y=\"40\" height=\"18\" overflow=\"visible\" width=\"30\">    <path d=\"M 8 -9 l -6 18 L 8 25\" fill=\"none\" style=\"stroke:rgb(0.0, 138.56128015770724, 250.76166088685727);stroke-width:2\" />  </svg></g><g transform=\"translate(-4,0)\">  <svg x=\"83.0567255271582%\" y=\"40\" height=\"18\" overflow=\"visible\" width=\"30\">    <path d=\"M 8 -9 l -6 18 L 8 25\" fill=\"none\" style=\"stroke:rgb(0.0, 138.56128015770724, 250.76166088685727);stroke-width:2\" />  </svg></g><g transform=\"translate(-8,0)\">  <svg x=\"83.70508412928906%\" y=\"40\" height=\"18\" overflow=\"visible\" width=\"30\">    <path d=\"M 8 -9 l -6 18 L 8 25\" fill=\"none\" style=\"stroke:rgb(0.0, 138.56128015770724, 250.76166088685727);stroke-width:2\" />  </svg></g><g transform=\"translate(-10,0)\">  <svg x=\"83.70508412928906%\" y=\"40\" height=\"18\" overflow=\"visible\" width=\"30\">    <path d=\"M 8 -9 l -6 18 L 8 25\" fill=\"none\" style=\"stroke:rgb(0.0, 138.56128015770724, 250.76166088685727);stroke-width:2\" />  </svg></g><g transform=\"translate(-12,0)\">  <svg x=\"83.70508412928906%\" y=\"40\" height=\"18\" overflow=\"visible\" width=\"30\">    <path d=\"M 8 -9 l -6 18 L 8 25\" fill=\"none\" style=\"stroke:rgb(0.0, 138.56128015770724, 250.76166088685727);stroke-width:2\" />  </svg></g><g transform=\"translate(-14,0)\">  <svg x=\"83.70508412928906%\" y=\"40\" height=\"18\" overflow=\"visible\" width=\"30\">    <path d=\"M 8 -9 l -6 18 L 8 25\" fill=\"none\" style=\"stroke:rgb(0.0, 138.56128015770724, 250.76166088685727);stroke-width:2\" />  </svg></g><g transform=\"translate(2,0)\">  <svg x=\"83.70508412928906%\" y=\"40\" height=\"18\" overflow=\"visible\" width=\"30\">    <path d=\"M 8 -9 l -6 18 L 8 25\" fill=\"none\" style=\"stroke:rgb(0.0, 138.56128015770724, 250.76166088685727);stroke-width:2\" />  </svg></g><g transform=\"translate(0,0)\">  <svg x=\"83.70508412928906%\" y=\"40\" height=\"18\" overflow=\"visible\" width=\"30\">    <path d=\"M 8 -9 l -6 18 L 8 25\" fill=\"none\" style=\"stroke:rgb(0.0, 138.56128015770724, 250.76166088685727);stroke-width:2\" />  </svg></g><g transform=\"translate(-2,0)\">  <svg x=\"83.70508412928906%\" y=\"40\" height=\"18\" overflow=\"visible\" width=\"30\">    <path d=\"M 8 -9 l -6 18 L 8 25\" fill=\"none\" style=\"stroke:rgb(0.0, 138.56128015770724, 250.76166088685727);stroke-width:2\" />  </svg></g><g transform=\"translate(-4,0)\">  <svg x=\"83.70508412928906%\" y=\"40\" height=\"18\" overflow=\"visible\" width=\"30\">    <path d=\"M 8 -9 l -6 18 L 8 25\" fill=\"none\" style=\"stroke:rgb(0.0, 138.56128015770724, 250.76166088685727);stroke-width:2\" />  </svg></g><g transform=\"translate(-8,0)\">  <svg x=\"84.09344162342012%\" y=\"40\" height=\"18\" overflow=\"visible\" width=\"30\">    <path d=\"M 8 -9 l -6 18 L 8 25\" fill=\"none\" style=\"stroke:rgb(0.0, 138.56128015770724, 250.76166088685727);stroke-width:2\" />  </svg></g><g transform=\"translate(-10,0)\">  <svg x=\"84.09344162342012%\" y=\"40\" height=\"18\" overflow=\"visible\" width=\"30\">    <path d=\"M 8 -9 l -6 18 L 8 25\" fill=\"none\" style=\"stroke:rgb(0.0, 138.56128015770724, 250.76166088685727);stroke-width:2\" />  </svg></g><g transform=\"translate(-12,0)\">  <svg x=\"84.09344162342012%\" y=\"40\" height=\"18\" overflow=\"visible\" width=\"30\">    <path d=\"M 8 -9 l -6 18 L 8 25\" fill=\"none\" style=\"stroke:rgb(0.0, 138.56128015770724, 250.76166088685727);stroke-width:2\" />  </svg></g><g transform=\"translate(-14,0)\">  <svg x=\"84.09344162342012%\" y=\"40\" height=\"18\" overflow=\"visible\" width=\"30\">    <path d=\"M 8 -9 l -6 18 L 8 25\" fill=\"none\" style=\"stroke:rgb(0.0, 138.56128015770724, 250.76166088685727);stroke-width:2\" />  </svg></g><g transform=\"translate(2,0)\">  <svg x=\"84.09344162342012%\" y=\"40\" height=\"18\" overflow=\"visible\" width=\"30\">    <path d=\"M 8 -9 l -6 18 L 8 25\" fill=\"none\" style=\"stroke:rgb(0.0, 138.56128015770724, 250.76166088685727);stroke-width:2\" />  </svg></g><g transform=\"translate(0,0)\">  <svg x=\"84.09344162342012%\" y=\"40\" height=\"18\" overflow=\"visible\" width=\"30\">    <path d=\"M 8 -9 l -6 18 L 8 25\" fill=\"none\" style=\"stroke:rgb(0.0, 138.56128015770724, 250.76166088685727);stroke-width:2\" />  </svg></g><g transform=\"translate(-2,0)\">  <svg x=\"84.09344162342012%\" y=\"40\" height=\"18\" overflow=\"visible\" width=\"30\">    <path d=\"M 8 -9 l -6 18 L 8 25\" fill=\"none\" style=\"stroke:rgb(0.0, 138.56128015770724, 250.76166088685727);stroke-width:2\" />  </svg></g><g transform=\"translate(-4,0)\">  <svg x=\"84.09344162342012%\" y=\"40\" height=\"18\" overflow=\"visible\" width=\"30\">    <path d=\"M 8 -9 l -6 18 L 8 25\" fill=\"none\" style=\"stroke:rgb(0.0, 138.56128015770724, 250.76166088685727);stroke-width:2\" />  </svg></g><rect transform=\"translate(0,0)\" x=\"15.351872170902459%\" y=\"40\" width=\"8\" height=\"18\" style=\"fill:rgb(0.0, 138.56128015770724, 250.76166088685727)\"/><g transform=\"translate(-6.0,0)\">  <svg x=\"84.22709053897988%\" y=\"40\" height=\"18\" overflow=\"visible\" width=\"30\">    <path d=\"M 8 -9 l -6 18 L 8 25 L 20 25 L 20 -9\" fill=\"#ffffff\" style=\"stroke:rgb(255,255,255);stroke-width:2\" />  </svg></g><g transform=\"translate(-6.0,0)\">  <svg x=\"53.358991360629176%\" y=\"40\" height=\"18\" overflow=\"visible\" width=\"30\">    <path d=\"M 8 -9 l -6 18 L 8 25\" fill=\"none\" style=\"stroke:rgb(208, 230, 250);stroke-width:2\" />  </svg></g><rect x=\"15.351872170902459%\" y=\"40\" height=\"20\" width=\"38.007119189726716%\"      onmouseover=\"document.getElementById('_tp_ickhtosfspmfimmfagor_ind_3').style.textDecoration = 'underline';document.getElementById('_fs_ickhtosfspmfimmfagor_ind_3').style.opacity = 1;document.getElementById('_fb_ickhtosfspmfimmfagor_ind_3').style.opacity = 1;\"      onmouseout=\"document.getElementById('_tp_ickhtosfspmfimmfagor_ind_3').style.textDecoration = 'none';document.getElementById('_fs_ickhtosfspmfimmfagor_ind_3').style.opacity = 0;document.getElementById('_fb_ickhtosfspmfimmfagor_ind_3').style.opacity = 0;\" style=\"fill:rgb(0,0,0,0)\" /><g transform=\"translate(-6.0,0)\">  <svg x=\"67.57012915991221%\" y=\"40\" height=\"18\" overflow=\"visible\" width=\"30\">    <path d=\"M 8 -9 l -6 18 L 8 25\" fill=\"none\" style=\"stroke:rgb(208, 230, 250);stroke-width:2\" />  </svg></g><rect x=\"53.358991360629176%\" y=\"40\" height=\"20\" width=\"14.211137799283037%\"      onmouseover=\"document.getElementById('_tp_ickhtosfspmfimmfagor_ind_2').style.textDecoration = 'underline';document.getElementById('_fs_ickhtosfspmfimmfagor_ind_2').style.opacity = 1;document.getElementById('_fb_ickhtosfspmfimmfagor_ind_2').style.opacity = 1;\"      onmouseout=\"document.getElementById('_tp_ickhtosfspmfimmfagor_ind_2').style.textDecoration = 'none';document.getElementById('_fs_ickhtosfspmfimmfagor_ind_2').style.opacity = 0;document.getElementById('_fb_ickhtosfspmfimmfagor_ind_2').style.opacity = 0;\" style=\"fill:rgb(0,0,0,0)\" /><g transform=\"translate(-6.0,0)\">  <svg x=\"75.64761674244211%\" y=\"40\" height=\"18\" overflow=\"visible\" width=\"30\">    <path d=\"M 8 -9 l -6 18 L 8 25\" fill=\"none\" style=\"stroke:rgb(208, 230, 250);stroke-width:2\" />  </svg></g><rect x=\"67.57012915991221%\" y=\"40\" height=\"20\" width=\"8.077487582529898%\"      onmouseover=\"document.getElementById('_tp_ickhtosfspmfimmfagor_ind_1').style.textDecoration = 'underline';document.getElementById('_fs_ickhtosfspmfimmfagor_ind_1').style.opacity = 1;document.getElementById('_fb_ickhtosfspmfimmfagor_ind_1').style.opacity = 1;\"      onmouseout=\"document.getElementById('_tp_ickhtosfspmfimmfagor_ind_1').style.textDecoration = 'none';document.getElementById('_fs_ickhtosfspmfimmfagor_ind_1').style.opacity = 0;document.getElementById('_fb_ickhtosfspmfimmfagor_ind_1').style.opacity = 0;\" style=\"fill:rgb(0,0,0,0)\" /><g transform=\"translate(-6.0,0)\">  <svg x=\"77.91119926820531%\" y=\"40\" height=\"18\" overflow=\"visible\" width=\"30\">    <path d=\"M 8 -9 l -6 18 L 8 25\" fill=\"none\" style=\"stroke:rgb(208, 230, 250);stroke-width:2\" />  </svg></g><rect x=\"75.64761674244211%\" y=\"40\" height=\"20\" width=\"2.263582525763198%\"      onmouseover=\"document.getElementById('_tp_ickhtosfspmfimmfagor_ind_5').style.textDecoration = 'underline';document.getElementById('_fs_ickhtosfspmfimmfagor_ind_5').style.opacity = 1;document.getElementById('_fb_ickhtosfspmfimmfagor_ind_5').style.opacity = 1;\"      onmouseout=\"document.getElementById('_tp_ickhtosfspmfimmfagor_ind_5').style.textDecoration = 'none';document.getElementById('_fs_ickhtosfspmfimmfagor_ind_5').style.opacity = 0;document.getElementById('_fb_ickhtosfspmfimmfagor_ind_5').style.opacity = 0;\" style=\"fill:rgb(0,0,0,0)\" /><g transform=\"translate(-6.0,0)\">  <svg x=\"79.86353002021548%\" y=\"40\" height=\"18\" overflow=\"visible\" width=\"30\">    <path d=\"M 8 -9 l -6 18 L 8 25\" fill=\"none\" style=\"stroke:rgb(208, 230, 250);stroke-width:2\" />  </svg></g><rect x=\"77.91119926820531%\" y=\"40\" height=\"20\" width=\"1.9523307520101696%\"      onmouseover=\"document.getElementById('_tp_ickhtosfspmfimmfagor_ind_9').style.textDecoration = 'underline';document.getElementById('_fs_ickhtosfspmfimmfagor_ind_9').style.opacity = 1;document.getElementById('_fb_ickhtosfspmfimmfagor_ind_9').style.opacity = 1;\"      onmouseout=\"document.getElementById('_tp_ickhtosfspmfimmfagor_ind_9').style.textDecoration = 'none';document.getElementById('_fs_ickhtosfspmfimmfagor_ind_9').style.opacity = 0;document.getElementById('_fb_ickhtosfspmfimmfagor_ind_9').style.opacity = 0;\" style=\"fill:rgb(0,0,0,0)\" /><g transform=\"translate(-6.0,0)\">  <svg x=\"81.45073023688889%\" y=\"40\" height=\"18\" overflow=\"visible\" width=\"30\">    <path d=\"M 8 -9 l -6 18 L 8 25\" fill=\"none\" style=\"stroke:rgb(208, 230, 250);stroke-width:2\" />  </svg></g><rect x=\"79.86353002021548%\" y=\"40\" height=\"20\" width=\"1.5872002166734092%\"      onmouseover=\"document.getElementById('_tp_ickhtosfspmfimmfagor_ind_0').style.textDecoration = 'underline';document.getElementById('_fs_ickhtosfspmfimmfagor_ind_0').style.opacity = 1;document.getElementById('_fb_ickhtosfspmfimmfagor_ind_0').style.opacity = 1;\"      onmouseout=\"document.getElementById('_tp_ickhtosfspmfimmfagor_ind_0').style.textDecoration = 'none';document.getElementById('_fs_ickhtosfspmfimmfagor_ind_0').style.opacity = 0;document.getElementById('_fb_ickhtosfspmfimmfagor_ind_0').style.opacity = 0;\" style=\"fill:rgb(0,0,0,0)\" /><g transform=\"translate(-6.0,0)\">  <svg x=\"82.35701758481387%\" y=\"40\" height=\"18\" overflow=\"visible\" width=\"30\">    <path d=\"M 8 -9 l -6 18 L 8 25\" fill=\"none\" style=\"stroke:rgb(208, 230, 250);stroke-width:2\" />  </svg></g><rect x=\"81.45073023688889%\" y=\"40\" height=\"20\" width=\"0.9062873479249873%\"      onmouseover=\"document.getElementById('_tp_ickhtosfspmfimmfagor_ind_18').style.textDecoration = 'underline';document.getElementById('_fs_ickhtosfspmfimmfagor_ind_18').style.opacity = 1;document.getElementById('_fb_ickhtosfspmfimmfagor_ind_18').style.opacity = 1;\"      onmouseout=\"document.getElementById('_tp_ickhtosfspmfimmfagor_ind_18').style.textDecoration = 'none';document.getElementById('_fs_ickhtosfspmfimmfagor_ind_18').style.opacity = 0;document.getElementById('_fb_ickhtosfspmfimmfagor_ind_18').style.opacity = 0;\" style=\"fill:rgb(0,0,0,0)\" /><g transform=\"translate(-6.0,0)\">  <svg x=\"83.0567255271582%\" y=\"40\" height=\"18\" overflow=\"visible\" width=\"30\">    <path d=\"M 8 -9 l -6 18 L 8 25\" fill=\"none\" style=\"stroke:rgb(208, 230, 250);stroke-width:2\" />  </svg></g><rect x=\"82.35701758481387%\" y=\"40\" height=\"20\" width=\"0.6997079423443324%\"      onmouseover=\"document.getElementById('_tp_ickhtosfspmfimmfagor_ind_6').style.textDecoration = 'underline';document.getElementById('_fs_ickhtosfspmfimmfagor_ind_6').style.opacity = 1;document.getElementById('_fb_ickhtosfspmfimmfagor_ind_6').style.opacity = 1;\"      onmouseout=\"document.getElementById('_tp_ickhtosfspmfimmfagor_ind_6').style.textDecoration = 'none';document.getElementById('_fs_ickhtosfspmfimmfagor_ind_6').style.opacity = 0;document.getElementById('_fb_ickhtosfspmfimmfagor_ind_6').style.opacity = 0;\" style=\"fill:rgb(0,0,0,0)\" /><g transform=\"translate(-6.0,0)\">  <svg x=\"83.70508412928906%\" y=\"40\" height=\"18\" overflow=\"visible\" width=\"30\">    <path d=\"M 8 -9 l -6 18 L 8 25\" fill=\"none\" style=\"stroke:rgb(208, 230, 250);stroke-width:2\" />  </svg></g><rect x=\"83.0567255271582%\" y=\"40\" height=\"20\" width=\"0.6483586021308554%\"      onmouseover=\"document.getElementById('_tp_ickhtosfspmfimmfagor_ind_4').style.textDecoration = 'underline';document.getElementById('_fs_ickhtosfspmfimmfagor_ind_4').style.opacity = 1;document.getElementById('_fb_ickhtosfspmfimmfagor_ind_4').style.opacity = 1;\"      onmouseout=\"document.getElementById('_tp_ickhtosfspmfimmfagor_ind_4').style.textDecoration = 'none';document.getElementById('_fs_ickhtosfspmfimmfagor_ind_4').style.opacity = 0;document.getElementById('_fb_ickhtosfspmfimmfagor_ind_4').style.opacity = 0;\" style=\"fill:rgb(0,0,0,0)\" /><g transform=\"translate(-6.0,0)\">  <svg x=\"84.09344162342012%\" y=\"40\" height=\"18\" overflow=\"visible\" width=\"30\">    <path d=\"M 8 -9 l -6 18 L 8 25\" fill=\"none\" style=\"stroke:rgb(208, 230, 250);stroke-width:2\" />  </svg></g><rect x=\"83.70508412928906%\" y=\"40\" height=\"20\" width=\"0.388357494131057%\"      onmouseover=\"document.getElementById('_tp_ickhtosfspmfimmfagor_ind_8').style.textDecoration = 'underline';document.getElementById('_fs_ickhtosfspmfimmfagor_ind_8').style.opacity = 1;document.getElementById('_fb_ickhtosfspmfimmfagor_ind_8').style.opacity = 1;\"      onmouseout=\"document.getElementById('_tp_ickhtosfspmfimmfagor_ind_8').style.textDecoration = 'none';document.getElementById('_fs_ickhtosfspmfimmfagor_ind_8').style.opacity = 0;document.getElementById('_fb_ickhtosfspmfimmfagor_ind_8').style.opacity = 0;\" style=\"fill:rgb(0,0,0,0)\" /><rect x=\"84.09344162342012%\" y=\"40\" height=\"20\" width=\"0.13364891555976044%\"      onmouseover=\"document.getElementById('_tp_ickhtosfspmfimmfagor_ind_7').style.textDecoration = 'underline';document.getElementById('_fs_ickhtosfspmfimmfagor_ind_7').style.opacity = 1;document.getElementById('_fb_ickhtosfspmfimmfagor_ind_7').style.opacity = 1;\"      onmouseout=\"document.getElementById('_tp_ickhtosfspmfimmfagor_ind_7').style.textDecoration = 'none';document.getElementById('_fs_ickhtosfspmfimmfagor_ind_7').style.opacity = 0;document.getElementById('_fb_ickhtosfspmfimmfagor_ind_7').style.opacity = 0;\" style=\"fill:rgb(0,0,0,0)\" /></svg><div align='center'><div style=\"color: rgb(120,120,120); font-size: 12px; margin-top: -15px;\">inputs</div><div style='display: inline; text-align: center;'\n    ><div style='display: none; color: #999; padding-top: 0px; font-size: 12px;'>-0.023</div\n        ><div id='_tp_ickhtosfspmfimmfagor_ind_0'\n            style='display: inline; background: rgba(30.0, 136.0, 229.0, 0.03830461477520309); border-radius: 3px; padding: 0px'\n            onclick=\"\n            if (this.previousSibling.style.display == 'none') {\n                this.previousSibling.style.display = 'block';\n                this.parentNode.style.display = 'inline-block';\n            } else {\n                this.previousSibling.style.display = 'none';\n                this.parentNode.style.display = 'inline';\n            }\"\n            onmouseover=\"document.getElementById('_fb_ickhtosfspmfimmfagor_ind_0').style.opacity = 1; document.getElementById('_fs_ickhtosfspmfimmfagor_ind_0').style.opacity = 1;\"\n            onmouseout=\"document.getElementById('_fb_ickhtosfspmfimmfagor_ind_0').style.opacity = 0; document.getElementById('_fs_ickhtosfspmfimmfagor_ind_0').style.opacity = 0;\"\n        ></div></div><div style='display: inline; text-align: center;'\n    ><div style='display: none; color: #999; padding-top: 0px; font-size: 12px;'>-0.117 / 4</div\n        ><div id='_tp_ickhtosfspmfimmfagor_ind_1'\n            style='display: inline; background: rgba(30.0, 136.0, 229.0, 0.21172509407803525); border-radius: 3px; padding: 0px'\n            onclick=\"\n            if (this.previousSibling.style.display == 'none') {\n                this.previousSibling.style.display = 'block';\n                this.parentNode.style.display = 'inline-block';\n            } else {\n                this.previousSibling.style.display = 'none';\n                this.parentNode.style.display = 'inline';\n            }\"\n            onmouseover=\"document.getElementById('_fb_ickhtosfspmfimmfagor_ind_1').style.opacity = 1; document.getElementById('_fs_ickhtosfspmfimmfagor_ind_1').style.opacity = 1;\"\n            onmouseout=\"document.getElementById('_fb_ickhtosfspmfimmfagor_ind_1').style.opacity = 0; document.getElementById('_fs_ickhtosfspmfimmfagor_ind_1').style.opacity = 0;\"\n        >MADRID </div></div><div style='display: inline; text-align: center;'\n    ><div style='display: none; color: #999; padding-top: 0px; font-size: 12px;'>-0.205</div\n        ><div id='_tp_ickhtosfspmfimmfagor_ind_2'\n            style='display: inline; background: rgba(30.0, 136.0, 229.0, 0.36938007526242816); border-radius: 3px; padding: 0px'\n            onclick=\"\n            if (this.previousSibling.style.display == 'none') {\n                this.previousSibling.style.display = 'block';\n                this.parentNode.style.display = 'inline-block';\n            } else {\n                this.previousSibling.style.display = 'none';\n                this.parentNode.style.display = 'inline';\n            }\"\n            onmouseover=\"document.getElementById('_fb_ickhtosfspmfimmfagor_ind_2').style.opacity = 1; document.getElementById('_fs_ickhtosfspmfimmfagor_ind_2').style.opacity = 1;\"\n            onmouseout=\"document.getElementById('_fb_ickhtosfspmfimmfagor_ind_2').style.opacity = 0; document.getElementById('_fs_ickhtosfspmfimmfagor_ind_2').style.opacity = 0;\"\n        >(</div></div><div style='display: inline; text-align: center;'\n    ><div style='display: none; color: #999; padding-top: 0px; font-size: 12px;'>-0.548 / 2</div\n        ><div id='_tp_ickhtosfspmfimmfagor_ind_3'\n            style='display: inline; background: rgba(30.0, 136.0, 229.0, 1.0); border-radius: 3px; padding: 0px'\n            onclick=\"\n            if (this.previousSibling.style.display == 'none') {\n                this.previousSibling.style.display = 'block';\n                this.parentNode.style.display = 'inline-block';\n            } else {\n                this.previousSibling.style.display = 'none';\n                this.parentNode.style.display = 'inline';\n            }\"\n            onmouseover=\"document.getElementById('_fb_ickhtosfspmfimmfagor_ind_3').style.opacity = 1; document.getElementById('_fs_ickhtosfspmfimmfagor_ind_3').style.opacity = 1;\"\n            onmouseout=\"document.getElementById('_fb_ickhtosfspmfimmfagor_ind_3').style.opacity = 0; document.getElementById('_fs_ickhtosfspmfimmfagor_ind_3').style.opacity = 0;\"\n        >Reuters) </div></div><div style='display: inline; text-align: center;'\n    ><div style='display: none; color: #999; padding-top: 0px; font-size: 12px;'>-0.009</div\n        ><div id='_tp_ickhtosfspmfimmfagor_ind_4'\n            style='display: inline; background: rgba(30.0, 136.0, 229.0, 0.014656367597544028); border-radius: 3px; padding: 0px'\n            onclick=\"\n            if (this.previousSibling.style.display == 'none') {\n                this.previousSibling.style.display = 'block';\n                this.parentNode.style.display = 'inline-block';\n            } else {\n                this.previousSibling.style.display = 'none';\n                this.parentNode.style.display = 'inline';\n            }\"\n            onmouseover=\"document.getElementById('_fb_ickhtosfspmfimmfagor_ind_4').style.opacity = 1; document.getElementById('_fs_ickhtosfspmfimmfagor_ind_4').style.opacity = 1;\"\n            onmouseout=\"document.getElementById('_fb_ickhtosfspmfimmfagor_ind_4').style.opacity = 0; document.getElementById('_fs_ickhtosfspmfimmfagor_ind_4').style.opacity = 0;\"\n        >- </div></div><div style='display: inline; text-align: center;'\n    ><div style='display: none; color: #999; padding-top: 0px; font-size: 12px;'>-0.033 / 3</div\n        ><div id='_tp_ickhtosfspmfimmfagor_ind_5'\n            style='display: inline; background: rgba(30.0, 136.0, 229.0, 0.05407011289364222); border-radius: 3px; padding: 0px'\n            onclick=\"\n            if (this.previousSibling.style.display == 'none') {\n                this.previousSibling.style.display = 'block';\n                this.parentNode.style.display = 'inline-block';\n            } else {\n                this.previousSibling.style.display = 'none';\n                this.parentNode.style.display = 'inline';\n            }\"\n            onmouseover=\"document.getElementById('_fb_ickhtosfspmfimmfagor_ind_5').style.opacity = 1; document.getElementById('_fs_ickhtosfspmfimmfagor_ind_5').style.opacity = 1;\"\n            onmouseout=\"document.getElementById('_fb_ickhtosfspmfimmfagor_ind_5').style.opacity = 0; document.getElementById('_fs_ickhtosfspmfimmfagor_ind_5').style.opacity = 0;\"\n        >Imprisoned </div></div><div style='display: inline; text-align: center;'\n    ><div style='display: none; color: #999; padding-top: 0px; font-size: 12px;'>-0.01 / 4</div\n        ><div id='_tp_ickhtosfspmfimmfagor_ind_6'\n            style='display: inline; background: rgba(30.0, 136.0, 229.0, 0.014656367597544028); border-radius: 3px; padding: 0px'\n            onclick=\"\n            if (this.previousSibling.style.display == 'none') {\n                this.previousSibling.style.display = 'block';\n                this.parentNode.style.display = 'inline-block';\n            } else {\n                this.previousSibling.style.display = 'none';\n                this.parentNode.style.display = 'inline';\n            }\"\n            onmouseover=\"document.getElementById('_fb_ickhtosfspmfimmfagor_ind_6').style.opacity = 1; document.getElementById('_fs_ickhtosfspmfimmfagor_ind_6').style.opacity = 1;\"\n            onmouseout=\"document.getElementById('_fb_ickhtosfspmfimmfagor_ind_6').style.opacity = 0; document.getElementById('_fs_ickhtosfspmfimmfagor_ind_6').style.opacity = 0;\"\n        >former vice-president </div></div><div style='display: inline; text-align: center;'\n    ><div style='display: none; color: #999; padding-top: 0px; font-size: 12px;'>-0.002 / 16</div\n        ><div id='_tp_ickhtosfspmfimmfagor_ind_7'\n            style='display: inline; background: rgba(54.70588235294111, 122.49411764705886, 213.40784313725496, 0.0); border-radius: 3px; padding: 0px'\n            onclick=\"\n            if (this.previousSibling.style.display == 'none') {\n                this.previousSibling.style.display = 'block';\n                this.parentNode.style.display = 'inline-block';\n            } else {\n                this.previousSibling.style.display = 'none';\n                this.parentNode.style.display = 'inline';\n            }\"\n            onmouseover=\"document.getElementById('_fb_ickhtosfspmfimmfagor_ind_7').style.opacity = 1; document.getElementById('_fs_ickhtosfspmfimmfagor_ind_7').style.opacity = 1;\"\n            onmouseout=\"document.getElementById('_fb_ickhtosfspmfimmfagor_ind_7').style.opacity = 0; document.getElementById('_fs_ickhtosfspmfimmfagor_ind_7').style.opacity = 0;\"\n        >of Catalonia Oriol Junqueras and three other jailed members of his ERC </div></div><div style='display: inline; text-align: center;'\n    ><div style='display: none; color: #999; padding-top: 0px; font-size: 12px;'>-0.006 / 8</div\n        ><div id='_tp_ickhtosfspmfimmfagor_ind_8'\n            style='display: inline; background: rgba(30.0, 136.0, 229.0, 0.006773618538324436); border-radius: 3px; padding: 0px'\n            onclick=\"\n            if (this.previousSibling.style.display == 'none') {\n                this.previousSibling.style.display = 'block';\n                this.parentNode.style.display = 'inline-block';\n            } else {\n                this.previousSibling.style.display = 'none';\n                this.parentNode.style.display = 'inline';\n            }\"\n            onmouseover=\"document.getElementById('_fb_ickhtosfspmfimmfagor_ind_8').style.opacity = 1; document.getElementById('_fs_ickhtosfspmfimmfagor_ind_8').style.opacity = 1;\"\n            onmouseout=\"document.getElementById('_fb_ickhtosfspmfimmfagor_ind_8').style.opacity = 0; document.getElementById('_fs_ickhtosfspmfimmfagor_ind_8').style.opacity = 0;\"\n        >party will abide by a ruling giving Madrid </div></div><div style='display: inline; text-align: center;'\n    ><div style='display: none; color: #999; padding-top: 0px; font-size: 12px;'>-0.028 / 5</div\n        ><div id='_tp_ickhtosfspmfimmfagor_ind_9'\n            style='display: inline; background: rgba(30.0, 136.0, 229.0, 0.04618736383442258); border-radius: 3px; padding: 0px'\n            onclick=\"\n            if (this.previousSibling.style.display == 'none') {\n                this.previousSibling.style.display = 'block';\n                this.parentNode.style.display = 'inline-block';\n            } else {\n                this.previousSibling.style.display = 'none';\n                this.parentNode.style.display = 'inline';\n            }\"\n            onmouseover=\"document.getElementById('_fb_ickhtosfspmfimmfagor_ind_9').style.opacity = 1; document.getElementById('_fs_ickhtosfspmfimmfagor_ind_9').style.opacity = 1;\"\n            onmouseout=\"document.getElementById('_fb_ickhtosfspmfimmfagor_ind_9').style.opacity = 0; document.getElementById('_fs_ickhtosfspmfimmfagor_ind_9').style.opacity = 0;\"\n        >control over the region, </div></div><div style='display: inline; text-align: center;'\n    ><div style='display: none; color: #999; padding-top: 0px; font-size: 12px;'>0.01 / 50</div\n        ><div id='_tp_ickhtosfspmfimmfagor_ind_10'\n            style='display: inline; background: rgba(255.0, 13.0, 87.0, 0.014656367597544035); border-radius: 3px; padding: 0px'\n            onclick=\"\n            if (this.previousSibling.style.display == 'none') {\n                this.previousSibling.style.display = 'block';\n                this.parentNode.style.display = 'inline-block';\n            } else {\n                this.previousSibling.style.display = 'none';\n                this.parentNode.style.display = 'inline';\n            }\"\n            onmouseover=\"document.getElementById('_fb_ickhtosfspmfimmfagor_ind_10').style.opacity = 1; document.getElementById('_fs_ickhtosfspmfimmfagor_ind_10').style.opacity = 1;\"\n            onmouseout=\"document.getElementById('_fb_ickhtosfspmfimmfagor_ind_10').style.opacity = 0; document.getElementById('_fs_ickhtosfspmfimmfagor_ind_10').style.opacity = 0;\"\n        >their defense lawyer said on Tuesday. Junqueras and seven other former members of the Catalonia regional cabinet were jailed on Nov. 2 pending trial, accused of sedition, rebellion and misappropriation of funds after the local government declared independence from Spain. </div></div><div style='display: inline; text-align: center;'\n    ><div style='display: none; color: #999; padding-top: 0px; font-size: 12px;'>0.016 / 127</div\n        ><div id='_tp_ickhtosfspmfimmfagor_ind_11'\n            style='display: inline; background: rgba(255.0, 13.0, 87.0, 0.02253911665676371); border-radius: 3px; padding: 0px'\n            onclick=\"\n            if (this.previousSibling.style.display == 'none') {\n                this.previousSibling.style.display = 'block';\n                this.parentNode.style.display = 'inline-block';\n            } else {\n                this.previousSibling.style.display = 'none';\n                this.parentNode.style.display = 'inline';\n            }\"\n            onmouseover=\"document.getElementById('_fb_ickhtosfspmfimmfagor_ind_11').style.opacity = 1; document.getElementById('_fs_ickhtosfspmfimmfagor_ind_11').style.opacity = 1;\"\n            onmouseout=\"document.getElementById('_fb_ickhtosfspmfimmfagor_ind_11').style.opacity = 0; document.getElementById('_fs_ickhtosfspmfimmfagor_ind_11').style.opacity = 0;\"\n        >Catalonia s secession drive has tipped Spain into its worst political crisis in decades and prompted Madrid to sack the Catalan government, led by Carles Puigdemont, and call a regional election for Dec. 21. The acceptance of Madrid s rule over the region could prompt the Supreme Court to overrule the decision to hold the defendants in custody while they await trial, and release them in time to campaign for the election. All four jailed ERC members - Junqueras, former foreign affairs chief Raul Romeva, justice affairs head Carles Mundo and work chief Dolors Bassa - have been named as candidates in the election. </div></div><div style='display: inline; text-align: center;'\n    ><div style='display: none; color: #999; padding-top: 0px; font-size: 12px;'>0.013 / 90</div\n        ><div id='_tp_ickhtosfspmfimmfagor_ind_12'\n            style='display: inline; background: rgba(255.0, 13.0, 87.0, 0.02253911665676371); border-radius: 3px; padding: 0px'\n            onclick=\"\n            if (this.previousSibling.style.display == 'none') {\n                this.previousSibling.style.display = 'block';\n                this.parentNode.style.display = 'inline-block';\n            } else {\n                this.previousSibling.style.display = 'none';\n                this.parentNode.style.display = 'inline';\n            }\"\n            onmouseover=\"document.getElementById('_fb_ickhtosfspmfimmfagor_ind_12').style.opacity = 1; document.getElementById('_fs_ickhtosfspmfimmfagor_ind_12').style.opacity = 1;\"\n            onmouseout=\"document.getElementById('_fb_ickhtosfspmfimmfagor_ind_12').style.opacity = 0; document.getElementById('_fs_ickhtosfspmfimmfagor_ind_12').style.opacity = 0;\"\n        >The defendants did not agree with the application of Article 155, which stripped the regional government of its power after the secessionist ruling, but accepted it, their lawyer said in a statement to the Supreme Court.  My charges accepted, and accept, the application of 155 ... but have done so from a position of deep political and judicial discrepancy,  the lawyer said. The lawyer added that the statement does not mean that they renounce their political convictions. </div></div><div style='display: inline; text-align: center;'\n    ><div style='display: none; color: #999; padding-top: 0px; font-size: 12px;'>0.002 / 24</div\n        ><div id='_tp_ickhtosfspmfimmfagor_ind_13'\n            style='display: inline; background: rgba(230.2941176470614, 26.505882352939775, 102.59215686274348, 0.0); border-radius: 3px; padding: 0px'\n            onclick=\"\n            if (this.previousSibling.style.display == 'none') {\n                this.previousSibling.style.display = 'block';\n                this.parentNode.style.display = 'inline-block';\n            } else {\n                this.previousSibling.style.display = 'none';\n                this.parentNode.style.display = 'inline';\n            }\"\n            onmouseover=\"document.getElementById('_fb_ickhtosfspmfimmfagor_ind_13').style.opacity = 1; document.getElementById('_fs_ickhtosfspmfimmfagor_ind_13').style.opacity = 1;\"\n            onmouseout=\"document.getElementById('_fb_ickhtosfspmfimmfagor_ind_13').style.opacity = 0; document.getElementById('_fs_ickhtosfspmfimmfagor_ind_13').style.opacity = 0;\"\n        > Former leader of Catalonia Puigdemont, who has been in self-imposed exile in Belgium since declaring independence, </div></div><div style='display: inline; text-align: center;'\n    ><div style='display: none; color: #999; padding-top: 0px; font-size: 12px;'>0.006 / 8</div\n        ><div id='_tp_ickhtosfspmfimmfagor_ind_14'\n            style='display: inline; background: rgba(255.0, 13.0, 87.0, 0.00677361853832443); border-radius: 3px; padding: 0px'\n            onclick=\"\n            if (this.previousSibling.style.display == 'none') {\n                this.previousSibling.style.display = 'block';\n                this.parentNode.style.display = 'inline-block';\n            } else {\n                this.previousSibling.style.display = 'none';\n                this.parentNode.style.display = 'inline';\n            }\"\n            onmouseover=\"document.getElementById('_fb_ickhtosfspmfimmfagor_ind_14').style.opacity = 1; document.getElementById('_fs_ickhtosfspmfimmfagor_ind_14').style.opacity = 1;\"\n            onmouseout=\"document.getElementById('_fb_ickhtosfspmfimmfagor_ind_14').style.opacity = 0; document.getElementById('_fs_ickhtosfspmfimmfagor_ind_14').style.opacity = 0;\"\n        >said on Saturday the election would be most </div></div><div style='display: inline; text-align: center;'\n    ><div style='display: none; color: #999; padding-top: 0px; font-size: 12px;'>0.027 / 7</div\n        ><div id='_tp_ickhtosfspmfimmfagor_ind_15'\n            style='display: inline; background: rgba(255.0, 13.0, 87.0, 0.04618736383442265); border-radius: 3px; padding: 0px'\n            onclick=\"\n            if (this.previousSibling.style.display == 'none') {\n                this.previousSibling.style.display = 'block';\n                this.parentNode.style.display = 'inline-block';\n            } else {\n                this.previousSibling.style.display = 'none';\n                this.parentNode.style.display = 'inline';\n            }\"\n            onmouseover=\"document.getElementById('_fb_ickhtosfspmfimmfagor_ind_15').style.opacity = 1; document.getElementById('_fs_ickhtosfspmfimmfagor_ind_15').style.opacity = 1;\"\n            onmouseout=\"document.getElementById('_fb_ickhtosfspmfimmfagor_ind_15').style.opacity = 0; document.getElementById('_fs_ickhtosfspmfimmfagor_ind_15').style.opacity = 0;\"\n        >important in the region s history. </div></div><div style='display: inline; text-align: center;'\n    ><div style='display: none; color: #999; padding-top: 0px; font-size: 12px;'>0.008 / 15</div\n        ><div id='_tp_ickhtosfspmfimmfagor_ind_16'\n            style='display: inline; background: rgba(255.0, 13.0, 87.0, 0.00677361853832443); border-radius: 3px; padding: 0px'\n            onclick=\"\n            if (this.previousSibling.style.display == 'none') {\n                this.previousSibling.style.display = 'block';\n                this.parentNode.style.display = 'inline-block';\n            } else {\n                this.previousSibling.style.display = 'none';\n                this.parentNode.style.display = 'inline';\n            }\"\n            onmouseover=\"document.getElementById('_fb_ickhtosfspmfimmfagor_ind_16').style.opacity = 1; document.getElementById('_fs_ickhtosfspmfimmfagor_ind_16').style.opacity = 1;\"\n            onmouseout=\"document.getElementById('_fb_ickhtosfspmfimmfagor_ind_16').style.opacity = 0; document.getElementById('_fs_ickhtosfspmfimmfagor_ind_16').style.opacity = 0;\"\n        > Turnout for the election is expected to reach a record 80 percent as </div></div><div style='display: inline; text-align: center;'\n    ><div style='display: none; color: #999; padding-top: 0px; font-size: 12px;'>0.028 / 15</div\n        ><div id='_tp_ickhtosfspmfimmfagor_ind_17'\n            style='display: inline; background: rgba(255.0, 13.0, 87.0, 0.04618736383442265); border-radius: 3px; padding: 0px'\n            onclick=\"\n            if (this.previousSibling.style.display == 'none') {\n                this.previousSibling.style.display = 'block';\n                this.parentNode.style.display = 'inline-block';\n            } else {\n                this.previousSibling.style.display = 'none';\n                this.parentNode.style.display = 'inline';\n            }\"\n            onmouseover=\"document.getElementById('_fb_ickhtosfspmfimmfagor_ind_17').style.opacity = 1; document.getElementById('_fs_ickhtosfspmfimmfagor_ind_17').style.opacity = 1;\"\n            onmouseout=\"document.getElementById('_fb_ickhtosfspmfimmfagor_ind_17').style.opacity = 0; document.getElementById('_fs_ickhtosfspmfimmfagor_ind_17').style.opacity = 0;\"\n        >the deeply divisive issue of the region s secession prompts participation from both sides. </div></div><div style='display: inline; text-align: center;'\n    ><div style='display: none; color: #999; padding-top: 0px; font-size: 12px;'>-0.013 / 58</div\n        ><div id='_tp_ickhtosfspmfimmfagor_ind_18'\n            style='display: inline; background: rgba(30.0, 136.0, 229.0, 0.022539116656763607); border-radius: 3px; padding: 0px'\n            onclick=\"\n            if (this.previousSibling.style.display == 'none') {\n                this.previousSibling.style.display = 'block';\n                this.parentNode.style.display = 'inline-block';\n            } else {\n                this.previousSibling.style.display = 'none';\n                this.parentNode.style.display = 'inline';\n            }\"\n            onmouseover=\"document.getElementById('_fb_ickhtosfspmfimmfagor_ind_18').style.opacity = 1; document.getElementById('_fs_ickhtosfspmfimmfagor_ind_18').style.opacity = 1;\"\n            onmouseout=\"document.getElementById('_fb_ickhtosfspmfimmfagor_ind_18').style.opacity = 0; document.getElementById('_fs_ickhtosfspmfimmfagor_ind_18').style.opacity = 0;\"\n        >Less than a quarter of Catalans want to continue with a plan to claim independence from Spain, according to a poll published in El Pais newspaper on Monday. However, the same poll showed the vote evenly split between pro- and anti-independence parties in the upcoming regional election. </div></div></div></div><div id='_tp_objszupjktclxkgebukf_output_0_zoom' style='display: none;'><svg width=\"100%\" height=\"80px\"><line x1=\"0\" y1=\"33\" x2=\"100%\" y2=\"33\" style=\"stroke:rgb(150,150,150);stroke-width:1\" /><line x1=\"46.87451814336099%\" y1=\"33\" x2=\"46.87451814336099%\" y2=\"37\" style=\"stroke:rgb(150,150,150);stroke-width:1\" /><text x=\"46.87451814336099%\" y=\"27\" font-size=\"12px\" fill=\"rgb(120,120,120)\" dominant-baseline=\"bottom\" text-anchor=\"middle\">0.4</text><line x1=\"31.790800218443948%\" y1=\"33\" x2=\"31.790800218443948%\" y2=\"37\" style=\"stroke:rgb(150,150,150);stroke-width:1\" /><text x=\"31.790800218443948%\" y=\"27\" font-size=\"12px\" fill=\"rgb(120,120,120)\" dominant-baseline=\"bottom\" text-anchor=\"middle\">0.2</text><line x1=\"16.70708229352692%\" y1=\"33\" x2=\"16.70708229352692%\" y2=\"37\" style=\"stroke:rgb(150,150,150);stroke-width:1\" /><text x=\"16.70708229352692%\" y=\"27\" font-size=\"12px\" fill=\"rgb(120,120,120)\" dominant-baseline=\"bottom\" text-anchor=\"middle\">0</text><line x1=\"61.95823606827801%\" y1=\"33\" x2=\"61.95823606827801%\" y2=\"37\" style=\"stroke:rgb(150,150,150);stroke-width:1\" /><text x=\"61.95823606827801%\" y=\"27\" font-size=\"12px\" fill=\"rgb(120,120,120)\" dominant-baseline=\"bottom\" text-anchor=\"middle\">0.6</text><line x1=\"77.04195399319504%\" y1=\"33\" x2=\"77.04195399319504%\" y2=\"37\" style=\"stroke:rgb(150,150,150);stroke-width:1\" /><text x=\"77.04195399319504%\" y=\"27\" font-size=\"12px\" fill=\"rgb(120,120,120)\" dominant-baseline=\"bottom\" text-anchor=\"middle\">0.8</text><line x1=\"92.12567191811208%\" y1=\"33\" x2=\"92.12567191811208%\" y2=\"37\" style=\"stroke:rgb(150,150,150);stroke-width:1\" /><text x=\"92.12567191811208%\" y=\"27\" font-size=\"12px\" fill=\"rgb(120,120,120)\" dominant-baseline=\"bottom\" text-anchor=\"middle\">1</text><line x1=\"83.29213216009343%\" y1=\"33\" x2=\"83.29213216009343%\" y2=\"37\" style=\"stroke:rgb(150,150,150);stroke-width:1\" /><text x=\"83.29213216009343%\" y=\"27\" font-size=\"13px\" style=\"stroke:#ffffff;stroke-width:8px;\" fill=\"rgb(255,255,255)\" dominant-baseline=\"bottom\" text-anchor=\"middle\">0.882873</text><text x=\"83.29213216009343%\" y=\"27\" font-size=\"12px\" fill=\"rgb(120,120,120)\" dominant-baseline=\"bottom\" text-anchor=\"middle\">0.882873</text><text x=\"83.29213216009343%\" y=\"10\" font-size=\"12px\" fill=\"rgb(120,120,120)\" dominant-baseline=\"bottom\" text-anchor=\"middle\">base value</text><line x1=\"16.707867085720675%\" y1=\"33\" x2=\"16.707867085720675%\" y2=\"37\" style=\"stroke:rgb(150,150,150);stroke-width:1\" /><text x=\"16.707867085720675%\" y=\"27\" font-size=\"13px\" style=\"stroke:#ffffff;stroke-width:8px;\" font-weight=\"bold\" fill=\"rgb(255,255,255)\" dominant-baseline=\"bottom\" text-anchor=\"middle\">1.04058e-05</text><text x=\"16.707867085720675%\" y=\"27\" font-size=\"13px\" font-weight=\"bold\" fill=\"rgb(0,0,0)\" dominant-baseline=\"bottom\" text-anchor=\"middle\">1.04058e-05</text><text x=\"16.707867085720675%\" y=\"10\" font-size=\"12px\" fill=\"rgb(120,120,120)\" dominant-baseline=\"bottom\" text-anchor=\"middle\">f<tspan baseline-shift=\"sub\" font-size=\"8px\">Fake</tspan>(inputs)</text><rect x=\"8.333334687400484%\" width=\"8.374532398320193%\" y=\"40\" height=\"18\" style=\"fill:rgb(255.0, 0.0, 81.08083606031792); stroke-width:0; stroke:rgb(0,0,0)\" /><line x1=\"14.576653898647184%\" x2=\"16.707867085720675%\" y1=\"60\" y2=\"60\" id=\"_fb_ndxrxphuclianojnemfc_ind_17\" style=\"stroke:rgb(255.0, 0.0, 81.08083606031792);stroke-width:2; opacity: 0\"/><text x=\"15.64226049218393%\" y=\"71\" font-size=\"12px\" id=\"_fs_ndxrxphuclianojnemfc_ind_17\" fill=\"rgb(255.0, 0.0, 81.08083606031792)\" style=\"opacity: 0\" dominant-baseline=\"middle\" text-anchor=\"middle\">0.028</text><svg x=\"14.576653898647184%\" y=\"40\" height=\"20\" width=\"2.1312131870734916%\">  <svg x=\"0\" y=\"0\" width=\"100%\" height=\"100%\">    <text x=\"50%\" y=\"9\" font-size=\"12px\" fill=\"rgb(255,255,255)\" dominant-baseline=\"middle\" text-anchor=\"middle\">the deeply divisive issue of the region s secession prompts participation from both sides.</text>  </svg></svg><line x1=\"12.52797825841642%\" x2=\"14.576653898647184%\" y1=\"60\" y2=\"60\" id=\"_fb_ndxrxphuclianojnemfc_ind_15\" style=\"stroke:rgb(255.0, 0.0, 81.08083606031792);stroke-width:2; opacity: 0\"/><text x=\"13.552316078531803%\" y=\"71\" font-size=\"12px\" id=\"_fs_ndxrxphuclianojnemfc_ind_15\" fill=\"rgb(255.0, 0.0, 81.08083606031792)\" style=\"opacity: 0\" dominant-baseline=\"middle\" text-anchor=\"middle\">0.027</text><svg x=\"12.52797825841642%\" y=\"40\" height=\"20\" width=\"2.0486756402307638%\">  <svg x=\"0\" y=\"0\" width=\"100%\" height=\"100%\">    <text x=\"50%\" y=\"9\" font-size=\"12px\" fill=\"rgb(255,255,255)\" dominant-baseline=\"middle\" text-anchor=\"middle\">important in the region s history.</text>  </svg></svg><line x1=\"11.332008401804414%\" x2=\"12.52797825841642%\" y1=\"60\" y2=\"60\" id=\"_fb_ndxrxphuclianojnemfc_ind_11\" style=\"stroke:rgb(255.0, 0.0, 81.08083606031792);stroke-width:2; opacity: 0\"/><text x=\"11.929993330110417%\" y=\"71\" font-size=\"12px\" id=\"_fs_ndxrxphuclianojnemfc_ind_11\" fill=\"rgb(255.0, 0.0, 81.08083606031792)\" style=\"opacity: 0\" dominant-baseline=\"middle\" text-anchor=\"middle\">0.016</text><svg x=\"11.332008401804414%\" y=\"40\" height=\"20\" width=\"1.195969856612006%\">  <svg x=\"0\" y=\"0\" width=\"100%\" height=\"100%\">    <text x=\"50%\" y=\"9\" font-size=\"12px\" fill=\"rgb(255,255,255)\" dominant-baseline=\"middle\" text-anchor=\"middle\">Catalonia s secession drive has tipped Spain into its worst political crisis in decades and prompted Madrid to sack the Catalan government, led by Carles Puigdemont, and call a regional election for Dec. 21. The acceptance of Madrid s rule over the region could prompt the Supreme Court to overrule the decision to hold the defendants in custody while they await trial, and release them in time to campaign for the election. All four jailed ERC members - Junqueras, former foreign affairs chief Raul Romeva, justice affairs head Carles Mundo and work chief Dolors Bassa - have been named as candidates in the election.</text>  </svg></svg><line x1=\"10.319845671268169%\" x2=\"11.332008401804414%\" y1=\"60\" y2=\"60\" id=\"_fb_ndxrxphuclianojnemfc_ind_12\" style=\"stroke:rgb(255.0, 0.0, 81.08083606031792);stroke-width:2; opacity: 0\"/><text x=\"10.825927036536292%\" y=\"71\" font-size=\"12px\" id=\"_fs_ndxrxphuclianojnemfc_ind_12\" fill=\"rgb(255.0, 0.0, 81.08083606031792)\" style=\"opacity: 0\" dominant-baseline=\"middle\" text-anchor=\"middle\">0.013</text><svg x=\"10.319845671268169%\" y=\"40\" height=\"20\" width=\"1.0121627305362448%\">  <svg x=\"0\" y=\"0\" width=\"100%\" height=\"100%\">    <text x=\"50%\" y=\"9\" font-size=\"12px\" fill=\"rgb(255,255,255)\" dominant-baseline=\"middle\" text-anchor=\"middle\">The defendants did not agree with the application of Article 155, which stripped the regional government of its power after the secessionist ruling, but accepted it, their lawyer said in a statement to the Supreme Court.  My charges accepted, and accept, the application of 155 ... but have done so from a position of deep political and judicial discrepancy,  the lawyer said. The lawyer added that the statement does not mean that they renounce their political convictions.</text>  </svg></svg><line x1=\"9.555925134610229%\" x2=\"10.319845671268169%\" y1=\"60\" y2=\"60\" id=\"_fb_ndxrxphuclianojnemfc_ind_10\" style=\"stroke:rgb(255.0, 0.0, 81.08083606031792);stroke-width:2; opacity: 0\"/><text x=\"9.937885402939198%\" y=\"71\" font-size=\"12px\" id=\"_fs_ndxrxphuclianojnemfc_ind_10\" fill=\"rgb(255.0, 0.0, 81.08083606031792)\" style=\"opacity: 0\" dominant-baseline=\"middle\" text-anchor=\"middle\">0.01</text><svg x=\"9.555925134610229%\" y=\"40\" height=\"20\" width=\"0.76392053665794%\">  <svg x=\"0\" y=\"0\" width=\"100%\" height=\"100%\">    <text x=\"50%\" y=\"9\" font-size=\"12px\" fill=\"rgb(255,255,255)\" dominant-baseline=\"middle\" text-anchor=\"middle\">their defense lawyer said on Tuesday. Junqueras and seven other former members of the Catalonia regional cabinet were jailed on Nov. 2 pending trial, accused of sedition, rebellion and misappropriation of funds after the local government declared independence from Spain.</text>  </svg></svg><line x1=\"8.985936894461796%\" x2=\"9.555925134610229%\" y1=\"60\" y2=\"60\" id=\"_fb_ndxrxphuclianojnemfc_ind_16\" style=\"stroke:rgb(255.0, 0.0, 81.08083606031792);stroke-width:2; opacity: 0\"/><text x=\"9.270931014536012%\" y=\"71\" font-size=\"12px\" id=\"_fs_ndxrxphuclianojnemfc_ind_16\" fill=\"rgb(255.0, 0.0, 81.08083606031792)\" style=\"opacity: 0\" dominant-baseline=\"middle\" text-anchor=\"middle\">0.008</text><svg x=\"8.985936894461796%\" y=\"40\" height=\"20\" width=\"0.5699882401484331%\">  <svg x=\"0\" y=\"0\" width=\"100%\" height=\"100%\">    <text x=\"50%\" y=\"9\" font-size=\"12px\" fill=\"rgb(255,255,255)\" dominant-baseline=\"middle\" text-anchor=\"middle\">Turnout for the election is expected to reach a record 80 percent as</text>  </svg></svg><line x1=\"8.517452145403812%\" x2=\"8.985936894461796%\" y1=\"60\" y2=\"60\" id=\"_fb_ndxrxphuclianojnemfc_ind_14\" style=\"stroke:rgb(255.0, 0.0, 81.08083606031792);stroke-width:2; opacity: 0\"/><text x=\"8.751694519932805%\" y=\"71\" font-size=\"12px\" id=\"_fs_ndxrxphuclianojnemfc_ind_14\" fill=\"rgb(255.0, 0.0, 81.08083606031792)\" style=\"opacity: 0\" dominant-baseline=\"middle\" text-anchor=\"middle\">0.006</text><svg x=\"8.517452145403812%\" y=\"40\" height=\"20\" width=\"0.46848474905798376%\">  <svg x=\"0\" y=\"0\" width=\"100%\" height=\"100%\">    <text x=\"50%\" y=\"9\" font-size=\"12px\" fill=\"rgb(255,255,255)\" dominant-baseline=\"middle\" text-anchor=\"middle\">said on Saturday the election would be most</text>  </svg></svg><line x1=\"8.333334687400484%\" x2=\"8.517452145403812%\" y1=\"60\" y2=\"60\" id=\"_fb_ndxrxphuclianojnemfc_ind_13\" style=\"stroke:rgb(255.0, 0.0, 81.08083606031792);stroke-width:2; opacity: 0\"/><text x=\"8.425393416402148%\" y=\"71\" font-size=\"12px\" id=\"_fs_ndxrxphuclianojnemfc_ind_13\" fill=\"rgb(255.0, 0.0, 81.08083606031792)\" style=\"opacity: 0\" dominant-baseline=\"middle\" text-anchor=\"middle\">0.002</text><svg x=\"8.333334687400484%\" y=\"40\" height=\"20\" width=\"0.18411745800332824%\">  <svg x=\"0\" y=\"0\" width=\"100%\" height=\"100%\">    <text x=\"50%\" y=\"9\" font-size=\"12px\" fill=\"rgb(255,255,255)\" dominant-baseline=\"middle\" text-anchor=\"middle\">Former leader of Catalonia Puigdemont, who has been in self-imposed exile in Belgium since declaring independence,</text>  </svg></svg><g transform=\"translate(0,0)\">  <svg x=\"14.576653898647184%\" y=\"40\" height=\"18\" overflow=\"visible\" width=\"30\">    <path d=\"M 0 -9 l 6 18 L 0 25\" fill=\"none\" style=\"stroke:rgb(255.0, 0.0, 81.08083606031792);stroke-width:2\" />  </svg></g><g transform=\"translate(2,0)\">  <svg x=\"14.576653898647184%\" y=\"40\" height=\"18\" overflow=\"visible\" width=\"30\">    <path d=\"M 0 -9 l 6 18 L 0 25\" fill=\"none\" style=\"stroke:rgb(255.0, 0.0, 81.08083606031792);stroke-width:2\" />  </svg></g><g transform=\"translate(4,0)\">  <svg x=\"14.576653898647184%\" y=\"40\" height=\"18\" overflow=\"visible\" width=\"30\">    <path d=\"M 0 -9 l 6 18 L 0 25\" fill=\"none\" style=\"stroke:rgb(255.0, 0.0, 81.08083606031792);stroke-width:2\" />  </svg></g><g transform=\"translate(6,0)\">  <svg x=\"14.576653898647184%\" y=\"40\" height=\"18\" overflow=\"visible\" width=\"30\">    <path d=\"M 0 -9 l 6 18 L 0 25\" fill=\"none\" style=\"stroke:rgb(255.0, 0.0, 81.08083606031792);stroke-width:2\" />  </svg></g><g transform=\"translate(-8,0)\">  <svg x=\"14.576653898647184%\" y=\"40\" height=\"18\" overflow=\"visible\" width=\"30\">    <path d=\"M 0 -9 l 6 18 L 0 25\" fill=\"none\" style=\"stroke:rgb(255.0, 0.0, 81.08083606031792);stroke-width:2\" />  </svg></g><g transform=\"translate(-6,0)\">  <svg x=\"14.576653898647184%\" y=\"40\" height=\"18\" overflow=\"visible\" width=\"30\">    <path d=\"M 0 -9 l 6 18 L 0 25\" fill=\"none\" style=\"stroke:rgb(255.0, 0.0, 81.08083606031792);stroke-width:2\" />  </svg></g><g transform=\"translate(-4,0)\">  <svg x=\"14.576653898647184%\" y=\"40\" height=\"18\" overflow=\"visible\" width=\"30\">    <path d=\"M 0 -9 l 6 18 L 0 25\" fill=\"none\" style=\"stroke:rgb(255.0, 0.0, 81.08083606031792);stroke-width:2\" />  </svg></g><g transform=\"translate(-2,0)\">  <svg x=\"14.576653898647184%\" y=\"40\" height=\"18\" overflow=\"visible\" width=\"30\">    <path d=\"M 0 -9 l 6 18 L 0 25\" fill=\"none\" style=\"stroke:rgb(255.0, 0.0, 81.08083606031792);stroke-width:2\" />  </svg></g><g transform=\"translate(0,0)\">  <svg x=\"12.52797825841642%\" y=\"40\" height=\"18\" overflow=\"visible\" width=\"30\">    <path d=\"M 0 -9 l 6 18 L 0 25\" fill=\"none\" style=\"stroke:rgb(255.0, 0.0, 81.08083606031792);stroke-width:2\" />  </svg></g><g transform=\"translate(2,0)\">  <svg x=\"12.52797825841642%\" y=\"40\" height=\"18\" overflow=\"visible\" width=\"30\">    <path d=\"M 0 -9 l 6 18 L 0 25\" fill=\"none\" style=\"stroke:rgb(255.0, 0.0, 81.08083606031792);stroke-width:2\" />  </svg></g><g transform=\"translate(4,0)\">  <svg x=\"12.52797825841642%\" y=\"40\" height=\"18\" overflow=\"visible\" width=\"30\">    <path d=\"M 0 -9 l 6 18 L 0 25\" fill=\"none\" style=\"stroke:rgb(255.0, 0.0, 81.08083606031792);stroke-width:2\" />  </svg></g><g transform=\"translate(6,0)\">  <svg x=\"12.52797825841642%\" y=\"40\" height=\"18\" overflow=\"visible\" width=\"30\">    <path d=\"M 0 -9 l 6 18 L 0 25\" fill=\"none\" style=\"stroke:rgb(255.0, 0.0, 81.08083606031792);stroke-width:2\" />  </svg></g><g transform=\"translate(-8,0)\">  <svg x=\"12.52797825841642%\" y=\"40\" height=\"18\" overflow=\"visible\" width=\"30\">    <path d=\"M 0 -9 l 6 18 L 0 25\" fill=\"none\" style=\"stroke:rgb(255.0, 0.0, 81.08083606031792);stroke-width:2\" />  </svg></g><g transform=\"translate(-6,0)\">  <svg x=\"12.52797825841642%\" y=\"40\" height=\"18\" overflow=\"visible\" width=\"30\">    <path d=\"M 0 -9 l 6 18 L 0 25\" fill=\"none\" style=\"stroke:rgb(255.0, 0.0, 81.08083606031792);stroke-width:2\" />  </svg></g><g transform=\"translate(-4,0)\">  <svg x=\"12.52797825841642%\" y=\"40\" height=\"18\" overflow=\"visible\" width=\"30\">    <path d=\"M 0 -9 l 6 18 L 0 25\" fill=\"none\" style=\"stroke:rgb(255.0, 0.0, 81.08083606031792);stroke-width:2\" />  </svg></g><g transform=\"translate(-2,0)\">  <svg x=\"12.52797825841642%\" y=\"40\" height=\"18\" overflow=\"visible\" width=\"30\">    <path d=\"M 0 -9 l 6 18 L 0 25\" fill=\"none\" style=\"stroke:rgb(255.0, 0.0, 81.08083606031792);stroke-width:2\" />  </svg></g><g transform=\"translate(0,0)\">  <svg x=\"11.332008401804414%\" y=\"40\" height=\"18\" overflow=\"visible\" width=\"30\">    <path d=\"M 0 -9 l 6 18 L 0 25\" fill=\"none\" style=\"stroke:rgb(255.0, 0.0, 81.08083606031792);stroke-width:2\" />  </svg></g><g transform=\"translate(2,0)\">  <svg x=\"11.332008401804414%\" y=\"40\" height=\"18\" overflow=\"visible\" width=\"30\">    <path d=\"M 0 -9 l 6 18 L 0 25\" fill=\"none\" style=\"stroke:rgb(255.0, 0.0, 81.08083606031792);stroke-width:2\" />  </svg></g><g transform=\"translate(4,0)\">  <svg x=\"11.332008401804414%\" y=\"40\" height=\"18\" overflow=\"visible\" width=\"30\">    <path d=\"M 0 -9 l 6 18 L 0 25\" fill=\"none\" style=\"stroke:rgb(255.0, 0.0, 81.08083606031792);stroke-width:2\" />  </svg></g><g transform=\"translate(6,0)\">  <svg x=\"11.332008401804414%\" y=\"40\" height=\"18\" overflow=\"visible\" width=\"30\">    <path d=\"M 0 -9 l 6 18 L 0 25\" fill=\"none\" style=\"stroke:rgb(255.0, 0.0, 81.08083606031792);stroke-width:2\" />  </svg></g><g transform=\"translate(-8,0)\">  <svg x=\"11.332008401804414%\" y=\"40\" height=\"18\" overflow=\"visible\" width=\"30\">    <path d=\"M 0 -9 l 6 18 L 0 25\" fill=\"none\" style=\"stroke:rgb(255.0, 0.0, 81.08083606031792);stroke-width:2\" />  </svg></g><g transform=\"translate(-6,0)\">  <svg x=\"11.332008401804414%\" y=\"40\" height=\"18\" overflow=\"visible\" width=\"30\">    <path d=\"M 0 -9 l 6 18 L 0 25\" fill=\"none\" style=\"stroke:rgb(255.0, 0.0, 81.08083606031792);stroke-width:2\" />  </svg></g><g transform=\"translate(-4,0)\">  <svg x=\"11.332008401804414%\" y=\"40\" height=\"18\" overflow=\"visible\" width=\"30\">    <path d=\"M 0 -9 l 6 18 L 0 25\" fill=\"none\" style=\"stroke:rgb(255.0, 0.0, 81.08083606031792);stroke-width:2\" />  </svg></g><g transform=\"translate(-2,0)\">  <svg x=\"11.332008401804414%\" y=\"40\" height=\"18\" overflow=\"visible\" width=\"30\">    <path d=\"M 0 -9 l 6 18 L 0 25\" fill=\"none\" style=\"stroke:rgb(255.0, 0.0, 81.08083606031792);stroke-width:2\" />  </svg></g><g transform=\"translate(0,0)\">  <svg x=\"10.319845671268169%\" y=\"40\" height=\"18\" overflow=\"visible\" width=\"30\">    <path d=\"M 0 -9 l 6 18 L 0 25\" fill=\"none\" style=\"stroke:rgb(255.0, 0.0, 81.08083606031792);stroke-width:2\" />  </svg></g><g transform=\"translate(2,0)\">  <svg x=\"10.319845671268169%\" y=\"40\" height=\"18\" overflow=\"visible\" width=\"30\">    <path d=\"M 0 -9 l 6 18 L 0 25\" fill=\"none\" style=\"stroke:rgb(255.0, 0.0, 81.08083606031792);stroke-width:2\" />  </svg></g><g transform=\"translate(4,0)\">  <svg x=\"10.319845671268169%\" y=\"40\" height=\"18\" overflow=\"visible\" width=\"30\">    <path d=\"M 0 -9 l 6 18 L 0 25\" fill=\"none\" style=\"stroke:rgb(255.0, 0.0, 81.08083606031792);stroke-width:2\" />  </svg></g><g transform=\"translate(6,0)\">  <svg x=\"10.319845671268169%\" y=\"40\" height=\"18\" overflow=\"visible\" width=\"30\">    <path d=\"M 0 -9 l 6 18 L 0 25\" fill=\"none\" style=\"stroke:rgb(255.0, 0.0, 81.08083606031792);stroke-width:2\" />  </svg></g><g transform=\"translate(-8,0)\">  <svg x=\"10.319845671268169%\" y=\"40\" height=\"18\" overflow=\"visible\" width=\"30\">    <path d=\"M 0 -9 l 6 18 L 0 25\" fill=\"none\" style=\"stroke:rgb(255.0, 0.0, 81.08083606031792);stroke-width:2\" />  </svg></g><g transform=\"translate(-6,0)\">  <svg x=\"10.319845671268169%\" y=\"40\" height=\"18\" overflow=\"visible\" width=\"30\">    <path d=\"M 0 -9 l 6 18 L 0 25\" fill=\"none\" style=\"stroke:rgb(255.0, 0.0, 81.08083606031792);stroke-width:2\" />  </svg></g><g transform=\"translate(-4,0)\">  <svg x=\"10.319845671268169%\" y=\"40\" height=\"18\" overflow=\"visible\" width=\"30\">    <path d=\"M 0 -9 l 6 18 L 0 25\" fill=\"none\" style=\"stroke:rgb(255.0, 0.0, 81.08083606031792);stroke-width:2\" />  </svg></g><g transform=\"translate(-2,0)\">  <svg x=\"10.319845671268169%\" y=\"40\" height=\"18\" overflow=\"visible\" width=\"30\">    <path d=\"M 0 -9 l 6 18 L 0 25\" fill=\"none\" style=\"stroke:rgb(255.0, 0.0, 81.08083606031792);stroke-width:2\" />  </svg></g><g transform=\"translate(0,0)\">  <svg x=\"9.555925134610229%\" y=\"40\" height=\"18\" overflow=\"visible\" width=\"30\">    <path d=\"M 0 -9 l 6 18 L 0 25\" fill=\"none\" style=\"stroke:rgb(255.0, 0.0, 81.08083606031792);stroke-width:2\" />  </svg></g><g transform=\"translate(2,0)\">  <svg x=\"9.555925134610229%\" y=\"40\" height=\"18\" overflow=\"visible\" width=\"30\">    <path d=\"M 0 -9 l 6 18 L 0 25\" fill=\"none\" style=\"stroke:rgb(255.0, 0.0, 81.08083606031792);stroke-width:2\" />  </svg></g><g transform=\"translate(4,0)\">  <svg x=\"9.555925134610229%\" y=\"40\" height=\"18\" overflow=\"visible\" width=\"30\">    <path d=\"M 0 -9 l 6 18 L 0 25\" fill=\"none\" style=\"stroke:rgb(255.0, 0.0, 81.08083606031792);stroke-width:2\" />  </svg></g><g transform=\"translate(6,0)\">  <svg x=\"9.555925134610229%\" y=\"40\" height=\"18\" overflow=\"visible\" width=\"30\">    <path d=\"M 0 -9 l 6 18 L 0 25\" fill=\"none\" style=\"stroke:rgb(255.0, 0.0, 81.08083606031792);stroke-width:2\" />  </svg></g><g transform=\"translate(-8,0)\">  <svg x=\"9.555925134610229%\" y=\"40\" height=\"18\" overflow=\"visible\" width=\"30\">    <path d=\"M 0 -9 l 6 18 L 0 25\" fill=\"none\" style=\"stroke:rgb(255.0, 0.0, 81.08083606031792);stroke-width:2\" />  </svg></g><g transform=\"translate(-6,0)\">  <svg x=\"9.555925134610229%\" y=\"40\" height=\"18\" overflow=\"visible\" width=\"30\">    <path d=\"M 0 -9 l 6 18 L 0 25\" fill=\"none\" style=\"stroke:rgb(255.0, 0.0, 81.08083606031792);stroke-width:2\" />  </svg></g><g transform=\"translate(-4,0)\">  <svg x=\"9.555925134610229%\" y=\"40\" height=\"18\" overflow=\"visible\" width=\"30\">    <path d=\"M 0 -9 l 6 18 L 0 25\" fill=\"none\" style=\"stroke:rgb(255.0, 0.0, 81.08083606031792);stroke-width:2\" />  </svg></g><g transform=\"translate(-2,0)\">  <svg x=\"9.555925134610229%\" y=\"40\" height=\"18\" overflow=\"visible\" width=\"30\">    <path d=\"M 0 -9 l 6 18 L 0 25\" fill=\"none\" style=\"stroke:rgb(255.0, 0.0, 81.08083606031792);stroke-width:2\" />  </svg></g><g transform=\"translate(0,0)\">  <svg x=\"8.985936894461796%\" y=\"40\" height=\"18\" overflow=\"visible\" width=\"30\">    <path d=\"M 0 -9 l 6 18 L 0 25\" fill=\"none\" style=\"stroke:rgb(255.0, 0.0, 81.08083606031792);stroke-width:2\" />  </svg></g><g transform=\"translate(2,0)\">  <svg x=\"8.985936894461796%\" y=\"40\" height=\"18\" overflow=\"visible\" width=\"30\">    <path d=\"M 0 -9 l 6 18 L 0 25\" fill=\"none\" style=\"stroke:rgb(255.0, 0.0, 81.08083606031792);stroke-width:2\" />  </svg></g><g transform=\"translate(4,0)\">  <svg x=\"8.985936894461796%\" y=\"40\" height=\"18\" overflow=\"visible\" width=\"30\">    <path d=\"M 0 -9 l 6 18 L 0 25\" fill=\"none\" style=\"stroke:rgb(255.0, 0.0, 81.08083606031792);stroke-width:2\" />  </svg></g><g transform=\"translate(6,0)\">  <svg x=\"8.985936894461796%\" y=\"40\" height=\"18\" overflow=\"visible\" width=\"30\">    <path d=\"M 0 -9 l 6 18 L 0 25\" fill=\"none\" style=\"stroke:rgb(255.0, 0.0, 81.08083606031792);stroke-width:2\" />  </svg></g><g transform=\"translate(-8,0)\">  <svg x=\"8.985936894461796%\" y=\"40\" height=\"18\" overflow=\"visible\" width=\"30\">    <path d=\"M 0 -9 l 6 18 L 0 25\" fill=\"none\" style=\"stroke:rgb(255.0, 0.0, 81.08083606031792);stroke-width:2\" />  </svg></g><g transform=\"translate(-6,0)\">  <svg x=\"8.985936894461796%\" y=\"40\" height=\"18\" overflow=\"visible\" width=\"30\">    <path d=\"M 0 -9 l 6 18 L 0 25\" fill=\"none\" style=\"stroke:rgb(255.0, 0.0, 81.08083606031792);stroke-width:2\" />  </svg></g><g transform=\"translate(-4,0)\">  <svg x=\"8.985936894461796%\" y=\"40\" height=\"18\" overflow=\"visible\" width=\"30\">    <path d=\"M 0 -9 l 6 18 L 0 25\" fill=\"none\" style=\"stroke:rgb(255.0, 0.0, 81.08083606031792);stroke-width:2\" />  </svg></g><g transform=\"translate(-2,0)\">  <svg x=\"8.985936894461796%\" y=\"40\" height=\"18\" overflow=\"visible\" width=\"30\">    <path d=\"M 0 -9 l 6 18 L 0 25\" fill=\"none\" style=\"stroke:rgb(255.0, 0.0, 81.08083606031792);stroke-width:2\" />  </svg></g><g transform=\"translate(0,0)\">  <svg x=\"8.517452145403812%\" y=\"40\" height=\"18\" overflow=\"visible\" width=\"30\">    <path d=\"M 0 -9 l 6 18 L 0 25\" fill=\"none\" style=\"stroke:rgb(255.0, 0.0, 81.08083606031792);stroke-width:2\" />  </svg></g><g transform=\"translate(2,0)\">  <svg x=\"8.517452145403812%\" y=\"40\" height=\"18\" overflow=\"visible\" width=\"30\">    <path d=\"M 0 -9 l 6 18 L 0 25\" fill=\"none\" style=\"stroke:rgb(255.0, 0.0, 81.08083606031792);stroke-width:2\" />  </svg></g><g transform=\"translate(4,0)\">  <svg x=\"8.517452145403812%\" y=\"40\" height=\"18\" overflow=\"visible\" width=\"30\">    <path d=\"M 0 -9 l 6 18 L 0 25\" fill=\"none\" style=\"stroke:rgb(255.0, 0.0, 81.08083606031792);stroke-width:2\" />  </svg></g><g transform=\"translate(6,0)\">  <svg x=\"8.517452145403812%\" y=\"40\" height=\"18\" overflow=\"visible\" width=\"30\">    <path d=\"M 0 -9 l 6 18 L 0 25\" fill=\"none\" style=\"stroke:rgb(255.0, 0.0, 81.08083606031792);stroke-width:2\" />  </svg></g><g transform=\"translate(-8,0)\">  <svg x=\"8.517452145403812%\" y=\"40\" height=\"18\" overflow=\"visible\" width=\"30\">    <path d=\"M 0 -9 l 6 18 L 0 25\" fill=\"none\" style=\"stroke:rgb(255.0, 0.0, 81.08083606031792);stroke-width:2\" />  </svg></g><g transform=\"translate(-6,0)\">  <svg x=\"8.517452145403812%\" y=\"40\" height=\"18\" overflow=\"visible\" width=\"30\">    <path d=\"M 0 -9 l 6 18 L 0 25\" fill=\"none\" style=\"stroke:rgb(255.0, 0.0, 81.08083606031792);stroke-width:2\" />  </svg></g><g transform=\"translate(-4,0)\">  <svg x=\"8.517452145403812%\" y=\"40\" height=\"18\" overflow=\"visible\" width=\"30\">    <path d=\"M 0 -9 l 6 18 L 0 25\" fill=\"none\" style=\"stroke:rgb(255.0, 0.0, 81.08083606031792);stroke-width:2\" />  </svg></g><g transform=\"translate(-2,0)\">  <svg x=\"8.517452145403812%\" y=\"40\" height=\"18\" overflow=\"visible\" width=\"30\">    <path d=\"M 0 -9 l 6 18 L 0 25\" fill=\"none\" style=\"stroke:rgb(255.0, 0.0, 81.08083606031792);stroke-width:2\" />  </svg></g><rect transform=\"translate(-8,0)\" x=\"16.707867085720675%\" y=\"40\" width=\"8\" height=\"18\" style=\"fill:rgb(255.0, 0.0, 81.08083606031792)\"/><g transform=\"translate(-11.5,0)\">  <svg x=\"8.333334687400484%\" y=\"40\" height=\"18\" overflow=\"visible\" width=\"30\">    <path d=\"M 10 -9 l 6 18 L 10 25 L 0 25 L 0 -9\" fill=\"#ffffff\" style=\"stroke:rgb(255,255,255);stroke-width:2\" />  </svg></g><g transform=\"translate(-1.5,0)\">  <svg x=\"16.707867085720675%\" y=\"40\" height=\"18\" overflow=\"visible\" width=\"30\">    <path d=\"M 0 -9 l 6 18 L 0 25\" fill=\"none\" style=\"stroke:rgb(255, 195, 213);stroke-width:2\" />  </svg></g><rect x=\"14.576653898647184%\" y=\"40\" height=\"20\" width=\"2.1312131870734916%\"      onmouseover=\"document.getElementById('_tp_ndxrxphuclianojnemfc_ind_17').style.textDecoration = 'underline';document.getElementById('_fs_ndxrxphuclianojnemfc_ind_17').style.opacity = 1;document.getElementById('_fb_ndxrxphuclianojnemfc_ind_17').style.opacity = 1;\"      onmouseout=\"document.getElementById('_tp_ndxrxphuclianojnemfc_ind_17').style.textDecoration = 'none';document.getElementById('_fs_ndxrxphuclianojnemfc_ind_17').style.opacity = 0;document.getElementById('_fb_ndxrxphuclianojnemfc_ind_17').style.opacity = 0;\" style=\"fill:rgb(0,0,0,0)\" /><g transform=\"translate(-1.5,0)\">  <svg x=\"14.576653898647184%\" y=\"40\" height=\"18\" overflow=\"visible\" width=\"30\">    <path d=\"M 0 -9 l 6 18 L 0 25\" fill=\"none\" style=\"stroke:rgb(255, 195, 213);stroke-width:2\" />  </svg></g><rect x=\"12.52797825841642%\" y=\"40\" height=\"20\" width=\"2.0486756402307638%\"      onmouseover=\"document.getElementById('_tp_ndxrxphuclianojnemfc_ind_15').style.textDecoration = 'underline';document.getElementById('_fs_ndxrxphuclianojnemfc_ind_15').style.opacity = 1;document.getElementById('_fb_ndxrxphuclianojnemfc_ind_15').style.opacity = 1;\"      onmouseout=\"document.getElementById('_tp_ndxrxphuclianojnemfc_ind_15').style.textDecoration = 'none';document.getElementById('_fs_ndxrxphuclianojnemfc_ind_15').style.opacity = 0;document.getElementById('_fb_ndxrxphuclianojnemfc_ind_15').style.opacity = 0;\" style=\"fill:rgb(0,0,0,0)\" /><g transform=\"translate(-1.5,0)\">  <svg x=\"12.52797825841642%\" y=\"40\" height=\"18\" overflow=\"visible\" width=\"30\">    <path d=\"M 0 -9 l 6 18 L 0 25\" fill=\"none\" style=\"stroke:rgb(255, 195, 213);stroke-width:2\" />  </svg></g><rect x=\"11.332008401804414%\" y=\"40\" height=\"20\" width=\"1.195969856612006%\"      onmouseover=\"document.getElementById('_tp_ndxrxphuclianojnemfc_ind_11').style.textDecoration = 'underline';document.getElementById('_fs_ndxrxphuclianojnemfc_ind_11').style.opacity = 1;document.getElementById('_fb_ndxrxphuclianojnemfc_ind_11').style.opacity = 1;\"      onmouseout=\"document.getElementById('_tp_ndxrxphuclianojnemfc_ind_11').style.textDecoration = 'none';document.getElementById('_fs_ndxrxphuclianojnemfc_ind_11').style.opacity = 0;document.getElementById('_fb_ndxrxphuclianojnemfc_ind_11').style.opacity = 0;\" style=\"fill:rgb(0,0,0,0)\" /><g transform=\"translate(-1.5,0)\">  <svg x=\"11.332008401804414%\" y=\"40\" height=\"18\" overflow=\"visible\" width=\"30\">    <path d=\"M 0 -9 l 6 18 L 0 25\" fill=\"none\" style=\"stroke:rgb(255, 195, 213);stroke-width:2\" />  </svg></g><rect x=\"10.319845671268169%\" y=\"40\" height=\"20\" width=\"1.0121627305362448%\"      onmouseover=\"document.getElementById('_tp_ndxrxphuclianojnemfc_ind_12').style.textDecoration = 'underline';document.getElementById('_fs_ndxrxphuclianojnemfc_ind_12').style.opacity = 1;document.getElementById('_fb_ndxrxphuclianojnemfc_ind_12').style.opacity = 1;\"      onmouseout=\"document.getElementById('_tp_ndxrxphuclianojnemfc_ind_12').style.textDecoration = 'none';document.getElementById('_fs_ndxrxphuclianojnemfc_ind_12').style.opacity = 0;document.getElementById('_fb_ndxrxphuclianojnemfc_ind_12').style.opacity = 0;\" style=\"fill:rgb(0,0,0,0)\" /><g transform=\"translate(-1.5,0)\">  <svg x=\"10.319845671268169%\" y=\"40\" height=\"18\" overflow=\"visible\" width=\"30\">    <path d=\"M 0 -9 l 6 18 L 0 25\" fill=\"none\" style=\"stroke:rgb(255, 195, 213);stroke-width:2\" />  </svg></g><rect x=\"9.555925134610229%\" y=\"40\" height=\"20\" width=\"0.76392053665794%\"      onmouseover=\"document.getElementById('_tp_ndxrxphuclianojnemfc_ind_10').style.textDecoration = 'underline';document.getElementById('_fs_ndxrxphuclianojnemfc_ind_10').style.opacity = 1;document.getElementById('_fb_ndxrxphuclianojnemfc_ind_10').style.opacity = 1;\"      onmouseout=\"document.getElementById('_tp_ndxrxphuclianojnemfc_ind_10').style.textDecoration = 'none';document.getElementById('_fs_ndxrxphuclianojnemfc_ind_10').style.opacity = 0;document.getElementById('_fb_ndxrxphuclianojnemfc_ind_10').style.opacity = 0;\" style=\"fill:rgb(0,0,0,0)\" /><g transform=\"translate(-1.5,0)\">  <svg x=\"9.555925134610229%\" y=\"40\" height=\"18\" overflow=\"visible\" width=\"30\">    <path d=\"M 0 -9 l 6 18 L 0 25\" fill=\"none\" style=\"stroke:rgb(255, 195, 213);stroke-width:2\" />  </svg></g><rect x=\"8.985936894461796%\" y=\"40\" height=\"20\" width=\"0.5699882401484331%\"      onmouseover=\"document.getElementById('_tp_ndxrxphuclianojnemfc_ind_16').style.textDecoration = 'underline';document.getElementById('_fs_ndxrxphuclianojnemfc_ind_16').style.opacity = 1;document.getElementById('_fb_ndxrxphuclianojnemfc_ind_16').style.opacity = 1;\"      onmouseout=\"document.getElementById('_tp_ndxrxphuclianojnemfc_ind_16').style.textDecoration = 'none';document.getElementById('_fs_ndxrxphuclianojnemfc_ind_16').style.opacity = 0;document.getElementById('_fb_ndxrxphuclianojnemfc_ind_16').style.opacity = 0;\" style=\"fill:rgb(0,0,0,0)\" /><g transform=\"translate(-1.5,0)\">  <svg x=\"8.985936894461796%\" y=\"40\" height=\"18\" overflow=\"visible\" width=\"30\">    <path d=\"M 0 -9 l 6 18 L 0 25\" fill=\"none\" style=\"stroke:rgb(255, 195, 213);stroke-width:2\" />  </svg></g><rect x=\"8.517452145403812%\" y=\"40\" height=\"20\" width=\"0.46848474905798376%\"      onmouseover=\"document.getElementById('_tp_ndxrxphuclianojnemfc_ind_14').style.textDecoration = 'underline';document.getElementById('_fs_ndxrxphuclianojnemfc_ind_14').style.opacity = 1;document.getElementById('_fb_ndxrxphuclianojnemfc_ind_14').style.opacity = 1;\"      onmouseout=\"document.getElementById('_tp_ndxrxphuclianojnemfc_ind_14').style.textDecoration = 'none';document.getElementById('_fs_ndxrxphuclianojnemfc_ind_14').style.opacity = 0;document.getElementById('_fb_ndxrxphuclianojnemfc_ind_14').style.opacity = 0;\" style=\"fill:rgb(0,0,0,0)\" /><rect x=\"8.333334687400484%\" y=\"40\" height=\"20\" width=\"0.18411745800332824%\"      onmouseover=\"document.getElementById('_tp_ndxrxphuclianojnemfc_ind_13').style.textDecoration = 'underline';document.getElementById('_fs_ndxrxphuclianojnemfc_ind_13').style.opacity = 1;document.getElementById('_fb_ndxrxphuclianojnemfc_ind_13').style.opacity = 1;\"      onmouseout=\"document.getElementById('_tp_ndxrxphuclianojnemfc_ind_13').style.textDecoration = 'none';document.getElementById('_fs_ndxrxphuclianojnemfc_ind_13').style.opacity = 0;document.getElementById('_fb_ndxrxphuclianojnemfc_ind_13').style.opacity = 0;\" style=\"fill:rgb(0,0,0,0)\" /><rect x=\"16.707867085720675%\" width=\"74.95879747269294%\" y=\"40\" height=\"18\" style=\"fill:rgb(0.0, 138.56128015770724, 250.76166088685727); stroke-width:0; stroke:rgb(0,0,0)\" /><line x1=\"16.707867085720675%\" x2=\"58.0720618914344%\" y1=\"60\" y2=\"60\" id=\"_fb_ndxrxphuclianojnemfc_ind_3\" style=\"stroke:rgb(0.0, 138.56128015770724, 250.76166088685727);stroke-width:2; opacity: 0\"/><text x=\"37.38996448857754%\" y=\"71\" font-size=\"12px\" fill=\"rgb(0.0, 138.56128015770724, 250.76166088685727)\" id=\"_fs_ndxrxphuclianojnemfc_ind_3\" style=\"opacity: 0\" dominant-baseline=\"middle\" text-anchor=\"middle\">-0.548</text><svg x=\"16.707867085720675%\" y=\"40\" height=\"20\" width=\"41.36419480571372%\">  <svg x=\"0\" y=\"0\" width=\"100%\" height=\"100%\">    <text x=\"50%\" y=\"9\" font-size=\"12px\" fill=\"rgb(255,255,255)\" dominant-baseline=\"middle\" text-anchor=\"middle\">Reuters)</text>  </svg></svg><line x1=\"58.0720618914344%\" x2=\"73.53843463612998%\" y1=\"60\" y2=\"60\" id=\"_fb_ndxrxphuclianojnemfc_ind_2\" style=\"stroke:rgb(0.0, 138.56128015770724, 250.76166088685727);stroke-width:2; opacity: 0\"/><text x=\"65.80524826378219%\" y=\"71\" font-size=\"12px\" fill=\"rgb(0.0, 138.56128015770724, 250.76166088685727)\" id=\"_fs_ndxrxphuclianojnemfc_ind_2\" style=\"opacity: 0\" dominant-baseline=\"middle\" text-anchor=\"middle\">-0.205</text><svg x=\"58.0720618914344%\" y=\"40\" height=\"20\" width=\"15.466372744695576%\">  <svg x=\"0\" y=\"0\" width=\"100%\" height=\"100%\">    <text x=\"50%\" y=\"9\" font-size=\"12px\" fill=\"rgb(255,255,255)\" dominant-baseline=\"middle\" text-anchor=\"middle\">(</text>  </svg></svg><line x1=\"73.53843463612998%\" x2=\"82.32938688475008%\" y1=\"60\" y2=\"60\" id=\"_fb_ndxrxphuclianojnemfc_ind_1\" style=\"stroke:rgb(0.0, 138.56128015770724, 250.76166088685727);stroke-width:2; opacity: 0\"/><text x=\"77.93391076044003%\" y=\"71\" font-size=\"12px\" fill=\"rgb(0.0, 138.56128015770724, 250.76166088685727)\" id=\"_fs_ndxrxphuclianojnemfc_ind_1\" style=\"opacity: 0\" dominant-baseline=\"middle\" text-anchor=\"middle\">-0.117</text><svg x=\"73.53843463612998%\" y=\"40\" height=\"20\" width=\"8.790952248620101%\">  <svg x=\"0\" y=\"0\" width=\"100%\" height=\"100%\">    <text x=\"50%\" y=\"9\" font-size=\"12px\" fill=\"rgb(255,255,255)\" dominant-baseline=\"middle\" text-anchor=\"middle\">MADRID</text>  </svg></svg><line x1=\"82.32938688475008%\" x2=\"84.79290610300713%\" y1=\"60\" y2=\"60\" id=\"_fb_ndxrxphuclianojnemfc_ind_5\" style=\"stroke:rgb(0.0, 138.56128015770724, 250.76166088685727);stroke-width:2; opacity: 0\"/><text x=\"83.5611464938786%\" y=\"71\" font-size=\"12px\" fill=\"rgb(0.0, 138.56128015770724, 250.76166088685727)\" id=\"_fs_ndxrxphuclianojnemfc_ind_5\" style=\"opacity: 0\" dominant-baseline=\"middle\" text-anchor=\"middle\">-0.033</text><svg x=\"82.32938688475008%\" y=\"40\" height=\"20\" width=\"2.463519218257048%\">  <svg x=\"0\" y=\"0\" width=\"100%\" height=\"100%\">    <text x=\"50%\" y=\"9\" font-size=\"12px\" fill=\"rgb(255,255,255)\" dominant-baseline=\"middle\" text-anchor=\"middle\">Imprisoned</text>  </svg></svg><line x1=\"84.79290610300713%\" x2=\"86.917681441759%\" y1=\"60\" y2=\"60\" id=\"_fb_ndxrxphuclianojnemfc_ind_9\" style=\"stroke:rgb(0.0, 138.56128015770724, 250.76166088685727);stroke-width:2; opacity: 0\"/><text x=\"85.85529377238306%\" y=\"71\" font-size=\"12px\" fill=\"rgb(0.0, 138.56128015770724, 250.76166088685727)\" id=\"_fs_ndxrxphuclianojnemfc_ind_9\" style=\"opacity: 0\" dominant-baseline=\"middle\" text-anchor=\"middle\">-0.028</text><svg x=\"84.79290610300713%\" y=\"40\" height=\"20\" width=\"2.124775338751874%\">  <svg x=\"0\" y=\"0\" width=\"100%\" height=\"100%\">    <text x=\"50%\" y=\"9\" font-size=\"12px\" fill=\"rgb(255,255,255)\" dominant-baseline=\"middle\" text-anchor=\"middle\">control over the region,</text>  </svg></svg><line x1=\"86.917681441759%\" x2=\"88.64507516056251%\" y1=\"60\" y2=\"60\" id=\"_fb_ndxrxphuclianojnemfc_ind_0\" style=\"stroke:rgb(0.0, 138.56128015770724, 250.76166088685727);stroke-width:2; opacity: 0\"/><text x=\"87.78137830116076%\" y=\"71\" font-size=\"12px\" fill=\"rgb(0.0, 138.56128015770724, 250.76166088685727)\" id=\"_fs_ndxrxphuclianojnemfc_ind_0\" style=\"opacity: 0\" dominant-baseline=\"middle\" text-anchor=\"middle\">-0.023</text><svg x=\"86.917681441759%\" y=\"40\" height=\"20\" width=\"1.727393718803512%\">  <svg x=\"0\" y=\"0\" width=\"100%\" height=\"100%\">    <text x=\"50%\" y=\"9\" font-size=\"12px\" fill=\"rgb(255,255,255)\" dominant-baseline=\"middle\" text-anchor=\"middle\"></text>  </svg></svg><line x1=\"88.64507516056251%\" x2=\"89.6314126470315%\" y1=\"60\" y2=\"60\" id=\"_fb_ndxrxphuclianojnemfc_ind_18\" style=\"stroke:rgb(0.0, 138.56128015770724, 250.76166088685727);stroke-width:2; opacity: 0\"/><text x=\"89.138243903797%\" y=\"71\" font-size=\"12px\" fill=\"rgb(0.0, 138.56128015770724, 250.76166088685727)\" id=\"_fs_ndxrxphuclianojnemfc_ind_18\" style=\"opacity: 0\" dominant-baseline=\"middle\" text-anchor=\"middle\">-0.013</text><svg x=\"88.64507516056251%\" y=\"40\" height=\"20\" width=\"0.9863374864689831%\">  <svg x=\"0\" y=\"0\" width=\"100%\" height=\"100%\">    <text x=\"50%\" y=\"9\" font-size=\"12px\" fill=\"rgb(255,255,255)\" dominant-baseline=\"middle\" text-anchor=\"middle\">Less than a quarter of Catalans want to continue with a plan to claim independence from Spain, according to a poll published in El Pais newspaper on Monday. However, the same poll showed the vote evenly split between pro- and anti-independence parties in the upcoming regional election.</text>  </svg></svg><line x1=\"89.6314126470315%\" x2=\"90.39292407571298%\" y1=\"60\" y2=\"60\" id=\"_fb_ndxrxphuclianojnemfc_ind_6\" style=\"stroke:rgb(0.0, 138.56128015770724, 250.76166088685727);stroke-width:2; opacity: 0\"/><text x=\"90.01216836137223%\" y=\"71\" font-size=\"12px\" fill=\"rgb(0.0, 138.56128015770724, 250.76166088685727)\" id=\"_fs_ndxrxphuclianojnemfc_ind_6\" style=\"opacity: 0\" dominant-baseline=\"middle\" text-anchor=\"middle\">-0.01</text><svg x=\"89.6314126470315%\" y=\"40\" height=\"20\" width=\"0.7615114286814872%\">  <svg x=\"0\" y=\"0\" width=\"100%\" height=\"100%\">    <text x=\"50%\" y=\"9\" font-size=\"12px\" fill=\"rgb(255,255,255)\" dominant-baseline=\"middle\" text-anchor=\"middle\">former vice-president</text>  </svg></svg><line x1=\"90.39292407571298%\" x2=\"91.09855060290712%\" y1=\"60\" y2=\"60\" id=\"_fb_ndxrxphuclianojnemfc_ind_4\" style=\"stroke:rgb(0.0, 138.56128015770724, 250.76166088685727);stroke-width:2; opacity: 0\"/><text x=\"90.74573733931005%\" y=\"71\" font-size=\"12px\" fill=\"rgb(0.0, 138.56128015770724, 250.76166088685727)\" id=\"_fs_ndxrxphuclianojnemfc_ind_4\" style=\"opacity: 0\" dominant-baseline=\"middle\" text-anchor=\"middle\">-0.009</text><svg x=\"90.39292407571298%\" y=\"40\" height=\"20\" width=\"0.7056265271941413%\">  <svg x=\"0\" y=\"0\" width=\"100%\" height=\"100%\">    <text x=\"50%\" y=\"9\" font-size=\"12px\" fill=\"rgb(255,255,255)\" dominant-baseline=\"middle\" text-anchor=\"middle\">-</text>  </svg></svg><line x1=\"91.09855060290712%\" x2=\"91.52121076195012%\" y1=\"60\" y2=\"60\" id=\"_fb_ndxrxphuclianojnemfc_ind_8\" style=\"stroke:rgb(0.0, 138.56128015770724, 250.76166088685727);stroke-width:2; opacity: 0\"/><text x=\"91.30988068242863%\" y=\"71\" font-size=\"12px\" fill=\"rgb(0.0, 138.56128015770724, 250.76166088685727)\" id=\"_fs_ndxrxphuclianojnemfc_ind_8\" style=\"opacity: 0\" dominant-baseline=\"middle\" text-anchor=\"middle\">-0.006</text><svg x=\"91.09855060290712%\" y=\"40\" height=\"20\" width=\"0.4226601590429908%\">  <svg x=\"0\" y=\"0\" width=\"100%\" height=\"100%\">    <text x=\"50%\" y=\"9\" font-size=\"12px\" fill=\"rgb(255,255,255)\" dominant-baseline=\"middle\" text-anchor=\"middle\">party will abide by a ruling giving Madrid</text>  </svg></svg><line x1=\"91.52121076195012%\" x2=\"91.66666455841361%\" y1=\"60\" y2=\"60\" id=\"_fb_ndxrxphuclianojnemfc_ind_7\" style=\"stroke:rgb(0.0, 138.56128015770724, 250.76166088685727);stroke-width:2; opacity: 0\"/><text x=\"91.59393766018187%\" y=\"71\" font-size=\"12px\" fill=\"rgb(0.0, 138.56128015770724, 250.76166088685727)\" id=\"_fs_ndxrxphuclianojnemfc_ind_7\" style=\"opacity: 0\" dominant-baseline=\"middle\" text-anchor=\"middle\">-0.002</text><svg x=\"91.52121076195012%\" y=\"40\" height=\"20\" width=\"0.14545379646349943%\">  <svg x=\"0\" y=\"0\" width=\"100%\" height=\"100%\">    <text x=\"50%\" y=\"9\" font-size=\"12px\" fill=\"rgb(255,255,255)\" dominant-baseline=\"middle\" text-anchor=\"middle\">of Catalonia Oriol Junqueras and three other jailed members of his ERC</text>  </svg></svg><g transform=\"translate(-8,0)\">  <svg x=\"58.0720618914344%\" y=\"40\" height=\"18\" overflow=\"visible\" width=\"30\">    <path d=\"M 8 -9 l -6 18 L 8 25\" fill=\"none\" style=\"stroke:rgb(0.0, 138.56128015770724, 250.76166088685727);stroke-width:2\" />  </svg></g><g transform=\"translate(-10,0)\">  <svg x=\"58.0720618914344%\" y=\"40\" height=\"18\" overflow=\"visible\" width=\"30\">    <path d=\"M 8 -9 l -6 18 L 8 25\" fill=\"none\" style=\"stroke:rgb(0.0, 138.56128015770724, 250.76166088685727);stroke-width:2\" />  </svg></g><g transform=\"translate(-12,0)\">  <svg x=\"58.0720618914344%\" y=\"40\" height=\"18\" overflow=\"visible\" width=\"30\">    <path d=\"M 8 -9 l -6 18 L 8 25\" fill=\"none\" style=\"stroke:rgb(0.0, 138.56128015770724, 250.76166088685727);stroke-width:2\" />  </svg></g><g transform=\"translate(-14,0)\">  <svg x=\"58.0720618914344%\" y=\"40\" height=\"18\" overflow=\"visible\" width=\"30\">    <path d=\"M 8 -9 l -6 18 L 8 25\" fill=\"none\" style=\"stroke:rgb(0.0, 138.56128015770724, 250.76166088685727);stroke-width:2\" />  </svg></g><g transform=\"translate(2,0)\">  <svg x=\"58.0720618914344%\" y=\"40\" height=\"18\" overflow=\"visible\" width=\"30\">    <path d=\"M 8 -9 l -6 18 L 8 25\" fill=\"none\" style=\"stroke:rgb(0.0, 138.56128015770724, 250.76166088685727);stroke-width:2\" />  </svg></g><g transform=\"translate(0,0)\">  <svg x=\"58.0720618914344%\" y=\"40\" height=\"18\" overflow=\"visible\" width=\"30\">    <path d=\"M 8 -9 l -6 18 L 8 25\" fill=\"none\" style=\"stroke:rgb(0.0, 138.56128015770724, 250.76166088685727);stroke-width:2\" />  </svg></g><g transform=\"translate(-2,0)\">  <svg x=\"58.0720618914344%\" y=\"40\" height=\"18\" overflow=\"visible\" width=\"30\">    <path d=\"M 8 -9 l -6 18 L 8 25\" fill=\"none\" style=\"stroke:rgb(0.0, 138.56128015770724, 250.76166088685727);stroke-width:2\" />  </svg></g><g transform=\"translate(-4,0)\">  <svg x=\"58.0720618914344%\" y=\"40\" height=\"18\" overflow=\"visible\" width=\"30\">    <path d=\"M 8 -9 l -6 18 L 8 25\" fill=\"none\" style=\"stroke:rgb(0.0, 138.56128015770724, 250.76166088685727);stroke-width:2\" />  </svg></g><g transform=\"translate(-8,0)\">  <svg x=\"73.53843463612998%\" y=\"40\" height=\"18\" overflow=\"visible\" width=\"30\">    <path d=\"M 8 -9 l -6 18 L 8 25\" fill=\"none\" style=\"stroke:rgb(0.0, 138.56128015770724, 250.76166088685727);stroke-width:2\" />  </svg></g><g transform=\"translate(-10,0)\">  <svg x=\"73.53843463612998%\" y=\"40\" height=\"18\" overflow=\"visible\" width=\"30\">    <path d=\"M 8 -9 l -6 18 L 8 25\" fill=\"none\" style=\"stroke:rgb(0.0, 138.56128015770724, 250.76166088685727);stroke-width:2\" />  </svg></g><g transform=\"translate(-12,0)\">  <svg x=\"73.53843463612998%\" y=\"40\" height=\"18\" overflow=\"visible\" width=\"30\">    <path d=\"M 8 -9 l -6 18 L 8 25\" fill=\"none\" style=\"stroke:rgb(0.0, 138.56128015770724, 250.76166088685727);stroke-width:2\" />  </svg></g><g transform=\"translate(-14,0)\">  <svg x=\"73.53843463612998%\" y=\"40\" height=\"18\" overflow=\"visible\" width=\"30\">    <path d=\"M 8 -9 l -6 18 L 8 25\" fill=\"none\" style=\"stroke:rgb(0.0, 138.56128015770724, 250.76166088685727);stroke-width:2\" />  </svg></g><g transform=\"translate(2,0)\">  <svg x=\"73.53843463612998%\" y=\"40\" height=\"18\" overflow=\"visible\" width=\"30\">    <path d=\"M 8 -9 l -6 18 L 8 25\" fill=\"none\" style=\"stroke:rgb(0.0, 138.56128015770724, 250.76166088685727);stroke-width:2\" />  </svg></g><g transform=\"translate(0,0)\">  <svg x=\"73.53843463612998%\" y=\"40\" height=\"18\" overflow=\"visible\" width=\"30\">    <path d=\"M 8 -9 l -6 18 L 8 25\" fill=\"none\" style=\"stroke:rgb(0.0, 138.56128015770724, 250.76166088685727);stroke-width:2\" />  </svg></g><g transform=\"translate(-2,0)\">  <svg x=\"73.53843463612998%\" y=\"40\" height=\"18\" overflow=\"visible\" width=\"30\">    <path d=\"M 8 -9 l -6 18 L 8 25\" fill=\"none\" style=\"stroke:rgb(0.0, 138.56128015770724, 250.76166088685727);stroke-width:2\" />  </svg></g><g transform=\"translate(-4,0)\">  <svg x=\"73.53843463612998%\" y=\"40\" height=\"18\" overflow=\"visible\" width=\"30\">    <path d=\"M 8 -9 l -6 18 L 8 25\" fill=\"none\" style=\"stroke:rgb(0.0, 138.56128015770724, 250.76166088685727);stroke-width:2\" />  </svg></g><g transform=\"translate(-8,0)\">  <svg x=\"82.32938688475008%\" y=\"40\" height=\"18\" overflow=\"visible\" width=\"30\">    <path d=\"M 8 -9 l -6 18 L 8 25\" fill=\"none\" style=\"stroke:rgb(0.0, 138.56128015770724, 250.76166088685727);stroke-width:2\" />  </svg></g><g transform=\"translate(-10,0)\">  <svg x=\"82.32938688475008%\" y=\"40\" height=\"18\" overflow=\"visible\" width=\"30\">    <path d=\"M 8 -9 l -6 18 L 8 25\" fill=\"none\" style=\"stroke:rgb(0.0, 138.56128015770724, 250.76166088685727);stroke-width:2\" />  </svg></g><g transform=\"translate(-12,0)\">  <svg x=\"82.32938688475008%\" y=\"40\" height=\"18\" overflow=\"visible\" width=\"30\">    <path d=\"M 8 -9 l -6 18 L 8 25\" fill=\"none\" style=\"stroke:rgb(0.0, 138.56128015770724, 250.76166088685727);stroke-width:2\" />  </svg></g><g transform=\"translate(-14,0)\">  <svg x=\"82.32938688475008%\" y=\"40\" height=\"18\" overflow=\"visible\" width=\"30\">    <path d=\"M 8 -9 l -6 18 L 8 25\" fill=\"none\" style=\"stroke:rgb(0.0, 138.56128015770724, 250.76166088685727);stroke-width:2\" />  </svg></g><g transform=\"translate(2,0)\">  <svg x=\"82.32938688475008%\" y=\"40\" height=\"18\" overflow=\"visible\" width=\"30\">    <path d=\"M 8 -9 l -6 18 L 8 25\" fill=\"none\" style=\"stroke:rgb(0.0, 138.56128015770724, 250.76166088685727);stroke-width:2\" />  </svg></g><g transform=\"translate(0,0)\">  <svg x=\"82.32938688475008%\" y=\"40\" height=\"18\" overflow=\"visible\" width=\"30\">    <path d=\"M 8 -9 l -6 18 L 8 25\" fill=\"none\" style=\"stroke:rgb(0.0, 138.56128015770724, 250.76166088685727);stroke-width:2\" />  </svg></g><g transform=\"translate(-2,0)\">  <svg x=\"82.32938688475008%\" y=\"40\" height=\"18\" overflow=\"visible\" width=\"30\">    <path d=\"M 8 -9 l -6 18 L 8 25\" fill=\"none\" style=\"stroke:rgb(0.0, 138.56128015770724, 250.76166088685727);stroke-width:2\" />  </svg></g><g transform=\"translate(-4,0)\">  <svg x=\"82.32938688475008%\" y=\"40\" height=\"18\" overflow=\"visible\" width=\"30\">    <path d=\"M 8 -9 l -6 18 L 8 25\" fill=\"none\" style=\"stroke:rgb(0.0, 138.56128015770724, 250.76166088685727);stroke-width:2\" />  </svg></g><g transform=\"translate(-8,0)\">  <svg x=\"84.79290610300713%\" y=\"40\" height=\"18\" overflow=\"visible\" width=\"30\">    <path d=\"M 8 -9 l -6 18 L 8 25\" fill=\"none\" style=\"stroke:rgb(0.0, 138.56128015770724, 250.76166088685727);stroke-width:2\" />  </svg></g><g transform=\"translate(-10,0)\">  <svg x=\"84.79290610300713%\" y=\"40\" height=\"18\" overflow=\"visible\" width=\"30\">    <path d=\"M 8 -9 l -6 18 L 8 25\" fill=\"none\" style=\"stroke:rgb(0.0, 138.56128015770724, 250.76166088685727);stroke-width:2\" />  </svg></g><g transform=\"translate(-12,0)\">  <svg x=\"84.79290610300713%\" y=\"40\" height=\"18\" overflow=\"visible\" width=\"30\">    <path d=\"M 8 -9 l -6 18 L 8 25\" fill=\"none\" style=\"stroke:rgb(0.0, 138.56128015770724, 250.76166088685727);stroke-width:2\" />  </svg></g><g transform=\"translate(-14,0)\">  <svg x=\"84.79290610300713%\" y=\"40\" height=\"18\" overflow=\"visible\" width=\"30\">    <path d=\"M 8 -9 l -6 18 L 8 25\" fill=\"none\" style=\"stroke:rgb(0.0, 138.56128015770724, 250.76166088685727);stroke-width:2\" />  </svg></g><g transform=\"translate(2,0)\">  <svg x=\"84.79290610300713%\" y=\"40\" height=\"18\" overflow=\"visible\" width=\"30\">    <path d=\"M 8 -9 l -6 18 L 8 25\" fill=\"none\" style=\"stroke:rgb(0.0, 138.56128015770724, 250.76166088685727);stroke-width:2\" />  </svg></g><g transform=\"translate(0,0)\">  <svg x=\"84.79290610300713%\" y=\"40\" height=\"18\" overflow=\"visible\" width=\"30\">    <path d=\"M 8 -9 l -6 18 L 8 25\" fill=\"none\" style=\"stroke:rgb(0.0, 138.56128015770724, 250.76166088685727);stroke-width:2\" />  </svg></g><g transform=\"translate(-2,0)\">  <svg x=\"84.79290610300713%\" y=\"40\" height=\"18\" overflow=\"visible\" width=\"30\">    <path d=\"M 8 -9 l -6 18 L 8 25\" fill=\"none\" style=\"stroke:rgb(0.0, 138.56128015770724, 250.76166088685727);stroke-width:2\" />  </svg></g><g transform=\"translate(-4,0)\">  <svg x=\"84.79290610300713%\" y=\"40\" height=\"18\" overflow=\"visible\" width=\"30\">    <path d=\"M 8 -9 l -6 18 L 8 25\" fill=\"none\" style=\"stroke:rgb(0.0, 138.56128015770724, 250.76166088685727);stroke-width:2\" />  </svg></g><g transform=\"translate(-8,0)\">  <svg x=\"86.917681441759%\" y=\"40\" height=\"18\" overflow=\"visible\" width=\"30\">    <path d=\"M 8 -9 l -6 18 L 8 25\" fill=\"none\" style=\"stroke:rgb(0.0, 138.56128015770724, 250.76166088685727);stroke-width:2\" />  </svg></g><g transform=\"translate(-10,0)\">  <svg x=\"86.917681441759%\" y=\"40\" height=\"18\" overflow=\"visible\" width=\"30\">    <path d=\"M 8 -9 l -6 18 L 8 25\" fill=\"none\" style=\"stroke:rgb(0.0, 138.56128015770724, 250.76166088685727);stroke-width:2\" />  </svg></g><g transform=\"translate(-12,0)\">  <svg x=\"86.917681441759%\" y=\"40\" height=\"18\" overflow=\"visible\" width=\"30\">    <path d=\"M 8 -9 l -6 18 L 8 25\" fill=\"none\" style=\"stroke:rgb(0.0, 138.56128015770724, 250.76166088685727);stroke-width:2\" />  </svg></g><g transform=\"translate(-14,0)\">  <svg x=\"86.917681441759%\" y=\"40\" height=\"18\" overflow=\"visible\" width=\"30\">    <path d=\"M 8 -9 l -6 18 L 8 25\" fill=\"none\" style=\"stroke:rgb(0.0, 138.56128015770724, 250.76166088685727);stroke-width:2\" />  </svg></g><g transform=\"translate(2,0)\">  <svg x=\"86.917681441759%\" y=\"40\" height=\"18\" overflow=\"visible\" width=\"30\">    <path d=\"M 8 -9 l -6 18 L 8 25\" fill=\"none\" style=\"stroke:rgb(0.0, 138.56128015770724, 250.76166088685727);stroke-width:2\" />  </svg></g><g transform=\"translate(0,0)\">  <svg x=\"86.917681441759%\" y=\"40\" height=\"18\" overflow=\"visible\" width=\"30\">    <path d=\"M 8 -9 l -6 18 L 8 25\" fill=\"none\" style=\"stroke:rgb(0.0, 138.56128015770724, 250.76166088685727);stroke-width:2\" />  </svg></g><g transform=\"translate(-2,0)\">  <svg x=\"86.917681441759%\" y=\"40\" height=\"18\" overflow=\"visible\" width=\"30\">    <path d=\"M 8 -9 l -6 18 L 8 25\" fill=\"none\" style=\"stroke:rgb(0.0, 138.56128015770724, 250.76166088685727);stroke-width:2\" />  </svg></g><g transform=\"translate(-4,0)\">  <svg x=\"86.917681441759%\" y=\"40\" height=\"18\" overflow=\"visible\" width=\"30\">    <path d=\"M 8 -9 l -6 18 L 8 25\" fill=\"none\" style=\"stroke:rgb(0.0, 138.56128015770724, 250.76166088685727);stroke-width:2\" />  </svg></g><g transform=\"translate(-8,0)\">  <svg x=\"88.64507516056251%\" y=\"40\" height=\"18\" overflow=\"visible\" width=\"30\">    <path d=\"M 8 -9 l -6 18 L 8 25\" fill=\"none\" style=\"stroke:rgb(0.0, 138.56128015770724, 250.76166088685727);stroke-width:2\" />  </svg></g><g transform=\"translate(-10,0)\">  <svg x=\"88.64507516056251%\" y=\"40\" height=\"18\" overflow=\"visible\" width=\"30\">    <path d=\"M 8 -9 l -6 18 L 8 25\" fill=\"none\" style=\"stroke:rgb(0.0, 138.56128015770724, 250.76166088685727);stroke-width:2\" />  </svg></g><g transform=\"translate(-12,0)\">  <svg x=\"88.64507516056251%\" y=\"40\" height=\"18\" overflow=\"visible\" width=\"30\">    <path d=\"M 8 -9 l -6 18 L 8 25\" fill=\"none\" style=\"stroke:rgb(0.0, 138.56128015770724, 250.76166088685727);stroke-width:2\" />  </svg></g><g transform=\"translate(-14,0)\">  <svg x=\"88.64507516056251%\" y=\"40\" height=\"18\" overflow=\"visible\" width=\"30\">    <path d=\"M 8 -9 l -6 18 L 8 25\" fill=\"none\" style=\"stroke:rgb(0.0, 138.56128015770724, 250.76166088685727);stroke-width:2\" />  </svg></g><g transform=\"translate(2,0)\">  <svg x=\"88.64507516056251%\" y=\"40\" height=\"18\" overflow=\"visible\" width=\"30\">    <path d=\"M 8 -9 l -6 18 L 8 25\" fill=\"none\" style=\"stroke:rgb(0.0, 138.56128015770724, 250.76166088685727);stroke-width:2\" />  </svg></g><g transform=\"translate(0,0)\">  <svg x=\"88.64507516056251%\" y=\"40\" height=\"18\" overflow=\"visible\" width=\"30\">    <path d=\"M 8 -9 l -6 18 L 8 25\" fill=\"none\" style=\"stroke:rgb(0.0, 138.56128015770724, 250.76166088685727);stroke-width:2\" />  </svg></g><g transform=\"translate(-2,0)\">  <svg x=\"88.64507516056251%\" y=\"40\" height=\"18\" overflow=\"visible\" width=\"30\">    <path d=\"M 8 -9 l -6 18 L 8 25\" fill=\"none\" style=\"stroke:rgb(0.0, 138.56128015770724, 250.76166088685727);stroke-width:2\" />  </svg></g><g transform=\"translate(-4,0)\">  <svg x=\"88.64507516056251%\" y=\"40\" height=\"18\" overflow=\"visible\" width=\"30\">    <path d=\"M 8 -9 l -6 18 L 8 25\" fill=\"none\" style=\"stroke:rgb(0.0, 138.56128015770724, 250.76166088685727);stroke-width:2\" />  </svg></g><g transform=\"translate(-8,0)\">  <svg x=\"89.6314126470315%\" y=\"40\" height=\"18\" overflow=\"visible\" width=\"30\">    <path d=\"M 8 -9 l -6 18 L 8 25\" fill=\"none\" style=\"stroke:rgb(0.0, 138.56128015770724, 250.76166088685727);stroke-width:2\" />  </svg></g><g transform=\"translate(-10,0)\">  <svg x=\"89.6314126470315%\" y=\"40\" height=\"18\" overflow=\"visible\" width=\"30\">    <path d=\"M 8 -9 l -6 18 L 8 25\" fill=\"none\" style=\"stroke:rgb(0.0, 138.56128015770724, 250.76166088685727);stroke-width:2\" />  </svg></g><g transform=\"translate(-12,0)\">  <svg x=\"89.6314126470315%\" y=\"40\" height=\"18\" overflow=\"visible\" width=\"30\">    <path d=\"M 8 -9 l -6 18 L 8 25\" fill=\"none\" style=\"stroke:rgb(0.0, 138.56128015770724, 250.76166088685727);stroke-width:2\" />  </svg></g><g transform=\"translate(-14,0)\">  <svg x=\"89.6314126470315%\" y=\"40\" height=\"18\" overflow=\"visible\" width=\"30\">    <path d=\"M 8 -9 l -6 18 L 8 25\" fill=\"none\" style=\"stroke:rgb(0.0, 138.56128015770724, 250.76166088685727);stroke-width:2\" />  </svg></g><g transform=\"translate(2,0)\">  <svg x=\"89.6314126470315%\" y=\"40\" height=\"18\" overflow=\"visible\" width=\"30\">    <path d=\"M 8 -9 l -6 18 L 8 25\" fill=\"none\" style=\"stroke:rgb(0.0, 138.56128015770724, 250.76166088685727);stroke-width:2\" />  </svg></g><g transform=\"translate(0,0)\">  <svg x=\"89.6314126470315%\" y=\"40\" height=\"18\" overflow=\"visible\" width=\"30\">    <path d=\"M 8 -9 l -6 18 L 8 25\" fill=\"none\" style=\"stroke:rgb(0.0, 138.56128015770724, 250.76166088685727);stroke-width:2\" />  </svg></g><g transform=\"translate(-2,0)\">  <svg x=\"89.6314126470315%\" y=\"40\" height=\"18\" overflow=\"visible\" width=\"30\">    <path d=\"M 8 -9 l -6 18 L 8 25\" fill=\"none\" style=\"stroke:rgb(0.0, 138.56128015770724, 250.76166088685727);stroke-width:2\" />  </svg></g><g transform=\"translate(-4,0)\">  <svg x=\"89.6314126470315%\" y=\"40\" height=\"18\" overflow=\"visible\" width=\"30\">    <path d=\"M 8 -9 l -6 18 L 8 25\" fill=\"none\" style=\"stroke:rgb(0.0, 138.56128015770724, 250.76166088685727);stroke-width:2\" />  </svg></g><g transform=\"translate(-8,0)\">  <svg x=\"90.39292407571298%\" y=\"40\" height=\"18\" overflow=\"visible\" width=\"30\">    <path d=\"M 8 -9 l -6 18 L 8 25\" fill=\"none\" style=\"stroke:rgb(0.0, 138.56128015770724, 250.76166088685727);stroke-width:2\" />  </svg></g><g transform=\"translate(-10,0)\">  <svg x=\"90.39292407571298%\" y=\"40\" height=\"18\" overflow=\"visible\" width=\"30\">    <path d=\"M 8 -9 l -6 18 L 8 25\" fill=\"none\" style=\"stroke:rgb(0.0, 138.56128015770724, 250.76166088685727);stroke-width:2\" />  </svg></g><g transform=\"translate(-12,0)\">  <svg x=\"90.39292407571298%\" y=\"40\" height=\"18\" overflow=\"visible\" width=\"30\">    <path d=\"M 8 -9 l -6 18 L 8 25\" fill=\"none\" style=\"stroke:rgb(0.0, 138.56128015770724, 250.76166088685727);stroke-width:2\" />  </svg></g><g transform=\"translate(-14,0)\">  <svg x=\"90.39292407571298%\" y=\"40\" height=\"18\" overflow=\"visible\" width=\"30\">    <path d=\"M 8 -9 l -6 18 L 8 25\" fill=\"none\" style=\"stroke:rgb(0.0, 138.56128015770724, 250.76166088685727);stroke-width:2\" />  </svg></g><g transform=\"translate(2,0)\">  <svg x=\"90.39292407571298%\" y=\"40\" height=\"18\" overflow=\"visible\" width=\"30\">    <path d=\"M 8 -9 l -6 18 L 8 25\" fill=\"none\" style=\"stroke:rgb(0.0, 138.56128015770724, 250.76166088685727);stroke-width:2\" />  </svg></g><g transform=\"translate(0,0)\">  <svg x=\"90.39292407571298%\" y=\"40\" height=\"18\" overflow=\"visible\" width=\"30\">    <path d=\"M 8 -9 l -6 18 L 8 25\" fill=\"none\" style=\"stroke:rgb(0.0, 138.56128015770724, 250.76166088685727);stroke-width:2\" />  </svg></g><g transform=\"translate(-2,0)\">  <svg x=\"90.39292407571298%\" y=\"40\" height=\"18\" overflow=\"visible\" width=\"30\">    <path d=\"M 8 -9 l -6 18 L 8 25\" fill=\"none\" style=\"stroke:rgb(0.0, 138.56128015770724, 250.76166088685727);stroke-width:2\" />  </svg></g><g transform=\"translate(-4,0)\">  <svg x=\"90.39292407571298%\" y=\"40\" height=\"18\" overflow=\"visible\" width=\"30\">    <path d=\"M 8 -9 l -6 18 L 8 25\" fill=\"none\" style=\"stroke:rgb(0.0, 138.56128015770724, 250.76166088685727);stroke-width:2\" />  </svg></g><g transform=\"translate(-8,0)\">  <svg x=\"91.09855060290712%\" y=\"40\" height=\"18\" overflow=\"visible\" width=\"30\">    <path d=\"M 8 -9 l -6 18 L 8 25\" fill=\"none\" style=\"stroke:rgb(0.0, 138.56128015770724, 250.76166088685727);stroke-width:2\" />  </svg></g><g transform=\"translate(-10,0)\">  <svg x=\"91.09855060290712%\" y=\"40\" height=\"18\" overflow=\"visible\" width=\"30\">    <path d=\"M 8 -9 l -6 18 L 8 25\" fill=\"none\" style=\"stroke:rgb(0.0, 138.56128015770724, 250.76166088685727);stroke-width:2\" />  </svg></g><g transform=\"translate(-12,0)\">  <svg x=\"91.09855060290712%\" y=\"40\" height=\"18\" overflow=\"visible\" width=\"30\">    <path d=\"M 8 -9 l -6 18 L 8 25\" fill=\"none\" style=\"stroke:rgb(0.0, 138.56128015770724, 250.76166088685727);stroke-width:2\" />  </svg></g><g transform=\"translate(-14,0)\">  <svg x=\"91.09855060290712%\" y=\"40\" height=\"18\" overflow=\"visible\" width=\"30\">    <path d=\"M 8 -9 l -6 18 L 8 25\" fill=\"none\" style=\"stroke:rgb(0.0, 138.56128015770724, 250.76166088685727);stroke-width:2\" />  </svg></g><g transform=\"translate(2,0)\">  <svg x=\"91.09855060290712%\" y=\"40\" height=\"18\" overflow=\"visible\" width=\"30\">    <path d=\"M 8 -9 l -6 18 L 8 25\" fill=\"none\" style=\"stroke:rgb(0.0, 138.56128015770724, 250.76166088685727);stroke-width:2\" />  </svg></g><g transform=\"translate(0,0)\">  <svg x=\"91.09855060290712%\" y=\"40\" height=\"18\" overflow=\"visible\" width=\"30\">    <path d=\"M 8 -9 l -6 18 L 8 25\" fill=\"none\" style=\"stroke:rgb(0.0, 138.56128015770724, 250.76166088685727);stroke-width:2\" />  </svg></g><g transform=\"translate(-2,0)\">  <svg x=\"91.09855060290712%\" y=\"40\" height=\"18\" overflow=\"visible\" width=\"30\">    <path d=\"M 8 -9 l -6 18 L 8 25\" fill=\"none\" style=\"stroke:rgb(0.0, 138.56128015770724, 250.76166088685727);stroke-width:2\" />  </svg></g><g transform=\"translate(-4,0)\">  <svg x=\"91.09855060290712%\" y=\"40\" height=\"18\" overflow=\"visible\" width=\"30\">    <path d=\"M 8 -9 l -6 18 L 8 25\" fill=\"none\" style=\"stroke:rgb(0.0, 138.56128015770724, 250.76166088685727);stroke-width:2\" />  </svg></g><g transform=\"translate(-8,0)\">  <svg x=\"91.52121076195012%\" y=\"40\" height=\"18\" overflow=\"visible\" width=\"30\">    <path d=\"M 8 -9 l -6 18 L 8 25\" fill=\"none\" style=\"stroke:rgb(0.0, 138.56128015770724, 250.76166088685727);stroke-width:2\" />  </svg></g><g transform=\"translate(-10,0)\">  <svg x=\"91.52121076195012%\" y=\"40\" height=\"18\" overflow=\"visible\" width=\"30\">    <path d=\"M 8 -9 l -6 18 L 8 25\" fill=\"none\" style=\"stroke:rgb(0.0, 138.56128015770724, 250.76166088685727);stroke-width:2\" />  </svg></g><g transform=\"translate(-12,0)\">  <svg x=\"91.52121076195012%\" y=\"40\" height=\"18\" overflow=\"visible\" width=\"30\">    <path d=\"M 8 -9 l -6 18 L 8 25\" fill=\"none\" style=\"stroke:rgb(0.0, 138.56128015770724, 250.76166088685727);stroke-width:2\" />  </svg></g><g transform=\"translate(-14,0)\">  <svg x=\"91.52121076195012%\" y=\"40\" height=\"18\" overflow=\"visible\" width=\"30\">    <path d=\"M 8 -9 l -6 18 L 8 25\" fill=\"none\" style=\"stroke:rgb(0.0, 138.56128015770724, 250.76166088685727);stroke-width:2\" />  </svg></g><g transform=\"translate(2,0)\">  <svg x=\"91.52121076195012%\" y=\"40\" height=\"18\" overflow=\"visible\" width=\"30\">    <path d=\"M 8 -9 l -6 18 L 8 25\" fill=\"none\" style=\"stroke:rgb(0.0, 138.56128015770724, 250.76166088685727);stroke-width:2\" />  </svg></g><g transform=\"translate(0,0)\">  <svg x=\"91.52121076195012%\" y=\"40\" height=\"18\" overflow=\"visible\" width=\"30\">    <path d=\"M 8 -9 l -6 18 L 8 25\" fill=\"none\" style=\"stroke:rgb(0.0, 138.56128015770724, 250.76166088685727);stroke-width:2\" />  </svg></g><g transform=\"translate(-2,0)\">  <svg x=\"91.52121076195012%\" y=\"40\" height=\"18\" overflow=\"visible\" width=\"30\">    <path d=\"M 8 -9 l -6 18 L 8 25\" fill=\"none\" style=\"stroke:rgb(0.0, 138.56128015770724, 250.76166088685727);stroke-width:2\" />  </svg></g><g transform=\"translate(-4,0)\">  <svg x=\"91.52121076195012%\" y=\"40\" height=\"18\" overflow=\"visible\" width=\"30\">    <path d=\"M 8 -9 l -6 18 L 8 25\" fill=\"none\" style=\"stroke:rgb(0.0, 138.56128015770724, 250.76166088685727);stroke-width:2\" />  </svg></g><rect transform=\"translate(0,0)\" x=\"16.707867085720675%\" y=\"40\" width=\"8\" height=\"18\" style=\"fill:rgb(0.0, 138.56128015770724, 250.76166088685727)\"/><g transform=\"translate(-6.0,0)\">  <svg x=\"91.66666455841361%\" y=\"40\" height=\"18\" overflow=\"visible\" width=\"30\">    <path d=\"M 8 -9 l -6 18 L 8 25 L 20 25 L 20 -9\" fill=\"#ffffff\" style=\"stroke:rgb(255,255,255);stroke-width:2\" />  </svg></g><g transform=\"translate(-6.0,0)\">  <svg x=\"58.0720618914344%\" y=\"40\" height=\"18\" overflow=\"visible\" width=\"30\">    <path d=\"M 8 -9 l -6 18 L 8 25\" fill=\"none\" style=\"stroke:rgb(208, 230, 250);stroke-width:2\" />  </svg></g><rect x=\"16.707867085720675%\" y=\"40\" height=\"20\" width=\"41.36419480571372%\"      onmouseover=\"document.getElementById('_tp_ndxrxphuclianojnemfc_ind_3').style.textDecoration = 'underline';document.getElementById('_fs_ndxrxphuclianojnemfc_ind_3').style.opacity = 1;document.getElementById('_fb_ndxrxphuclianojnemfc_ind_3').style.opacity = 1;\"      onmouseout=\"document.getElementById('_tp_ndxrxphuclianojnemfc_ind_3').style.textDecoration = 'none';document.getElementById('_fs_ndxrxphuclianojnemfc_ind_3').style.opacity = 0;document.getElementById('_fb_ndxrxphuclianojnemfc_ind_3').style.opacity = 0;\" style=\"fill:rgb(0,0,0,0)\" /><g transform=\"translate(-6.0,0)\">  <svg x=\"73.53843463612998%\" y=\"40\" height=\"18\" overflow=\"visible\" width=\"30\">    <path d=\"M 8 -9 l -6 18 L 8 25\" fill=\"none\" style=\"stroke:rgb(208, 230, 250);stroke-width:2\" />  </svg></g><rect x=\"58.0720618914344%\" y=\"40\" height=\"20\" width=\"15.466372744695576%\"      onmouseover=\"document.getElementById('_tp_ndxrxphuclianojnemfc_ind_2').style.textDecoration = 'underline';document.getElementById('_fs_ndxrxphuclianojnemfc_ind_2').style.opacity = 1;document.getElementById('_fb_ndxrxphuclianojnemfc_ind_2').style.opacity = 1;\"      onmouseout=\"document.getElementById('_tp_ndxrxphuclianojnemfc_ind_2').style.textDecoration = 'none';document.getElementById('_fs_ndxrxphuclianojnemfc_ind_2').style.opacity = 0;document.getElementById('_fb_ndxrxphuclianojnemfc_ind_2').style.opacity = 0;\" style=\"fill:rgb(0,0,0,0)\" /><g transform=\"translate(-6.0,0)\">  <svg x=\"82.32938688475008%\" y=\"40\" height=\"18\" overflow=\"visible\" width=\"30\">    <path d=\"M 8 -9 l -6 18 L 8 25\" fill=\"none\" style=\"stroke:rgb(208, 230, 250);stroke-width:2\" />  </svg></g><rect x=\"73.53843463612998%\" y=\"40\" height=\"20\" width=\"8.790952248620101%\"      onmouseover=\"document.getElementById('_tp_ndxrxphuclianojnemfc_ind_1').style.textDecoration = 'underline';document.getElementById('_fs_ndxrxphuclianojnemfc_ind_1').style.opacity = 1;document.getElementById('_fb_ndxrxphuclianojnemfc_ind_1').style.opacity = 1;\"      onmouseout=\"document.getElementById('_tp_ndxrxphuclianojnemfc_ind_1').style.textDecoration = 'none';document.getElementById('_fs_ndxrxphuclianojnemfc_ind_1').style.opacity = 0;document.getElementById('_fb_ndxrxphuclianojnemfc_ind_1').style.opacity = 0;\" style=\"fill:rgb(0,0,0,0)\" /><g transform=\"translate(-6.0,0)\">  <svg x=\"84.79290610300713%\" y=\"40\" height=\"18\" overflow=\"visible\" width=\"30\">    <path d=\"M 8 -9 l -6 18 L 8 25\" fill=\"none\" style=\"stroke:rgb(208, 230, 250);stroke-width:2\" />  </svg></g><rect x=\"82.32938688475008%\" y=\"40\" height=\"20\" width=\"2.463519218257048%\"      onmouseover=\"document.getElementById('_tp_ndxrxphuclianojnemfc_ind_5').style.textDecoration = 'underline';document.getElementById('_fs_ndxrxphuclianojnemfc_ind_5').style.opacity = 1;document.getElementById('_fb_ndxrxphuclianojnemfc_ind_5').style.opacity = 1;\"      onmouseout=\"document.getElementById('_tp_ndxrxphuclianojnemfc_ind_5').style.textDecoration = 'none';document.getElementById('_fs_ndxrxphuclianojnemfc_ind_5').style.opacity = 0;document.getElementById('_fb_ndxrxphuclianojnemfc_ind_5').style.opacity = 0;\" style=\"fill:rgb(0,0,0,0)\" /><g transform=\"translate(-6.0,0)\">  <svg x=\"86.917681441759%\" y=\"40\" height=\"18\" overflow=\"visible\" width=\"30\">    <path d=\"M 8 -9 l -6 18 L 8 25\" fill=\"none\" style=\"stroke:rgb(208, 230, 250);stroke-width:2\" />  </svg></g><rect x=\"84.79290610300713%\" y=\"40\" height=\"20\" width=\"2.124775338751874%\"      onmouseover=\"document.getElementById('_tp_ndxrxphuclianojnemfc_ind_9').style.textDecoration = 'underline';document.getElementById('_fs_ndxrxphuclianojnemfc_ind_9').style.opacity = 1;document.getElementById('_fb_ndxrxphuclianojnemfc_ind_9').style.opacity = 1;\"      onmouseout=\"document.getElementById('_tp_ndxrxphuclianojnemfc_ind_9').style.textDecoration = 'none';document.getElementById('_fs_ndxrxphuclianojnemfc_ind_9').style.opacity = 0;document.getElementById('_fb_ndxrxphuclianojnemfc_ind_9').style.opacity = 0;\" style=\"fill:rgb(0,0,0,0)\" /><g transform=\"translate(-6.0,0)\">  <svg x=\"88.64507516056251%\" y=\"40\" height=\"18\" overflow=\"visible\" width=\"30\">    <path d=\"M 8 -9 l -6 18 L 8 25\" fill=\"none\" style=\"stroke:rgb(208, 230, 250);stroke-width:2\" />  </svg></g><rect x=\"86.917681441759%\" y=\"40\" height=\"20\" width=\"1.727393718803512%\"      onmouseover=\"document.getElementById('_tp_ndxrxphuclianojnemfc_ind_0').style.textDecoration = 'underline';document.getElementById('_fs_ndxrxphuclianojnemfc_ind_0').style.opacity = 1;document.getElementById('_fb_ndxrxphuclianojnemfc_ind_0').style.opacity = 1;\"      onmouseout=\"document.getElementById('_tp_ndxrxphuclianojnemfc_ind_0').style.textDecoration = 'none';document.getElementById('_fs_ndxrxphuclianojnemfc_ind_0').style.opacity = 0;document.getElementById('_fb_ndxrxphuclianojnemfc_ind_0').style.opacity = 0;\" style=\"fill:rgb(0,0,0,0)\" /><g transform=\"translate(-6.0,0)\">  <svg x=\"89.6314126470315%\" y=\"40\" height=\"18\" overflow=\"visible\" width=\"30\">    <path d=\"M 8 -9 l -6 18 L 8 25\" fill=\"none\" style=\"stroke:rgb(208, 230, 250);stroke-width:2\" />  </svg></g><rect x=\"88.64507516056251%\" y=\"40\" height=\"20\" width=\"0.9863374864689831%\"      onmouseover=\"document.getElementById('_tp_ndxrxphuclianojnemfc_ind_18').style.textDecoration = 'underline';document.getElementById('_fs_ndxrxphuclianojnemfc_ind_18').style.opacity = 1;document.getElementById('_fb_ndxrxphuclianojnemfc_ind_18').style.opacity = 1;\"      onmouseout=\"document.getElementById('_tp_ndxrxphuclianojnemfc_ind_18').style.textDecoration = 'none';document.getElementById('_fs_ndxrxphuclianojnemfc_ind_18').style.opacity = 0;document.getElementById('_fb_ndxrxphuclianojnemfc_ind_18').style.opacity = 0;\" style=\"fill:rgb(0,0,0,0)\" /><g transform=\"translate(-6.0,0)\">  <svg x=\"90.39292407571298%\" y=\"40\" height=\"18\" overflow=\"visible\" width=\"30\">    <path d=\"M 8 -9 l -6 18 L 8 25\" fill=\"none\" style=\"stroke:rgb(208, 230, 250);stroke-width:2\" />  </svg></g><rect x=\"89.6314126470315%\" y=\"40\" height=\"20\" width=\"0.7615114286814872%\"      onmouseover=\"document.getElementById('_tp_ndxrxphuclianojnemfc_ind_6').style.textDecoration = 'underline';document.getElementById('_fs_ndxrxphuclianojnemfc_ind_6').style.opacity = 1;document.getElementById('_fb_ndxrxphuclianojnemfc_ind_6').style.opacity = 1;\"      onmouseout=\"document.getElementById('_tp_ndxrxphuclianojnemfc_ind_6').style.textDecoration = 'none';document.getElementById('_fs_ndxrxphuclianojnemfc_ind_6').style.opacity = 0;document.getElementById('_fb_ndxrxphuclianojnemfc_ind_6').style.opacity = 0;\" style=\"fill:rgb(0,0,0,0)\" /><g transform=\"translate(-6.0,0)\">  <svg x=\"91.09855060290712%\" y=\"40\" height=\"18\" overflow=\"visible\" width=\"30\">    <path d=\"M 8 -9 l -6 18 L 8 25\" fill=\"none\" style=\"stroke:rgb(208, 230, 250);stroke-width:2\" />  </svg></g><rect x=\"90.39292407571298%\" y=\"40\" height=\"20\" width=\"0.7056265271941413%\"      onmouseover=\"document.getElementById('_tp_ndxrxphuclianojnemfc_ind_4').style.textDecoration = 'underline';document.getElementById('_fs_ndxrxphuclianojnemfc_ind_4').style.opacity = 1;document.getElementById('_fb_ndxrxphuclianojnemfc_ind_4').style.opacity = 1;\"      onmouseout=\"document.getElementById('_tp_ndxrxphuclianojnemfc_ind_4').style.textDecoration = 'none';document.getElementById('_fs_ndxrxphuclianojnemfc_ind_4').style.opacity = 0;document.getElementById('_fb_ndxrxphuclianojnemfc_ind_4').style.opacity = 0;\" style=\"fill:rgb(0,0,0,0)\" /><g transform=\"translate(-6.0,0)\">  <svg x=\"91.52121076195012%\" y=\"40\" height=\"18\" overflow=\"visible\" width=\"30\">    <path d=\"M 8 -9 l -6 18 L 8 25\" fill=\"none\" style=\"stroke:rgb(208, 230, 250);stroke-width:2\" />  </svg></g><rect x=\"91.09855060290712%\" y=\"40\" height=\"20\" width=\"0.4226601590429908%\"      onmouseover=\"document.getElementById('_tp_ndxrxphuclianojnemfc_ind_8').style.textDecoration = 'underline';document.getElementById('_fs_ndxrxphuclianojnemfc_ind_8').style.opacity = 1;document.getElementById('_fb_ndxrxphuclianojnemfc_ind_8').style.opacity = 1;\"      onmouseout=\"document.getElementById('_tp_ndxrxphuclianojnemfc_ind_8').style.textDecoration = 'none';document.getElementById('_fs_ndxrxphuclianojnemfc_ind_8').style.opacity = 0;document.getElementById('_fb_ndxrxphuclianojnemfc_ind_8').style.opacity = 0;\" style=\"fill:rgb(0,0,0,0)\" /><rect x=\"91.52121076195012%\" y=\"40\" height=\"20\" width=\"0.14545379646349943%\"      onmouseover=\"document.getElementById('_tp_ndxrxphuclianojnemfc_ind_7').style.textDecoration = 'underline';document.getElementById('_fs_ndxrxphuclianojnemfc_ind_7').style.opacity = 1;document.getElementById('_fb_ndxrxphuclianojnemfc_ind_7').style.opacity = 1;\"      onmouseout=\"document.getElementById('_tp_ndxrxphuclianojnemfc_ind_7').style.textDecoration = 'none';document.getElementById('_fs_ndxrxphuclianojnemfc_ind_7').style.opacity = 0;document.getElementById('_fb_ndxrxphuclianojnemfc_ind_7').style.opacity = 0;\" style=\"fill:rgb(0,0,0,0)\" /></svg><div align='center'><div style=\"color: rgb(120,120,120); font-size: 12px; margin-top: -15px;\">inputs</div><div style='display: inline; text-align: center;'\n    ><div style='display: none; color: #999; padding-top: 0px; font-size: 12px;'>-0.023</div\n        ><div id='_tp_ndxrxphuclianojnemfc_ind_0'\n            style='display: inline; background: rgba(30.0, 136.0, 229.0, 0.07771836007130117); border-radius: 3px; padding: 0px'\n            onclick=\"\n            if (this.previousSibling.style.display == 'none') {\n                this.previousSibling.style.display = 'block';\n                this.parentNode.style.display = 'inline-block';\n            } else {\n                this.previousSibling.style.display = 'none';\n                this.parentNode.style.display = 'inline';\n            }\"\n            onmouseover=\"document.getElementById('_fb_ndxrxphuclianojnemfc_ind_0').style.opacity = 1; document.getElementById('_fs_ndxrxphuclianojnemfc_ind_0').style.opacity = 1;\"\n            onmouseout=\"document.getElementById('_fb_ndxrxphuclianojnemfc_ind_0').style.opacity = 0; document.getElementById('_fs_ndxrxphuclianojnemfc_ind_0').style.opacity = 0;\"\n        ></div></div><div style='display: inline; text-align: center;'\n    ><div style='display: none; color: #999; padding-top: 0px; font-size: 12px;'>-0.117 / 4</div\n        ><div id='_tp_ndxrxphuclianojnemfc_ind_1'\n            style='display: inline; background: rgba(30.0, 136.0, 229.0, 0.41667656961774613); border-radius: 3px; padding: 0px'\n            onclick=\"\n            if (this.previousSibling.style.display == 'none') {\n                this.previousSibling.style.display = 'block';\n                this.parentNode.style.display = 'inline-block';\n            } else {\n                this.previousSibling.style.display = 'none';\n                this.parentNode.style.display = 'inline';\n            }\"\n            onmouseover=\"document.getElementById('_fb_ndxrxphuclianojnemfc_ind_1').style.opacity = 1; document.getElementById('_fs_ndxrxphuclianojnemfc_ind_1').style.opacity = 1;\"\n            onmouseout=\"document.getElementById('_fb_ndxrxphuclianojnemfc_ind_1').style.opacity = 0; document.getElementById('_fs_ndxrxphuclianojnemfc_ind_1').style.opacity = 0;\"\n        >MADRID </div></div><div style='display: inline; text-align: center;'\n    ><div style='display: none; color: #999; padding-top: 0px; font-size: 12px;'>-0.205</div\n        ><div id='_tp_ndxrxphuclianojnemfc_ind_2'\n            style='display: inline; background: rgba(30.0, 136.0, 229.0, 0.731986531986532); border-radius: 3px; padding: 0px'\n            onclick=\"\n            if (this.previousSibling.style.display == 'none') {\n                this.previousSibling.style.display = 'block';\n                this.parentNode.style.display = 'inline-block';\n            } else {\n                this.previousSibling.style.display = 'none';\n                this.parentNode.style.display = 'inline';\n            }\"\n            onmouseover=\"document.getElementById('_fb_ndxrxphuclianojnemfc_ind_2').style.opacity = 1; document.getElementById('_fs_ndxrxphuclianojnemfc_ind_2').style.opacity = 1;\"\n            onmouseout=\"document.getElementById('_fb_ndxrxphuclianojnemfc_ind_2').style.opacity = 0; document.getElementById('_fs_ndxrxphuclianojnemfc_ind_2').style.opacity = 0;\"\n        >(</div></div><div style='display: inline; text-align: center;'\n    ><div style='display: none; color: #999; padding-top: 0px; font-size: 12px;'>-0.548 / 2</div\n        ><div id='_tp_ndxrxphuclianojnemfc_ind_3'\n            style='display: inline; background: rgba(30.0, 136.0, 229.0, 1.0); border-radius: 3px; padding: 0px'\n            onclick=\"\n            if (this.previousSibling.style.display == 'none') {\n                this.previousSibling.style.display = 'block';\n                this.parentNode.style.display = 'inline-block';\n            } else {\n                this.previousSibling.style.display = 'none';\n                this.parentNode.style.display = 'inline';\n            }\"\n            onmouseover=\"document.getElementById('_fb_ndxrxphuclianojnemfc_ind_3').style.opacity = 1; document.getElementById('_fs_ndxrxphuclianojnemfc_ind_3').style.opacity = 1;\"\n            onmouseout=\"document.getElementById('_fb_ndxrxphuclianojnemfc_ind_3').style.opacity = 0; document.getElementById('_fs_ndxrxphuclianojnemfc_ind_3').style.opacity = 0;\"\n        >Reuters) </div></div><div style='display: inline; text-align: center;'\n    ><div style='display: none; color: #999; padding-top: 0px; font-size: 12px;'>-0.009</div\n        ><div id='_tp_ndxrxphuclianojnemfc_ind_4'\n            style='display: inline; background: rgba(30.0, 136.0, 229.0, 0.03042186571598325); border-radius: 3px; padding: 0px'\n            onclick=\"\n            if (this.previousSibling.style.display == 'none') {\n                this.previousSibling.style.display = 'block';\n                this.parentNode.style.display = 'inline-block';\n            } else {\n                this.previousSibling.style.display = 'none';\n                this.parentNode.style.display = 'inline';\n            }\"\n            onmouseover=\"document.getElementById('_fb_ndxrxphuclianojnemfc_ind_4').style.opacity = 1; document.getElementById('_fs_ndxrxphuclianojnemfc_ind_4').style.opacity = 1;\"\n            onmouseout=\"document.getElementById('_fb_ndxrxphuclianojnemfc_ind_4').style.opacity = 0; document.getElementById('_fs_ndxrxphuclianojnemfc_ind_4').style.opacity = 0;\"\n        >- </div></div><div style='display: inline; text-align: center;'\n    ><div style='display: none; color: #999; padding-top: 0px; font-size: 12px;'>-0.033 / 3</div\n        ><div id='_tp_ndxrxphuclianojnemfc_ind_5'\n            style='display: inline; background: rgba(30.0, 136.0, 229.0, 0.10924935630817977); border-radius: 3px; padding: 0px'\n            onclick=\"\n            if (this.previousSibling.style.display == 'none') {\n                this.previousSibling.style.display = 'block';\n                this.parentNode.style.display = 'inline-block';\n            } else {\n                this.previousSibling.style.display = 'none';\n                this.parentNode.style.display = 'inline';\n            }\"\n            onmouseover=\"document.getElementById('_fb_ndxrxphuclianojnemfc_ind_5').style.opacity = 1; document.getElementById('_fs_ndxrxphuclianojnemfc_ind_5').style.opacity = 1;\"\n            onmouseout=\"document.getElementById('_fb_ndxrxphuclianojnemfc_ind_5').style.opacity = 0; document.getElementById('_fs_ndxrxphuclianojnemfc_ind_5').style.opacity = 0;\"\n        >Imprisoned </div></div><div style='display: inline; text-align: center;'\n    ><div style='display: none; color: #999; padding-top: 0px; font-size: 12px;'>-0.01 / 4</div\n        ><div id='_tp_ndxrxphuclianojnemfc_ind_6'\n            style='display: inline; background: rgba(30.0, 136.0, 229.0, 0.03042186571598325); border-radius: 3px; padding: 0px'\n            onclick=\"\n            if (this.previousSibling.style.display == 'none') {\n                this.previousSibling.style.display = 'block';\n                this.parentNode.style.display = 'inline-block';\n            } else {\n                this.previousSibling.style.display = 'none';\n                this.parentNode.style.display = 'inline';\n            }\"\n            onmouseover=\"document.getElementById('_fb_ndxrxphuclianojnemfc_ind_6').style.opacity = 1; document.getElementById('_fs_ndxrxphuclianojnemfc_ind_6').style.opacity = 1;\"\n            onmouseout=\"document.getElementById('_fb_ndxrxphuclianojnemfc_ind_6').style.opacity = 0; document.getElementById('_fs_ndxrxphuclianojnemfc_ind_6').style.opacity = 0;\"\n        >former vice-president </div></div><div style='display: inline; text-align: center;'\n    ><div style='display: none; color: #999; padding-top: 0px; font-size: 12px;'>-0.002 / 16</div\n        ><div id='_tp_ndxrxphuclianojnemfc_ind_7'\n            style='display: inline; background: rgba(54.70588235294111, 122.49411764705886, 213.40784313725496, 0.0); border-radius: 3px; padding: 0px'\n            onclick=\"\n            if (this.previousSibling.style.display == 'none') {\n                this.previousSibling.style.display = 'block';\n                this.parentNode.style.display = 'inline-block';\n            } else {\n                this.previousSibling.style.display = 'none';\n                this.parentNode.style.display = 'inline';\n            }\"\n            onmouseover=\"document.getElementById('_fb_ndxrxphuclianojnemfc_ind_7').style.opacity = 1; document.getElementById('_fs_ndxrxphuclianojnemfc_ind_7').style.opacity = 1;\"\n            onmouseout=\"document.getElementById('_fb_ndxrxphuclianojnemfc_ind_7').style.opacity = 0; document.getElementById('_fs_ndxrxphuclianojnemfc_ind_7').style.opacity = 0;\"\n        >of Catalonia Oriol Junqueras and three other jailed members of his ERC </div></div><div style='display: inline; text-align: center;'\n    ><div style='display: none; color: #999; padding-top: 0px; font-size: 12px;'>-0.006 / 8</div\n        ><div id='_tp_ndxrxphuclianojnemfc_ind_8'\n            style='display: inline; background: rgba(30.0, 136.0, 229.0, 0.014656367597544028); border-radius: 3px; padding: 0px'\n            onclick=\"\n            if (this.previousSibling.style.display == 'none') {\n                this.previousSibling.style.display = 'block';\n                this.parentNode.style.display = 'inline-block';\n            } else {\n                this.previousSibling.style.display = 'none';\n                this.parentNode.style.display = 'inline';\n            }\"\n            onmouseover=\"document.getElementById('_fb_ndxrxphuclianojnemfc_ind_8').style.opacity = 1; document.getElementById('_fs_ndxrxphuclianojnemfc_ind_8').style.opacity = 1;\"\n            onmouseout=\"document.getElementById('_fb_ndxrxphuclianojnemfc_ind_8').style.opacity = 0; document.getElementById('_fs_ndxrxphuclianojnemfc_ind_8').style.opacity = 0;\"\n        >party will abide by a ruling giving Madrid </div></div><div style='display: inline; text-align: center;'\n    ><div style='display: none; color: #999; padding-top: 0px; font-size: 12px;'>-0.028 / 5</div\n        ><div id='_tp_ndxrxphuclianojnemfc_ind_9'\n            style='display: inline; background: rgba(30.0, 136.0, 229.0, 0.09348385818974048); border-radius: 3px; padding: 0px'\n            onclick=\"\n            if (this.previousSibling.style.display == 'none') {\n                this.previousSibling.style.display = 'block';\n                this.parentNode.style.display = 'inline-block';\n            } else {\n                this.previousSibling.style.display = 'none';\n                this.parentNode.style.display = 'inline';\n            }\"\n            onmouseover=\"document.getElementById('_fb_ndxrxphuclianojnemfc_ind_9').style.opacity = 1; document.getElementById('_fs_ndxrxphuclianojnemfc_ind_9').style.opacity = 1;\"\n            onmouseout=\"document.getElementById('_fb_ndxrxphuclianojnemfc_ind_9').style.opacity = 0; document.getElementById('_fs_ndxrxphuclianojnemfc_ind_9').style.opacity = 0;\"\n        >control over the region, </div></div><div style='display: inline; text-align: center;'\n    ><div style='display: none; color: #999; padding-top: 0px; font-size: 12px;'>0.01 / 50</div\n        ><div id='_tp_ndxrxphuclianojnemfc_ind_10'\n            style='display: inline; background: rgba(255.0, 13.0, 87.0, 0.030421865715983164); border-radius: 3px; padding: 0px'\n            onclick=\"\n            if (this.previousSibling.style.display == 'none') {\n                this.previousSibling.style.display = 'block';\n                this.parentNode.style.display = 'inline-block';\n            } else {\n                this.previousSibling.style.display = 'none';\n                this.parentNode.style.display = 'inline';\n            }\"\n            onmouseover=\"document.getElementById('_fb_ndxrxphuclianojnemfc_ind_10').style.opacity = 1; document.getElementById('_fs_ndxrxphuclianojnemfc_ind_10').style.opacity = 1;\"\n            onmouseout=\"document.getElementById('_fb_ndxrxphuclianojnemfc_ind_10').style.opacity = 0; document.getElementById('_fs_ndxrxphuclianojnemfc_ind_10').style.opacity = 0;\"\n        >their defense lawyer said on Tuesday. Junqueras and seven other former members of the Catalonia regional cabinet were jailed on Nov. 2 pending trial, accused of sedition, rebellion and misappropriation of funds after the local government declared independence from Spain. </div></div><div style='display: inline; text-align: center;'\n    ><div style='display: none; color: #999; padding-top: 0px; font-size: 12px;'>0.016 / 127</div\n        ><div id='_tp_ndxrxphuclianojnemfc_ind_11'\n            style='display: inline; background: rgba(255.0, 13.0, 87.0, 0.05407011289364243); border-radius: 3px; padding: 0px'\n            onclick=\"\n            if (this.previousSibling.style.display == 'none') {\n                this.previousSibling.style.display = 'block';\n                this.parentNode.style.display = 'inline-block';\n            } else {\n                this.previousSibling.style.display = 'none';\n                this.parentNode.style.display = 'inline';\n            }\"\n            onmouseover=\"document.getElementById('_fb_ndxrxphuclianojnemfc_ind_11').style.opacity = 1; document.getElementById('_fs_ndxrxphuclianojnemfc_ind_11').style.opacity = 1;\"\n            onmouseout=\"document.getElementById('_fb_ndxrxphuclianojnemfc_ind_11').style.opacity = 0; document.getElementById('_fs_ndxrxphuclianojnemfc_ind_11').style.opacity = 0;\"\n        >Catalonia s secession drive has tipped Spain into its worst political crisis in decades and prompted Madrid to sack the Catalan government, led by Carles Puigdemont, and call a regional election for Dec. 21. The acceptance of Madrid s rule over the region could prompt the Supreme Court to overrule the decision to hold the defendants in custody while they await trial, and release them in time to campaign for the election. All four jailed ERC members - Junqueras, former foreign affairs chief Raul Romeva, justice affairs head Carles Mundo and work chief Dolors Bassa - have been named as candidates in the election. </div></div><div style='display: inline; text-align: center;'\n    ><div style='display: none; color: #999; padding-top: 0px; font-size: 12px;'>0.013 / 90</div\n        ><div id='_tp_ndxrxphuclianojnemfc_ind_12'\n            style='display: inline; background: rgba(255.0, 13.0, 87.0, 0.04618736383442265); border-radius: 3px; padding: 0px'\n            onclick=\"\n            if (this.previousSibling.style.display == 'none') {\n                this.previousSibling.style.display = 'block';\n                this.parentNode.style.display = 'inline-block';\n            } else {\n                this.previousSibling.style.display = 'none';\n                this.parentNode.style.display = 'inline';\n            }\"\n            onmouseover=\"document.getElementById('_fb_ndxrxphuclianojnemfc_ind_12').style.opacity = 1; document.getElementById('_fs_ndxrxphuclianojnemfc_ind_12').style.opacity = 1;\"\n            onmouseout=\"document.getElementById('_fb_ndxrxphuclianojnemfc_ind_12').style.opacity = 0; document.getElementById('_fs_ndxrxphuclianojnemfc_ind_12').style.opacity = 0;\"\n        >The defendants did not agree with the application of Article 155, which stripped the regional government of its power after the secessionist ruling, but accepted it, their lawyer said in a statement to the Supreme Court.  My charges accepted, and accept, the application of 155 ... but have done so from a position of deep political and judicial discrepancy,  the lawyer said. The lawyer added that the statement does not mean that they renounce their political convictions. </div></div><div style='display: inline; text-align: center;'\n    ><div style='display: none; color: #999; padding-top: 0px; font-size: 12px;'>0.002 / 24</div\n        ><div id='_tp_ndxrxphuclianojnemfc_ind_13'\n            style='display: inline; background: rgba(255.0, 13.0, 87.0, 0.00677361853832443); border-radius: 3px; padding: 0px'\n            onclick=\"\n            if (this.previousSibling.style.display == 'none') {\n                this.previousSibling.style.display = 'block';\n                this.parentNode.style.display = 'inline-block';\n            } else {\n                this.previousSibling.style.display = 'none';\n                this.parentNode.style.display = 'inline';\n            }\"\n            onmouseover=\"document.getElementById('_fb_ndxrxphuclianojnemfc_ind_13').style.opacity = 1; document.getElementById('_fs_ndxrxphuclianojnemfc_ind_13').style.opacity = 1;\"\n            onmouseout=\"document.getElementById('_fb_ndxrxphuclianojnemfc_ind_13').style.opacity = 0; document.getElementById('_fs_ndxrxphuclianojnemfc_ind_13').style.opacity = 0;\"\n        > Former leader of Catalonia Puigdemont, who has been in self-imposed exile in Belgium since declaring independence, </div></div><div style='display: inline; text-align: center;'\n    ><div style='display: none; color: #999; padding-top: 0px; font-size: 12px;'>0.006 / 8</div\n        ><div id='_tp_ndxrxphuclianojnemfc_ind_14'\n            style='display: inline; background: rgba(255.0, 13.0, 87.0, 0.014656367597544035); border-radius: 3px; padding: 0px'\n            onclick=\"\n            if (this.previousSibling.style.display == 'none') {\n                this.previousSibling.style.display = 'block';\n                this.parentNode.style.display = 'inline-block';\n            } else {\n                this.previousSibling.style.display = 'none';\n                this.parentNode.style.display = 'inline';\n            }\"\n            onmouseover=\"document.getElementById('_fb_ndxrxphuclianojnemfc_ind_14').style.opacity = 1; document.getElementById('_fs_ndxrxphuclianojnemfc_ind_14').style.opacity = 1;\"\n            onmouseout=\"document.getElementById('_fb_ndxrxphuclianojnemfc_ind_14').style.opacity = 0; document.getElementById('_fs_ndxrxphuclianojnemfc_ind_14').style.opacity = 0;\"\n        >said on Saturday the election would be most </div></div><div style='display: inline; text-align: center;'\n    ><div style='display: none; color: #999; padding-top: 0px; font-size: 12px;'>0.027 / 7</div\n        ><div id='_tp_ndxrxphuclianojnemfc_ind_15'\n            style='display: inline; background: rgba(255.0, 13.0, 87.0, 0.09348385818974037); border-radius: 3px; padding: 0px'\n            onclick=\"\n            if (this.previousSibling.style.display == 'none') {\n                this.previousSibling.style.display = 'block';\n                this.parentNode.style.display = 'inline-block';\n            } else {\n                this.previousSibling.style.display = 'none';\n                this.parentNode.style.display = 'inline';\n            }\"\n            onmouseover=\"document.getElementById('_fb_ndxrxphuclianojnemfc_ind_15').style.opacity = 1; document.getElementById('_fs_ndxrxphuclianojnemfc_ind_15').style.opacity = 1;\"\n            onmouseout=\"document.getElementById('_fb_ndxrxphuclianojnemfc_ind_15').style.opacity = 0; document.getElementById('_fs_ndxrxphuclianojnemfc_ind_15').style.opacity = 0;\"\n        >important in the region s history. </div></div><div style='display: inline; text-align: center;'\n    ><div style='display: none; color: #999; padding-top: 0px; font-size: 12px;'>0.008 / 15</div\n        ><div id='_tp_ndxrxphuclianojnemfc_ind_16'\n            style='display: inline; background: rgba(255.0, 13.0, 87.0, 0.02253911665676371); border-radius: 3px; padding: 0px'\n            onclick=\"\n            if (this.previousSibling.style.display == 'none') {\n                this.previousSibling.style.display = 'block';\n                this.parentNode.style.display = 'inline-block';\n            } else {\n                this.previousSibling.style.display = 'none';\n                this.parentNode.style.display = 'inline';\n            }\"\n            onmouseover=\"document.getElementById('_fb_ndxrxphuclianojnemfc_ind_16').style.opacity = 1; document.getElementById('_fs_ndxrxphuclianojnemfc_ind_16').style.opacity = 1;\"\n            onmouseout=\"document.getElementById('_fb_ndxrxphuclianojnemfc_ind_16').style.opacity = 0; document.getElementById('_fs_ndxrxphuclianojnemfc_ind_16').style.opacity = 0;\"\n        > Turnout for the election is expected to reach a record 80 percent as </div></div><div style='display: inline; text-align: center;'\n    ><div style='display: none; color: #999; padding-top: 0px; font-size: 12px;'>0.028 / 15</div\n        ><div id='_tp_ndxrxphuclianojnemfc_ind_17'\n            style='display: inline; background: rgba(255.0, 13.0, 87.0, 0.09348385818974037); border-radius: 3px; padding: 0px'\n            onclick=\"\n            if (this.previousSibling.style.display == 'none') {\n                this.previousSibling.style.display = 'block';\n                this.parentNode.style.display = 'inline-block';\n            } else {\n                this.previousSibling.style.display = 'none';\n                this.parentNode.style.display = 'inline';\n            }\"\n            onmouseover=\"document.getElementById('_fb_ndxrxphuclianojnemfc_ind_17').style.opacity = 1; document.getElementById('_fs_ndxrxphuclianojnemfc_ind_17').style.opacity = 1;\"\n            onmouseout=\"document.getElementById('_fb_ndxrxphuclianojnemfc_ind_17').style.opacity = 0; document.getElementById('_fs_ndxrxphuclianojnemfc_ind_17').style.opacity = 0;\"\n        >the deeply divisive issue of the region s secession prompts participation from both sides. </div></div><div style='display: inline; text-align: center;'\n    ><div style='display: none; color: #999; padding-top: 0px; font-size: 12px;'>-0.013 / 58</div\n        ><div id='_tp_ndxrxphuclianojnemfc_ind_18'\n            style='display: inline; background: rgba(30.0, 136.0, 229.0, 0.03830461477520309); border-radius: 3px; padding: 0px'\n            onclick=\"\n            if (this.previousSibling.style.display == 'none') {\n                this.previousSibling.style.display = 'block';\n                this.parentNode.style.display = 'inline-block';\n            } else {\n                this.previousSibling.style.display = 'none';\n                this.parentNode.style.display = 'inline';\n            }\"\n            onmouseover=\"document.getElementById('_fb_ndxrxphuclianojnemfc_ind_18').style.opacity = 1; document.getElementById('_fs_ndxrxphuclianojnemfc_ind_18').style.opacity = 1;\"\n            onmouseout=\"document.getElementById('_fb_ndxrxphuclianojnemfc_ind_18').style.opacity = 0; document.getElementById('_fs_ndxrxphuclianojnemfc_ind_18').style.opacity = 0;\"\n        >Less than a quarter of Catalans want to continue with a plan to claim independence from Spain, according to a poll published in El Pais newspaper on Monday. However, the same poll showed the vote evenly split between pro- and anti-independence parties in the upcoming regional election. </div></div></div></div><div id='_tp_objszupjktclxkgebukf_output_1' style='display: none';><svg width=\"100%\" height=\"80px\"><line x1=\"0\" y1=\"33\" x2=\"100%\" y2=\"33\" style=\"stroke:rgb(150,150,150);stroke-width:1\" /><line x1=\"49.99999820194344%\" y1=\"33\" x2=\"49.99999820194344%\" y2=\"37\" style=\"stroke:rgb(150,150,150);stroke-width:1\" /><text x=\"49.99999820194344%\" y=\"27\" font-size=\"12px\" fill=\"rgb(120,120,120)\" dominant-baseline=\"bottom\" text-anchor=\"middle\">0.5</text><line x1=\"36.14045934982129%\" y1=\"33\" x2=\"36.14045934982129%\" y2=\"37\" style=\"stroke:rgb(150,150,150);stroke-width:1\" /><text x=\"36.14045934982129%\" y=\"27\" font-size=\"12px\" fill=\"rgb(120,120,120)\" dominant-baseline=\"bottom\" text-anchor=\"middle\">0.3</text><line x1=\"22.280920497699128%\" y1=\"33\" x2=\"22.280920497699128%\" y2=\"37\" style=\"stroke:rgb(150,150,150);stroke-width:1\" /><text x=\"22.280920497699128%\" y=\"27\" font-size=\"12px\" fill=\"rgb(120,120,120)\" dominant-baseline=\"bottom\" text-anchor=\"middle\">0.1</text><line x1=\"8.421381645576963%\" y1=\"33\" x2=\"8.421381645576963%\" y2=\"37\" style=\"stroke:rgb(150,150,150);stroke-width:1\" /><text x=\"8.421381645576963%\" y=\"27\" font-size=\"12px\" fill=\"rgb(120,120,120)\" dominant-baseline=\"bottom\" text-anchor=\"middle\">-0.1</text><line x1=\"63.859537054065605%\" y1=\"33\" x2=\"63.859537054065605%\" y2=\"37\" style=\"stroke:rgb(150,150,150);stroke-width:1\" /><text x=\"63.859537054065605%\" y=\"27\" font-size=\"12px\" fill=\"rgb(120,120,120)\" dominant-baseline=\"bottom\" text-anchor=\"middle\">0.7</text><line x1=\"77.71907590618775%\" y1=\"33\" x2=\"77.71907590618775%\" y2=\"37\" style=\"stroke:rgb(150,150,150);stroke-width:1\" /><text x=\"77.71907590618775%\" y=\"27\" font-size=\"12px\" fill=\"rgb(120,120,120)\" dominant-baseline=\"bottom\" text-anchor=\"middle\">0.9</text><line x1=\"91.57861475830993%\" y1=\"33\" x2=\"91.57861475830993%\" y2=\"37\" style=\"stroke:rgb(150,150,150);stroke-width:1\" /><text x=\"91.57861475830993%\" y=\"27\" font-size=\"12px\" fill=\"rgb(120,120,120)\" dominant-baseline=\"bottom\" text-anchor=\"middle\">1.1</text><line x1=\"23.467772902841453%\" y1=\"33\" x2=\"23.467772902841453%\" y2=\"37\" style=\"stroke:rgb(150,150,150);stroke-width:1\" /><text x=\"23.467772902841453%\" y=\"27\" font-size=\"13px\" style=\"stroke:#ffffff;stroke-width:8px;\" fill=\"rgb(255,255,255)\" dominant-baseline=\"bottom\" text-anchor=\"middle\">0.117127</text><text x=\"23.467772902841453%\" y=\"27\" font-size=\"12px\" fill=\"rgb(120,120,120)\" dominant-baseline=\"bottom\" text-anchor=\"middle\">0.117127</text><text x=\"23.467772902841453%\" y=\"10\" font-size=\"12px\" fill=\"rgb(120,120,120)\" dominant-baseline=\"bottom\" text-anchor=\"middle\">base value</text><line x1=\"84.64812663143451%\" y1=\"33\" x2=\"84.64812663143451%\" y2=\"37\" style=\"stroke:rgb(150,150,150);stroke-width:1\" /><text x=\"84.64812663143451%\" y=\"27\" font-size=\"13px\" style=\"stroke:#ffffff;stroke-width:8px;\" font-weight=\"bold\" fill=\"rgb(255,255,255)\" dominant-baseline=\"bottom\" text-anchor=\"middle\">0.99999</text><text x=\"84.64812663143451%\" y=\"27\" font-size=\"13px\" font-weight=\"bold\" fill=\"rgb(0,0,0)\" dominant-baseline=\"bottom\" text-anchor=\"middle\">0.99999</text><text x=\"84.64812663143451%\" y=\"10\" font-size=\"12px\" fill=\"rgb(120,120,120)\" dominant-baseline=\"bottom\" text-anchor=\"middle\">f<tspan baseline-shift=\"sub\" font-size=\"8px\">True</tspan>(inputs)</text><rect x=\"15.772908483900423%\" width=\"68.87521814753408%\" y=\"40\" height=\"18\" style=\"fill:rgb(255.0, 0.0, 81.08083606031792); stroke-width:0; stroke:rgb(0,0,0)\" /><line x1=\"46.64100691999428%\" x2=\"84.64812663143451%\" y1=\"60\" y2=\"60\" id=\"_fb_hgilaczdksemplarsixe_ind_3\" style=\"stroke:rgb(255.0, 0.0, 81.08083606031792);stroke-width:2; opacity: 0\"/><text x=\"65.6445667757144%\" y=\"71\" font-size=\"12px\" id=\"_fs_hgilaczdksemplarsixe_ind_3\" fill=\"rgb(255.0, 0.0, 81.08083606031792)\" style=\"opacity: 0\" dominant-baseline=\"middle\" text-anchor=\"middle\">0.548</text><svg x=\"46.64100691999428%\" y=\"40\" height=\"20\" width=\"38.007119711440225%\">  <svg x=\"0\" y=\"0\" width=\"100%\" height=\"100%\">    <text x=\"50%\" y=\"9\" font-size=\"12px\" fill=\"rgb(255,255,255)\" dominant-baseline=\"middle\" text-anchor=\"middle\">Reuters)</text>  </svg></svg><line x1=\"32.42986972170837%\" x2=\"46.64100691999428%\" y1=\"60\" y2=\"60\" id=\"_fb_hgilaczdksemplarsixe_ind_2\" style=\"stroke:rgb(255.0, 0.0, 81.08083606031792);stroke-width:2; opacity: 0\"/><text x=\"39.53543832085133%\" y=\"71\" font-size=\"12px\" id=\"_fs_hgilaczdksemplarsixe_ind_2\" fill=\"rgb(255.0, 0.0, 81.08083606031792)\" style=\"opacity: 0\" dominant-baseline=\"middle\" text-anchor=\"middle\">0.205</text><svg x=\"32.42986972170837%\" y=\"40\" height=\"20\" width=\"14.211137198285911%\">  <svg x=\"0\" y=\"0\" width=\"100%\" height=\"100%\">    <text x=\"50%\" y=\"9\" font-size=\"12px\" fill=\"rgb(255,255,255)\" dominant-baseline=\"middle\" text-anchor=\"middle\">(</text>  </svg></svg><line x1=\"24.352382372065026%\" x2=\"32.42986972170837%\" y1=\"60\" y2=\"60\" id=\"_fb_hgilaczdksemplarsixe_ind_1\" style=\"stroke:rgb(255.0, 0.0, 81.08083606031792);stroke-width:2; opacity: 0\"/><text x=\"28.391126046886697%\" y=\"71\" font-size=\"12px\" id=\"_fs_hgilaczdksemplarsixe_ind_1\" fill=\"rgb(255.0, 0.0, 81.08083606031792)\" style=\"opacity: 0\" dominant-baseline=\"middle\" text-anchor=\"middle\">0.117</text><svg x=\"24.352382372065026%\" y=\"40\" height=\"20\" width=\"8.077487349643345%\">  <svg x=\"0\" y=\"0\" width=\"100%\" height=\"100%\">    <text x=\"50%\" y=\"9\" font-size=\"12px\" fill=\"rgb(255,255,255)\" dominant-baseline=\"middle\" text-anchor=\"middle\">MADRID</text>  </svg></svg><line x1=\"22.088799668689468%\" x2=\"24.352382372065026%\" y1=\"60\" y2=\"60\" id=\"_fb_hgilaczdksemplarsixe_ind_5\" style=\"stroke:rgb(255.0, 0.0, 81.08083606031792);stroke-width:2; opacity: 0\"/><text x=\"23.22059102037725%\" y=\"71\" font-size=\"12px\" id=\"_fs_hgilaczdksemplarsixe_ind_5\" fill=\"rgb(255.0, 0.0, 81.08083606031792)\" style=\"opacity: 0\" dominant-baseline=\"middle\" text-anchor=\"middle\">0.033</text><svg x=\"22.088799668689468%\" y=\"40\" height=\"20\" width=\"2.2635827033755582%\">  <svg x=\"0\" y=\"0\" width=\"100%\" height=\"100%\">    <text x=\"50%\" y=\"9\" font-size=\"12px\" fill=\"rgb(255,255,255)\" dominant-baseline=\"middle\" text-anchor=\"middle\">Imprisoned</text>  </svg></svg><line x1=\"20.136469109108152%\" x2=\"22.088799668689468%\" y1=\"60\" y2=\"60\" id=\"_fb_hgilaczdksemplarsixe_ind_9\" style=\"stroke:rgb(255.0, 0.0, 81.08083606031792);stroke-width:2; opacity: 0\"/><text x=\"21.11263438889881%\" y=\"71\" font-size=\"12px\" id=\"_fs_hgilaczdksemplarsixe_ind_9\" fill=\"rgb(255.0, 0.0, 81.08083606031792)\" style=\"opacity: 0\" dominant-baseline=\"middle\" text-anchor=\"middle\">0.028</text><svg x=\"20.136469109108152%\" y=\"40\" height=\"20\" width=\"1.9523305595813163%\">  <svg x=\"0\" y=\"0\" width=\"100%\" height=\"100%\">    <text x=\"50%\" y=\"9\" font-size=\"12px\" fill=\"rgb(255,255,255)\" dominant-baseline=\"middle\" text-anchor=\"middle\">control over the region,</text>  </svg></svg><line x1=\"18.54926920912308%\" x2=\"20.136469109108152%\" y1=\"60\" y2=\"60\" id=\"_fb_hgilaczdksemplarsixe_ind_0\" style=\"stroke:rgb(255.0, 0.0, 81.08083606031792);stroke-width:2; opacity: 0\"/><text x=\"19.342869159115615%\" y=\"71\" font-size=\"12px\" id=\"_fs_hgilaczdksemplarsixe_ind_0\" fill=\"rgb(255.0, 0.0, 81.08083606031792)\" style=\"opacity: 0\" dominant-baseline=\"middle\" text-anchor=\"middle\">0.023</text><svg x=\"18.54926920912308%\" y=\"40\" height=\"20\" width=\"1.5871998999850732%\">  <svg x=\"0\" y=\"0\" width=\"100%\" height=\"100%\">    <text x=\"50%\" y=\"9\" font-size=\"12px\" fill=\"rgb(255,255,255)\" dominant-baseline=\"middle\" text-anchor=\"middle\"></text>  </svg></svg><line x1=\"17.64298155763392%\" x2=\"18.54926920912308%\" y1=\"60\" y2=\"60\" id=\"_fb_hgilaczdksemplarsixe_ind_18\" style=\"stroke:rgb(255.0, 0.0, 81.08083606031792);stroke-width:2; opacity: 0\"/><text x=\"18.0961253833785%\" y=\"71\" font-size=\"12px\" id=\"_fs_hgilaczdksemplarsixe_ind_18\" fill=\"rgb(255.0, 0.0, 81.08083606031792)\" style=\"opacity: 0\" dominant-baseline=\"middle\" text-anchor=\"middle\">0.013</text><svg x=\"17.64298155763392%\" y=\"40\" height=\"20\" width=\"0.9062876514891585%\">  <svg x=\"0\" y=\"0\" width=\"100%\" height=\"100%\">    <text x=\"50%\" y=\"9\" font-size=\"12px\" fill=\"rgb(255,255,255)\" dominant-baseline=\"middle\" text-anchor=\"middle\">Less than a quarter of Catalans want to continue with a plan to claim independence from Spain, according to a poll published in El Pais newspaper on Monday. However, the same poll showed the vote evenly split between pro- and anti-independence parties in the upcoming regional election.</text>  </svg></svg><line x1=\"16.943273319663717%\" x2=\"17.64298155763392%\" y1=\"60\" y2=\"60\" id=\"_fb_hgilaczdksemplarsixe_ind_6\" style=\"stroke:rgb(255.0, 0.0, 81.08083606031792);stroke-width:2; opacity: 0\"/><text x=\"17.293127438648817%\" y=\"71\" font-size=\"12px\" id=\"_fs_hgilaczdksemplarsixe_ind_6\" fill=\"rgb(255.0, 0.0, 81.08083606031792)\" style=\"opacity: 0\" dominant-baseline=\"middle\" text-anchor=\"middle\">0.01</text><svg x=\"16.943273319663717%\" y=\"40\" height=\"20\" width=\"0.6997082379702029%\">  <svg x=\"0\" y=\"0\" width=\"100%\" height=\"100%\">    <text x=\"50%\" y=\"9\" font-size=\"12px\" fill=\"rgb(255,255,255)\" dominant-baseline=\"middle\" text-anchor=\"middle\">former vice-president</text>  </svg></svg><line x1=\"16.29491459866063%\" x2=\"16.943273319663717%\" y1=\"60\" y2=\"60\" id=\"_fb_hgilaczdksemplarsixe_ind_4\" style=\"stroke:rgb(255.0, 0.0, 81.08083606031792);stroke-width:2; opacity: 0\"/><text x=\"16.61909395916217%\" y=\"71\" font-size=\"12px\" id=\"_fs_hgilaczdksemplarsixe_ind_4\" fill=\"rgb(255.0, 0.0, 81.08083606031792)\" style=\"opacity: 0\" dominant-baseline=\"middle\" text-anchor=\"middle\">0.009</text><svg x=\"16.29491459866063%\" y=\"40\" height=\"20\" width=\"0.6483587210030883%\">  <svg x=\"0\" y=\"0\" width=\"100%\" height=\"100%\">    <text x=\"50%\" y=\"9\" font-size=\"12px\" fill=\"rgb(255,255,255)\" dominant-baseline=\"middle\" text-anchor=\"middle\">-</text>  </svg></svg><line x1=\"15.906557232419926%\" x2=\"16.29491459866063%\" y1=\"60\" y2=\"60\" id=\"_fb_hgilaczdksemplarsixe_ind_8\" style=\"stroke:rgb(255.0, 0.0, 81.08083606031792);stroke-width:2; opacity: 0\"/><text x=\"16.100735915540277%\" y=\"71\" font-size=\"12px\" id=\"_fs_hgilaczdksemplarsixe_ind_8\" fill=\"rgb(255.0, 0.0, 81.08083606031792)\" style=\"opacity: 0\" dominant-baseline=\"middle\" text-anchor=\"middle\">0.006</text><svg x=\"15.906557232419926%\" y=\"40\" height=\"20\" width=\"0.3883573662407027%\">  <svg x=\"0\" y=\"0\" width=\"100%\" height=\"100%\">    <text x=\"50%\" y=\"9\" font-size=\"12px\" fill=\"rgb(255,255,255)\" dominant-baseline=\"middle\" text-anchor=\"middle\">party will abide by a ruling giving Madrid</text>  </svg></svg><line x1=\"15.772908483900423%\" x2=\"15.906557232419926%\" y1=\"60\" y2=\"60\" id=\"_fb_hgilaczdksemplarsixe_ind_7\" style=\"stroke:rgb(255.0, 0.0, 81.08083606031792);stroke-width:2; opacity: 0\"/><text x=\"15.839732858160176%\" y=\"71\" font-size=\"12px\" id=\"_fs_hgilaczdksemplarsixe_ind_7\" fill=\"rgb(255.0, 0.0, 81.08083606031792)\" style=\"opacity: 0\" dominant-baseline=\"middle\" text-anchor=\"middle\">0.002</text><svg x=\"15.772908483900423%\" y=\"40\" height=\"20\" width=\"0.13364874851950326%\">  <svg x=\"0\" y=\"0\" width=\"100%\" height=\"100%\">    <text x=\"50%\" y=\"9\" font-size=\"12px\" fill=\"rgb(255,255,255)\" dominant-baseline=\"middle\" text-anchor=\"middle\">of Catalonia Oriol Junqueras and three other jailed members of his ERC</text>  </svg></svg><g transform=\"translate(0,0)\">  <svg x=\"46.64100691999428%\" y=\"40\" height=\"18\" overflow=\"visible\" width=\"30\">    <path d=\"M 0 -9 l 6 18 L 0 25\" fill=\"none\" style=\"stroke:rgb(255.0, 0.0, 81.08083606031792);stroke-width:2\" />  </svg></g><g transform=\"translate(2,0)\">  <svg x=\"46.64100691999428%\" y=\"40\" height=\"18\" overflow=\"visible\" width=\"30\">    <path d=\"M 0 -9 l 6 18 L 0 25\" fill=\"none\" style=\"stroke:rgb(255.0, 0.0, 81.08083606031792);stroke-width:2\" />  </svg></g><g transform=\"translate(4,0)\">  <svg x=\"46.64100691999428%\" y=\"40\" height=\"18\" overflow=\"visible\" width=\"30\">    <path d=\"M 0 -9 l 6 18 L 0 25\" fill=\"none\" style=\"stroke:rgb(255.0, 0.0, 81.08083606031792);stroke-width:2\" />  </svg></g><g transform=\"translate(6,0)\">  <svg x=\"46.64100691999428%\" y=\"40\" height=\"18\" overflow=\"visible\" width=\"30\">    <path d=\"M 0 -9 l 6 18 L 0 25\" fill=\"none\" style=\"stroke:rgb(255.0, 0.0, 81.08083606031792);stroke-width:2\" />  </svg></g><g transform=\"translate(-8,0)\">  <svg x=\"46.64100691999428%\" y=\"40\" height=\"18\" overflow=\"visible\" width=\"30\">    <path d=\"M 0 -9 l 6 18 L 0 25\" fill=\"none\" style=\"stroke:rgb(255.0, 0.0, 81.08083606031792);stroke-width:2\" />  </svg></g><g transform=\"translate(-6,0)\">  <svg x=\"46.64100691999428%\" y=\"40\" height=\"18\" overflow=\"visible\" width=\"30\">    <path d=\"M 0 -9 l 6 18 L 0 25\" fill=\"none\" style=\"stroke:rgb(255.0, 0.0, 81.08083606031792);stroke-width:2\" />  </svg></g><g transform=\"translate(-4,0)\">  <svg x=\"46.64100691999428%\" y=\"40\" height=\"18\" overflow=\"visible\" width=\"30\">    <path d=\"M 0 -9 l 6 18 L 0 25\" fill=\"none\" style=\"stroke:rgb(255.0, 0.0, 81.08083606031792);stroke-width:2\" />  </svg></g><g transform=\"translate(-2,0)\">  <svg x=\"46.64100691999428%\" y=\"40\" height=\"18\" overflow=\"visible\" width=\"30\">    <path d=\"M 0 -9 l 6 18 L 0 25\" fill=\"none\" style=\"stroke:rgb(255.0, 0.0, 81.08083606031792);stroke-width:2\" />  </svg></g><g transform=\"translate(0,0)\">  <svg x=\"32.42986972170837%\" y=\"40\" height=\"18\" overflow=\"visible\" width=\"30\">    <path d=\"M 0 -9 l 6 18 L 0 25\" fill=\"none\" style=\"stroke:rgb(255.0, 0.0, 81.08083606031792);stroke-width:2\" />  </svg></g><g transform=\"translate(2,0)\">  <svg x=\"32.42986972170837%\" y=\"40\" height=\"18\" overflow=\"visible\" width=\"30\">    <path d=\"M 0 -9 l 6 18 L 0 25\" fill=\"none\" style=\"stroke:rgb(255.0, 0.0, 81.08083606031792);stroke-width:2\" />  </svg></g><g transform=\"translate(4,0)\">  <svg x=\"32.42986972170837%\" y=\"40\" height=\"18\" overflow=\"visible\" width=\"30\">    <path d=\"M 0 -9 l 6 18 L 0 25\" fill=\"none\" style=\"stroke:rgb(255.0, 0.0, 81.08083606031792);stroke-width:2\" />  </svg></g><g transform=\"translate(6,0)\">  <svg x=\"32.42986972170837%\" y=\"40\" height=\"18\" overflow=\"visible\" width=\"30\">    <path d=\"M 0 -9 l 6 18 L 0 25\" fill=\"none\" style=\"stroke:rgb(255.0, 0.0, 81.08083606031792);stroke-width:2\" />  </svg></g><g transform=\"translate(-8,0)\">  <svg x=\"32.42986972170837%\" y=\"40\" height=\"18\" overflow=\"visible\" width=\"30\">    <path d=\"M 0 -9 l 6 18 L 0 25\" fill=\"none\" style=\"stroke:rgb(255.0, 0.0, 81.08083606031792);stroke-width:2\" />  </svg></g><g transform=\"translate(-6,0)\">  <svg x=\"32.42986972170837%\" y=\"40\" height=\"18\" overflow=\"visible\" width=\"30\">    <path d=\"M 0 -9 l 6 18 L 0 25\" fill=\"none\" style=\"stroke:rgb(255.0, 0.0, 81.08083606031792);stroke-width:2\" />  </svg></g><g transform=\"translate(-4,0)\">  <svg x=\"32.42986972170837%\" y=\"40\" height=\"18\" overflow=\"visible\" width=\"30\">    <path d=\"M 0 -9 l 6 18 L 0 25\" fill=\"none\" style=\"stroke:rgb(255.0, 0.0, 81.08083606031792);stroke-width:2\" />  </svg></g><g transform=\"translate(-2,0)\">  <svg x=\"32.42986972170837%\" y=\"40\" height=\"18\" overflow=\"visible\" width=\"30\">    <path d=\"M 0 -9 l 6 18 L 0 25\" fill=\"none\" style=\"stroke:rgb(255.0, 0.0, 81.08083606031792);stroke-width:2\" />  </svg></g><g transform=\"translate(0,0)\">  <svg x=\"24.352382372065026%\" y=\"40\" height=\"18\" overflow=\"visible\" width=\"30\">    <path d=\"M 0 -9 l 6 18 L 0 25\" fill=\"none\" style=\"stroke:rgb(255.0, 0.0, 81.08083606031792);stroke-width:2\" />  </svg></g><g transform=\"translate(2,0)\">  <svg x=\"24.352382372065026%\" y=\"40\" height=\"18\" overflow=\"visible\" width=\"30\">    <path d=\"M 0 -9 l 6 18 L 0 25\" fill=\"none\" style=\"stroke:rgb(255.0, 0.0, 81.08083606031792);stroke-width:2\" />  </svg></g><g transform=\"translate(4,0)\">  <svg x=\"24.352382372065026%\" y=\"40\" height=\"18\" overflow=\"visible\" width=\"30\">    <path d=\"M 0 -9 l 6 18 L 0 25\" fill=\"none\" style=\"stroke:rgb(255.0, 0.0, 81.08083606031792);stroke-width:2\" />  </svg></g><g transform=\"translate(6,0)\">  <svg x=\"24.352382372065026%\" y=\"40\" height=\"18\" overflow=\"visible\" width=\"30\">    <path d=\"M 0 -9 l 6 18 L 0 25\" fill=\"none\" style=\"stroke:rgb(255.0, 0.0, 81.08083606031792);stroke-width:2\" />  </svg></g><g transform=\"translate(-8,0)\">  <svg x=\"24.352382372065026%\" y=\"40\" height=\"18\" overflow=\"visible\" width=\"30\">    <path d=\"M 0 -9 l 6 18 L 0 25\" fill=\"none\" style=\"stroke:rgb(255.0, 0.0, 81.08083606031792);stroke-width:2\" />  </svg></g><g transform=\"translate(-6,0)\">  <svg x=\"24.352382372065026%\" y=\"40\" height=\"18\" overflow=\"visible\" width=\"30\">    <path d=\"M 0 -9 l 6 18 L 0 25\" fill=\"none\" style=\"stroke:rgb(255.0, 0.0, 81.08083606031792);stroke-width:2\" />  </svg></g><g transform=\"translate(-4,0)\">  <svg x=\"24.352382372065026%\" y=\"40\" height=\"18\" overflow=\"visible\" width=\"30\">    <path d=\"M 0 -9 l 6 18 L 0 25\" fill=\"none\" style=\"stroke:rgb(255.0, 0.0, 81.08083606031792);stroke-width:2\" />  </svg></g><g transform=\"translate(-2,0)\">  <svg x=\"24.352382372065026%\" y=\"40\" height=\"18\" overflow=\"visible\" width=\"30\">    <path d=\"M 0 -9 l 6 18 L 0 25\" fill=\"none\" style=\"stroke:rgb(255.0, 0.0, 81.08083606031792);stroke-width:2\" />  </svg></g><g transform=\"translate(0,0)\">  <svg x=\"22.088799668689468%\" y=\"40\" height=\"18\" overflow=\"visible\" width=\"30\">    <path d=\"M 0 -9 l 6 18 L 0 25\" fill=\"none\" style=\"stroke:rgb(255.0, 0.0, 81.08083606031792);stroke-width:2\" />  </svg></g><g transform=\"translate(2,0)\">  <svg x=\"22.088799668689468%\" y=\"40\" height=\"18\" overflow=\"visible\" width=\"30\">    <path d=\"M 0 -9 l 6 18 L 0 25\" fill=\"none\" style=\"stroke:rgb(255.0, 0.0, 81.08083606031792);stroke-width:2\" />  </svg></g><g transform=\"translate(4,0)\">  <svg x=\"22.088799668689468%\" y=\"40\" height=\"18\" overflow=\"visible\" width=\"30\">    <path d=\"M 0 -9 l 6 18 L 0 25\" fill=\"none\" style=\"stroke:rgb(255.0, 0.0, 81.08083606031792);stroke-width:2\" />  </svg></g><g transform=\"translate(6,0)\">  <svg x=\"22.088799668689468%\" y=\"40\" height=\"18\" overflow=\"visible\" width=\"30\">    <path d=\"M 0 -9 l 6 18 L 0 25\" fill=\"none\" style=\"stroke:rgb(255.0, 0.0, 81.08083606031792);stroke-width:2\" />  </svg></g><g transform=\"translate(-8,0)\">  <svg x=\"22.088799668689468%\" y=\"40\" height=\"18\" overflow=\"visible\" width=\"30\">    <path d=\"M 0 -9 l 6 18 L 0 25\" fill=\"none\" style=\"stroke:rgb(255.0, 0.0, 81.08083606031792);stroke-width:2\" />  </svg></g><g transform=\"translate(-6,0)\">  <svg x=\"22.088799668689468%\" y=\"40\" height=\"18\" overflow=\"visible\" width=\"30\">    <path d=\"M 0 -9 l 6 18 L 0 25\" fill=\"none\" style=\"stroke:rgb(255.0, 0.0, 81.08083606031792);stroke-width:2\" />  </svg></g><g transform=\"translate(-4,0)\">  <svg x=\"22.088799668689468%\" y=\"40\" height=\"18\" overflow=\"visible\" width=\"30\">    <path d=\"M 0 -9 l 6 18 L 0 25\" fill=\"none\" style=\"stroke:rgb(255.0, 0.0, 81.08083606031792);stroke-width:2\" />  </svg></g><g transform=\"translate(-2,0)\">  <svg x=\"22.088799668689468%\" y=\"40\" height=\"18\" overflow=\"visible\" width=\"30\">    <path d=\"M 0 -9 l 6 18 L 0 25\" fill=\"none\" style=\"stroke:rgb(255.0, 0.0, 81.08083606031792);stroke-width:2\" />  </svg></g><g transform=\"translate(0,0)\">  <svg x=\"20.136469109108152%\" y=\"40\" height=\"18\" overflow=\"visible\" width=\"30\">    <path d=\"M 0 -9 l 6 18 L 0 25\" fill=\"none\" style=\"stroke:rgb(255.0, 0.0, 81.08083606031792);stroke-width:2\" />  </svg></g><g transform=\"translate(2,0)\">  <svg x=\"20.136469109108152%\" y=\"40\" height=\"18\" overflow=\"visible\" width=\"30\">    <path d=\"M 0 -9 l 6 18 L 0 25\" fill=\"none\" style=\"stroke:rgb(255.0, 0.0, 81.08083606031792);stroke-width:2\" />  </svg></g><g transform=\"translate(4,0)\">  <svg x=\"20.136469109108152%\" y=\"40\" height=\"18\" overflow=\"visible\" width=\"30\">    <path d=\"M 0 -9 l 6 18 L 0 25\" fill=\"none\" style=\"stroke:rgb(255.0, 0.0, 81.08083606031792);stroke-width:2\" />  </svg></g><g transform=\"translate(6,0)\">  <svg x=\"20.136469109108152%\" y=\"40\" height=\"18\" overflow=\"visible\" width=\"30\">    <path d=\"M 0 -9 l 6 18 L 0 25\" fill=\"none\" style=\"stroke:rgb(255.0, 0.0, 81.08083606031792);stroke-width:2\" />  </svg></g><g transform=\"translate(-8,0)\">  <svg x=\"20.136469109108152%\" y=\"40\" height=\"18\" overflow=\"visible\" width=\"30\">    <path d=\"M 0 -9 l 6 18 L 0 25\" fill=\"none\" style=\"stroke:rgb(255.0, 0.0, 81.08083606031792);stroke-width:2\" />  </svg></g><g transform=\"translate(-6,0)\">  <svg x=\"20.136469109108152%\" y=\"40\" height=\"18\" overflow=\"visible\" width=\"30\">    <path d=\"M 0 -9 l 6 18 L 0 25\" fill=\"none\" style=\"stroke:rgb(255.0, 0.0, 81.08083606031792);stroke-width:2\" />  </svg></g><g transform=\"translate(-4,0)\">  <svg x=\"20.136469109108152%\" y=\"40\" height=\"18\" overflow=\"visible\" width=\"30\">    <path d=\"M 0 -9 l 6 18 L 0 25\" fill=\"none\" style=\"stroke:rgb(255.0, 0.0, 81.08083606031792);stroke-width:2\" />  </svg></g><g transform=\"translate(-2,0)\">  <svg x=\"20.136469109108152%\" y=\"40\" height=\"18\" overflow=\"visible\" width=\"30\">    <path d=\"M 0 -9 l 6 18 L 0 25\" fill=\"none\" style=\"stroke:rgb(255.0, 0.0, 81.08083606031792);stroke-width:2\" />  </svg></g><g transform=\"translate(0,0)\">  <svg x=\"18.54926920912308%\" y=\"40\" height=\"18\" overflow=\"visible\" width=\"30\">    <path d=\"M 0 -9 l 6 18 L 0 25\" fill=\"none\" style=\"stroke:rgb(255.0, 0.0, 81.08083606031792);stroke-width:2\" />  </svg></g><g transform=\"translate(2,0)\">  <svg x=\"18.54926920912308%\" y=\"40\" height=\"18\" overflow=\"visible\" width=\"30\">    <path d=\"M 0 -9 l 6 18 L 0 25\" fill=\"none\" style=\"stroke:rgb(255.0, 0.0, 81.08083606031792);stroke-width:2\" />  </svg></g><g transform=\"translate(4,0)\">  <svg x=\"18.54926920912308%\" y=\"40\" height=\"18\" overflow=\"visible\" width=\"30\">    <path d=\"M 0 -9 l 6 18 L 0 25\" fill=\"none\" style=\"stroke:rgb(255.0, 0.0, 81.08083606031792);stroke-width:2\" />  </svg></g><g transform=\"translate(6,0)\">  <svg x=\"18.54926920912308%\" y=\"40\" height=\"18\" overflow=\"visible\" width=\"30\">    <path d=\"M 0 -9 l 6 18 L 0 25\" fill=\"none\" style=\"stroke:rgb(255.0, 0.0, 81.08083606031792);stroke-width:2\" />  </svg></g><g transform=\"translate(-8,0)\">  <svg x=\"18.54926920912308%\" y=\"40\" height=\"18\" overflow=\"visible\" width=\"30\">    <path d=\"M 0 -9 l 6 18 L 0 25\" fill=\"none\" style=\"stroke:rgb(255.0, 0.0, 81.08083606031792);stroke-width:2\" />  </svg></g><g transform=\"translate(-6,0)\">  <svg x=\"18.54926920912308%\" y=\"40\" height=\"18\" overflow=\"visible\" width=\"30\">    <path d=\"M 0 -9 l 6 18 L 0 25\" fill=\"none\" style=\"stroke:rgb(255.0, 0.0, 81.08083606031792);stroke-width:2\" />  </svg></g><g transform=\"translate(-4,0)\">  <svg x=\"18.54926920912308%\" y=\"40\" height=\"18\" overflow=\"visible\" width=\"30\">    <path d=\"M 0 -9 l 6 18 L 0 25\" fill=\"none\" style=\"stroke:rgb(255.0, 0.0, 81.08083606031792);stroke-width:2\" />  </svg></g><g transform=\"translate(-2,0)\">  <svg x=\"18.54926920912308%\" y=\"40\" height=\"18\" overflow=\"visible\" width=\"30\">    <path d=\"M 0 -9 l 6 18 L 0 25\" fill=\"none\" style=\"stroke:rgb(255.0, 0.0, 81.08083606031792);stroke-width:2\" />  </svg></g><g transform=\"translate(0,0)\">  <svg x=\"17.64298155763392%\" y=\"40\" height=\"18\" overflow=\"visible\" width=\"30\">    <path d=\"M 0 -9 l 6 18 L 0 25\" fill=\"none\" style=\"stroke:rgb(255.0, 0.0, 81.08083606031792);stroke-width:2\" />  </svg></g><g transform=\"translate(2,0)\">  <svg x=\"17.64298155763392%\" y=\"40\" height=\"18\" overflow=\"visible\" width=\"30\">    <path d=\"M 0 -9 l 6 18 L 0 25\" fill=\"none\" style=\"stroke:rgb(255.0, 0.0, 81.08083606031792);stroke-width:2\" />  </svg></g><g transform=\"translate(4,0)\">  <svg x=\"17.64298155763392%\" y=\"40\" height=\"18\" overflow=\"visible\" width=\"30\">    <path d=\"M 0 -9 l 6 18 L 0 25\" fill=\"none\" style=\"stroke:rgb(255.0, 0.0, 81.08083606031792);stroke-width:2\" />  </svg></g><g transform=\"translate(6,0)\">  <svg x=\"17.64298155763392%\" y=\"40\" height=\"18\" overflow=\"visible\" width=\"30\">    <path d=\"M 0 -9 l 6 18 L 0 25\" fill=\"none\" style=\"stroke:rgb(255.0, 0.0, 81.08083606031792);stroke-width:2\" />  </svg></g><g transform=\"translate(-8,0)\">  <svg x=\"17.64298155763392%\" y=\"40\" height=\"18\" overflow=\"visible\" width=\"30\">    <path d=\"M 0 -9 l 6 18 L 0 25\" fill=\"none\" style=\"stroke:rgb(255.0, 0.0, 81.08083606031792);stroke-width:2\" />  </svg></g><g transform=\"translate(-6,0)\">  <svg x=\"17.64298155763392%\" y=\"40\" height=\"18\" overflow=\"visible\" width=\"30\">    <path d=\"M 0 -9 l 6 18 L 0 25\" fill=\"none\" style=\"stroke:rgb(255.0, 0.0, 81.08083606031792);stroke-width:2\" />  </svg></g><g transform=\"translate(-4,0)\">  <svg x=\"17.64298155763392%\" y=\"40\" height=\"18\" overflow=\"visible\" width=\"30\">    <path d=\"M 0 -9 l 6 18 L 0 25\" fill=\"none\" style=\"stroke:rgb(255.0, 0.0, 81.08083606031792);stroke-width:2\" />  </svg></g><g transform=\"translate(-2,0)\">  <svg x=\"17.64298155763392%\" y=\"40\" height=\"18\" overflow=\"visible\" width=\"30\">    <path d=\"M 0 -9 l 6 18 L 0 25\" fill=\"none\" style=\"stroke:rgb(255.0, 0.0, 81.08083606031792);stroke-width:2\" />  </svg></g><g transform=\"translate(0,0)\">  <svg x=\"16.943273319663717%\" y=\"40\" height=\"18\" overflow=\"visible\" width=\"30\">    <path d=\"M 0 -9 l 6 18 L 0 25\" fill=\"none\" style=\"stroke:rgb(255.0, 0.0, 81.08083606031792);stroke-width:2\" />  </svg></g><g transform=\"translate(2,0)\">  <svg x=\"16.943273319663717%\" y=\"40\" height=\"18\" overflow=\"visible\" width=\"30\">    <path d=\"M 0 -9 l 6 18 L 0 25\" fill=\"none\" style=\"stroke:rgb(255.0, 0.0, 81.08083606031792);stroke-width:2\" />  </svg></g><g transform=\"translate(4,0)\">  <svg x=\"16.943273319663717%\" y=\"40\" height=\"18\" overflow=\"visible\" width=\"30\">    <path d=\"M 0 -9 l 6 18 L 0 25\" fill=\"none\" style=\"stroke:rgb(255.0, 0.0, 81.08083606031792);stroke-width:2\" />  </svg></g><g transform=\"translate(6,0)\">  <svg x=\"16.943273319663717%\" y=\"40\" height=\"18\" overflow=\"visible\" width=\"30\">    <path d=\"M 0 -9 l 6 18 L 0 25\" fill=\"none\" style=\"stroke:rgb(255.0, 0.0, 81.08083606031792);stroke-width:2\" />  </svg></g><g transform=\"translate(-8,0)\">  <svg x=\"16.943273319663717%\" y=\"40\" height=\"18\" overflow=\"visible\" width=\"30\">    <path d=\"M 0 -9 l 6 18 L 0 25\" fill=\"none\" style=\"stroke:rgb(255.0, 0.0, 81.08083606031792);stroke-width:2\" />  </svg></g><g transform=\"translate(-6,0)\">  <svg x=\"16.943273319663717%\" y=\"40\" height=\"18\" overflow=\"visible\" width=\"30\">    <path d=\"M 0 -9 l 6 18 L 0 25\" fill=\"none\" style=\"stroke:rgb(255.0, 0.0, 81.08083606031792);stroke-width:2\" />  </svg></g><g transform=\"translate(-4,0)\">  <svg x=\"16.943273319663717%\" y=\"40\" height=\"18\" overflow=\"visible\" width=\"30\">    <path d=\"M 0 -9 l 6 18 L 0 25\" fill=\"none\" style=\"stroke:rgb(255.0, 0.0, 81.08083606031792);stroke-width:2\" />  </svg></g><g transform=\"translate(-2,0)\">  <svg x=\"16.943273319663717%\" y=\"40\" height=\"18\" overflow=\"visible\" width=\"30\">    <path d=\"M 0 -9 l 6 18 L 0 25\" fill=\"none\" style=\"stroke:rgb(255.0, 0.0, 81.08083606031792);stroke-width:2\" />  </svg></g><g transform=\"translate(0,0)\">  <svg x=\"16.29491459866063%\" y=\"40\" height=\"18\" overflow=\"visible\" width=\"30\">    <path d=\"M 0 -9 l 6 18 L 0 25\" fill=\"none\" style=\"stroke:rgb(255.0, 0.0, 81.08083606031792);stroke-width:2\" />  </svg></g><g transform=\"translate(2,0)\">  <svg x=\"16.29491459866063%\" y=\"40\" height=\"18\" overflow=\"visible\" width=\"30\">    <path d=\"M 0 -9 l 6 18 L 0 25\" fill=\"none\" style=\"stroke:rgb(255.0, 0.0, 81.08083606031792);stroke-width:2\" />  </svg></g><g transform=\"translate(4,0)\">  <svg x=\"16.29491459866063%\" y=\"40\" height=\"18\" overflow=\"visible\" width=\"30\">    <path d=\"M 0 -9 l 6 18 L 0 25\" fill=\"none\" style=\"stroke:rgb(255.0, 0.0, 81.08083606031792);stroke-width:2\" />  </svg></g><g transform=\"translate(6,0)\">  <svg x=\"16.29491459866063%\" y=\"40\" height=\"18\" overflow=\"visible\" width=\"30\">    <path d=\"M 0 -9 l 6 18 L 0 25\" fill=\"none\" style=\"stroke:rgb(255.0, 0.0, 81.08083606031792);stroke-width:2\" />  </svg></g><g transform=\"translate(-8,0)\">  <svg x=\"16.29491459866063%\" y=\"40\" height=\"18\" overflow=\"visible\" width=\"30\">    <path d=\"M 0 -9 l 6 18 L 0 25\" fill=\"none\" style=\"stroke:rgb(255.0, 0.0, 81.08083606031792);stroke-width:2\" />  </svg></g><g transform=\"translate(-6,0)\">  <svg x=\"16.29491459866063%\" y=\"40\" height=\"18\" overflow=\"visible\" width=\"30\">    <path d=\"M 0 -9 l 6 18 L 0 25\" fill=\"none\" style=\"stroke:rgb(255.0, 0.0, 81.08083606031792);stroke-width:2\" />  </svg></g><g transform=\"translate(-4,0)\">  <svg x=\"16.29491459866063%\" y=\"40\" height=\"18\" overflow=\"visible\" width=\"30\">    <path d=\"M 0 -9 l 6 18 L 0 25\" fill=\"none\" style=\"stroke:rgb(255.0, 0.0, 81.08083606031792);stroke-width:2\" />  </svg></g><g transform=\"translate(-2,0)\">  <svg x=\"16.29491459866063%\" y=\"40\" height=\"18\" overflow=\"visible\" width=\"30\">    <path d=\"M 0 -9 l 6 18 L 0 25\" fill=\"none\" style=\"stroke:rgb(255.0, 0.0, 81.08083606031792);stroke-width:2\" />  </svg></g><g transform=\"translate(0,0)\">  <svg x=\"15.906557232419926%\" y=\"40\" height=\"18\" overflow=\"visible\" width=\"30\">    <path d=\"M 0 -9 l 6 18 L 0 25\" fill=\"none\" style=\"stroke:rgb(255.0, 0.0, 81.08083606031792);stroke-width:2\" />  </svg></g><g transform=\"translate(2,0)\">  <svg x=\"15.906557232419926%\" y=\"40\" height=\"18\" overflow=\"visible\" width=\"30\">    <path d=\"M 0 -9 l 6 18 L 0 25\" fill=\"none\" style=\"stroke:rgb(255.0, 0.0, 81.08083606031792);stroke-width:2\" />  </svg></g><g transform=\"translate(4,0)\">  <svg x=\"15.906557232419926%\" y=\"40\" height=\"18\" overflow=\"visible\" width=\"30\">    <path d=\"M 0 -9 l 6 18 L 0 25\" fill=\"none\" style=\"stroke:rgb(255.0, 0.0, 81.08083606031792);stroke-width:2\" />  </svg></g><g transform=\"translate(6,0)\">  <svg x=\"15.906557232419926%\" y=\"40\" height=\"18\" overflow=\"visible\" width=\"30\">    <path d=\"M 0 -9 l 6 18 L 0 25\" fill=\"none\" style=\"stroke:rgb(255.0, 0.0, 81.08083606031792);stroke-width:2\" />  </svg></g><g transform=\"translate(-8,0)\">  <svg x=\"15.906557232419926%\" y=\"40\" height=\"18\" overflow=\"visible\" width=\"30\">    <path d=\"M 0 -9 l 6 18 L 0 25\" fill=\"none\" style=\"stroke:rgb(255.0, 0.0, 81.08083606031792);stroke-width:2\" />  </svg></g><g transform=\"translate(-6,0)\">  <svg x=\"15.906557232419926%\" y=\"40\" height=\"18\" overflow=\"visible\" width=\"30\">    <path d=\"M 0 -9 l 6 18 L 0 25\" fill=\"none\" style=\"stroke:rgb(255.0, 0.0, 81.08083606031792);stroke-width:2\" />  </svg></g><g transform=\"translate(-4,0)\">  <svg x=\"15.906557232419926%\" y=\"40\" height=\"18\" overflow=\"visible\" width=\"30\">    <path d=\"M 0 -9 l 6 18 L 0 25\" fill=\"none\" style=\"stroke:rgb(255.0, 0.0, 81.08083606031792);stroke-width:2\" />  </svg></g><g transform=\"translate(-2,0)\">  <svg x=\"15.906557232419926%\" y=\"40\" height=\"18\" overflow=\"visible\" width=\"30\">    <path d=\"M 0 -9 l 6 18 L 0 25\" fill=\"none\" style=\"stroke:rgb(255.0, 0.0, 81.08083606031792);stroke-width:2\" />  </svg></g><rect transform=\"translate(-8,0)\" x=\"84.64812663143451%\" y=\"40\" width=\"8\" height=\"18\" style=\"fill:rgb(255.0, 0.0, 81.08083606031792)\"/><g transform=\"translate(-11.5,0)\">  <svg x=\"15.772908483900423%\" y=\"40\" height=\"18\" overflow=\"visible\" width=\"30\">    <path d=\"M 10 -9 l 6 18 L 10 25 L 0 25 L 0 -9\" fill=\"#ffffff\" style=\"stroke:rgb(255,255,255);stroke-width:2\" />  </svg></g><g transform=\"translate(-1.5,0)\">  <svg x=\"84.64812663143451%\" y=\"40\" height=\"18\" overflow=\"visible\" width=\"30\">    <path d=\"M 0 -9 l 6 18 L 0 25\" fill=\"none\" style=\"stroke:rgb(255, 195, 213);stroke-width:2\" />  </svg></g><rect x=\"46.64100691999428%\" y=\"40\" height=\"20\" width=\"38.007119711440225%\"      onmouseover=\"document.getElementById('_tp_hgilaczdksemplarsixe_ind_3').style.textDecoration = 'underline';document.getElementById('_fs_hgilaczdksemplarsixe_ind_3').style.opacity = 1;document.getElementById('_fb_hgilaczdksemplarsixe_ind_3').style.opacity = 1;\"      onmouseout=\"document.getElementById('_tp_hgilaczdksemplarsixe_ind_3').style.textDecoration = 'none';document.getElementById('_fs_hgilaczdksemplarsixe_ind_3').style.opacity = 0;document.getElementById('_fb_hgilaczdksemplarsixe_ind_3').style.opacity = 0;\" style=\"fill:rgb(0,0,0,0)\" /><g transform=\"translate(-1.5,0)\">  <svg x=\"46.64100691999428%\" y=\"40\" height=\"18\" overflow=\"visible\" width=\"30\">    <path d=\"M 0 -9 l 6 18 L 0 25\" fill=\"none\" style=\"stroke:rgb(255, 195, 213);stroke-width:2\" />  </svg></g><rect x=\"32.42986972170837%\" y=\"40\" height=\"20\" width=\"14.211137198285911%\"      onmouseover=\"document.getElementById('_tp_hgilaczdksemplarsixe_ind_2').style.textDecoration = 'underline';document.getElementById('_fs_hgilaczdksemplarsixe_ind_2').style.opacity = 1;document.getElementById('_fb_hgilaczdksemplarsixe_ind_2').style.opacity = 1;\"      onmouseout=\"document.getElementById('_tp_hgilaczdksemplarsixe_ind_2').style.textDecoration = 'none';document.getElementById('_fs_hgilaczdksemplarsixe_ind_2').style.opacity = 0;document.getElementById('_fb_hgilaczdksemplarsixe_ind_2').style.opacity = 0;\" style=\"fill:rgb(0,0,0,0)\" /><g transform=\"translate(-1.5,0)\">  <svg x=\"32.42986972170837%\" y=\"40\" height=\"18\" overflow=\"visible\" width=\"30\">    <path d=\"M 0 -9 l 6 18 L 0 25\" fill=\"none\" style=\"stroke:rgb(255, 195, 213);stroke-width:2\" />  </svg></g><rect x=\"24.352382372065026%\" y=\"40\" height=\"20\" width=\"8.077487349643345%\"      onmouseover=\"document.getElementById('_tp_hgilaczdksemplarsixe_ind_1').style.textDecoration = 'underline';document.getElementById('_fs_hgilaczdksemplarsixe_ind_1').style.opacity = 1;document.getElementById('_fb_hgilaczdksemplarsixe_ind_1').style.opacity = 1;\"      onmouseout=\"document.getElementById('_tp_hgilaczdksemplarsixe_ind_1').style.textDecoration = 'none';document.getElementById('_fs_hgilaczdksemplarsixe_ind_1').style.opacity = 0;document.getElementById('_fb_hgilaczdksemplarsixe_ind_1').style.opacity = 0;\" style=\"fill:rgb(0,0,0,0)\" /><g transform=\"translate(-1.5,0)\">  <svg x=\"24.352382372065026%\" y=\"40\" height=\"18\" overflow=\"visible\" width=\"30\">    <path d=\"M 0 -9 l 6 18 L 0 25\" fill=\"none\" style=\"stroke:rgb(255, 195, 213);stroke-width:2\" />  </svg></g><rect x=\"22.088799668689468%\" y=\"40\" height=\"20\" width=\"2.2635827033755582%\"      onmouseover=\"document.getElementById('_tp_hgilaczdksemplarsixe_ind_5').style.textDecoration = 'underline';document.getElementById('_fs_hgilaczdksemplarsixe_ind_5').style.opacity = 1;document.getElementById('_fb_hgilaczdksemplarsixe_ind_5').style.opacity = 1;\"      onmouseout=\"document.getElementById('_tp_hgilaczdksemplarsixe_ind_5').style.textDecoration = 'none';document.getElementById('_fs_hgilaczdksemplarsixe_ind_5').style.opacity = 0;document.getElementById('_fb_hgilaczdksemplarsixe_ind_5').style.opacity = 0;\" style=\"fill:rgb(0,0,0,0)\" /><g transform=\"translate(-1.5,0)\">  <svg x=\"22.088799668689468%\" y=\"40\" height=\"18\" overflow=\"visible\" width=\"30\">    <path d=\"M 0 -9 l 6 18 L 0 25\" fill=\"none\" style=\"stroke:rgb(255, 195, 213);stroke-width:2\" />  </svg></g><rect x=\"20.136469109108152%\" y=\"40\" height=\"20\" width=\"1.9523305595813163%\"      onmouseover=\"document.getElementById('_tp_hgilaczdksemplarsixe_ind_9').style.textDecoration = 'underline';document.getElementById('_fs_hgilaczdksemplarsixe_ind_9').style.opacity = 1;document.getElementById('_fb_hgilaczdksemplarsixe_ind_9').style.opacity = 1;\"      onmouseout=\"document.getElementById('_tp_hgilaczdksemplarsixe_ind_9').style.textDecoration = 'none';document.getElementById('_fs_hgilaczdksemplarsixe_ind_9').style.opacity = 0;document.getElementById('_fb_hgilaczdksemplarsixe_ind_9').style.opacity = 0;\" style=\"fill:rgb(0,0,0,0)\" /><g transform=\"translate(-1.5,0)\">  <svg x=\"20.136469109108152%\" y=\"40\" height=\"18\" overflow=\"visible\" width=\"30\">    <path d=\"M 0 -9 l 6 18 L 0 25\" fill=\"none\" style=\"stroke:rgb(255, 195, 213);stroke-width:2\" />  </svg></g><rect x=\"18.54926920912308%\" y=\"40\" height=\"20\" width=\"1.5871998999850732%\"      onmouseover=\"document.getElementById('_tp_hgilaczdksemplarsixe_ind_0').style.textDecoration = 'underline';document.getElementById('_fs_hgilaczdksemplarsixe_ind_0').style.opacity = 1;document.getElementById('_fb_hgilaczdksemplarsixe_ind_0').style.opacity = 1;\"      onmouseout=\"document.getElementById('_tp_hgilaczdksemplarsixe_ind_0').style.textDecoration = 'none';document.getElementById('_fs_hgilaczdksemplarsixe_ind_0').style.opacity = 0;document.getElementById('_fb_hgilaczdksemplarsixe_ind_0').style.opacity = 0;\" style=\"fill:rgb(0,0,0,0)\" /><g transform=\"translate(-1.5,0)\">  <svg x=\"18.54926920912308%\" y=\"40\" height=\"18\" overflow=\"visible\" width=\"30\">    <path d=\"M 0 -9 l 6 18 L 0 25\" fill=\"none\" style=\"stroke:rgb(255, 195, 213);stroke-width:2\" />  </svg></g><rect x=\"17.64298155763392%\" y=\"40\" height=\"20\" width=\"0.9062876514891585%\"      onmouseover=\"document.getElementById('_tp_hgilaczdksemplarsixe_ind_18').style.textDecoration = 'underline';document.getElementById('_fs_hgilaczdksemplarsixe_ind_18').style.opacity = 1;document.getElementById('_fb_hgilaczdksemplarsixe_ind_18').style.opacity = 1;\"      onmouseout=\"document.getElementById('_tp_hgilaczdksemplarsixe_ind_18').style.textDecoration = 'none';document.getElementById('_fs_hgilaczdksemplarsixe_ind_18').style.opacity = 0;document.getElementById('_fb_hgilaczdksemplarsixe_ind_18').style.opacity = 0;\" style=\"fill:rgb(0,0,0,0)\" /><g transform=\"translate(-1.5,0)\">  <svg x=\"17.64298155763392%\" y=\"40\" height=\"18\" overflow=\"visible\" width=\"30\">    <path d=\"M 0 -9 l 6 18 L 0 25\" fill=\"none\" style=\"stroke:rgb(255, 195, 213);stroke-width:2\" />  </svg></g><rect x=\"16.943273319663717%\" y=\"40\" height=\"20\" width=\"0.6997082379702029%\"      onmouseover=\"document.getElementById('_tp_hgilaczdksemplarsixe_ind_6').style.textDecoration = 'underline';document.getElementById('_fs_hgilaczdksemplarsixe_ind_6').style.opacity = 1;document.getElementById('_fb_hgilaczdksemplarsixe_ind_6').style.opacity = 1;\"      onmouseout=\"document.getElementById('_tp_hgilaczdksemplarsixe_ind_6').style.textDecoration = 'none';document.getElementById('_fs_hgilaczdksemplarsixe_ind_6').style.opacity = 0;document.getElementById('_fb_hgilaczdksemplarsixe_ind_6').style.opacity = 0;\" style=\"fill:rgb(0,0,0,0)\" /><g transform=\"translate(-1.5,0)\">  <svg x=\"16.943273319663717%\" y=\"40\" height=\"18\" overflow=\"visible\" width=\"30\">    <path d=\"M 0 -9 l 6 18 L 0 25\" fill=\"none\" style=\"stroke:rgb(255, 195, 213);stroke-width:2\" />  </svg></g><rect x=\"16.29491459866063%\" y=\"40\" height=\"20\" width=\"0.6483587210030883%\"      onmouseover=\"document.getElementById('_tp_hgilaczdksemplarsixe_ind_4').style.textDecoration = 'underline';document.getElementById('_fs_hgilaczdksemplarsixe_ind_4').style.opacity = 1;document.getElementById('_fb_hgilaczdksemplarsixe_ind_4').style.opacity = 1;\"      onmouseout=\"document.getElementById('_tp_hgilaczdksemplarsixe_ind_4').style.textDecoration = 'none';document.getElementById('_fs_hgilaczdksemplarsixe_ind_4').style.opacity = 0;document.getElementById('_fb_hgilaczdksemplarsixe_ind_4').style.opacity = 0;\" style=\"fill:rgb(0,0,0,0)\" /><g transform=\"translate(-1.5,0)\">  <svg x=\"16.29491459866063%\" y=\"40\" height=\"18\" overflow=\"visible\" width=\"30\">    <path d=\"M 0 -9 l 6 18 L 0 25\" fill=\"none\" style=\"stroke:rgb(255, 195, 213);stroke-width:2\" />  </svg></g><rect x=\"15.906557232419926%\" y=\"40\" height=\"20\" width=\"0.3883573662407027%\"      onmouseover=\"document.getElementById('_tp_hgilaczdksemplarsixe_ind_8').style.textDecoration = 'underline';document.getElementById('_fs_hgilaczdksemplarsixe_ind_8').style.opacity = 1;document.getElementById('_fb_hgilaczdksemplarsixe_ind_8').style.opacity = 1;\"      onmouseout=\"document.getElementById('_tp_hgilaczdksemplarsixe_ind_8').style.textDecoration = 'none';document.getElementById('_fs_hgilaczdksemplarsixe_ind_8').style.opacity = 0;document.getElementById('_fb_hgilaczdksemplarsixe_ind_8').style.opacity = 0;\" style=\"fill:rgb(0,0,0,0)\" /><rect x=\"15.772908483900423%\" y=\"40\" height=\"20\" width=\"0.13364874851950326%\"      onmouseover=\"document.getElementById('_tp_hgilaczdksemplarsixe_ind_7').style.textDecoration = 'underline';document.getElementById('_fs_hgilaczdksemplarsixe_ind_7').style.opacity = 1;document.getElementById('_fb_hgilaczdksemplarsixe_ind_7').style.opacity = 1;\"      onmouseout=\"document.getElementById('_tp_hgilaczdksemplarsixe_ind_7').style.textDecoration = 'none';document.getElementById('_fs_hgilaczdksemplarsixe_ind_7').style.opacity = 0;document.getElementById('_fb_hgilaczdksemplarsixe_ind_7').style.opacity = 0;\" style=\"fill:rgb(0,0,0,0)\" /><rect x=\"84.64812663143451%\" width=\"7.694864418941029%\" y=\"40\" height=\"18\" style=\"fill:rgb(0.0, 138.56128015770724, 250.76166088685727); stroke-width:0; stroke:rgb(0,0,0)\" /><line x1=\"84.64812663143451%\" x2=\"86.60637253131455%\" y1=\"60\" y2=\"60\" id=\"_fb_hgilaczdksemplarsixe_ind_17\" style=\"stroke:rgb(0.0, 138.56128015770724, 250.76166088685727);stroke-width:2; opacity: 0\"/><text x=\"85.62724958137453%\" y=\"71\" font-size=\"12px\" fill=\"rgb(0.0, 138.56128015770724, 250.76166088685727)\" id=\"_fs_hgilaczdksemplarsixe_ind_17\" style=\"opacity: 0\" dominant-baseline=\"middle\" text-anchor=\"middle\">-0.028</text><svg x=\"84.64812663143451%\" y=\"40\" height=\"20\" width=\"1.9582458998800405%\">  <svg x=\"0\" y=\"0\" width=\"100%\" height=\"100%\">    <text x=\"50%\" y=\"9\" font-size=\"12px\" fill=\"rgb(255,255,255)\" dominant-baseline=\"middle\" text-anchor=\"middle\">the deeply divisive issue of the region s secession prompts participation from both sides.</text>  </svg></svg><line x1=\"86.60637253131455%\" x2=\"88.48877990068176%\" y1=\"60\" y2=\"60\" id=\"_fb_hgilaczdksemplarsixe_ind_15\" style=\"stroke:rgb(0.0, 138.56128015770724, 250.76166088685727);stroke-width:2; opacity: 0\"/><text x=\"87.54757621599816%\" y=\"71\" font-size=\"12px\" fill=\"rgb(0.0, 138.56128015770724, 250.76166088685727)\" id=\"_fs_hgilaczdksemplarsixe_ind_15\" style=\"opacity: 0\" dominant-baseline=\"middle\" text-anchor=\"middle\">-0.027</text><svg x=\"86.60637253131455%\" y=\"40\" height=\"20\" width=\"1.8824073693672148%\">  <svg x=\"0\" y=\"0\" width=\"100%\" height=\"100%\">    <text x=\"50%\" y=\"9\" font-size=\"12px\" fill=\"rgb(255,255,255)\" dominant-baseline=\"middle\" text-anchor=\"middle\">important in the region s history.</text>  </svg></svg><line x1=\"88.48877990068176%\" x2=\"89.58768657867333%\" y1=\"60\" y2=\"60\" id=\"_fb_hgilaczdksemplarsixe_ind_11\" style=\"stroke:rgb(0.0, 138.56128015770724, 250.76166088685727);stroke-width:2; opacity: 0\"/><text x=\"89.03823323967754%\" y=\"71\" font-size=\"12px\" fill=\"rgb(0.0, 138.56128015770724, 250.76166088685727)\" id=\"_fs_hgilaczdksemplarsixe_ind_11\" style=\"opacity: 0\" dominant-baseline=\"middle\" text-anchor=\"middle\">-0.016</text><svg x=\"88.48877990068176%\" y=\"40\" height=\"20\" width=\"1.0989066779915646%\">  <svg x=\"0\" y=\"0\" width=\"100%\" height=\"100%\">    <text x=\"50%\" y=\"9\" font-size=\"12px\" fill=\"rgb(255,255,255)\" dominant-baseline=\"middle\" text-anchor=\"middle\">Catalonia s secession drive has tipped Spain into its worst political crisis in decades and prompted Madrid to sack the Catalan government, led by Carles Puigdemont, and call a regional election for Dec. 21. The acceptance of Madrid s rule over the region could prompt the Supreme Court to overrule the decision to hold the defendants in custody while they await trial, and release them in time to campaign for the election. All four jailed ERC members - Junqueras, former foreign affairs chief Raul Romeva, justice affairs head Carles Mundo and work chief Dolors Bassa - have been named as candidates in the election.</text>  </svg></svg><line x1=\"89.58768657867333%\" x2=\"90.51770365728534%\" y1=\"60\" y2=\"60\" id=\"_fb_hgilaczdksemplarsixe_ind_12\" style=\"stroke:rgb(0.0, 138.56128015770724, 250.76166088685727);stroke-width:2; opacity: 0\"/><text x=\"90.05269511797934%\" y=\"71\" font-size=\"12px\" fill=\"rgb(0.0, 138.56128015770724, 250.76166088685727)\" id=\"_fs_hgilaczdksemplarsixe_ind_12\" style=\"opacity: 0\" dominant-baseline=\"middle\" text-anchor=\"middle\">-0.013</text><svg x=\"89.58768657867333%\" y=\"40\" height=\"20\" width=\"0.9300170786120106%\">  <svg x=\"0\" y=\"0\" width=\"100%\" height=\"100%\">    <text x=\"50%\" y=\"9\" font-size=\"12px\" fill=\"rgb(255,255,255)\" dominant-baseline=\"middle\" text-anchor=\"middle\">The defendants did not agree with the application of Article 155, which stripped the regional government of its power after the secessionist ruling, but accepted it, their lawyer said in a statement to the Supreme Court.  My charges accepted, and accept, the application of 155 ... but have done so from a position of deep political and judicial discrepancy,  the lawyer said. The lawyer added that the statement does not mean that they renounce their political convictions.</text>  </svg></svg><line x1=\"90.51770365728534%\" x2=\"91.21962494718676%\" y1=\"60\" y2=\"60\" id=\"_fb_hgilaczdksemplarsixe_ind_10\" style=\"stroke:rgb(0.0, 138.56128015770724, 250.76166088685727);stroke-width:2; opacity: 0\"/><text x=\"90.86866430223606%\" y=\"71\" font-size=\"12px\" fill=\"rgb(0.0, 138.56128015770724, 250.76166088685727)\" id=\"_fs_hgilaczdksemplarsixe_ind_10\" style=\"opacity: 0\" dominant-baseline=\"middle\" text-anchor=\"middle\">-0.01</text><svg x=\"90.51770365728534%\" y=\"40\" height=\"20\" width=\"0.7019212899014207%\">  <svg x=\"0\" y=\"0\" width=\"100%\" height=\"100%\">    <text x=\"50%\" y=\"9\" font-size=\"12px\" fill=\"rgb(255,255,255)\" dominant-baseline=\"middle\" text-anchor=\"middle\">their defense lawyer said on Tuesday. Junqueras and seven other former members of the Catalonia regional cabinet were jailed on Nov. 2 pending trial, accused of sedition, rebellion and misappropriation of funds after the local government declared independence from Spain.</text>  </svg></svg><line x1=\"91.21962494718676%\" x2=\"91.74335349422363%\" y1=\"60\" y2=\"60\" id=\"_fb_hgilaczdksemplarsixe_ind_16\" style=\"stroke:rgb(0.0, 138.56128015770724, 250.76166088685727);stroke-width:2; opacity: 0\"/><text x=\"91.48148922070519%\" y=\"71\" font-size=\"12px\" fill=\"rgb(0.0, 138.56128015770724, 250.76166088685727)\" id=\"_fs_hgilaczdksemplarsixe_ind_16\" style=\"opacity: 0\" dominant-baseline=\"middle\" text-anchor=\"middle\">-0.008</text><svg x=\"91.21962494718676%\" y=\"40\" height=\"20\" width=\"0.5237285470368676%\">  <svg x=\"0\" y=\"0\" width=\"100%\" height=\"100%\">    <text x=\"50%\" y=\"9\" font-size=\"12px\" fill=\"rgb(255,255,255)\" dominant-baseline=\"middle\" text-anchor=\"middle\">Turnout for the election is expected to reach a record 80 percent as</text>  </svg></svg><line x1=\"91.74335349422363%\" x2=\"92.17381628326174%\" y1=\"60\" y2=\"60\" id=\"_fb_hgilaczdksemplarsixe_ind_14\" style=\"stroke:rgb(0.0, 138.56128015770724, 250.76166088685727);stroke-width:2; opacity: 0\"/><text x=\"91.95858488874268%\" y=\"71\" font-size=\"12px\" fill=\"rgb(0.0, 138.56128015770724, 250.76166088685727)\" id=\"_fs_hgilaczdksemplarsixe_ind_14\" style=\"opacity: 0\" dominant-baseline=\"middle\" text-anchor=\"middle\">-0.006</text><svg x=\"91.74335349422363%\" y=\"40\" height=\"20\" width=\"0.43046278903811697%\">  <svg x=\"0\" y=\"0\" width=\"100%\" height=\"100%\">    <text x=\"50%\" y=\"9\" font-size=\"12px\" fill=\"rgb(255,255,255)\" dominant-baseline=\"middle\" text-anchor=\"middle\">said on Saturday the election would be most</text>  </svg></svg><line x1=\"92.17381628326174%\" x2=\"92.34299105037555%\" y1=\"60\" y2=\"60\" id=\"_fb_hgilaczdksemplarsixe_ind_13\" style=\"stroke:rgb(0.0, 138.56128015770724, 250.76166088685727);stroke-width:2; opacity: 0\"/><text x=\"92.25840366681865%\" y=\"71\" font-size=\"12px\" fill=\"rgb(0.0, 138.56128015770724, 250.76166088685727)\" id=\"_fs_hgilaczdksemplarsixe_ind_13\" style=\"opacity: 0\" dominant-baseline=\"middle\" text-anchor=\"middle\">-0.002</text><svg x=\"92.17381628326174%\" y=\"40\" height=\"20\" width=\"0.16917476711380175%\">  <svg x=\"0\" y=\"0\" width=\"100%\" height=\"100%\">    <text x=\"50%\" y=\"9\" font-size=\"12px\" fill=\"rgb(255,255,255)\" dominant-baseline=\"middle\" text-anchor=\"middle\">Former leader of Catalonia Puigdemont, who has been in self-imposed exile in Belgium since declaring independence,</text>  </svg></svg><g transform=\"translate(-8,0)\">  <svg x=\"86.60637253131455%\" y=\"40\" height=\"18\" overflow=\"visible\" width=\"30\">    <path d=\"M 8 -9 l -6 18 L 8 25\" fill=\"none\" style=\"stroke:rgb(0.0, 138.56128015770724, 250.76166088685727);stroke-width:2\" />  </svg></g><g transform=\"translate(-10,0)\">  <svg x=\"86.60637253131455%\" y=\"40\" height=\"18\" overflow=\"visible\" width=\"30\">    <path d=\"M 8 -9 l -6 18 L 8 25\" fill=\"none\" style=\"stroke:rgb(0.0, 138.56128015770724, 250.76166088685727);stroke-width:2\" />  </svg></g><g transform=\"translate(-12,0)\">  <svg x=\"86.60637253131455%\" y=\"40\" height=\"18\" overflow=\"visible\" width=\"30\">    <path d=\"M 8 -9 l -6 18 L 8 25\" fill=\"none\" style=\"stroke:rgb(0.0, 138.56128015770724, 250.76166088685727);stroke-width:2\" />  </svg></g><g transform=\"translate(-14,0)\">  <svg x=\"86.60637253131455%\" y=\"40\" height=\"18\" overflow=\"visible\" width=\"30\">    <path d=\"M 8 -9 l -6 18 L 8 25\" fill=\"none\" style=\"stroke:rgb(0.0, 138.56128015770724, 250.76166088685727);stroke-width:2\" />  </svg></g><g transform=\"translate(2,0)\">  <svg x=\"86.60637253131455%\" y=\"40\" height=\"18\" overflow=\"visible\" width=\"30\">    <path d=\"M 8 -9 l -6 18 L 8 25\" fill=\"none\" style=\"stroke:rgb(0.0, 138.56128015770724, 250.76166088685727);stroke-width:2\" />  </svg></g><g transform=\"translate(0,0)\">  <svg x=\"86.60637253131455%\" y=\"40\" height=\"18\" overflow=\"visible\" width=\"30\">    <path d=\"M 8 -9 l -6 18 L 8 25\" fill=\"none\" style=\"stroke:rgb(0.0, 138.56128015770724, 250.76166088685727);stroke-width:2\" />  </svg></g><g transform=\"translate(-2,0)\">  <svg x=\"86.60637253131455%\" y=\"40\" height=\"18\" overflow=\"visible\" width=\"30\">    <path d=\"M 8 -9 l -6 18 L 8 25\" fill=\"none\" style=\"stroke:rgb(0.0, 138.56128015770724, 250.76166088685727);stroke-width:2\" />  </svg></g><g transform=\"translate(-4,0)\">  <svg x=\"86.60637253131455%\" y=\"40\" height=\"18\" overflow=\"visible\" width=\"30\">    <path d=\"M 8 -9 l -6 18 L 8 25\" fill=\"none\" style=\"stroke:rgb(0.0, 138.56128015770724, 250.76166088685727);stroke-width:2\" />  </svg></g><g transform=\"translate(-8,0)\">  <svg x=\"88.48877990068176%\" y=\"40\" height=\"18\" overflow=\"visible\" width=\"30\">    <path d=\"M 8 -9 l -6 18 L 8 25\" fill=\"none\" style=\"stroke:rgb(0.0, 138.56128015770724, 250.76166088685727);stroke-width:2\" />  </svg></g><g transform=\"translate(-10,0)\">  <svg x=\"88.48877990068176%\" y=\"40\" height=\"18\" overflow=\"visible\" width=\"30\">    <path d=\"M 8 -9 l -6 18 L 8 25\" fill=\"none\" style=\"stroke:rgb(0.0, 138.56128015770724, 250.76166088685727);stroke-width:2\" />  </svg></g><g transform=\"translate(-12,0)\">  <svg x=\"88.48877990068176%\" y=\"40\" height=\"18\" overflow=\"visible\" width=\"30\">    <path d=\"M 8 -9 l -6 18 L 8 25\" fill=\"none\" style=\"stroke:rgb(0.0, 138.56128015770724, 250.76166088685727);stroke-width:2\" />  </svg></g><g transform=\"translate(-14,0)\">  <svg x=\"88.48877990068176%\" y=\"40\" height=\"18\" overflow=\"visible\" width=\"30\">    <path d=\"M 8 -9 l -6 18 L 8 25\" fill=\"none\" style=\"stroke:rgb(0.0, 138.56128015770724, 250.76166088685727);stroke-width:2\" />  </svg></g><g transform=\"translate(2,0)\">  <svg x=\"88.48877990068176%\" y=\"40\" height=\"18\" overflow=\"visible\" width=\"30\">    <path d=\"M 8 -9 l -6 18 L 8 25\" fill=\"none\" style=\"stroke:rgb(0.0, 138.56128015770724, 250.76166088685727);stroke-width:2\" />  </svg></g><g transform=\"translate(0,0)\">  <svg x=\"88.48877990068176%\" y=\"40\" height=\"18\" overflow=\"visible\" width=\"30\">    <path d=\"M 8 -9 l -6 18 L 8 25\" fill=\"none\" style=\"stroke:rgb(0.0, 138.56128015770724, 250.76166088685727);stroke-width:2\" />  </svg></g><g transform=\"translate(-2,0)\">  <svg x=\"88.48877990068176%\" y=\"40\" height=\"18\" overflow=\"visible\" width=\"30\">    <path d=\"M 8 -9 l -6 18 L 8 25\" fill=\"none\" style=\"stroke:rgb(0.0, 138.56128015770724, 250.76166088685727);stroke-width:2\" />  </svg></g><g transform=\"translate(-4,0)\">  <svg x=\"88.48877990068176%\" y=\"40\" height=\"18\" overflow=\"visible\" width=\"30\">    <path d=\"M 8 -9 l -6 18 L 8 25\" fill=\"none\" style=\"stroke:rgb(0.0, 138.56128015770724, 250.76166088685727);stroke-width:2\" />  </svg></g><g transform=\"translate(-8,0)\">  <svg x=\"89.58768657867333%\" y=\"40\" height=\"18\" overflow=\"visible\" width=\"30\">    <path d=\"M 8 -9 l -6 18 L 8 25\" fill=\"none\" style=\"stroke:rgb(0.0, 138.56128015770724, 250.76166088685727);stroke-width:2\" />  </svg></g><g transform=\"translate(-10,0)\">  <svg x=\"89.58768657867333%\" y=\"40\" height=\"18\" overflow=\"visible\" width=\"30\">    <path d=\"M 8 -9 l -6 18 L 8 25\" fill=\"none\" style=\"stroke:rgb(0.0, 138.56128015770724, 250.76166088685727);stroke-width:2\" />  </svg></g><g transform=\"translate(-12,0)\">  <svg x=\"89.58768657867333%\" y=\"40\" height=\"18\" overflow=\"visible\" width=\"30\">    <path d=\"M 8 -9 l -6 18 L 8 25\" fill=\"none\" style=\"stroke:rgb(0.0, 138.56128015770724, 250.76166088685727);stroke-width:2\" />  </svg></g><g transform=\"translate(-14,0)\">  <svg x=\"89.58768657867333%\" y=\"40\" height=\"18\" overflow=\"visible\" width=\"30\">    <path d=\"M 8 -9 l -6 18 L 8 25\" fill=\"none\" style=\"stroke:rgb(0.0, 138.56128015770724, 250.76166088685727);stroke-width:2\" />  </svg></g><g transform=\"translate(2,0)\">  <svg x=\"89.58768657867333%\" y=\"40\" height=\"18\" overflow=\"visible\" width=\"30\">    <path d=\"M 8 -9 l -6 18 L 8 25\" fill=\"none\" style=\"stroke:rgb(0.0, 138.56128015770724, 250.76166088685727);stroke-width:2\" />  </svg></g><g transform=\"translate(0,0)\">  <svg x=\"89.58768657867333%\" y=\"40\" height=\"18\" overflow=\"visible\" width=\"30\">    <path d=\"M 8 -9 l -6 18 L 8 25\" fill=\"none\" style=\"stroke:rgb(0.0, 138.56128015770724, 250.76166088685727);stroke-width:2\" />  </svg></g><g transform=\"translate(-2,0)\">  <svg x=\"89.58768657867333%\" y=\"40\" height=\"18\" overflow=\"visible\" width=\"30\">    <path d=\"M 8 -9 l -6 18 L 8 25\" fill=\"none\" style=\"stroke:rgb(0.0, 138.56128015770724, 250.76166088685727);stroke-width:2\" />  </svg></g><g transform=\"translate(-4,0)\">  <svg x=\"89.58768657867333%\" y=\"40\" height=\"18\" overflow=\"visible\" width=\"30\">    <path d=\"M 8 -9 l -6 18 L 8 25\" fill=\"none\" style=\"stroke:rgb(0.0, 138.56128015770724, 250.76166088685727);stroke-width:2\" />  </svg></g><g transform=\"translate(-8,0)\">  <svg x=\"90.51770365728534%\" y=\"40\" height=\"18\" overflow=\"visible\" width=\"30\">    <path d=\"M 8 -9 l -6 18 L 8 25\" fill=\"none\" style=\"stroke:rgb(0.0, 138.56128015770724, 250.76166088685727);stroke-width:2\" />  </svg></g><g transform=\"translate(-10,0)\">  <svg x=\"90.51770365728534%\" y=\"40\" height=\"18\" overflow=\"visible\" width=\"30\">    <path d=\"M 8 -9 l -6 18 L 8 25\" fill=\"none\" style=\"stroke:rgb(0.0, 138.56128015770724, 250.76166088685727);stroke-width:2\" />  </svg></g><g transform=\"translate(-12,0)\">  <svg x=\"90.51770365728534%\" y=\"40\" height=\"18\" overflow=\"visible\" width=\"30\">    <path d=\"M 8 -9 l -6 18 L 8 25\" fill=\"none\" style=\"stroke:rgb(0.0, 138.56128015770724, 250.76166088685727);stroke-width:2\" />  </svg></g><g transform=\"translate(-14,0)\">  <svg x=\"90.51770365728534%\" y=\"40\" height=\"18\" overflow=\"visible\" width=\"30\">    <path d=\"M 8 -9 l -6 18 L 8 25\" fill=\"none\" style=\"stroke:rgb(0.0, 138.56128015770724, 250.76166088685727);stroke-width:2\" />  </svg></g><g transform=\"translate(2,0)\">  <svg x=\"90.51770365728534%\" y=\"40\" height=\"18\" overflow=\"visible\" width=\"30\">    <path d=\"M 8 -9 l -6 18 L 8 25\" fill=\"none\" style=\"stroke:rgb(0.0, 138.56128015770724, 250.76166088685727);stroke-width:2\" />  </svg></g><g transform=\"translate(0,0)\">  <svg x=\"90.51770365728534%\" y=\"40\" height=\"18\" overflow=\"visible\" width=\"30\">    <path d=\"M 8 -9 l -6 18 L 8 25\" fill=\"none\" style=\"stroke:rgb(0.0, 138.56128015770724, 250.76166088685727);stroke-width:2\" />  </svg></g><g transform=\"translate(-2,0)\">  <svg x=\"90.51770365728534%\" y=\"40\" height=\"18\" overflow=\"visible\" width=\"30\">    <path d=\"M 8 -9 l -6 18 L 8 25\" fill=\"none\" style=\"stroke:rgb(0.0, 138.56128015770724, 250.76166088685727);stroke-width:2\" />  </svg></g><g transform=\"translate(-4,0)\">  <svg x=\"90.51770365728534%\" y=\"40\" height=\"18\" overflow=\"visible\" width=\"30\">    <path d=\"M 8 -9 l -6 18 L 8 25\" fill=\"none\" style=\"stroke:rgb(0.0, 138.56128015770724, 250.76166088685727);stroke-width:2\" />  </svg></g><g transform=\"translate(-8,0)\">  <svg x=\"91.21962494718676%\" y=\"40\" height=\"18\" overflow=\"visible\" width=\"30\">    <path d=\"M 8 -9 l -6 18 L 8 25\" fill=\"none\" style=\"stroke:rgb(0.0, 138.56128015770724, 250.76166088685727);stroke-width:2\" />  </svg></g><g transform=\"translate(-10,0)\">  <svg x=\"91.21962494718676%\" y=\"40\" height=\"18\" overflow=\"visible\" width=\"30\">    <path d=\"M 8 -9 l -6 18 L 8 25\" fill=\"none\" style=\"stroke:rgb(0.0, 138.56128015770724, 250.76166088685727);stroke-width:2\" />  </svg></g><g transform=\"translate(-12,0)\">  <svg x=\"91.21962494718676%\" y=\"40\" height=\"18\" overflow=\"visible\" width=\"30\">    <path d=\"M 8 -9 l -6 18 L 8 25\" fill=\"none\" style=\"stroke:rgb(0.0, 138.56128015770724, 250.76166088685727);stroke-width:2\" />  </svg></g><g transform=\"translate(-14,0)\">  <svg x=\"91.21962494718676%\" y=\"40\" height=\"18\" overflow=\"visible\" width=\"30\">    <path d=\"M 8 -9 l -6 18 L 8 25\" fill=\"none\" style=\"stroke:rgb(0.0, 138.56128015770724, 250.76166088685727);stroke-width:2\" />  </svg></g><g transform=\"translate(2,0)\">  <svg x=\"91.21962494718676%\" y=\"40\" height=\"18\" overflow=\"visible\" width=\"30\">    <path d=\"M 8 -9 l -6 18 L 8 25\" fill=\"none\" style=\"stroke:rgb(0.0, 138.56128015770724, 250.76166088685727);stroke-width:2\" />  </svg></g><g transform=\"translate(0,0)\">  <svg x=\"91.21962494718676%\" y=\"40\" height=\"18\" overflow=\"visible\" width=\"30\">    <path d=\"M 8 -9 l -6 18 L 8 25\" fill=\"none\" style=\"stroke:rgb(0.0, 138.56128015770724, 250.76166088685727);stroke-width:2\" />  </svg></g><g transform=\"translate(-2,0)\">  <svg x=\"91.21962494718676%\" y=\"40\" height=\"18\" overflow=\"visible\" width=\"30\">    <path d=\"M 8 -9 l -6 18 L 8 25\" fill=\"none\" style=\"stroke:rgb(0.0, 138.56128015770724, 250.76166088685727);stroke-width:2\" />  </svg></g><g transform=\"translate(-4,0)\">  <svg x=\"91.21962494718676%\" y=\"40\" height=\"18\" overflow=\"visible\" width=\"30\">    <path d=\"M 8 -9 l -6 18 L 8 25\" fill=\"none\" style=\"stroke:rgb(0.0, 138.56128015770724, 250.76166088685727);stroke-width:2\" />  </svg></g><g transform=\"translate(-8,0)\">  <svg x=\"91.74335349422363%\" y=\"40\" height=\"18\" overflow=\"visible\" width=\"30\">    <path d=\"M 8 -9 l -6 18 L 8 25\" fill=\"none\" style=\"stroke:rgb(0.0, 138.56128015770724, 250.76166088685727);stroke-width:2\" />  </svg></g><g transform=\"translate(-10,0)\">  <svg x=\"91.74335349422363%\" y=\"40\" height=\"18\" overflow=\"visible\" width=\"30\">    <path d=\"M 8 -9 l -6 18 L 8 25\" fill=\"none\" style=\"stroke:rgb(0.0, 138.56128015770724, 250.76166088685727);stroke-width:2\" />  </svg></g><g transform=\"translate(-12,0)\">  <svg x=\"91.74335349422363%\" y=\"40\" height=\"18\" overflow=\"visible\" width=\"30\">    <path d=\"M 8 -9 l -6 18 L 8 25\" fill=\"none\" style=\"stroke:rgb(0.0, 138.56128015770724, 250.76166088685727);stroke-width:2\" />  </svg></g><g transform=\"translate(-14,0)\">  <svg x=\"91.74335349422363%\" y=\"40\" height=\"18\" overflow=\"visible\" width=\"30\">    <path d=\"M 8 -9 l -6 18 L 8 25\" fill=\"none\" style=\"stroke:rgb(0.0, 138.56128015770724, 250.76166088685727);stroke-width:2\" />  </svg></g><g transform=\"translate(2,0)\">  <svg x=\"91.74335349422363%\" y=\"40\" height=\"18\" overflow=\"visible\" width=\"30\">    <path d=\"M 8 -9 l -6 18 L 8 25\" fill=\"none\" style=\"stroke:rgb(0.0, 138.56128015770724, 250.76166088685727);stroke-width:2\" />  </svg></g><g transform=\"translate(0,0)\">  <svg x=\"91.74335349422363%\" y=\"40\" height=\"18\" overflow=\"visible\" width=\"30\">    <path d=\"M 8 -9 l -6 18 L 8 25\" fill=\"none\" style=\"stroke:rgb(0.0, 138.56128015770724, 250.76166088685727);stroke-width:2\" />  </svg></g><g transform=\"translate(-2,0)\">  <svg x=\"91.74335349422363%\" y=\"40\" height=\"18\" overflow=\"visible\" width=\"30\">    <path d=\"M 8 -9 l -6 18 L 8 25\" fill=\"none\" style=\"stroke:rgb(0.0, 138.56128015770724, 250.76166088685727);stroke-width:2\" />  </svg></g><g transform=\"translate(-4,0)\">  <svg x=\"91.74335349422363%\" y=\"40\" height=\"18\" overflow=\"visible\" width=\"30\">    <path d=\"M 8 -9 l -6 18 L 8 25\" fill=\"none\" style=\"stroke:rgb(0.0, 138.56128015770724, 250.76166088685727);stroke-width:2\" />  </svg></g><g transform=\"translate(-8,0)\">  <svg x=\"92.17381628326174%\" y=\"40\" height=\"18\" overflow=\"visible\" width=\"30\">    <path d=\"M 8 -9 l -6 18 L 8 25\" fill=\"none\" style=\"stroke:rgb(0.0, 138.56128015770724, 250.76166088685727);stroke-width:2\" />  </svg></g><g transform=\"translate(-10,0)\">  <svg x=\"92.17381628326174%\" y=\"40\" height=\"18\" overflow=\"visible\" width=\"30\">    <path d=\"M 8 -9 l -6 18 L 8 25\" fill=\"none\" style=\"stroke:rgb(0.0, 138.56128015770724, 250.76166088685727);stroke-width:2\" />  </svg></g><g transform=\"translate(-12,0)\">  <svg x=\"92.17381628326174%\" y=\"40\" height=\"18\" overflow=\"visible\" width=\"30\">    <path d=\"M 8 -9 l -6 18 L 8 25\" fill=\"none\" style=\"stroke:rgb(0.0, 138.56128015770724, 250.76166088685727);stroke-width:2\" />  </svg></g><g transform=\"translate(-14,0)\">  <svg x=\"92.17381628326174%\" y=\"40\" height=\"18\" overflow=\"visible\" width=\"30\">    <path d=\"M 8 -9 l -6 18 L 8 25\" fill=\"none\" style=\"stroke:rgb(0.0, 138.56128015770724, 250.76166088685727);stroke-width:2\" />  </svg></g><g transform=\"translate(2,0)\">  <svg x=\"92.17381628326174%\" y=\"40\" height=\"18\" overflow=\"visible\" width=\"30\">    <path d=\"M 8 -9 l -6 18 L 8 25\" fill=\"none\" style=\"stroke:rgb(0.0, 138.56128015770724, 250.76166088685727);stroke-width:2\" />  </svg></g><g transform=\"translate(0,0)\">  <svg x=\"92.17381628326174%\" y=\"40\" height=\"18\" overflow=\"visible\" width=\"30\">    <path d=\"M 8 -9 l -6 18 L 8 25\" fill=\"none\" style=\"stroke:rgb(0.0, 138.56128015770724, 250.76166088685727);stroke-width:2\" />  </svg></g><g transform=\"translate(-2,0)\">  <svg x=\"92.17381628326174%\" y=\"40\" height=\"18\" overflow=\"visible\" width=\"30\">    <path d=\"M 8 -9 l -6 18 L 8 25\" fill=\"none\" style=\"stroke:rgb(0.0, 138.56128015770724, 250.76166088685727);stroke-width:2\" />  </svg></g><g transform=\"translate(-4,0)\">  <svg x=\"92.17381628326174%\" y=\"40\" height=\"18\" overflow=\"visible\" width=\"30\">    <path d=\"M 8 -9 l -6 18 L 8 25\" fill=\"none\" style=\"stroke:rgb(0.0, 138.56128015770724, 250.76166088685727);stroke-width:2\" />  </svg></g><rect transform=\"translate(0,0)\" x=\"84.64812663143451%\" y=\"40\" width=\"8\" height=\"18\" style=\"fill:rgb(0.0, 138.56128015770724, 250.76166088685727)\"/><g transform=\"translate(-6.0,0)\">  <svg x=\"92.34299105037555%\" y=\"40\" height=\"18\" overflow=\"visible\" width=\"30\">    <path d=\"M 8 -9 l -6 18 L 8 25 L 20 25 L 20 -9\" fill=\"#ffffff\" style=\"stroke:rgb(255,255,255);stroke-width:2\" />  </svg></g><g transform=\"translate(-6.0,0)\">  <svg x=\"86.60637253131455%\" y=\"40\" height=\"18\" overflow=\"visible\" width=\"30\">    <path d=\"M 8 -9 l -6 18 L 8 25\" fill=\"none\" style=\"stroke:rgb(208, 230, 250);stroke-width:2\" />  </svg></g><rect x=\"84.64812663143451%\" y=\"40\" height=\"20\" width=\"1.9582458998800405%\"      onmouseover=\"document.getElementById('_tp_hgilaczdksemplarsixe_ind_17').style.textDecoration = 'underline';document.getElementById('_fs_hgilaczdksemplarsixe_ind_17').style.opacity = 1;document.getElementById('_fb_hgilaczdksemplarsixe_ind_17').style.opacity = 1;\"      onmouseout=\"document.getElementById('_tp_hgilaczdksemplarsixe_ind_17').style.textDecoration = 'none';document.getElementById('_fs_hgilaczdksemplarsixe_ind_17').style.opacity = 0;document.getElementById('_fb_hgilaczdksemplarsixe_ind_17').style.opacity = 0;\" style=\"fill:rgb(0,0,0,0)\" /><g transform=\"translate(-6.0,0)\">  <svg x=\"88.48877990068176%\" y=\"40\" height=\"18\" overflow=\"visible\" width=\"30\">    <path d=\"M 8 -9 l -6 18 L 8 25\" fill=\"none\" style=\"stroke:rgb(208, 230, 250);stroke-width:2\" />  </svg></g><rect x=\"86.60637253131455%\" y=\"40\" height=\"20\" width=\"1.8824073693672148%\"      onmouseover=\"document.getElementById('_tp_hgilaczdksemplarsixe_ind_15').style.textDecoration = 'underline';document.getElementById('_fs_hgilaczdksemplarsixe_ind_15').style.opacity = 1;document.getElementById('_fb_hgilaczdksemplarsixe_ind_15').style.opacity = 1;\"      onmouseout=\"document.getElementById('_tp_hgilaczdksemplarsixe_ind_15').style.textDecoration = 'none';document.getElementById('_fs_hgilaczdksemplarsixe_ind_15').style.opacity = 0;document.getElementById('_fb_hgilaczdksemplarsixe_ind_15').style.opacity = 0;\" style=\"fill:rgb(0,0,0,0)\" /><g transform=\"translate(-6.0,0)\">  <svg x=\"89.58768657867333%\" y=\"40\" height=\"18\" overflow=\"visible\" width=\"30\">    <path d=\"M 8 -9 l -6 18 L 8 25\" fill=\"none\" style=\"stroke:rgb(208, 230, 250);stroke-width:2\" />  </svg></g><rect x=\"88.48877990068176%\" y=\"40\" height=\"20\" width=\"1.0989066779915646%\"      onmouseover=\"document.getElementById('_tp_hgilaczdksemplarsixe_ind_11').style.textDecoration = 'underline';document.getElementById('_fs_hgilaczdksemplarsixe_ind_11').style.opacity = 1;document.getElementById('_fb_hgilaczdksemplarsixe_ind_11').style.opacity = 1;\"      onmouseout=\"document.getElementById('_tp_hgilaczdksemplarsixe_ind_11').style.textDecoration = 'none';document.getElementById('_fs_hgilaczdksemplarsixe_ind_11').style.opacity = 0;document.getElementById('_fb_hgilaczdksemplarsixe_ind_11').style.opacity = 0;\" style=\"fill:rgb(0,0,0,0)\" /><g transform=\"translate(-6.0,0)\">  <svg x=\"90.51770365728534%\" y=\"40\" height=\"18\" overflow=\"visible\" width=\"30\">    <path d=\"M 8 -9 l -6 18 L 8 25\" fill=\"none\" style=\"stroke:rgb(208, 230, 250);stroke-width:2\" />  </svg></g><rect x=\"89.58768657867333%\" y=\"40\" height=\"20\" width=\"0.9300170786120106%\"      onmouseover=\"document.getElementById('_tp_hgilaczdksemplarsixe_ind_12').style.textDecoration = 'underline';document.getElementById('_fs_hgilaczdksemplarsixe_ind_12').style.opacity = 1;document.getElementById('_fb_hgilaczdksemplarsixe_ind_12').style.opacity = 1;\"      onmouseout=\"document.getElementById('_tp_hgilaczdksemplarsixe_ind_12').style.textDecoration = 'none';document.getElementById('_fs_hgilaczdksemplarsixe_ind_12').style.opacity = 0;document.getElementById('_fb_hgilaczdksemplarsixe_ind_12').style.opacity = 0;\" style=\"fill:rgb(0,0,0,0)\" /><g transform=\"translate(-6.0,0)\">  <svg x=\"91.21962494718676%\" y=\"40\" height=\"18\" overflow=\"visible\" width=\"30\">    <path d=\"M 8 -9 l -6 18 L 8 25\" fill=\"none\" style=\"stroke:rgb(208, 230, 250);stroke-width:2\" />  </svg></g><rect x=\"90.51770365728534%\" y=\"40\" height=\"20\" width=\"0.7019212899014207%\"      onmouseover=\"document.getElementById('_tp_hgilaczdksemplarsixe_ind_10').style.textDecoration = 'underline';document.getElementById('_fs_hgilaczdksemplarsixe_ind_10').style.opacity = 1;document.getElementById('_fb_hgilaczdksemplarsixe_ind_10').style.opacity = 1;\"      onmouseout=\"document.getElementById('_tp_hgilaczdksemplarsixe_ind_10').style.textDecoration = 'none';document.getElementById('_fs_hgilaczdksemplarsixe_ind_10').style.opacity = 0;document.getElementById('_fb_hgilaczdksemplarsixe_ind_10').style.opacity = 0;\" style=\"fill:rgb(0,0,0,0)\" /><g transform=\"translate(-6.0,0)\">  <svg x=\"91.74335349422363%\" y=\"40\" height=\"18\" overflow=\"visible\" width=\"30\">    <path d=\"M 8 -9 l -6 18 L 8 25\" fill=\"none\" style=\"stroke:rgb(208, 230, 250);stroke-width:2\" />  </svg></g><rect x=\"91.21962494718676%\" y=\"40\" height=\"20\" width=\"0.5237285470368676%\"      onmouseover=\"document.getElementById('_tp_hgilaczdksemplarsixe_ind_16').style.textDecoration = 'underline';document.getElementById('_fs_hgilaczdksemplarsixe_ind_16').style.opacity = 1;document.getElementById('_fb_hgilaczdksemplarsixe_ind_16').style.opacity = 1;\"      onmouseout=\"document.getElementById('_tp_hgilaczdksemplarsixe_ind_16').style.textDecoration = 'none';document.getElementById('_fs_hgilaczdksemplarsixe_ind_16').style.opacity = 0;document.getElementById('_fb_hgilaczdksemplarsixe_ind_16').style.opacity = 0;\" style=\"fill:rgb(0,0,0,0)\" /><g transform=\"translate(-6.0,0)\">  <svg x=\"92.17381628326174%\" y=\"40\" height=\"18\" overflow=\"visible\" width=\"30\">    <path d=\"M 8 -9 l -6 18 L 8 25\" fill=\"none\" style=\"stroke:rgb(208, 230, 250);stroke-width:2\" />  </svg></g><rect x=\"91.74335349422363%\" y=\"40\" height=\"20\" width=\"0.43046278903811697%\"      onmouseover=\"document.getElementById('_tp_hgilaczdksemplarsixe_ind_14').style.textDecoration = 'underline';document.getElementById('_fs_hgilaczdksemplarsixe_ind_14').style.opacity = 1;document.getElementById('_fb_hgilaczdksemplarsixe_ind_14').style.opacity = 1;\"      onmouseout=\"document.getElementById('_tp_hgilaczdksemplarsixe_ind_14').style.textDecoration = 'none';document.getElementById('_fs_hgilaczdksemplarsixe_ind_14').style.opacity = 0;document.getElementById('_fb_hgilaczdksemplarsixe_ind_14').style.opacity = 0;\" style=\"fill:rgb(0,0,0,0)\" /><rect x=\"92.17381628326174%\" y=\"40\" height=\"20\" width=\"0.16917476711380175%\"      onmouseover=\"document.getElementById('_tp_hgilaczdksemplarsixe_ind_13').style.textDecoration = 'underline';document.getElementById('_fs_hgilaczdksemplarsixe_ind_13').style.opacity = 1;document.getElementById('_fb_hgilaczdksemplarsixe_ind_13').style.opacity = 1;\"      onmouseout=\"document.getElementById('_tp_hgilaczdksemplarsixe_ind_13').style.textDecoration = 'none';document.getElementById('_fs_hgilaczdksemplarsixe_ind_13').style.opacity = 0;document.getElementById('_fb_hgilaczdksemplarsixe_ind_13').style.opacity = 0;\" style=\"fill:rgb(0,0,0,0)\" /></svg><div align='center'><div style=\"color: rgb(120,120,120); font-size: 12px; margin-top: -15px;\">inputs</div><div style='display: inline; text-align: center;'\n    ><div style='display: none; color: #999; padding-top: 0px; font-size: 12px;'>0.023</div\n        ><div id='_tp_hgilaczdksemplarsixe_ind_0'\n            style='display: inline; background: rgba(255.0, 13.0, 87.0, 0.03830461477520289); border-radius: 3px; padding: 0px'\n            onclick=\"\n            if (this.previousSibling.style.display == 'none') {\n                this.previousSibling.style.display = 'block';\n                this.parentNode.style.display = 'inline-block';\n            } else {\n                this.previousSibling.style.display = 'none';\n                this.parentNode.style.display = 'inline';\n            }\"\n            onmouseover=\"document.getElementById('_fb_hgilaczdksemplarsixe_ind_0').style.opacity = 1; document.getElementById('_fs_hgilaczdksemplarsixe_ind_0').style.opacity = 1;\"\n            onmouseout=\"document.getElementById('_fb_hgilaczdksemplarsixe_ind_0').style.opacity = 0; document.getElementById('_fs_hgilaczdksemplarsixe_ind_0').style.opacity = 0;\"\n        ></div></div><div style='display: inline; text-align: center;'\n    ><div style='display: none; color: #999; padding-top: 0px; font-size: 12px;'>0.117 / 4</div\n        ><div id='_tp_hgilaczdksemplarsixe_ind_1'\n            style='display: inline; background: rgba(255.0, 13.0, 87.0, 0.2117250940780353); border-radius: 3px; padding: 0px'\n            onclick=\"\n            if (this.previousSibling.style.display == 'none') {\n                this.previousSibling.style.display = 'block';\n                this.parentNode.style.display = 'inline-block';\n            } else {\n                this.previousSibling.style.display = 'none';\n                this.parentNode.style.display = 'inline';\n            }\"\n            onmouseover=\"document.getElementById('_fb_hgilaczdksemplarsixe_ind_1').style.opacity = 1; document.getElementById('_fs_hgilaczdksemplarsixe_ind_1').style.opacity = 1;\"\n            onmouseout=\"document.getElementById('_fb_hgilaczdksemplarsixe_ind_1').style.opacity = 0; document.getElementById('_fs_hgilaczdksemplarsixe_ind_1').style.opacity = 0;\"\n        >MADRID </div></div><div style='display: inline; text-align: center;'\n    ><div style='display: none; color: #999; padding-top: 0px; font-size: 12px;'>0.205</div\n        ><div id='_tp_hgilaczdksemplarsixe_ind_2'\n            style='display: inline; background: rgba(255.0, 13.0, 87.0, 0.3693800752624282); border-radius: 3px; padding: 0px'\n            onclick=\"\n            if (this.previousSibling.style.display == 'none') {\n                this.previousSibling.style.display = 'block';\n                this.parentNode.style.display = 'inline-block';\n            } else {\n                this.previousSibling.style.display = 'none';\n                this.parentNode.style.display = 'inline';\n            }\"\n            onmouseover=\"document.getElementById('_fb_hgilaczdksemplarsixe_ind_2').style.opacity = 1; document.getElementById('_fs_hgilaczdksemplarsixe_ind_2').style.opacity = 1;\"\n            onmouseout=\"document.getElementById('_fb_hgilaczdksemplarsixe_ind_2').style.opacity = 0; document.getElementById('_fs_hgilaczdksemplarsixe_ind_2').style.opacity = 0;\"\n        >(</div></div><div style='display: inline; text-align: center;'\n    ><div style='display: none; color: #999; padding-top: 0px; font-size: 12px;'>0.548 / 2</div\n        ><div id='_tp_hgilaczdksemplarsixe_ind_3'\n            style='display: inline; background: rgba(255.0, 13.0, 87.0, 1.0); border-radius: 3px; padding: 0px'\n            onclick=\"\n            if (this.previousSibling.style.display == 'none') {\n                this.previousSibling.style.display = 'block';\n                this.parentNode.style.display = 'inline-block';\n            } else {\n                this.previousSibling.style.display = 'none';\n                this.parentNode.style.display = 'inline';\n            }\"\n            onmouseover=\"document.getElementById('_fb_hgilaczdksemplarsixe_ind_3').style.opacity = 1; document.getElementById('_fs_hgilaczdksemplarsixe_ind_3').style.opacity = 1;\"\n            onmouseout=\"document.getElementById('_fb_hgilaczdksemplarsixe_ind_3').style.opacity = 0; document.getElementById('_fs_hgilaczdksemplarsixe_ind_3').style.opacity = 0;\"\n        >Reuters) </div></div><div style='display: inline; text-align: center;'\n    ><div style='display: none; color: #999; padding-top: 0px; font-size: 12px;'>0.009</div\n        ><div id='_tp_hgilaczdksemplarsixe_ind_4'\n            style='display: inline; background: rgba(255.0, 13.0, 87.0, 0.014656367597544035); border-radius: 3px; padding: 0px'\n            onclick=\"\n            if (this.previousSibling.style.display == 'none') {\n                this.previousSibling.style.display = 'block';\n                this.parentNode.style.display = 'inline-block';\n            } else {\n                this.previousSibling.style.display = 'none';\n                this.parentNode.style.display = 'inline';\n            }\"\n            onmouseover=\"document.getElementById('_fb_hgilaczdksemplarsixe_ind_4').style.opacity = 1; document.getElementById('_fs_hgilaczdksemplarsixe_ind_4').style.opacity = 1;\"\n            onmouseout=\"document.getElementById('_fb_hgilaczdksemplarsixe_ind_4').style.opacity = 0; document.getElementById('_fs_hgilaczdksemplarsixe_ind_4').style.opacity = 0;\"\n        >- </div></div><div style='display: inline; text-align: center;'\n    ><div style='display: none; color: #999; padding-top: 0px; font-size: 12px;'>0.033 / 3</div\n        ><div id='_tp_hgilaczdksemplarsixe_ind_5'\n            style='display: inline; background: rgba(255.0, 13.0, 87.0, 0.05407011289364243); border-radius: 3px; padding: 0px'\n            onclick=\"\n            if (this.previousSibling.style.display == 'none') {\n                this.previousSibling.style.display = 'block';\n                this.parentNode.style.display = 'inline-block';\n            } else {\n                this.previousSibling.style.display = 'none';\n                this.parentNode.style.display = 'inline';\n            }\"\n            onmouseover=\"document.getElementById('_fb_hgilaczdksemplarsixe_ind_5').style.opacity = 1; document.getElementById('_fs_hgilaczdksemplarsixe_ind_5').style.opacity = 1;\"\n            onmouseout=\"document.getElementById('_fb_hgilaczdksemplarsixe_ind_5').style.opacity = 0; document.getElementById('_fs_hgilaczdksemplarsixe_ind_5').style.opacity = 0;\"\n        >Imprisoned </div></div><div style='display: inline; text-align: center;'\n    ><div style='display: none; color: #999; padding-top: 0px; font-size: 12px;'>0.01 / 4</div\n        ><div id='_tp_hgilaczdksemplarsixe_ind_6'\n            style='display: inline; background: rgba(255.0, 13.0, 87.0, 0.014656367597544035); border-radius: 3px; padding: 0px'\n            onclick=\"\n            if (this.previousSibling.style.display == 'none') {\n                this.previousSibling.style.display = 'block';\n                this.parentNode.style.display = 'inline-block';\n            } else {\n                this.previousSibling.style.display = 'none';\n                this.parentNode.style.display = 'inline';\n            }\"\n            onmouseover=\"document.getElementById('_fb_hgilaczdksemplarsixe_ind_6').style.opacity = 1; document.getElementById('_fs_hgilaczdksemplarsixe_ind_6').style.opacity = 1;\"\n            onmouseout=\"document.getElementById('_fb_hgilaczdksemplarsixe_ind_6').style.opacity = 0; document.getElementById('_fs_hgilaczdksemplarsixe_ind_6').style.opacity = 0;\"\n        >former vice-president </div></div><div style='display: inline; text-align: center;'\n    ><div style='display: none; color: #999; padding-top: 0px; font-size: 12px;'>0.002 / 16</div\n        ><div id='_tp_hgilaczdksemplarsixe_ind_7'\n            style='display: inline; background: rgba(230.2941176470614, 26.505882352939775, 102.59215686274348, 0.0); border-radius: 3px; padding: 0px'\n            onclick=\"\n            if (this.previousSibling.style.display == 'none') {\n                this.previousSibling.style.display = 'block';\n                this.parentNode.style.display = 'inline-block';\n            } else {\n                this.previousSibling.style.display = 'none';\n                this.parentNode.style.display = 'inline';\n            }\"\n            onmouseover=\"document.getElementById('_fb_hgilaczdksemplarsixe_ind_7').style.opacity = 1; document.getElementById('_fs_hgilaczdksemplarsixe_ind_7').style.opacity = 1;\"\n            onmouseout=\"document.getElementById('_fb_hgilaczdksemplarsixe_ind_7').style.opacity = 0; document.getElementById('_fs_hgilaczdksemplarsixe_ind_7').style.opacity = 0;\"\n        >of Catalonia Oriol Junqueras and three other jailed members of his ERC </div></div><div style='display: inline; text-align: center;'\n    ><div style='display: none; color: #999; padding-top: 0px; font-size: 12px;'>0.006 / 8</div\n        ><div id='_tp_hgilaczdksemplarsixe_ind_8'\n            style='display: inline; background: rgba(255.0, 13.0, 87.0, 0.00677361853832443); border-radius: 3px; padding: 0px'\n            onclick=\"\n            if (this.previousSibling.style.display == 'none') {\n                this.previousSibling.style.display = 'block';\n                this.parentNode.style.display = 'inline-block';\n            } else {\n                this.previousSibling.style.display = 'none';\n                this.parentNode.style.display = 'inline';\n            }\"\n            onmouseover=\"document.getElementById('_fb_hgilaczdksemplarsixe_ind_8').style.opacity = 1; document.getElementById('_fs_hgilaczdksemplarsixe_ind_8').style.opacity = 1;\"\n            onmouseout=\"document.getElementById('_fb_hgilaczdksemplarsixe_ind_8').style.opacity = 0; document.getElementById('_fs_hgilaczdksemplarsixe_ind_8').style.opacity = 0;\"\n        >party will abide by a ruling giving Madrid </div></div><div style='display: inline; text-align: center;'\n    ><div style='display: none; color: #999; padding-top: 0px; font-size: 12px;'>0.028 / 5</div\n        ><div id='_tp_hgilaczdksemplarsixe_ind_9'\n            style='display: inline; background: rgba(255.0, 13.0, 87.0, 0.04618736383442265); border-radius: 3px; padding: 0px'\n            onclick=\"\n            if (this.previousSibling.style.display == 'none') {\n                this.previousSibling.style.display = 'block';\n                this.parentNode.style.display = 'inline-block';\n            } else {\n                this.previousSibling.style.display = 'none';\n                this.parentNode.style.display = 'inline';\n            }\"\n            onmouseover=\"document.getElementById('_fb_hgilaczdksemplarsixe_ind_9').style.opacity = 1; document.getElementById('_fs_hgilaczdksemplarsixe_ind_9').style.opacity = 1;\"\n            onmouseout=\"document.getElementById('_fb_hgilaczdksemplarsixe_ind_9').style.opacity = 0; document.getElementById('_fs_hgilaczdksemplarsixe_ind_9').style.opacity = 0;\"\n        >control over the region, </div></div><div style='display: inline; text-align: center;'\n    ><div style='display: none; color: #999; padding-top: 0px; font-size: 12px;'>-0.01 / 50</div\n        ><div id='_tp_hgilaczdksemplarsixe_ind_10'\n            style='display: inline; background: rgba(30.0, 136.0, 229.0, 0.014656367597544028); border-radius: 3px; padding: 0px'\n            onclick=\"\n            if (this.previousSibling.style.display == 'none') {\n                this.previousSibling.style.display = 'block';\n                this.parentNode.style.display = 'inline-block';\n            } else {\n                this.previousSibling.style.display = 'none';\n                this.parentNode.style.display = 'inline';\n            }\"\n            onmouseover=\"document.getElementById('_fb_hgilaczdksemplarsixe_ind_10').style.opacity = 1; document.getElementById('_fs_hgilaczdksemplarsixe_ind_10').style.opacity = 1;\"\n            onmouseout=\"document.getElementById('_fb_hgilaczdksemplarsixe_ind_10').style.opacity = 0; document.getElementById('_fs_hgilaczdksemplarsixe_ind_10').style.opacity = 0;\"\n        >their defense lawyer said on Tuesday. Junqueras and seven other former members of the Catalonia regional cabinet were jailed on Nov. 2 pending trial, accused of sedition, rebellion and misappropriation of funds after the local government declared independence from Spain. </div></div><div style='display: inline; text-align: center;'\n    ><div style='display: none; color: #999; padding-top: 0px; font-size: 12px;'>-0.016 / 127</div\n        ><div id='_tp_hgilaczdksemplarsixe_ind_11'\n            style='display: inline; background: rgba(30.0, 136.0, 229.0, 0.022539116656763607); border-radius: 3px; padding: 0px'\n            onclick=\"\n            if (this.previousSibling.style.display == 'none') {\n                this.previousSibling.style.display = 'block';\n                this.parentNode.style.display = 'inline-block';\n            } else {\n                this.previousSibling.style.display = 'none';\n                this.parentNode.style.display = 'inline';\n            }\"\n            onmouseover=\"document.getElementById('_fb_hgilaczdksemplarsixe_ind_11').style.opacity = 1; document.getElementById('_fs_hgilaczdksemplarsixe_ind_11').style.opacity = 1;\"\n            onmouseout=\"document.getElementById('_fb_hgilaczdksemplarsixe_ind_11').style.opacity = 0; document.getElementById('_fs_hgilaczdksemplarsixe_ind_11').style.opacity = 0;\"\n        >Catalonia s secession drive has tipped Spain into its worst political crisis in decades and prompted Madrid to sack the Catalan government, led by Carles Puigdemont, and call a regional election for Dec. 21. The acceptance of Madrid s rule over the region could prompt the Supreme Court to overrule the decision to hold the defendants in custody while they await trial, and release them in time to campaign for the election. All four jailed ERC members - Junqueras, former foreign affairs chief Raul Romeva, justice affairs head Carles Mundo and work chief Dolors Bassa - have been named as candidates in the election. </div></div><div style='display: inline; text-align: center;'\n    ><div style='display: none; color: #999; padding-top: 0px; font-size: 12px;'>-0.013 / 90</div\n        ><div id='_tp_hgilaczdksemplarsixe_ind_12'\n            style='display: inline; background: rgba(30.0, 136.0, 229.0, 0.022539116656763607); border-radius: 3px; padding: 0px'\n            onclick=\"\n            if (this.previousSibling.style.display == 'none') {\n                this.previousSibling.style.display = 'block';\n                this.parentNode.style.display = 'inline-block';\n            } else {\n                this.previousSibling.style.display = 'none';\n                this.parentNode.style.display = 'inline';\n            }\"\n            onmouseover=\"document.getElementById('_fb_hgilaczdksemplarsixe_ind_12').style.opacity = 1; document.getElementById('_fs_hgilaczdksemplarsixe_ind_12').style.opacity = 1;\"\n            onmouseout=\"document.getElementById('_fb_hgilaczdksemplarsixe_ind_12').style.opacity = 0; document.getElementById('_fs_hgilaczdksemplarsixe_ind_12').style.opacity = 0;\"\n        >The defendants did not agree with the application of Article 155, which stripped the regional government of its power after the secessionist ruling, but accepted it, their lawyer said in a statement to the Supreme Court.  My charges accepted, and accept, the application of 155 ... but have done so from a position of deep political and judicial discrepancy,  the lawyer said. The lawyer added that the statement does not mean that they renounce their political convictions. </div></div><div style='display: inline; text-align: center;'\n    ><div style='display: none; color: #999; padding-top: 0px; font-size: 12px;'>-0.002 / 24</div\n        ><div id='_tp_hgilaczdksemplarsixe_ind_13'\n            style='display: inline; background: rgba(54.70588235294111, 122.49411764705886, 213.40784313725496, 0.0); border-radius: 3px; padding: 0px'\n            onclick=\"\n            if (this.previousSibling.style.display == 'none') {\n                this.previousSibling.style.display = 'block';\n                this.parentNode.style.display = 'inline-block';\n            } else {\n                this.previousSibling.style.display = 'none';\n                this.parentNode.style.display = 'inline';\n            }\"\n            onmouseover=\"document.getElementById('_fb_hgilaczdksemplarsixe_ind_13').style.opacity = 1; document.getElementById('_fs_hgilaczdksemplarsixe_ind_13').style.opacity = 1;\"\n            onmouseout=\"document.getElementById('_fb_hgilaczdksemplarsixe_ind_13').style.opacity = 0; document.getElementById('_fs_hgilaczdksemplarsixe_ind_13').style.opacity = 0;\"\n        > Former leader of Catalonia Puigdemont, who has been in self-imposed exile in Belgium since declaring independence, </div></div><div style='display: inline; text-align: center;'\n    ><div style='display: none; color: #999; padding-top: 0px; font-size: 12px;'>-0.006 / 8</div\n        ><div id='_tp_hgilaczdksemplarsixe_ind_14'\n            style='display: inline; background: rgba(30.0, 136.0, 229.0, 0.006773618538324436); border-radius: 3px; padding: 0px'\n            onclick=\"\n            if (this.previousSibling.style.display == 'none') {\n                this.previousSibling.style.display = 'block';\n                this.parentNode.style.display = 'inline-block';\n            } else {\n                this.previousSibling.style.display = 'none';\n                this.parentNode.style.display = 'inline';\n            }\"\n            onmouseover=\"document.getElementById('_fb_hgilaczdksemplarsixe_ind_14').style.opacity = 1; document.getElementById('_fs_hgilaczdksemplarsixe_ind_14').style.opacity = 1;\"\n            onmouseout=\"document.getElementById('_fb_hgilaczdksemplarsixe_ind_14').style.opacity = 0; document.getElementById('_fs_hgilaczdksemplarsixe_ind_14').style.opacity = 0;\"\n        >said on Saturday the election would be most </div></div><div style='display: inline; text-align: center;'\n    ><div style='display: none; color: #999; padding-top: 0px; font-size: 12px;'>-0.027 / 7</div\n        ><div id='_tp_hgilaczdksemplarsixe_ind_15'\n            style='display: inline; background: rgba(30.0, 136.0, 229.0, 0.04618736383442258); border-radius: 3px; padding: 0px'\n            onclick=\"\n            if (this.previousSibling.style.display == 'none') {\n                this.previousSibling.style.display = 'block';\n                this.parentNode.style.display = 'inline-block';\n            } else {\n                this.previousSibling.style.display = 'none';\n                this.parentNode.style.display = 'inline';\n            }\"\n            onmouseover=\"document.getElementById('_fb_hgilaczdksemplarsixe_ind_15').style.opacity = 1; document.getElementById('_fs_hgilaczdksemplarsixe_ind_15').style.opacity = 1;\"\n            onmouseout=\"document.getElementById('_fb_hgilaczdksemplarsixe_ind_15').style.opacity = 0; document.getElementById('_fs_hgilaczdksemplarsixe_ind_15').style.opacity = 0;\"\n        >important in the region s history. </div></div><div style='display: inline; text-align: center;'\n    ><div style='display: none; color: #999; padding-top: 0px; font-size: 12px;'>-0.008 / 15</div\n        ><div id='_tp_hgilaczdksemplarsixe_ind_16'\n            style='display: inline; background: rgba(30.0, 136.0, 229.0, 0.006773618538324436); border-radius: 3px; padding: 0px'\n            onclick=\"\n            if (this.previousSibling.style.display == 'none') {\n                this.previousSibling.style.display = 'block';\n                this.parentNode.style.display = 'inline-block';\n            } else {\n                this.previousSibling.style.display = 'none';\n                this.parentNode.style.display = 'inline';\n            }\"\n            onmouseover=\"document.getElementById('_fb_hgilaczdksemplarsixe_ind_16').style.opacity = 1; document.getElementById('_fs_hgilaczdksemplarsixe_ind_16').style.opacity = 1;\"\n            onmouseout=\"document.getElementById('_fb_hgilaczdksemplarsixe_ind_16').style.opacity = 0; document.getElementById('_fs_hgilaczdksemplarsixe_ind_16').style.opacity = 0;\"\n        > Turnout for the election is expected to reach a record 80 percent as </div></div><div style='display: inline; text-align: center;'\n    ><div style='display: none; color: #999; padding-top: 0px; font-size: 12px;'>-0.028 / 15</div\n        ><div id='_tp_hgilaczdksemplarsixe_ind_17'\n            style='display: inline; background: rgba(30.0, 136.0, 229.0, 0.04618736383442258); border-radius: 3px; padding: 0px'\n            onclick=\"\n            if (this.previousSibling.style.display == 'none') {\n                this.previousSibling.style.display = 'block';\n                this.parentNode.style.display = 'inline-block';\n            } else {\n                this.previousSibling.style.display = 'none';\n                this.parentNode.style.display = 'inline';\n            }\"\n            onmouseover=\"document.getElementById('_fb_hgilaczdksemplarsixe_ind_17').style.opacity = 1; document.getElementById('_fs_hgilaczdksemplarsixe_ind_17').style.opacity = 1;\"\n            onmouseout=\"document.getElementById('_fb_hgilaczdksemplarsixe_ind_17').style.opacity = 0; document.getElementById('_fs_hgilaczdksemplarsixe_ind_17').style.opacity = 0;\"\n        >the deeply divisive issue of the region s secession prompts participation from both sides. </div></div><div style='display: inline; text-align: center;'\n    ><div style='display: none; color: #999; padding-top: 0px; font-size: 12px;'>0.013 / 58</div\n        ><div id='_tp_hgilaczdksemplarsixe_ind_18'\n            style='display: inline; background: rgba(255.0, 13.0, 87.0, 0.02253911665676371); border-radius: 3px; padding: 0px'\n            onclick=\"\n            if (this.previousSibling.style.display == 'none') {\n                this.previousSibling.style.display = 'block';\n                this.parentNode.style.display = 'inline-block';\n            } else {\n                this.previousSibling.style.display = 'none';\n                this.parentNode.style.display = 'inline';\n            }\"\n            onmouseover=\"document.getElementById('_fb_hgilaczdksemplarsixe_ind_18').style.opacity = 1; document.getElementById('_fs_hgilaczdksemplarsixe_ind_18').style.opacity = 1;\"\n            onmouseout=\"document.getElementById('_fb_hgilaczdksemplarsixe_ind_18').style.opacity = 0; document.getElementById('_fs_hgilaczdksemplarsixe_ind_18').style.opacity = 0;\"\n        >Less than a quarter of Catalans want to continue with a plan to claim independence from Spain, according to a poll published in El Pais newspaper on Monday. However, the same poll showed the vote evenly split between pro- and anti-independence parties in the upcoming regional election. </div></div></div></div><div id='_tp_objszupjktclxkgebukf_output_1_zoom' style='display: none;'><svg width=\"100%\" height=\"80px\"><line x1=\"0\" y1=\"33\" x2=\"100%\" y2=\"33\" style=\"stroke:rgb(150,150,150);stroke-width:1\" /><line x1=\"53.12547810508596%\" y1=\"33\" x2=\"53.12547810508596%\" y2=\"37\" style=\"stroke:rgb(150,150,150);stroke-width:1\" /><text x=\"53.12547810508596%\" y=\"27\" font-size=\"12px\" fill=\"rgb(120,120,120)\" dominant-baseline=\"bottom\" text-anchor=\"middle\">0.6</text><line x1=\"38.041760211444995%\" y1=\"33\" x2=\"38.041760211444995%\" y2=\"37\" style=\"stroke:rgb(150,150,150);stroke-width:1\" /><text x=\"38.041760211444995%\" y=\"27\" font-size=\"12px\" fill=\"rgb(120,120,120)\" dominant-baseline=\"bottom\" text-anchor=\"middle\">0.4</text><line x1=\"22.95804231780401%\" y1=\"33\" x2=\"22.95804231780401%\" y2=\"37\" style=\"stroke:rgb(150,150,150);stroke-width:1\" /><text x=\"22.95804231780401%\" y=\"27\" font-size=\"12px\" fill=\"rgb(120,120,120)\" dominant-baseline=\"bottom\" text-anchor=\"middle\">0.2</text><line x1=\"7.874324424163029%\" y1=\"33\" x2=\"7.874324424163029%\" y2=\"37\" style=\"stroke:rgb(150,150,150);stroke-width:1\" /><text x=\"7.874324424163029%\" y=\"27\" font-size=\"12px\" fill=\"rgb(120,120,120)\" dominant-baseline=\"bottom\" text-anchor=\"middle\">-1.11022e-16</text><line x1=\"68.20919599872695%\" y1=\"33\" x2=\"68.20919599872695%\" y2=\"37\" style=\"stroke:rgb(150,150,150);stroke-width:1\" /><text x=\"68.20919599872695%\" y=\"27\" font-size=\"12px\" fill=\"rgb(120,120,120)\" dominant-baseline=\"bottom\" text-anchor=\"middle\">0.8</text><line x1=\"83.29291389236792%\" y1=\"33\" x2=\"83.29291389236792%\" y2=\"37\" style=\"stroke:rgb(150,150,150);stroke-width:1\" /><text x=\"83.29291389236792%\" y=\"27\" font-size=\"12px\" fill=\"rgb(120,120,120)\" dominant-baseline=\"bottom\" text-anchor=\"middle\">1</text><line x1=\"16.707867535339034%\" y1=\"33\" x2=\"16.707867535339034%\" y2=\"37\" style=\"stroke:rgb(150,150,150);stroke-width:1\" /><text x=\"16.707867535339034%\" y=\"27\" font-size=\"13px\" style=\"stroke:#ffffff;stroke-width:8px;\" fill=\"rgb(255,255,255)\" dominant-baseline=\"bottom\" text-anchor=\"middle\">0.117127</text><text x=\"16.707867535339034%\" y=\"27\" font-size=\"12px\" fill=\"rgb(120,120,120)\" dominant-baseline=\"bottom\" text-anchor=\"middle\">0.117127</text><text x=\"16.707867535339034%\" y=\"10\" font-size=\"12px\" fill=\"rgb(120,120,120)\" dominant-baseline=\"bottom\" text-anchor=\"middle\">base value</text><line x1=\"83.29213171047509%\" y1=\"33\" x2=\"83.29213171047509%\" y2=\"37\" style=\"stroke:rgb(150,150,150);stroke-width:1\" /><text x=\"83.29213171047509%\" y=\"27\" font-size=\"13px\" style=\"stroke:#ffffff;stroke-width:8px;\" font-weight=\"bold\" fill=\"rgb(255,255,255)\" dominant-baseline=\"bottom\" text-anchor=\"middle\">0.99999</text><text x=\"83.29213171047509%\" y=\"27\" font-size=\"13px\" font-weight=\"bold\" fill=\"rgb(0,0,0)\" dominant-baseline=\"bottom\" text-anchor=\"middle\">0.99999</text><text x=\"83.29213171047509%\" y=\"10\" font-size=\"12px\" fill=\"rgb(120,120,120)\" dominant-baseline=\"bottom\" text-anchor=\"middle\">f<tspan baseline-shift=\"sub\" font-size=\"8px\">True</tspan>(inputs)</text><rect x=\"8.333334633232411%\" width=\"74.95879707724268%\" y=\"40\" height=\"18\" style=\"fill:rgb(255.0, 0.0, 81.08083606031792); stroke-width:0; stroke:rgb(0,0,0)\" /><line x1=\"41.92793642273474%\" x2=\"83.29213171047509%\" y1=\"60\" y2=\"60\" id=\"_fb_ohqqxswgdewzbfidvbyf_ind_3\" style=\"stroke:rgb(255.0, 0.0, 81.08083606031792);stroke-width:2; opacity: 0\"/><text x=\"62.61003406660491%\" y=\"71\" font-size=\"12px\" id=\"_fs_ohqqxswgdewzbfidvbyf_ind_3\" fill=\"rgb(255.0, 0.0, 81.08083606031792)\" style=\"opacity: 0\" dominant-baseline=\"middle\" text-anchor=\"middle\">0.548</text><svg x=\"41.92793642273474%\" y=\"40\" height=\"20\" width=\"41.36419528774035%\">  <svg x=\"0\" y=\"0\" width=\"100%\" height=\"100%\">    <text x=\"50%\" y=\"9\" font-size=\"12px\" fill=\"rgb(255,255,255)\" dominant-baseline=\"middle\" text-anchor=\"middle\">Reuters)</text>  </svg></svg><line x1=\"26.461564364190373%\" x2=\"41.92793642273474%\" y1=\"60\" y2=\"60\" id=\"_fb_ohqqxswgdewzbfidvbyf_ind_2\" style=\"stroke:rgb(255.0, 0.0, 81.08083606031792);stroke-width:2; opacity: 0\"/><text x=\"34.194750393462556%\" y=\"71\" font-size=\"12px\" id=\"_fs_ohqqxswgdewzbfidvbyf_ind_2\" fill=\"rgb(255.0, 0.0, 81.08083606031792)\" style=\"opacity: 0\" dominant-baseline=\"middle\" text-anchor=\"middle\">0.205</text><svg x=\"26.461564364190373%\" y=\"40\" height=\"20\" width=\"15.466372058544366%\">  <svg x=\"0\" y=\"0\" width=\"100%\" height=\"100%\">    <text x=\"50%\" y=\"9\" font-size=\"12px\" fill=\"rgb(255,255,255)\" dominant-baseline=\"middle\" text-anchor=\"middle\">(</text>  </svg></svg><line x1=\"17.670612387255144%\" x2=\"26.461564364190373%\" y1=\"60\" y2=\"60\" id=\"_fb_ohqqxswgdewzbfidvbyf_ind_1\" style=\"stroke:rgb(255.0, 0.0, 81.08083606031792);stroke-width:2; opacity: 0\"/><text x=\"22.066088375722757%\" y=\"71\" font-size=\"12px\" id=\"_fs_ohqqxswgdewzbfidvbyf_ind_1\" fill=\"rgb(255.0, 0.0, 81.08083606031792)\" style=\"opacity: 0\" dominant-baseline=\"middle\" text-anchor=\"middle\">0.117</text><svg x=\"17.670612387255144%\" y=\"40\" height=\"20\" width=\"8.79095197693523%\">  <svg x=\"0\" y=\"0\" width=\"100%\" height=\"100%\">    <text x=\"50%\" y=\"9\" font-size=\"12px\" fill=\"rgb(255,255,255)\" dominant-baseline=\"middle\" text-anchor=\"middle\">MADRID</text>  </svg></svg><line x1=\"15.20709298080576%\" x2=\"17.670612387255144%\" y1=\"60\" y2=\"60\" id=\"_fb_ohqqxswgdewzbfidvbyf_ind_5\" style=\"stroke:rgb(255.0, 0.0, 81.08083606031792);stroke-width:2; opacity: 0\"/><text x=\"16.43885268403045%\" y=\"71\" font-size=\"12px\" id=\"_fs_ohqqxswgdewzbfidvbyf_ind_5\" fill=\"rgb(255.0, 0.0, 81.08083606031792)\" style=\"opacity: 0\" dominant-baseline=\"middle\" text-anchor=\"middle\">0.033</text><svg x=\"15.20709298080576%\" y=\"40\" height=\"20\" width=\"2.463519406449384%\">  <svg x=\"0\" y=\"0\" width=\"100%\" height=\"100%\">    <text x=\"50%\" y=\"9\" font-size=\"12px\" fill=\"rgb(255,255,255)\" dominant-baseline=\"middle\" text-anchor=\"middle\">Imprisoned</text>  </svg></svg><line x1=\"13.08231785588523%\" x2=\"15.20709298080576%\" y1=\"60\" y2=\"60\" id=\"_fb_ohqqxswgdewzbfidvbyf_ind_9\" style=\"stroke:rgb(255.0, 0.0, 81.08083606031792);stroke-width:2; opacity: 0\"/><text x=\"14.144705418345495%\" y=\"71\" font-size=\"12px\" id=\"_fs_ohqqxswgdewzbfidvbyf_ind_9\" fill=\"rgb(255.0, 0.0, 81.08083606031792)\" style=\"opacity: 0\" dominant-baseline=\"middle\" text-anchor=\"middle\">0.028</text><svg x=\"13.08231785588523%\" y=\"40\" height=\"20\" width=\"2.1247751249205287%\">  <svg x=\"0\" y=\"0\" width=\"100%\" height=\"100%\">    <text x=\"50%\" y=\"9\" font-size=\"12px\" fill=\"rgb(255,255,255)\" dominant-baseline=\"middle\" text-anchor=\"middle\">control over the region,</text>  </svg></svg><line x1=\"11.354924485324116%\" x2=\"13.08231785588523%\" y1=\"60\" y2=\"60\" id=\"_fb_ohqqxswgdewzbfidvbyf_ind_0\" style=\"stroke:rgb(255.0, 0.0, 81.08083606031792);stroke-width:2; opacity: 0\"/><text x=\"12.218621170604674%\" y=\"71\" font-size=\"12px\" id=\"_fs_ohqqxswgdewzbfidvbyf_ind_0\" fill=\"rgb(255.0, 0.0, 81.08083606031792)\" style=\"opacity: 0\" dominant-baseline=\"middle\" text-anchor=\"middle\">0.023</text><svg x=\"11.354924485324116%\" y=\"40\" height=\"20\" width=\"1.7273933705611153%\">  <svg x=\"0\" y=\"0\" width=\"100%\" height=\"100%\">    <text x=\"50%\" y=\"9\" font-size=\"12px\" fill=\"rgb(255,255,255)\" dominant-baseline=\"middle\" text-anchor=\"middle\"></text>  </svg></svg><line x1=\"10.36858667052303%\" x2=\"11.354924485324116%\" y1=\"60\" y2=\"60\" id=\"_fb_ohqqxswgdewzbfidvbyf_ind_18\" style=\"stroke:rgb(255.0, 0.0, 81.08083606031792);stroke-width:2; opacity: 0\"/><text x=\"10.861755577923573%\" y=\"71\" font-size=\"12px\" id=\"_fs_ohqqxswgdewzbfidvbyf_ind_18\" fill=\"rgb(255.0, 0.0, 81.08083606031792)\" style=\"opacity: 0\" dominant-baseline=\"middle\" text-anchor=\"middle\">0.013</text><svg x=\"10.36858667052303%\" y=\"40\" height=\"20\" width=\"0.986337814801086%\">  <svg x=\"0\" y=\"0\" width=\"100%\" height=\"100%\">    <text x=\"50%\" y=\"9\" font-size=\"12px\" fill=\"rgb(255,255,255)\" dominant-baseline=\"middle\" text-anchor=\"middle\">Less than a quarter of Catalans want to continue with a plan to claim independence from Spain, according to a poll published in El Pais newspaper on Monday. However, the same poll showed the vote evenly split between pro- and anti-independence parties in the upcoming regional election.</text>  </svg></svg><line x1=\"9.607074921682768%\" x2=\"10.36858667052303%\" y1=\"60\" y2=\"60\" id=\"_fb_ohqqxswgdewzbfidvbyf_ind_6\" style=\"stroke:rgb(255.0, 0.0, 81.08083606031792);stroke-width:2; opacity: 0\"/><text x=\"9.987830796102898%\" y=\"71\" font-size=\"12px\" id=\"_fs_ohqqxswgdewzbfidvbyf_ind_6\" fill=\"rgb(255.0, 0.0, 81.08083606031792)\" style=\"opacity: 0\" dominant-baseline=\"middle\" text-anchor=\"middle\">0.01</text><svg x=\"9.607074921682768%\" y=\"40\" height=\"20\" width=\"0.7615117488402614%\">  <svg x=\"0\" y=\"0\" width=\"100%\" height=\"100%\">    <text x=\"50%\" y=\"9\" font-size=\"12px\" fill=\"rgb(255,255,255)\" dominant-baseline=\"middle\" text-anchor=\"middle\">former vice-president</text>  </svg></svg><line x1=\"8.901448266579807%\" x2=\"9.607074921682768%\" y1=\"60\" y2=\"60\" id=\"_fb_ohqqxswgdewzbfidvbyf_ind_4\" style=\"stroke:rgb(255.0, 0.0, 81.08083606031792);stroke-width:2; opacity: 0\"/><text x=\"9.254261594131288%\" y=\"71\" font-size=\"12px\" id=\"_fs_ohqqxswgdewzbfidvbyf_ind_4\" fill=\"rgb(255.0, 0.0, 81.08083606031792)\" style=\"opacity: 0\" dominant-baseline=\"middle\" text-anchor=\"middle\">0.009</text><svg x=\"8.901448266579807%\" y=\"40\" height=\"20\" width=\"0.7056266551029609%\">  <svg x=\"0\" y=\"0\" width=\"100%\" height=\"100%\">    <text x=\"50%\" y=\"9\" font-size=\"12px\" fill=\"rgb(255,255,255)\" dominant-baseline=\"middle\" text-anchor=\"middle\">-</text>  </svg></svg><line x1=\"8.478788247599795%\" x2=\"8.901448266579807%\" y1=\"60\" y2=\"60\" id=\"_fb_ohqqxswgdewzbfidvbyf_ind_8\" style=\"stroke:rgb(255.0, 0.0, 81.08083606031792);stroke-width:2; opacity: 0\"/><text x=\"8.6901182570898%\" y=\"71\" font-size=\"12px\" id=\"_fs_ohqqxswgdewzbfidvbyf_ind_8\" fill=\"rgb(255.0, 0.0, 81.08083606031792)\" style=\"opacity: 0\" dominant-baseline=\"middle\" text-anchor=\"middle\">0.006</text><svg x=\"8.478788247599795%\" y=\"40\" height=\"20\" width=\"0.4226600189800127%\">  <svg x=\"0\" y=\"0\" width=\"100%\" height=\"100%\">    <text x=\"50%\" y=\"9\" font-size=\"12px\" fill=\"rgb(255,255,255)\" dominant-baseline=\"middle\" text-anchor=\"middle\">party will abide by a ruling giving Madrid</text>  </svg></svg><line x1=\"8.333334633232411%\" x2=\"8.478788247599795%\" y1=\"60\" y2=\"60\" id=\"_fb_ohqqxswgdewzbfidvbyf_ind_7\" style=\"stroke:rgb(255.0, 0.0, 81.08083606031792);stroke-width:2; opacity: 0\"/><text x=\"8.406061440416103%\" y=\"71\" font-size=\"12px\" id=\"_fs_ohqqxswgdewzbfidvbyf_ind_7\" fill=\"rgb(255.0, 0.0, 81.08083606031792)\" style=\"opacity: 0\" dominant-baseline=\"middle\" text-anchor=\"middle\">0.002</text><svg x=\"8.333334633232411%\" y=\"40\" height=\"20\" width=\"0.14545361436738347%\">  <svg x=\"0\" y=\"0\" width=\"100%\" height=\"100%\">    <text x=\"50%\" y=\"9\" font-size=\"12px\" fill=\"rgb(255,255,255)\" dominant-baseline=\"middle\" text-anchor=\"middle\">of Catalonia Oriol Junqueras and three other jailed members of his ERC</text>  </svg></svg><g transform=\"translate(0,0)\">  <svg x=\"41.92793642273474%\" y=\"40\" height=\"18\" overflow=\"visible\" width=\"30\">    <path d=\"M 0 -9 l 6 18 L 0 25\" fill=\"none\" style=\"stroke:rgb(255.0, 0.0, 81.08083606031792);stroke-width:2\" />  </svg></g><g transform=\"translate(2,0)\">  <svg x=\"41.92793642273474%\" y=\"40\" height=\"18\" overflow=\"visible\" width=\"30\">    <path d=\"M 0 -9 l 6 18 L 0 25\" fill=\"none\" style=\"stroke:rgb(255.0, 0.0, 81.08083606031792);stroke-width:2\" />  </svg></g><g transform=\"translate(4,0)\">  <svg x=\"41.92793642273474%\" y=\"40\" height=\"18\" overflow=\"visible\" width=\"30\">    <path d=\"M 0 -9 l 6 18 L 0 25\" fill=\"none\" style=\"stroke:rgb(255.0, 0.0, 81.08083606031792);stroke-width:2\" />  </svg></g><g transform=\"translate(6,0)\">  <svg x=\"41.92793642273474%\" y=\"40\" height=\"18\" overflow=\"visible\" width=\"30\">    <path d=\"M 0 -9 l 6 18 L 0 25\" fill=\"none\" style=\"stroke:rgb(255.0, 0.0, 81.08083606031792);stroke-width:2\" />  </svg></g><g transform=\"translate(-8,0)\">  <svg x=\"41.92793642273474%\" y=\"40\" height=\"18\" overflow=\"visible\" width=\"30\">    <path d=\"M 0 -9 l 6 18 L 0 25\" fill=\"none\" style=\"stroke:rgb(255.0, 0.0, 81.08083606031792);stroke-width:2\" />  </svg></g><g transform=\"translate(-6,0)\">  <svg x=\"41.92793642273474%\" y=\"40\" height=\"18\" overflow=\"visible\" width=\"30\">    <path d=\"M 0 -9 l 6 18 L 0 25\" fill=\"none\" style=\"stroke:rgb(255.0, 0.0, 81.08083606031792);stroke-width:2\" />  </svg></g><g transform=\"translate(-4,0)\">  <svg x=\"41.92793642273474%\" y=\"40\" height=\"18\" overflow=\"visible\" width=\"30\">    <path d=\"M 0 -9 l 6 18 L 0 25\" fill=\"none\" style=\"stroke:rgb(255.0, 0.0, 81.08083606031792);stroke-width:2\" />  </svg></g><g transform=\"translate(-2,0)\">  <svg x=\"41.92793642273474%\" y=\"40\" height=\"18\" overflow=\"visible\" width=\"30\">    <path d=\"M 0 -9 l 6 18 L 0 25\" fill=\"none\" style=\"stroke:rgb(255.0, 0.0, 81.08083606031792);stroke-width:2\" />  </svg></g><g transform=\"translate(0,0)\">  <svg x=\"26.461564364190373%\" y=\"40\" height=\"18\" overflow=\"visible\" width=\"30\">    <path d=\"M 0 -9 l 6 18 L 0 25\" fill=\"none\" style=\"stroke:rgb(255.0, 0.0, 81.08083606031792);stroke-width:2\" />  </svg></g><g transform=\"translate(2,0)\">  <svg x=\"26.461564364190373%\" y=\"40\" height=\"18\" overflow=\"visible\" width=\"30\">    <path d=\"M 0 -9 l 6 18 L 0 25\" fill=\"none\" style=\"stroke:rgb(255.0, 0.0, 81.08083606031792);stroke-width:2\" />  </svg></g><g transform=\"translate(4,0)\">  <svg x=\"26.461564364190373%\" y=\"40\" height=\"18\" overflow=\"visible\" width=\"30\">    <path d=\"M 0 -9 l 6 18 L 0 25\" fill=\"none\" style=\"stroke:rgb(255.0, 0.0, 81.08083606031792);stroke-width:2\" />  </svg></g><g transform=\"translate(6,0)\">  <svg x=\"26.461564364190373%\" y=\"40\" height=\"18\" overflow=\"visible\" width=\"30\">    <path d=\"M 0 -9 l 6 18 L 0 25\" fill=\"none\" style=\"stroke:rgb(255.0, 0.0, 81.08083606031792);stroke-width:2\" />  </svg></g><g transform=\"translate(-8,0)\">  <svg x=\"26.461564364190373%\" y=\"40\" height=\"18\" overflow=\"visible\" width=\"30\">    <path d=\"M 0 -9 l 6 18 L 0 25\" fill=\"none\" style=\"stroke:rgb(255.0, 0.0, 81.08083606031792);stroke-width:2\" />  </svg></g><g transform=\"translate(-6,0)\">  <svg x=\"26.461564364190373%\" y=\"40\" height=\"18\" overflow=\"visible\" width=\"30\">    <path d=\"M 0 -9 l 6 18 L 0 25\" fill=\"none\" style=\"stroke:rgb(255.0, 0.0, 81.08083606031792);stroke-width:2\" />  </svg></g><g transform=\"translate(-4,0)\">  <svg x=\"26.461564364190373%\" y=\"40\" height=\"18\" overflow=\"visible\" width=\"30\">    <path d=\"M 0 -9 l 6 18 L 0 25\" fill=\"none\" style=\"stroke:rgb(255.0, 0.0, 81.08083606031792);stroke-width:2\" />  </svg></g><g transform=\"translate(-2,0)\">  <svg x=\"26.461564364190373%\" y=\"40\" height=\"18\" overflow=\"visible\" width=\"30\">    <path d=\"M 0 -9 l 6 18 L 0 25\" fill=\"none\" style=\"stroke:rgb(255.0, 0.0, 81.08083606031792);stroke-width:2\" />  </svg></g><g transform=\"translate(0,0)\">  <svg x=\"17.670612387255144%\" y=\"40\" height=\"18\" overflow=\"visible\" width=\"30\">    <path d=\"M 0 -9 l 6 18 L 0 25\" fill=\"none\" style=\"stroke:rgb(255.0, 0.0, 81.08083606031792);stroke-width:2\" />  </svg></g><g transform=\"translate(2,0)\">  <svg x=\"17.670612387255144%\" y=\"40\" height=\"18\" overflow=\"visible\" width=\"30\">    <path d=\"M 0 -9 l 6 18 L 0 25\" fill=\"none\" style=\"stroke:rgb(255.0, 0.0, 81.08083606031792);stroke-width:2\" />  </svg></g><g transform=\"translate(4,0)\">  <svg x=\"17.670612387255144%\" y=\"40\" height=\"18\" overflow=\"visible\" width=\"30\">    <path d=\"M 0 -9 l 6 18 L 0 25\" fill=\"none\" style=\"stroke:rgb(255.0, 0.0, 81.08083606031792);stroke-width:2\" />  </svg></g><g transform=\"translate(6,0)\">  <svg x=\"17.670612387255144%\" y=\"40\" height=\"18\" overflow=\"visible\" width=\"30\">    <path d=\"M 0 -9 l 6 18 L 0 25\" fill=\"none\" style=\"stroke:rgb(255.0, 0.0, 81.08083606031792);stroke-width:2\" />  </svg></g><g transform=\"translate(-8,0)\">  <svg x=\"17.670612387255144%\" y=\"40\" height=\"18\" overflow=\"visible\" width=\"30\">    <path d=\"M 0 -9 l 6 18 L 0 25\" fill=\"none\" style=\"stroke:rgb(255.0, 0.0, 81.08083606031792);stroke-width:2\" />  </svg></g><g transform=\"translate(-6,0)\">  <svg x=\"17.670612387255144%\" y=\"40\" height=\"18\" overflow=\"visible\" width=\"30\">    <path d=\"M 0 -9 l 6 18 L 0 25\" fill=\"none\" style=\"stroke:rgb(255.0, 0.0, 81.08083606031792);stroke-width:2\" />  </svg></g><g transform=\"translate(-4,0)\">  <svg x=\"17.670612387255144%\" y=\"40\" height=\"18\" overflow=\"visible\" width=\"30\">    <path d=\"M 0 -9 l 6 18 L 0 25\" fill=\"none\" style=\"stroke:rgb(255.0, 0.0, 81.08083606031792);stroke-width:2\" />  </svg></g><g transform=\"translate(-2,0)\">  <svg x=\"17.670612387255144%\" y=\"40\" height=\"18\" overflow=\"visible\" width=\"30\">    <path d=\"M 0 -9 l 6 18 L 0 25\" fill=\"none\" style=\"stroke:rgb(255.0, 0.0, 81.08083606031792);stroke-width:2\" />  </svg></g><g transform=\"translate(0,0)\">  <svg x=\"15.20709298080576%\" y=\"40\" height=\"18\" overflow=\"visible\" width=\"30\">    <path d=\"M 0 -9 l 6 18 L 0 25\" fill=\"none\" style=\"stroke:rgb(255.0, 0.0, 81.08083606031792);stroke-width:2\" />  </svg></g><g transform=\"translate(2,0)\">  <svg x=\"15.20709298080576%\" y=\"40\" height=\"18\" overflow=\"visible\" width=\"30\">    <path d=\"M 0 -9 l 6 18 L 0 25\" fill=\"none\" style=\"stroke:rgb(255.0, 0.0, 81.08083606031792);stroke-width:2\" />  </svg></g><g transform=\"translate(4,0)\">  <svg x=\"15.20709298080576%\" y=\"40\" height=\"18\" overflow=\"visible\" width=\"30\">    <path d=\"M 0 -9 l 6 18 L 0 25\" fill=\"none\" style=\"stroke:rgb(255.0, 0.0, 81.08083606031792);stroke-width:2\" />  </svg></g><g transform=\"translate(6,0)\">  <svg x=\"15.20709298080576%\" y=\"40\" height=\"18\" overflow=\"visible\" width=\"30\">    <path d=\"M 0 -9 l 6 18 L 0 25\" fill=\"none\" style=\"stroke:rgb(255.0, 0.0, 81.08083606031792);stroke-width:2\" />  </svg></g><g transform=\"translate(-8,0)\">  <svg x=\"15.20709298080576%\" y=\"40\" height=\"18\" overflow=\"visible\" width=\"30\">    <path d=\"M 0 -9 l 6 18 L 0 25\" fill=\"none\" style=\"stroke:rgb(255.0, 0.0, 81.08083606031792);stroke-width:2\" />  </svg></g><g transform=\"translate(-6,0)\">  <svg x=\"15.20709298080576%\" y=\"40\" height=\"18\" overflow=\"visible\" width=\"30\">    <path d=\"M 0 -9 l 6 18 L 0 25\" fill=\"none\" style=\"stroke:rgb(255.0, 0.0, 81.08083606031792);stroke-width:2\" />  </svg></g><g transform=\"translate(-4,0)\">  <svg x=\"15.20709298080576%\" y=\"40\" height=\"18\" overflow=\"visible\" width=\"30\">    <path d=\"M 0 -9 l 6 18 L 0 25\" fill=\"none\" style=\"stroke:rgb(255.0, 0.0, 81.08083606031792);stroke-width:2\" />  </svg></g><g transform=\"translate(-2,0)\">  <svg x=\"15.20709298080576%\" y=\"40\" height=\"18\" overflow=\"visible\" width=\"30\">    <path d=\"M 0 -9 l 6 18 L 0 25\" fill=\"none\" style=\"stroke:rgb(255.0, 0.0, 81.08083606031792);stroke-width:2\" />  </svg></g><g transform=\"translate(0,0)\">  <svg x=\"13.08231785588523%\" y=\"40\" height=\"18\" overflow=\"visible\" width=\"30\">    <path d=\"M 0 -9 l 6 18 L 0 25\" fill=\"none\" style=\"stroke:rgb(255.0, 0.0, 81.08083606031792);stroke-width:2\" />  </svg></g><g transform=\"translate(2,0)\">  <svg x=\"13.08231785588523%\" y=\"40\" height=\"18\" overflow=\"visible\" width=\"30\">    <path d=\"M 0 -9 l 6 18 L 0 25\" fill=\"none\" style=\"stroke:rgb(255.0, 0.0, 81.08083606031792);stroke-width:2\" />  </svg></g><g transform=\"translate(4,0)\">  <svg x=\"13.08231785588523%\" y=\"40\" height=\"18\" overflow=\"visible\" width=\"30\">    <path d=\"M 0 -9 l 6 18 L 0 25\" fill=\"none\" style=\"stroke:rgb(255.0, 0.0, 81.08083606031792);stroke-width:2\" />  </svg></g><g transform=\"translate(6,0)\">  <svg x=\"13.08231785588523%\" y=\"40\" height=\"18\" overflow=\"visible\" width=\"30\">    <path d=\"M 0 -9 l 6 18 L 0 25\" fill=\"none\" style=\"stroke:rgb(255.0, 0.0, 81.08083606031792);stroke-width:2\" />  </svg></g><g transform=\"translate(-8,0)\">  <svg x=\"13.08231785588523%\" y=\"40\" height=\"18\" overflow=\"visible\" width=\"30\">    <path d=\"M 0 -9 l 6 18 L 0 25\" fill=\"none\" style=\"stroke:rgb(255.0, 0.0, 81.08083606031792);stroke-width:2\" />  </svg></g><g transform=\"translate(-6,0)\">  <svg x=\"13.08231785588523%\" y=\"40\" height=\"18\" overflow=\"visible\" width=\"30\">    <path d=\"M 0 -9 l 6 18 L 0 25\" fill=\"none\" style=\"stroke:rgb(255.0, 0.0, 81.08083606031792);stroke-width:2\" />  </svg></g><g transform=\"translate(-4,0)\">  <svg x=\"13.08231785588523%\" y=\"40\" height=\"18\" overflow=\"visible\" width=\"30\">    <path d=\"M 0 -9 l 6 18 L 0 25\" fill=\"none\" style=\"stroke:rgb(255.0, 0.0, 81.08083606031792);stroke-width:2\" />  </svg></g><g transform=\"translate(-2,0)\">  <svg x=\"13.08231785588523%\" y=\"40\" height=\"18\" overflow=\"visible\" width=\"30\">    <path d=\"M 0 -9 l 6 18 L 0 25\" fill=\"none\" style=\"stroke:rgb(255.0, 0.0, 81.08083606031792);stroke-width:2\" />  </svg></g><g transform=\"translate(0,0)\">  <svg x=\"11.354924485324116%\" y=\"40\" height=\"18\" overflow=\"visible\" width=\"30\">    <path d=\"M 0 -9 l 6 18 L 0 25\" fill=\"none\" style=\"stroke:rgb(255.0, 0.0, 81.08083606031792);stroke-width:2\" />  </svg></g><g transform=\"translate(2,0)\">  <svg x=\"11.354924485324116%\" y=\"40\" height=\"18\" overflow=\"visible\" width=\"30\">    <path d=\"M 0 -9 l 6 18 L 0 25\" fill=\"none\" style=\"stroke:rgb(255.0, 0.0, 81.08083606031792);stroke-width:2\" />  </svg></g><g transform=\"translate(4,0)\">  <svg x=\"11.354924485324116%\" y=\"40\" height=\"18\" overflow=\"visible\" width=\"30\">    <path d=\"M 0 -9 l 6 18 L 0 25\" fill=\"none\" style=\"stroke:rgb(255.0, 0.0, 81.08083606031792);stroke-width:2\" />  </svg></g><g transform=\"translate(6,0)\">  <svg x=\"11.354924485324116%\" y=\"40\" height=\"18\" overflow=\"visible\" width=\"30\">    <path d=\"M 0 -9 l 6 18 L 0 25\" fill=\"none\" style=\"stroke:rgb(255.0, 0.0, 81.08083606031792);stroke-width:2\" />  </svg></g><g transform=\"translate(-8,0)\">  <svg x=\"11.354924485324116%\" y=\"40\" height=\"18\" overflow=\"visible\" width=\"30\">    <path d=\"M 0 -9 l 6 18 L 0 25\" fill=\"none\" style=\"stroke:rgb(255.0, 0.0, 81.08083606031792);stroke-width:2\" />  </svg></g><g transform=\"translate(-6,0)\">  <svg x=\"11.354924485324116%\" y=\"40\" height=\"18\" overflow=\"visible\" width=\"30\">    <path d=\"M 0 -9 l 6 18 L 0 25\" fill=\"none\" style=\"stroke:rgb(255.0, 0.0, 81.08083606031792);stroke-width:2\" />  </svg></g><g transform=\"translate(-4,0)\">  <svg x=\"11.354924485324116%\" y=\"40\" height=\"18\" overflow=\"visible\" width=\"30\">    <path d=\"M 0 -9 l 6 18 L 0 25\" fill=\"none\" style=\"stroke:rgb(255.0, 0.0, 81.08083606031792);stroke-width:2\" />  </svg></g><g transform=\"translate(-2,0)\">  <svg x=\"11.354924485324116%\" y=\"40\" height=\"18\" overflow=\"visible\" width=\"30\">    <path d=\"M 0 -9 l 6 18 L 0 25\" fill=\"none\" style=\"stroke:rgb(255.0, 0.0, 81.08083606031792);stroke-width:2\" />  </svg></g><g transform=\"translate(0,0)\">  <svg x=\"10.36858667052303%\" y=\"40\" height=\"18\" overflow=\"visible\" width=\"30\">    <path d=\"M 0 -9 l 6 18 L 0 25\" fill=\"none\" style=\"stroke:rgb(255.0, 0.0, 81.08083606031792);stroke-width:2\" />  </svg></g><g transform=\"translate(2,0)\">  <svg x=\"10.36858667052303%\" y=\"40\" height=\"18\" overflow=\"visible\" width=\"30\">    <path d=\"M 0 -9 l 6 18 L 0 25\" fill=\"none\" style=\"stroke:rgb(255.0, 0.0, 81.08083606031792);stroke-width:2\" />  </svg></g><g transform=\"translate(4,0)\">  <svg x=\"10.36858667052303%\" y=\"40\" height=\"18\" overflow=\"visible\" width=\"30\">    <path d=\"M 0 -9 l 6 18 L 0 25\" fill=\"none\" style=\"stroke:rgb(255.0, 0.0, 81.08083606031792);stroke-width:2\" />  </svg></g><g transform=\"translate(6,0)\">  <svg x=\"10.36858667052303%\" y=\"40\" height=\"18\" overflow=\"visible\" width=\"30\">    <path d=\"M 0 -9 l 6 18 L 0 25\" fill=\"none\" style=\"stroke:rgb(255.0, 0.0, 81.08083606031792);stroke-width:2\" />  </svg></g><g transform=\"translate(-8,0)\">  <svg x=\"10.36858667052303%\" y=\"40\" height=\"18\" overflow=\"visible\" width=\"30\">    <path d=\"M 0 -9 l 6 18 L 0 25\" fill=\"none\" style=\"stroke:rgb(255.0, 0.0, 81.08083606031792);stroke-width:2\" />  </svg></g><g transform=\"translate(-6,0)\">  <svg x=\"10.36858667052303%\" y=\"40\" height=\"18\" overflow=\"visible\" width=\"30\">    <path d=\"M 0 -9 l 6 18 L 0 25\" fill=\"none\" style=\"stroke:rgb(255.0, 0.0, 81.08083606031792);stroke-width:2\" />  </svg></g><g transform=\"translate(-4,0)\">  <svg x=\"10.36858667052303%\" y=\"40\" height=\"18\" overflow=\"visible\" width=\"30\">    <path d=\"M 0 -9 l 6 18 L 0 25\" fill=\"none\" style=\"stroke:rgb(255.0, 0.0, 81.08083606031792);stroke-width:2\" />  </svg></g><g transform=\"translate(-2,0)\">  <svg x=\"10.36858667052303%\" y=\"40\" height=\"18\" overflow=\"visible\" width=\"30\">    <path d=\"M 0 -9 l 6 18 L 0 25\" fill=\"none\" style=\"stroke:rgb(255.0, 0.0, 81.08083606031792);stroke-width:2\" />  </svg></g><g transform=\"translate(0,0)\">  <svg x=\"9.607074921682768%\" y=\"40\" height=\"18\" overflow=\"visible\" width=\"30\">    <path d=\"M 0 -9 l 6 18 L 0 25\" fill=\"none\" style=\"stroke:rgb(255.0, 0.0, 81.08083606031792);stroke-width:2\" />  </svg></g><g transform=\"translate(2,0)\">  <svg x=\"9.607074921682768%\" y=\"40\" height=\"18\" overflow=\"visible\" width=\"30\">    <path d=\"M 0 -9 l 6 18 L 0 25\" fill=\"none\" style=\"stroke:rgb(255.0, 0.0, 81.08083606031792);stroke-width:2\" />  </svg></g><g transform=\"translate(4,0)\">  <svg x=\"9.607074921682768%\" y=\"40\" height=\"18\" overflow=\"visible\" width=\"30\">    <path d=\"M 0 -9 l 6 18 L 0 25\" fill=\"none\" style=\"stroke:rgb(255.0, 0.0, 81.08083606031792);stroke-width:2\" />  </svg></g><g transform=\"translate(6,0)\">  <svg x=\"9.607074921682768%\" y=\"40\" height=\"18\" overflow=\"visible\" width=\"30\">    <path d=\"M 0 -9 l 6 18 L 0 25\" fill=\"none\" style=\"stroke:rgb(255.0, 0.0, 81.08083606031792);stroke-width:2\" />  </svg></g><g transform=\"translate(-8,0)\">  <svg x=\"9.607074921682768%\" y=\"40\" height=\"18\" overflow=\"visible\" width=\"30\">    <path d=\"M 0 -9 l 6 18 L 0 25\" fill=\"none\" style=\"stroke:rgb(255.0, 0.0, 81.08083606031792);stroke-width:2\" />  </svg></g><g transform=\"translate(-6,0)\">  <svg x=\"9.607074921682768%\" y=\"40\" height=\"18\" overflow=\"visible\" width=\"30\">    <path d=\"M 0 -9 l 6 18 L 0 25\" fill=\"none\" style=\"stroke:rgb(255.0, 0.0, 81.08083606031792);stroke-width:2\" />  </svg></g><g transform=\"translate(-4,0)\">  <svg x=\"9.607074921682768%\" y=\"40\" height=\"18\" overflow=\"visible\" width=\"30\">    <path d=\"M 0 -9 l 6 18 L 0 25\" fill=\"none\" style=\"stroke:rgb(255.0, 0.0, 81.08083606031792);stroke-width:2\" />  </svg></g><g transform=\"translate(-2,0)\">  <svg x=\"9.607074921682768%\" y=\"40\" height=\"18\" overflow=\"visible\" width=\"30\">    <path d=\"M 0 -9 l 6 18 L 0 25\" fill=\"none\" style=\"stroke:rgb(255.0, 0.0, 81.08083606031792);stroke-width:2\" />  </svg></g><g transform=\"translate(0,0)\">  <svg x=\"8.901448266579807%\" y=\"40\" height=\"18\" overflow=\"visible\" width=\"30\">    <path d=\"M 0 -9 l 6 18 L 0 25\" fill=\"none\" style=\"stroke:rgb(255.0, 0.0, 81.08083606031792);stroke-width:2\" />  </svg></g><g transform=\"translate(2,0)\">  <svg x=\"8.901448266579807%\" y=\"40\" height=\"18\" overflow=\"visible\" width=\"30\">    <path d=\"M 0 -9 l 6 18 L 0 25\" fill=\"none\" style=\"stroke:rgb(255.0, 0.0, 81.08083606031792);stroke-width:2\" />  </svg></g><g transform=\"translate(4,0)\">  <svg x=\"8.901448266579807%\" y=\"40\" height=\"18\" overflow=\"visible\" width=\"30\">    <path d=\"M 0 -9 l 6 18 L 0 25\" fill=\"none\" style=\"stroke:rgb(255.0, 0.0, 81.08083606031792);stroke-width:2\" />  </svg></g><g transform=\"translate(6,0)\">  <svg x=\"8.901448266579807%\" y=\"40\" height=\"18\" overflow=\"visible\" width=\"30\">    <path d=\"M 0 -9 l 6 18 L 0 25\" fill=\"none\" style=\"stroke:rgb(255.0, 0.0, 81.08083606031792);stroke-width:2\" />  </svg></g><g transform=\"translate(-8,0)\">  <svg x=\"8.901448266579807%\" y=\"40\" height=\"18\" overflow=\"visible\" width=\"30\">    <path d=\"M 0 -9 l 6 18 L 0 25\" fill=\"none\" style=\"stroke:rgb(255.0, 0.0, 81.08083606031792);stroke-width:2\" />  </svg></g><g transform=\"translate(-6,0)\">  <svg x=\"8.901448266579807%\" y=\"40\" height=\"18\" overflow=\"visible\" width=\"30\">    <path d=\"M 0 -9 l 6 18 L 0 25\" fill=\"none\" style=\"stroke:rgb(255.0, 0.0, 81.08083606031792);stroke-width:2\" />  </svg></g><g transform=\"translate(-4,0)\">  <svg x=\"8.901448266579807%\" y=\"40\" height=\"18\" overflow=\"visible\" width=\"30\">    <path d=\"M 0 -9 l 6 18 L 0 25\" fill=\"none\" style=\"stroke:rgb(255.0, 0.0, 81.08083606031792);stroke-width:2\" />  </svg></g><g transform=\"translate(-2,0)\">  <svg x=\"8.901448266579807%\" y=\"40\" height=\"18\" overflow=\"visible\" width=\"30\">    <path d=\"M 0 -9 l 6 18 L 0 25\" fill=\"none\" style=\"stroke:rgb(255.0, 0.0, 81.08083606031792);stroke-width:2\" />  </svg></g><g transform=\"translate(0,0)\">  <svg x=\"8.478788247599795%\" y=\"40\" height=\"18\" overflow=\"visible\" width=\"30\">    <path d=\"M 0 -9 l 6 18 L 0 25\" fill=\"none\" style=\"stroke:rgb(255.0, 0.0, 81.08083606031792);stroke-width:2\" />  </svg></g><g transform=\"translate(2,0)\">  <svg x=\"8.478788247599795%\" y=\"40\" height=\"18\" overflow=\"visible\" width=\"30\">    <path d=\"M 0 -9 l 6 18 L 0 25\" fill=\"none\" style=\"stroke:rgb(255.0, 0.0, 81.08083606031792);stroke-width:2\" />  </svg></g><g transform=\"translate(4,0)\">  <svg x=\"8.478788247599795%\" y=\"40\" height=\"18\" overflow=\"visible\" width=\"30\">    <path d=\"M 0 -9 l 6 18 L 0 25\" fill=\"none\" style=\"stroke:rgb(255.0, 0.0, 81.08083606031792);stroke-width:2\" />  </svg></g><g transform=\"translate(6,0)\">  <svg x=\"8.478788247599795%\" y=\"40\" height=\"18\" overflow=\"visible\" width=\"30\">    <path d=\"M 0 -9 l 6 18 L 0 25\" fill=\"none\" style=\"stroke:rgb(255.0, 0.0, 81.08083606031792);stroke-width:2\" />  </svg></g><g transform=\"translate(-8,0)\">  <svg x=\"8.478788247599795%\" y=\"40\" height=\"18\" overflow=\"visible\" width=\"30\">    <path d=\"M 0 -9 l 6 18 L 0 25\" fill=\"none\" style=\"stroke:rgb(255.0, 0.0, 81.08083606031792);stroke-width:2\" />  </svg></g><g transform=\"translate(-6,0)\">  <svg x=\"8.478788247599795%\" y=\"40\" height=\"18\" overflow=\"visible\" width=\"30\">    <path d=\"M 0 -9 l 6 18 L 0 25\" fill=\"none\" style=\"stroke:rgb(255.0, 0.0, 81.08083606031792);stroke-width:2\" />  </svg></g><g transform=\"translate(-4,0)\">  <svg x=\"8.478788247599795%\" y=\"40\" height=\"18\" overflow=\"visible\" width=\"30\">    <path d=\"M 0 -9 l 6 18 L 0 25\" fill=\"none\" style=\"stroke:rgb(255.0, 0.0, 81.08083606031792);stroke-width:2\" />  </svg></g><g transform=\"translate(-2,0)\">  <svg x=\"8.478788247599795%\" y=\"40\" height=\"18\" overflow=\"visible\" width=\"30\">    <path d=\"M 0 -9 l 6 18 L 0 25\" fill=\"none\" style=\"stroke:rgb(255.0, 0.0, 81.08083606031792);stroke-width:2\" />  </svg></g><rect transform=\"translate(-8,0)\" x=\"83.29213171047509%\" y=\"40\" width=\"8\" height=\"18\" style=\"fill:rgb(255.0, 0.0, 81.08083606031792)\"/><g transform=\"translate(-11.5,0)\">  <svg x=\"8.333334633232411%\" y=\"40\" height=\"18\" overflow=\"visible\" width=\"30\">    <path d=\"M 10 -9 l 6 18 L 10 25 L 0 25 L 0 -9\" fill=\"#ffffff\" style=\"stroke:rgb(255,255,255);stroke-width:2\" />  </svg></g><g transform=\"translate(-1.5,0)\">  <svg x=\"83.29213171047509%\" y=\"40\" height=\"18\" overflow=\"visible\" width=\"30\">    <path d=\"M 0 -9 l 6 18 L 0 25\" fill=\"none\" style=\"stroke:rgb(255, 195, 213);stroke-width:2\" />  </svg></g><rect x=\"41.92793642273474%\" y=\"40\" height=\"20\" width=\"41.36419528774035%\"      onmouseover=\"document.getElementById('_tp_ohqqxswgdewzbfidvbyf_ind_3').style.textDecoration = 'underline';document.getElementById('_fs_ohqqxswgdewzbfidvbyf_ind_3').style.opacity = 1;document.getElementById('_fb_ohqqxswgdewzbfidvbyf_ind_3').style.opacity = 1;\"      onmouseout=\"document.getElementById('_tp_ohqqxswgdewzbfidvbyf_ind_3').style.textDecoration = 'none';document.getElementById('_fs_ohqqxswgdewzbfidvbyf_ind_3').style.opacity = 0;document.getElementById('_fb_ohqqxswgdewzbfidvbyf_ind_3').style.opacity = 0;\" style=\"fill:rgb(0,0,0,0)\" /><g transform=\"translate(-1.5,0)\">  <svg x=\"41.92793642273474%\" y=\"40\" height=\"18\" overflow=\"visible\" width=\"30\">    <path d=\"M 0 -9 l 6 18 L 0 25\" fill=\"none\" style=\"stroke:rgb(255, 195, 213);stroke-width:2\" />  </svg></g><rect x=\"26.461564364190373%\" y=\"40\" height=\"20\" width=\"15.466372058544366%\"      onmouseover=\"document.getElementById('_tp_ohqqxswgdewzbfidvbyf_ind_2').style.textDecoration = 'underline';document.getElementById('_fs_ohqqxswgdewzbfidvbyf_ind_2').style.opacity = 1;document.getElementById('_fb_ohqqxswgdewzbfidvbyf_ind_2').style.opacity = 1;\"      onmouseout=\"document.getElementById('_tp_ohqqxswgdewzbfidvbyf_ind_2').style.textDecoration = 'none';document.getElementById('_fs_ohqqxswgdewzbfidvbyf_ind_2').style.opacity = 0;document.getElementById('_fb_ohqqxswgdewzbfidvbyf_ind_2').style.opacity = 0;\" style=\"fill:rgb(0,0,0,0)\" /><g transform=\"translate(-1.5,0)\">  <svg x=\"26.461564364190373%\" y=\"40\" height=\"18\" overflow=\"visible\" width=\"30\">    <path d=\"M 0 -9 l 6 18 L 0 25\" fill=\"none\" style=\"stroke:rgb(255, 195, 213);stroke-width:2\" />  </svg></g><rect x=\"17.670612387255144%\" y=\"40\" height=\"20\" width=\"8.79095197693523%\"      onmouseover=\"document.getElementById('_tp_ohqqxswgdewzbfidvbyf_ind_1').style.textDecoration = 'underline';document.getElementById('_fs_ohqqxswgdewzbfidvbyf_ind_1').style.opacity = 1;document.getElementById('_fb_ohqqxswgdewzbfidvbyf_ind_1').style.opacity = 1;\"      onmouseout=\"document.getElementById('_tp_ohqqxswgdewzbfidvbyf_ind_1').style.textDecoration = 'none';document.getElementById('_fs_ohqqxswgdewzbfidvbyf_ind_1').style.opacity = 0;document.getElementById('_fb_ohqqxswgdewzbfidvbyf_ind_1').style.opacity = 0;\" style=\"fill:rgb(0,0,0,0)\" /><g transform=\"translate(-1.5,0)\">  <svg x=\"17.670612387255144%\" y=\"40\" height=\"18\" overflow=\"visible\" width=\"30\">    <path d=\"M 0 -9 l 6 18 L 0 25\" fill=\"none\" style=\"stroke:rgb(255, 195, 213);stroke-width:2\" />  </svg></g><rect x=\"15.20709298080576%\" y=\"40\" height=\"20\" width=\"2.463519406449384%\"      onmouseover=\"document.getElementById('_tp_ohqqxswgdewzbfidvbyf_ind_5').style.textDecoration = 'underline';document.getElementById('_fs_ohqqxswgdewzbfidvbyf_ind_5').style.opacity = 1;document.getElementById('_fb_ohqqxswgdewzbfidvbyf_ind_5').style.opacity = 1;\"      onmouseout=\"document.getElementById('_tp_ohqqxswgdewzbfidvbyf_ind_5').style.textDecoration = 'none';document.getElementById('_fs_ohqqxswgdewzbfidvbyf_ind_5').style.opacity = 0;document.getElementById('_fb_ohqqxswgdewzbfidvbyf_ind_5').style.opacity = 0;\" style=\"fill:rgb(0,0,0,0)\" /><g transform=\"translate(-1.5,0)\">  <svg x=\"15.20709298080576%\" y=\"40\" height=\"18\" overflow=\"visible\" width=\"30\">    <path d=\"M 0 -9 l 6 18 L 0 25\" fill=\"none\" style=\"stroke:rgb(255, 195, 213);stroke-width:2\" />  </svg></g><rect x=\"13.08231785588523%\" y=\"40\" height=\"20\" width=\"2.1247751249205287%\"      onmouseover=\"document.getElementById('_tp_ohqqxswgdewzbfidvbyf_ind_9').style.textDecoration = 'underline';document.getElementById('_fs_ohqqxswgdewzbfidvbyf_ind_9').style.opacity = 1;document.getElementById('_fb_ohqqxswgdewzbfidvbyf_ind_9').style.opacity = 1;\"      onmouseout=\"document.getElementById('_tp_ohqqxswgdewzbfidvbyf_ind_9').style.textDecoration = 'none';document.getElementById('_fs_ohqqxswgdewzbfidvbyf_ind_9').style.opacity = 0;document.getElementById('_fb_ohqqxswgdewzbfidvbyf_ind_9').style.opacity = 0;\" style=\"fill:rgb(0,0,0,0)\" /><g transform=\"translate(-1.5,0)\">  <svg x=\"13.08231785588523%\" y=\"40\" height=\"18\" overflow=\"visible\" width=\"30\">    <path d=\"M 0 -9 l 6 18 L 0 25\" fill=\"none\" style=\"stroke:rgb(255, 195, 213);stroke-width:2\" />  </svg></g><rect x=\"11.354924485324116%\" y=\"40\" height=\"20\" width=\"1.7273933705611153%\"      onmouseover=\"document.getElementById('_tp_ohqqxswgdewzbfidvbyf_ind_0').style.textDecoration = 'underline';document.getElementById('_fs_ohqqxswgdewzbfidvbyf_ind_0').style.opacity = 1;document.getElementById('_fb_ohqqxswgdewzbfidvbyf_ind_0').style.opacity = 1;\"      onmouseout=\"document.getElementById('_tp_ohqqxswgdewzbfidvbyf_ind_0').style.textDecoration = 'none';document.getElementById('_fs_ohqqxswgdewzbfidvbyf_ind_0').style.opacity = 0;document.getElementById('_fb_ohqqxswgdewzbfidvbyf_ind_0').style.opacity = 0;\" style=\"fill:rgb(0,0,0,0)\" /><g transform=\"translate(-1.5,0)\">  <svg x=\"11.354924485324116%\" y=\"40\" height=\"18\" overflow=\"visible\" width=\"30\">    <path d=\"M 0 -9 l 6 18 L 0 25\" fill=\"none\" style=\"stroke:rgb(255, 195, 213);stroke-width:2\" />  </svg></g><rect x=\"10.36858667052303%\" y=\"40\" height=\"20\" width=\"0.986337814801086%\"      onmouseover=\"document.getElementById('_tp_ohqqxswgdewzbfidvbyf_ind_18').style.textDecoration = 'underline';document.getElementById('_fs_ohqqxswgdewzbfidvbyf_ind_18').style.opacity = 1;document.getElementById('_fb_ohqqxswgdewzbfidvbyf_ind_18').style.opacity = 1;\"      onmouseout=\"document.getElementById('_tp_ohqqxswgdewzbfidvbyf_ind_18').style.textDecoration = 'none';document.getElementById('_fs_ohqqxswgdewzbfidvbyf_ind_18').style.opacity = 0;document.getElementById('_fb_ohqqxswgdewzbfidvbyf_ind_18').style.opacity = 0;\" style=\"fill:rgb(0,0,0,0)\" /><g transform=\"translate(-1.5,0)\">  <svg x=\"10.36858667052303%\" y=\"40\" height=\"18\" overflow=\"visible\" width=\"30\">    <path d=\"M 0 -9 l 6 18 L 0 25\" fill=\"none\" style=\"stroke:rgb(255, 195, 213);stroke-width:2\" />  </svg></g><rect x=\"9.607074921682768%\" y=\"40\" height=\"20\" width=\"0.7615117488402614%\"      onmouseover=\"document.getElementById('_tp_ohqqxswgdewzbfidvbyf_ind_6').style.textDecoration = 'underline';document.getElementById('_fs_ohqqxswgdewzbfidvbyf_ind_6').style.opacity = 1;document.getElementById('_fb_ohqqxswgdewzbfidvbyf_ind_6').style.opacity = 1;\"      onmouseout=\"document.getElementById('_tp_ohqqxswgdewzbfidvbyf_ind_6').style.textDecoration = 'none';document.getElementById('_fs_ohqqxswgdewzbfidvbyf_ind_6').style.opacity = 0;document.getElementById('_fb_ohqqxswgdewzbfidvbyf_ind_6').style.opacity = 0;\" style=\"fill:rgb(0,0,0,0)\" /><g transform=\"translate(-1.5,0)\">  <svg x=\"9.607074921682768%\" y=\"40\" height=\"18\" overflow=\"visible\" width=\"30\">    <path d=\"M 0 -9 l 6 18 L 0 25\" fill=\"none\" style=\"stroke:rgb(255, 195, 213);stroke-width:2\" />  </svg></g><rect x=\"8.901448266579807%\" y=\"40\" height=\"20\" width=\"0.7056266551029609%\"      onmouseover=\"document.getElementById('_tp_ohqqxswgdewzbfidvbyf_ind_4').style.textDecoration = 'underline';document.getElementById('_fs_ohqqxswgdewzbfidvbyf_ind_4').style.opacity = 1;document.getElementById('_fb_ohqqxswgdewzbfidvbyf_ind_4').style.opacity = 1;\"      onmouseout=\"document.getElementById('_tp_ohqqxswgdewzbfidvbyf_ind_4').style.textDecoration = 'none';document.getElementById('_fs_ohqqxswgdewzbfidvbyf_ind_4').style.opacity = 0;document.getElementById('_fb_ohqqxswgdewzbfidvbyf_ind_4').style.opacity = 0;\" style=\"fill:rgb(0,0,0,0)\" /><g transform=\"translate(-1.5,0)\">  <svg x=\"8.901448266579807%\" y=\"40\" height=\"18\" overflow=\"visible\" width=\"30\">    <path d=\"M 0 -9 l 6 18 L 0 25\" fill=\"none\" style=\"stroke:rgb(255, 195, 213);stroke-width:2\" />  </svg></g><rect x=\"8.478788247599795%\" y=\"40\" height=\"20\" width=\"0.4226600189800127%\"      onmouseover=\"document.getElementById('_tp_ohqqxswgdewzbfidvbyf_ind_8').style.textDecoration = 'underline';document.getElementById('_fs_ohqqxswgdewzbfidvbyf_ind_8').style.opacity = 1;document.getElementById('_fb_ohqqxswgdewzbfidvbyf_ind_8').style.opacity = 1;\"      onmouseout=\"document.getElementById('_tp_ohqqxswgdewzbfidvbyf_ind_8').style.textDecoration = 'none';document.getElementById('_fs_ohqqxswgdewzbfidvbyf_ind_8').style.opacity = 0;document.getElementById('_fb_ohqqxswgdewzbfidvbyf_ind_8').style.opacity = 0;\" style=\"fill:rgb(0,0,0,0)\" /><rect x=\"8.333334633232411%\" y=\"40\" height=\"20\" width=\"0.14545361436738347%\"      onmouseover=\"document.getElementById('_tp_ohqqxswgdewzbfidvbyf_ind_7').style.textDecoration = 'underline';document.getElementById('_fs_ohqqxswgdewzbfidvbyf_ind_7').style.opacity = 1;document.getElementById('_fb_ohqqxswgdewzbfidvbyf_ind_7').style.opacity = 1;\"      onmouseout=\"document.getElementById('_tp_ohqqxswgdewzbfidvbyf_ind_7').style.textDecoration = 'none';document.getElementById('_fs_ohqqxswgdewzbfidvbyf_ind_7').style.opacity = 0;document.getElementById('_fb_ohqqxswgdewzbfidvbyf_ind_7').style.opacity = 0;\" style=\"fill:rgb(0,0,0,0)\" /><rect x=\"83.29213171047509%\" width=\"8.374532902106624%\" y=\"40\" height=\"18\" style=\"fill:rgb(0.0, 138.56128015770724, 250.76166088685727); stroke-width:0; stroke:rgb(0,0,0)\" /><line x1=\"83.29213171047509%\" x2=\"85.4233446631807%\" y1=\"60\" y2=\"60\" id=\"_fb_ohqqxswgdewzbfidvbyf_ind_17\" style=\"stroke:rgb(0.0, 138.56128015770724, 250.76166088685727);stroke-width:2; opacity: 0\"/><text x=\"84.3577381868279%\" y=\"71\" font-size=\"12px\" fill=\"rgb(0.0, 138.56128015770724, 250.76166088685727)\" id=\"_fs_ohqqxswgdewzbfidvbyf_ind_17\" style=\"opacity: 0\" dominant-baseline=\"middle\" text-anchor=\"middle\">-0.028</text><svg x=\"83.29213171047509%\" y=\"40\" height=\"20\" width=\"2.13121295270561%\">  <svg x=\"0\" y=\"0\" width=\"100%\" height=\"100%\">    <text x=\"50%\" y=\"9\" font-size=\"12px\" fill=\"rgb(255,255,255)\" dominant-baseline=\"middle\" text-anchor=\"middle\">the deeply divisive issue of the region s secession prompts participation from both sides.</text>  </svg></svg><line x1=\"85.4233446631807%\" x2=\"87.47202045415756%\" y1=\"60\" y2=\"60\" id=\"_fb_ohqqxswgdewzbfidvbyf_ind_15\" style=\"stroke:rgb(0.0, 138.56128015770724, 250.76166088685727);stroke-width:2; opacity: 0\"/><text x=\"86.44768255866913%\" y=\"71\" font-size=\"12px\" fill=\"rgb(0.0, 138.56128015770724, 250.76166088685727)\" id=\"_fs_ohqqxswgdewzbfidvbyf_ind_15\" style=\"opacity: 0\" dominant-baseline=\"middle\" text-anchor=\"middle\">-0.027</text><svg x=\"85.4233446631807%\" y=\"40\" height=\"20\" width=\"2.0486757909768585%\">  <svg x=\"0\" y=\"0\" width=\"100%\" height=\"100%\">    <text x=\"50%\" y=\"9\" font-size=\"12px\" fill=\"rgb(255,255,255)\" dominant-baseline=\"middle\" text-anchor=\"middle\">important in the region s history.</text>  </svg></svg><line x1=\"87.47202045415756%\" x2=\"88.66799086119063%\" y1=\"60\" y2=\"60\" id=\"_fb_ohqqxswgdewzbfidvbyf_ind_11\" style=\"stroke:rgb(0.0, 138.56128015770724, 250.76166088685727);stroke-width:2; opacity: 0\"/><text x=\"88.0700056576741%\" y=\"71\" font-size=\"12px\" fill=\"rgb(0.0, 138.56128015770724, 250.76166088685727)\" id=\"_fs_ohqqxswgdewzbfidvbyf_ind_11\" style=\"opacity: 0\" dominant-baseline=\"middle\" text-anchor=\"middle\">-0.016</text><svg x=\"87.47202045415756%\" y=\"40\" height=\"20\" width=\"1.195970407033073%\">  <svg x=\"0\" y=\"0\" width=\"100%\" height=\"100%\">    <text x=\"50%\" y=\"9\" font-size=\"12px\" fill=\"rgb(255,255,255)\" dominant-baseline=\"middle\" text-anchor=\"middle\">Catalonia s secession drive has tipped Spain into its worst political crisis in decades and prompted Madrid to sack the Catalan government, led by Carles Puigdemont, and call a regional election for Dec. 21. The acceptance of Madrid s rule over the region could prompt the Supreme Court to overrule the decision to hold the defendants in custody while they await trial, and release them in time to campaign for the election. All four jailed ERC members - Junqueras, former foreign affairs chief Raul Romeva, justice affairs head Carles Mundo and work chief Dolors Bassa - have been named as candidates in the election.</text>  </svg></svg><line x1=\"88.66799086119063%\" x2=\"89.68015406515636%\" y1=\"60\" y2=\"60\" id=\"_fb_ohqqxswgdewzbfidvbyf_ind_12\" style=\"stroke:rgb(0.0, 138.56128015770724, 250.76166088685727);stroke-width:2; opacity: 0\"/><text x=\"89.1740724631735%\" y=\"71\" font-size=\"12px\" fill=\"rgb(0.0, 138.56128015770724, 250.76166088685727)\" id=\"_fs_ohqqxswgdewzbfidvbyf_ind_12\" style=\"opacity: 0\" dominant-baseline=\"middle\" text-anchor=\"middle\">-0.013</text><svg x=\"88.66799086119063%\" y=\"40\" height=\"20\" width=\"1.0121632039657271%\">  <svg x=\"0\" y=\"0\" width=\"100%\" height=\"100%\">    <text x=\"50%\" y=\"9\" font-size=\"12px\" fill=\"rgb(255,255,255)\" dominant-baseline=\"middle\" text-anchor=\"middle\">The defendants did not agree with the application of Article 155, which stripped the regional government of its power after the secessionist ruling, but accepted it, their lawyer said in a statement to the Supreme Court.  My charges accepted, and accept, the application of 155 ... but have done so from a position of deep political and judicial discrepancy,  the lawyer said. The lawyer added that the statement does not mean that they renounce their political convictions.</text>  </svg></svg><line x1=\"89.68015406515636%\" x2=\"90.44407433937187%\" y1=\"60\" y2=\"60\" id=\"_fb_ohqqxswgdewzbfidvbyf_ind_10\" style=\"stroke:rgb(0.0, 138.56128015770724, 250.76166088685727);stroke-width:2; opacity: 0\"/><text x=\"90.06211420226411%\" y=\"71\" font-size=\"12px\" fill=\"rgb(0.0, 138.56128015770724, 250.76166088685727)\" id=\"_fs_ohqqxswgdewzbfidvbyf_ind_10\" style=\"opacity: 0\" dominant-baseline=\"middle\" text-anchor=\"middle\">-0.01</text><svg x=\"89.68015406515636%\" y=\"40\" height=\"20\" width=\"0.7639202742155078%\">  <svg x=\"0\" y=\"0\" width=\"100%\" height=\"100%\">    <text x=\"50%\" y=\"9\" font-size=\"12px\" fill=\"rgb(255,255,255)\" dominant-baseline=\"middle\" text-anchor=\"middle\">their defense lawyer said on Tuesday. Junqueras and seven other former members of the Catalonia regional cabinet were jailed on Nov. 2 pending trial, accused of sedition, rebellion and misappropriation of funds after the local government declared independence from Spain.</text>  </svg></svg><line x1=\"90.44407433937187%\" x2=\"91.01406254321034%\" y1=\"60\" y2=\"60\" id=\"_fb_ohqqxswgdewzbfidvbyf_ind_16\" style=\"stroke:rgb(0.0, 138.56128015770724, 250.76166088685727);stroke-width:2; opacity: 0\"/><text x=\"90.7290684412911%\" y=\"71\" font-size=\"12px\" fill=\"rgb(0.0, 138.56128015770724, 250.76166088685727)\" id=\"_fs_ohqqxswgdewzbfidvbyf_ind_16\" style=\"opacity: 0\" dominant-baseline=\"middle\" text-anchor=\"middle\">-0.008</text><svg x=\"90.44407433937187%\" y=\"40\" height=\"20\" width=\"0.5699882038384771%\">  <svg x=\"0\" y=\"0\" width=\"100%\" height=\"100%\">    <text x=\"50%\" y=\"9\" font-size=\"12px\" fill=\"rgb(255,255,255)\" dominant-baseline=\"middle\" text-anchor=\"middle\">Turnout for the election is expected to reach a record 80 percent as</text>  </svg></svg><line x1=\"91.01406254321034%\" x2=\"91.48254705361427%\" y1=\"60\" y2=\"60\" id=\"_fb_ohqqxswgdewzbfidvbyf_ind_14\" style=\"stroke:rgb(0.0, 138.56128015770724, 250.76166088685727);stroke-width:2; opacity: 0\"/><text x=\"91.2483047984123%\" y=\"71\" font-size=\"12px\" fill=\"rgb(0.0, 138.56128015770724, 250.76166088685727)\" id=\"_fs_ohqqxswgdewzbfidvbyf_ind_14\" style=\"opacity: 0\" dominant-baseline=\"middle\" text-anchor=\"middle\">-0.006</text><svg x=\"91.01406254321034%\" y=\"40\" height=\"20\" width=\"0.46848451040392547%\">  <svg x=\"0\" y=\"0\" width=\"100%\" height=\"100%\">    <text x=\"50%\" y=\"9\" font-size=\"12px\" fill=\"rgb(255,255,255)\" dominant-baseline=\"middle\" text-anchor=\"middle\">said on Saturday the election would be most</text>  </svg></svg><line x1=\"91.48254705361427%\" x2=\"91.66666461258171%\" y1=\"60\" y2=\"60\" id=\"_fb_ohqqxswgdewzbfidvbyf_ind_13\" style=\"stroke:rgb(0.0, 138.56128015770724, 250.76166088685727);stroke-width:2; opacity: 0\"/><text x=\"91.57460583309799%\" y=\"71\" font-size=\"12px\" fill=\"rgb(0.0, 138.56128015770724, 250.76166088685727)\" id=\"_fs_ohqqxswgdewzbfidvbyf_ind_13\" style=\"opacity: 0\" dominant-baseline=\"middle\" text-anchor=\"middle\">-0.002</text><svg x=\"91.48254705361427%\" y=\"40\" height=\"20\" width=\"0.18411755896744353%\">  <svg x=\"0\" y=\"0\" width=\"100%\" height=\"100%\">    <text x=\"50%\" y=\"9\" font-size=\"12px\" fill=\"rgb(255,255,255)\" dominant-baseline=\"middle\" text-anchor=\"middle\">Former leader of Catalonia Puigdemont, who has been in self-imposed exile in Belgium since declaring independence,</text>  </svg></svg><g transform=\"translate(-8,0)\">  <svg x=\"85.4233446631807%\" y=\"40\" height=\"18\" overflow=\"visible\" width=\"30\">    <path d=\"M 8 -9 l -6 18 L 8 25\" fill=\"none\" style=\"stroke:rgb(0.0, 138.56128015770724, 250.76166088685727);stroke-width:2\" />  </svg></g><g transform=\"translate(-10,0)\">  <svg x=\"85.4233446631807%\" y=\"40\" height=\"18\" overflow=\"visible\" width=\"30\">    <path d=\"M 8 -9 l -6 18 L 8 25\" fill=\"none\" style=\"stroke:rgb(0.0, 138.56128015770724, 250.76166088685727);stroke-width:2\" />  </svg></g><g transform=\"translate(-12,0)\">  <svg x=\"85.4233446631807%\" y=\"40\" height=\"18\" overflow=\"visible\" width=\"30\">    <path d=\"M 8 -9 l -6 18 L 8 25\" fill=\"none\" style=\"stroke:rgb(0.0, 138.56128015770724, 250.76166088685727);stroke-width:2\" />  </svg></g><g transform=\"translate(-14,0)\">  <svg x=\"85.4233446631807%\" y=\"40\" height=\"18\" overflow=\"visible\" width=\"30\">    <path d=\"M 8 -9 l -6 18 L 8 25\" fill=\"none\" style=\"stroke:rgb(0.0, 138.56128015770724, 250.76166088685727);stroke-width:2\" />  </svg></g><g transform=\"translate(2,0)\">  <svg x=\"85.4233446631807%\" y=\"40\" height=\"18\" overflow=\"visible\" width=\"30\">    <path d=\"M 8 -9 l -6 18 L 8 25\" fill=\"none\" style=\"stroke:rgb(0.0, 138.56128015770724, 250.76166088685727);stroke-width:2\" />  </svg></g><g transform=\"translate(0,0)\">  <svg x=\"85.4233446631807%\" y=\"40\" height=\"18\" overflow=\"visible\" width=\"30\">    <path d=\"M 8 -9 l -6 18 L 8 25\" fill=\"none\" style=\"stroke:rgb(0.0, 138.56128015770724, 250.76166088685727);stroke-width:2\" />  </svg></g><g transform=\"translate(-2,0)\">  <svg x=\"85.4233446631807%\" y=\"40\" height=\"18\" overflow=\"visible\" width=\"30\">    <path d=\"M 8 -9 l -6 18 L 8 25\" fill=\"none\" style=\"stroke:rgb(0.0, 138.56128015770724, 250.76166088685727);stroke-width:2\" />  </svg></g><g transform=\"translate(-4,0)\">  <svg x=\"85.4233446631807%\" y=\"40\" height=\"18\" overflow=\"visible\" width=\"30\">    <path d=\"M 8 -9 l -6 18 L 8 25\" fill=\"none\" style=\"stroke:rgb(0.0, 138.56128015770724, 250.76166088685727);stroke-width:2\" />  </svg></g><g transform=\"translate(-8,0)\">  <svg x=\"87.47202045415756%\" y=\"40\" height=\"18\" overflow=\"visible\" width=\"30\">    <path d=\"M 8 -9 l -6 18 L 8 25\" fill=\"none\" style=\"stroke:rgb(0.0, 138.56128015770724, 250.76166088685727);stroke-width:2\" />  </svg></g><g transform=\"translate(-10,0)\">  <svg x=\"87.47202045415756%\" y=\"40\" height=\"18\" overflow=\"visible\" width=\"30\">    <path d=\"M 8 -9 l -6 18 L 8 25\" fill=\"none\" style=\"stroke:rgb(0.0, 138.56128015770724, 250.76166088685727);stroke-width:2\" />  </svg></g><g transform=\"translate(-12,0)\">  <svg x=\"87.47202045415756%\" y=\"40\" height=\"18\" overflow=\"visible\" width=\"30\">    <path d=\"M 8 -9 l -6 18 L 8 25\" fill=\"none\" style=\"stroke:rgb(0.0, 138.56128015770724, 250.76166088685727);stroke-width:2\" />  </svg></g><g transform=\"translate(-14,0)\">  <svg x=\"87.47202045415756%\" y=\"40\" height=\"18\" overflow=\"visible\" width=\"30\">    <path d=\"M 8 -9 l -6 18 L 8 25\" fill=\"none\" style=\"stroke:rgb(0.0, 138.56128015770724, 250.76166088685727);stroke-width:2\" />  </svg></g><g transform=\"translate(2,0)\">  <svg x=\"87.47202045415756%\" y=\"40\" height=\"18\" overflow=\"visible\" width=\"30\">    <path d=\"M 8 -9 l -6 18 L 8 25\" fill=\"none\" style=\"stroke:rgb(0.0, 138.56128015770724, 250.76166088685727);stroke-width:2\" />  </svg></g><g transform=\"translate(0,0)\">  <svg x=\"87.47202045415756%\" y=\"40\" height=\"18\" overflow=\"visible\" width=\"30\">    <path d=\"M 8 -9 l -6 18 L 8 25\" fill=\"none\" style=\"stroke:rgb(0.0, 138.56128015770724, 250.76166088685727);stroke-width:2\" />  </svg></g><g transform=\"translate(-2,0)\">  <svg x=\"87.47202045415756%\" y=\"40\" height=\"18\" overflow=\"visible\" width=\"30\">    <path d=\"M 8 -9 l -6 18 L 8 25\" fill=\"none\" style=\"stroke:rgb(0.0, 138.56128015770724, 250.76166088685727);stroke-width:2\" />  </svg></g><g transform=\"translate(-4,0)\">  <svg x=\"87.47202045415756%\" y=\"40\" height=\"18\" overflow=\"visible\" width=\"30\">    <path d=\"M 8 -9 l -6 18 L 8 25\" fill=\"none\" style=\"stroke:rgb(0.0, 138.56128015770724, 250.76166088685727);stroke-width:2\" />  </svg></g><g transform=\"translate(-8,0)\">  <svg x=\"88.66799086119063%\" y=\"40\" height=\"18\" overflow=\"visible\" width=\"30\">    <path d=\"M 8 -9 l -6 18 L 8 25\" fill=\"none\" style=\"stroke:rgb(0.0, 138.56128015770724, 250.76166088685727);stroke-width:2\" />  </svg></g><g transform=\"translate(-10,0)\">  <svg x=\"88.66799086119063%\" y=\"40\" height=\"18\" overflow=\"visible\" width=\"30\">    <path d=\"M 8 -9 l -6 18 L 8 25\" fill=\"none\" style=\"stroke:rgb(0.0, 138.56128015770724, 250.76166088685727);stroke-width:2\" />  </svg></g><g transform=\"translate(-12,0)\">  <svg x=\"88.66799086119063%\" y=\"40\" height=\"18\" overflow=\"visible\" width=\"30\">    <path d=\"M 8 -9 l -6 18 L 8 25\" fill=\"none\" style=\"stroke:rgb(0.0, 138.56128015770724, 250.76166088685727);stroke-width:2\" />  </svg></g><g transform=\"translate(-14,0)\">  <svg x=\"88.66799086119063%\" y=\"40\" height=\"18\" overflow=\"visible\" width=\"30\">    <path d=\"M 8 -9 l -6 18 L 8 25\" fill=\"none\" style=\"stroke:rgb(0.0, 138.56128015770724, 250.76166088685727);stroke-width:2\" />  </svg></g><g transform=\"translate(2,0)\">  <svg x=\"88.66799086119063%\" y=\"40\" height=\"18\" overflow=\"visible\" width=\"30\">    <path d=\"M 8 -9 l -6 18 L 8 25\" fill=\"none\" style=\"stroke:rgb(0.0, 138.56128015770724, 250.76166088685727);stroke-width:2\" />  </svg></g><g transform=\"translate(0,0)\">  <svg x=\"88.66799086119063%\" y=\"40\" height=\"18\" overflow=\"visible\" width=\"30\">    <path d=\"M 8 -9 l -6 18 L 8 25\" fill=\"none\" style=\"stroke:rgb(0.0, 138.56128015770724, 250.76166088685727);stroke-width:2\" />  </svg></g><g transform=\"translate(-2,0)\">  <svg x=\"88.66799086119063%\" y=\"40\" height=\"18\" overflow=\"visible\" width=\"30\">    <path d=\"M 8 -9 l -6 18 L 8 25\" fill=\"none\" style=\"stroke:rgb(0.0, 138.56128015770724, 250.76166088685727);stroke-width:2\" />  </svg></g><g transform=\"translate(-4,0)\">  <svg x=\"88.66799086119063%\" y=\"40\" height=\"18\" overflow=\"visible\" width=\"30\">    <path d=\"M 8 -9 l -6 18 L 8 25\" fill=\"none\" style=\"stroke:rgb(0.0, 138.56128015770724, 250.76166088685727);stroke-width:2\" />  </svg></g><g transform=\"translate(-8,0)\">  <svg x=\"89.68015406515636%\" y=\"40\" height=\"18\" overflow=\"visible\" width=\"30\">    <path d=\"M 8 -9 l -6 18 L 8 25\" fill=\"none\" style=\"stroke:rgb(0.0, 138.56128015770724, 250.76166088685727);stroke-width:2\" />  </svg></g><g transform=\"translate(-10,0)\">  <svg x=\"89.68015406515636%\" y=\"40\" height=\"18\" overflow=\"visible\" width=\"30\">    <path d=\"M 8 -9 l -6 18 L 8 25\" fill=\"none\" style=\"stroke:rgb(0.0, 138.56128015770724, 250.76166088685727);stroke-width:2\" />  </svg></g><g transform=\"translate(-12,0)\">  <svg x=\"89.68015406515636%\" y=\"40\" height=\"18\" overflow=\"visible\" width=\"30\">    <path d=\"M 8 -9 l -6 18 L 8 25\" fill=\"none\" style=\"stroke:rgb(0.0, 138.56128015770724, 250.76166088685727);stroke-width:2\" />  </svg></g><g transform=\"translate(-14,0)\">  <svg x=\"89.68015406515636%\" y=\"40\" height=\"18\" overflow=\"visible\" width=\"30\">    <path d=\"M 8 -9 l -6 18 L 8 25\" fill=\"none\" style=\"stroke:rgb(0.0, 138.56128015770724, 250.76166088685727);stroke-width:2\" />  </svg></g><g transform=\"translate(2,0)\">  <svg x=\"89.68015406515636%\" y=\"40\" height=\"18\" overflow=\"visible\" width=\"30\">    <path d=\"M 8 -9 l -6 18 L 8 25\" fill=\"none\" style=\"stroke:rgb(0.0, 138.56128015770724, 250.76166088685727);stroke-width:2\" />  </svg></g><g transform=\"translate(0,0)\">  <svg x=\"89.68015406515636%\" y=\"40\" height=\"18\" overflow=\"visible\" width=\"30\">    <path d=\"M 8 -9 l -6 18 L 8 25\" fill=\"none\" style=\"stroke:rgb(0.0, 138.56128015770724, 250.76166088685727);stroke-width:2\" />  </svg></g><g transform=\"translate(-2,0)\">  <svg x=\"89.68015406515636%\" y=\"40\" height=\"18\" overflow=\"visible\" width=\"30\">    <path d=\"M 8 -9 l -6 18 L 8 25\" fill=\"none\" style=\"stroke:rgb(0.0, 138.56128015770724, 250.76166088685727);stroke-width:2\" />  </svg></g><g transform=\"translate(-4,0)\">  <svg x=\"89.68015406515636%\" y=\"40\" height=\"18\" overflow=\"visible\" width=\"30\">    <path d=\"M 8 -9 l -6 18 L 8 25\" fill=\"none\" style=\"stroke:rgb(0.0, 138.56128015770724, 250.76166088685727);stroke-width:2\" />  </svg></g><g transform=\"translate(-8,0)\">  <svg x=\"90.44407433937187%\" y=\"40\" height=\"18\" overflow=\"visible\" width=\"30\">    <path d=\"M 8 -9 l -6 18 L 8 25\" fill=\"none\" style=\"stroke:rgb(0.0, 138.56128015770724, 250.76166088685727);stroke-width:2\" />  </svg></g><g transform=\"translate(-10,0)\">  <svg x=\"90.44407433937187%\" y=\"40\" height=\"18\" overflow=\"visible\" width=\"30\">    <path d=\"M 8 -9 l -6 18 L 8 25\" fill=\"none\" style=\"stroke:rgb(0.0, 138.56128015770724, 250.76166088685727);stroke-width:2\" />  </svg></g><g transform=\"translate(-12,0)\">  <svg x=\"90.44407433937187%\" y=\"40\" height=\"18\" overflow=\"visible\" width=\"30\">    <path d=\"M 8 -9 l -6 18 L 8 25\" fill=\"none\" style=\"stroke:rgb(0.0, 138.56128015770724, 250.76166088685727);stroke-width:2\" />  </svg></g><g transform=\"translate(-14,0)\">  <svg x=\"90.44407433937187%\" y=\"40\" height=\"18\" overflow=\"visible\" width=\"30\">    <path d=\"M 8 -9 l -6 18 L 8 25\" fill=\"none\" style=\"stroke:rgb(0.0, 138.56128015770724, 250.76166088685727);stroke-width:2\" />  </svg></g><g transform=\"translate(2,0)\">  <svg x=\"90.44407433937187%\" y=\"40\" height=\"18\" overflow=\"visible\" width=\"30\">    <path d=\"M 8 -9 l -6 18 L 8 25\" fill=\"none\" style=\"stroke:rgb(0.0, 138.56128015770724, 250.76166088685727);stroke-width:2\" />  </svg></g><g transform=\"translate(0,0)\">  <svg x=\"90.44407433937187%\" y=\"40\" height=\"18\" overflow=\"visible\" width=\"30\">    <path d=\"M 8 -9 l -6 18 L 8 25\" fill=\"none\" style=\"stroke:rgb(0.0, 138.56128015770724, 250.76166088685727);stroke-width:2\" />  </svg></g><g transform=\"translate(-2,0)\">  <svg x=\"90.44407433937187%\" y=\"40\" height=\"18\" overflow=\"visible\" width=\"30\">    <path d=\"M 8 -9 l -6 18 L 8 25\" fill=\"none\" style=\"stroke:rgb(0.0, 138.56128015770724, 250.76166088685727);stroke-width:2\" />  </svg></g><g transform=\"translate(-4,0)\">  <svg x=\"90.44407433937187%\" y=\"40\" height=\"18\" overflow=\"visible\" width=\"30\">    <path d=\"M 8 -9 l -6 18 L 8 25\" fill=\"none\" style=\"stroke:rgb(0.0, 138.56128015770724, 250.76166088685727);stroke-width:2\" />  </svg></g><g transform=\"translate(-8,0)\">  <svg x=\"91.01406254321034%\" y=\"40\" height=\"18\" overflow=\"visible\" width=\"30\">    <path d=\"M 8 -9 l -6 18 L 8 25\" fill=\"none\" style=\"stroke:rgb(0.0, 138.56128015770724, 250.76166088685727);stroke-width:2\" />  </svg></g><g transform=\"translate(-10,0)\">  <svg x=\"91.01406254321034%\" y=\"40\" height=\"18\" overflow=\"visible\" width=\"30\">    <path d=\"M 8 -9 l -6 18 L 8 25\" fill=\"none\" style=\"stroke:rgb(0.0, 138.56128015770724, 250.76166088685727);stroke-width:2\" />  </svg></g><g transform=\"translate(-12,0)\">  <svg x=\"91.01406254321034%\" y=\"40\" height=\"18\" overflow=\"visible\" width=\"30\">    <path d=\"M 8 -9 l -6 18 L 8 25\" fill=\"none\" style=\"stroke:rgb(0.0, 138.56128015770724, 250.76166088685727);stroke-width:2\" />  </svg></g><g transform=\"translate(-14,0)\">  <svg x=\"91.01406254321034%\" y=\"40\" height=\"18\" overflow=\"visible\" width=\"30\">    <path d=\"M 8 -9 l -6 18 L 8 25\" fill=\"none\" style=\"stroke:rgb(0.0, 138.56128015770724, 250.76166088685727);stroke-width:2\" />  </svg></g><g transform=\"translate(2,0)\">  <svg x=\"91.01406254321034%\" y=\"40\" height=\"18\" overflow=\"visible\" width=\"30\">    <path d=\"M 8 -9 l -6 18 L 8 25\" fill=\"none\" style=\"stroke:rgb(0.0, 138.56128015770724, 250.76166088685727);stroke-width:2\" />  </svg></g><g transform=\"translate(0,0)\">  <svg x=\"91.01406254321034%\" y=\"40\" height=\"18\" overflow=\"visible\" width=\"30\">    <path d=\"M 8 -9 l -6 18 L 8 25\" fill=\"none\" style=\"stroke:rgb(0.0, 138.56128015770724, 250.76166088685727);stroke-width:2\" />  </svg></g><g transform=\"translate(-2,0)\">  <svg x=\"91.01406254321034%\" y=\"40\" height=\"18\" overflow=\"visible\" width=\"30\">    <path d=\"M 8 -9 l -6 18 L 8 25\" fill=\"none\" style=\"stroke:rgb(0.0, 138.56128015770724, 250.76166088685727);stroke-width:2\" />  </svg></g><g transform=\"translate(-4,0)\">  <svg x=\"91.01406254321034%\" y=\"40\" height=\"18\" overflow=\"visible\" width=\"30\">    <path d=\"M 8 -9 l -6 18 L 8 25\" fill=\"none\" style=\"stroke:rgb(0.0, 138.56128015770724, 250.76166088685727);stroke-width:2\" />  </svg></g><g transform=\"translate(-8,0)\">  <svg x=\"91.48254705361427%\" y=\"40\" height=\"18\" overflow=\"visible\" width=\"30\">    <path d=\"M 8 -9 l -6 18 L 8 25\" fill=\"none\" style=\"stroke:rgb(0.0, 138.56128015770724, 250.76166088685727);stroke-width:2\" />  </svg></g><g transform=\"translate(-10,0)\">  <svg x=\"91.48254705361427%\" y=\"40\" height=\"18\" overflow=\"visible\" width=\"30\">    <path d=\"M 8 -9 l -6 18 L 8 25\" fill=\"none\" style=\"stroke:rgb(0.0, 138.56128015770724, 250.76166088685727);stroke-width:2\" />  </svg></g><g transform=\"translate(-12,0)\">  <svg x=\"91.48254705361427%\" y=\"40\" height=\"18\" overflow=\"visible\" width=\"30\">    <path d=\"M 8 -9 l -6 18 L 8 25\" fill=\"none\" style=\"stroke:rgb(0.0, 138.56128015770724, 250.76166088685727);stroke-width:2\" />  </svg></g><g transform=\"translate(-14,0)\">  <svg x=\"91.48254705361427%\" y=\"40\" height=\"18\" overflow=\"visible\" width=\"30\">    <path d=\"M 8 -9 l -6 18 L 8 25\" fill=\"none\" style=\"stroke:rgb(0.0, 138.56128015770724, 250.76166088685727);stroke-width:2\" />  </svg></g><g transform=\"translate(2,0)\">  <svg x=\"91.48254705361427%\" y=\"40\" height=\"18\" overflow=\"visible\" width=\"30\">    <path d=\"M 8 -9 l -6 18 L 8 25\" fill=\"none\" style=\"stroke:rgb(0.0, 138.56128015770724, 250.76166088685727);stroke-width:2\" />  </svg></g><g transform=\"translate(0,0)\">  <svg x=\"91.48254705361427%\" y=\"40\" height=\"18\" overflow=\"visible\" width=\"30\">    <path d=\"M 8 -9 l -6 18 L 8 25\" fill=\"none\" style=\"stroke:rgb(0.0, 138.56128015770724, 250.76166088685727);stroke-width:2\" />  </svg></g><g transform=\"translate(-2,0)\">  <svg x=\"91.48254705361427%\" y=\"40\" height=\"18\" overflow=\"visible\" width=\"30\">    <path d=\"M 8 -9 l -6 18 L 8 25\" fill=\"none\" style=\"stroke:rgb(0.0, 138.56128015770724, 250.76166088685727);stroke-width:2\" />  </svg></g><g transform=\"translate(-4,0)\">  <svg x=\"91.48254705361427%\" y=\"40\" height=\"18\" overflow=\"visible\" width=\"30\">    <path d=\"M 8 -9 l -6 18 L 8 25\" fill=\"none\" style=\"stroke:rgb(0.0, 138.56128015770724, 250.76166088685727);stroke-width:2\" />  </svg></g><rect transform=\"translate(0,0)\" x=\"83.29213171047509%\" y=\"40\" width=\"8\" height=\"18\" style=\"fill:rgb(0.0, 138.56128015770724, 250.76166088685727)\"/><g transform=\"translate(-6.0,0)\">  <svg x=\"91.66666461258171%\" y=\"40\" height=\"18\" overflow=\"visible\" width=\"30\">    <path d=\"M 8 -9 l -6 18 L 8 25 L 20 25 L 20 -9\" fill=\"#ffffff\" style=\"stroke:rgb(255,255,255);stroke-width:2\" />  </svg></g><g transform=\"translate(-6.0,0)\">  <svg x=\"85.4233446631807%\" y=\"40\" height=\"18\" overflow=\"visible\" width=\"30\">    <path d=\"M 8 -9 l -6 18 L 8 25\" fill=\"none\" style=\"stroke:rgb(208, 230, 250);stroke-width:2\" />  </svg></g><rect x=\"83.29213171047509%\" y=\"40\" height=\"20\" width=\"2.13121295270561%\"      onmouseover=\"document.getElementById('_tp_ohqqxswgdewzbfidvbyf_ind_17').style.textDecoration = 'underline';document.getElementById('_fs_ohqqxswgdewzbfidvbyf_ind_17').style.opacity = 1;document.getElementById('_fb_ohqqxswgdewzbfidvbyf_ind_17').style.opacity = 1;\"      onmouseout=\"document.getElementById('_tp_ohqqxswgdewzbfidvbyf_ind_17').style.textDecoration = 'none';document.getElementById('_fs_ohqqxswgdewzbfidvbyf_ind_17').style.opacity = 0;document.getElementById('_fb_ohqqxswgdewzbfidvbyf_ind_17').style.opacity = 0;\" style=\"fill:rgb(0,0,0,0)\" /><g transform=\"translate(-6.0,0)\">  <svg x=\"87.47202045415756%\" y=\"40\" height=\"18\" overflow=\"visible\" width=\"30\">    <path d=\"M 8 -9 l -6 18 L 8 25\" fill=\"none\" style=\"stroke:rgb(208, 230, 250);stroke-width:2\" />  </svg></g><rect x=\"85.4233446631807%\" y=\"40\" height=\"20\" width=\"2.0486757909768585%\"      onmouseover=\"document.getElementById('_tp_ohqqxswgdewzbfidvbyf_ind_15').style.textDecoration = 'underline';document.getElementById('_fs_ohqqxswgdewzbfidvbyf_ind_15').style.opacity = 1;document.getElementById('_fb_ohqqxswgdewzbfidvbyf_ind_15').style.opacity = 1;\"      onmouseout=\"document.getElementById('_tp_ohqqxswgdewzbfidvbyf_ind_15').style.textDecoration = 'none';document.getElementById('_fs_ohqqxswgdewzbfidvbyf_ind_15').style.opacity = 0;document.getElementById('_fb_ohqqxswgdewzbfidvbyf_ind_15').style.opacity = 0;\" style=\"fill:rgb(0,0,0,0)\" /><g transform=\"translate(-6.0,0)\">  <svg x=\"88.66799086119063%\" y=\"40\" height=\"18\" overflow=\"visible\" width=\"30\">    <path d=\"M 8 -9 l -6 18 L 8 25\" fill=\"none\" style=\"stroke:rgb(208, 230, 250);stroke-width:2\" />  </svg></g><rect x=\"87.47202045415756%\" y=\"40\" height=\"20\" width=\"1.195970407033073%\"      onmouseover=\"document.getElementById('_tp_ohqqxswgdewzbfidvbyf_ind_11').style.textDecoration = 'underline';document.getElementById('_fs_ohqqxswgdewzbfidvbyf_ind_11').style.opacity = 1;document.getElementById('_fb_ohqqxswgdewzbfidvbyf_ind_11').style.opacity = 1;\"      onmouseout=\"document.getElementById('_tp_ohqqxswgdewzbfidvbyf_ind_11').style.textDecoration = 'none';document.getElementById('_fs_ohqqxswgdewzbfidvbyf_ind_11').style.opacity = 0;document.getElementById('_fb_ohqqxswgdewzbfidvbyf_ind_11').style.opacity = 0;\" style=\"fill:rgb(0,0,0,0)\" /><g transform=\"translate(-6.0,0)\">  <svg x=\"89.68015406515636%\" y=\"40\" height=\"18\" overflow=\"visible\" width=\"30\">    <path d=\"M 8 -9 l -6 18 L 8 25\" fill=\"none\" style=\"stroke:rgb(208, 230, 250);stroke-width:2\" />  </svg></g><rect x=\"88.66799086119063%\" y=\"40\" height=\"20\" width=\"1.0121632039657271%\"      onmouseover=\"document.getElementById('_tp_ohqqxswgdewzbfidvbyf_ind_12').style.textDecoration = 'underline';document.getElementById('_fs_ohqqxswgdewzbfidvbyf_ind_12').style.opacity = 1;document.getElementById('_fb_ohqqxswgdewzbfidvbyf_ind_12').style.opacity = 1;\"      onmouseout=\"document.getElementById('_tp_ohqqxswgdewzbfidvbyf_ind_12').style.textDecoration = 'none';document.getElementById('_fs_ohqqxswgdewzbfidvbyf_ind_12').style.opacity = 0;document.getElementById('_fb_ohqqxswgdewzbfidvbyf_ind_12').style.opacity = 0;\" style=\"fill:rgb(0,0,0,0)\" /><g transform=\"translate(-6.0,0)\">  <svg x=\"90.44407433937187%\" y=\"40\" height=\"18\" overflow=\"visible\" width=\"30\">    <path d=\"M 8 -9 l -6 18 L 8 25\" fill=\"none\" style=\"stroke:rgb(208, 230, 250);stroke-width:2\" />  </svg></g><rect x=\"89.68015406515636%\" y=\"40\" height=\"20\" width=\"0.7639202742155078%\"      onmouseover=\"document.getElementById('_tp_ohqqxswgdewzbfidvbyf_ind_10').style.textDecoration = 'underline';document.getElementById('_fs_ohqqxswgdewzbfidvbyf_ind_10').style.opacity = 1;document.getElementById('_fb_ohqqxswgdewzbfidvbyf_ind_10').style.opacity = 1;\"      onmouseout=\"document.getElementById('_tp_ohqqxswgdewzbfidvbyf_ind_10').style.textDecoration = 'none';document.getElementById('_fs_ohqqxswgdewzbfidvbyf_ind_10').style.opacity = 0;document.getElementById('_fb_ohqqxswgdewzbfidvbyf_ind_10').style.opacity = 0;\" style=\"fill:rgb(0,0,0,0)\" /><g transform=\"translate(-6.0,0)\">  <svg x=\"91.01406254321034%\" y=\"40\" height=\"18\" overflow=\"visible\" width=\"30\">    <path d=\"M 8 -9 l -6 18 L 8 25\" fill=\"none\" style=\"stroke:rgb(208, 230, 250);stroke-width:2\" />  </svg></g><rect x=\"90.44407433937187%\" y=\"40\" height=\"20\" width=\"0.5699882038384771%\"      onmouseover=\"document.getElementById('_tp_ohqqxswgdewzbfidvbyf_ind_16').style.textDecoration = 'underline';document.getElementById('_fs_ohqqxswgdewzbfidvbyf_ind_16').style.opacity = 1;document.getElementById('_fb_ohqqxswgdewzbfidvbyf_ind_16').style.opacity = 1;\"      onmouseout=\"document.getElementById('_tp_ohqqxswgdewzbfidvbyf_ind_16').style.textDecoration = 'none';document.getElementById('_fs_ohqqxswgdewzbfidvbyf_ind_16').style.opacity = 0;document.getElementById('_fb_ohqqxswgdewzbfidvbyf_ind_16').style.opacity = 0;\" style=\"fill:rgb(0,0,0,0)\" /><g transform=\"translate(-6.0,0)\">  <svg x=\"91.48254705361427%\" y=\"40\" height=\"18\" overflow=\"visible\" width=\"30\">    <path d=\"M 8 -9 l -6 18 L 8 25\" fill=\"none\" style=\"stroke:rgb(208, 230, 250);stroke-width:2\" />  </svg></g><rect x=\"91.01406254321034%\" y=\"40\" height=\"20\" width=\"0.46848451040392547%\"      onmouseover=\"document.getElementById('_tp_ohqqxswgdewzbfidvbyf_ind_14').style.textDecoration = 'underline';document.getElementById('_fs_ohqqxswgdewzbfidvbyf_ind_14').style.opacity = 1;document.getElementById('_fb_ohqqxswgdewzbfidvbyf_ind_14').style.opacity = 1;\"      onmouseout=\"document.getElementById('_tp_ohqqxswgdewzbfidvbyf_ind_14').style.textDecoration = 'none';document.getElementById('_fs_ohqqxswgdewzbfidvbyf_ind_14').style.opacity = 0;document.getElementById('_fb_ohqqxswgdewzbfidvbyf_ind_14').style.opacity = 0;\" style=\"fill:rgb(0,0,0,0)\" /><rect x=\"91.48254705361427%\" y=\"40\" height=\"20\" width=\"0.18411755896744353%\"      onmouseover=\"document.getElementById('_tp_ohqqxswgdewzbfidvbyf_ind_13').style.textDecoration = 'underline';document.getElementById('_fs_ohqqxswgdewzbfidvbyf_ind_13').style.opacity = 1;document.getElementById('_fb_ohqqxswgdewzbfidvbyf_ind_13').style.opacity = 1;\"      onmouseout=\"document.getElementById('_tp_ohqqxswgdewzbfidvbyf_ind_13').style.textDecoration = 'none';document.getElementById('_fs_ohqqxswgdewzbfidvbyf_ind_13').style.opacity = 0;document.getElementById('_fb_ohqqxswgdewzbfidvbyf_ind_13').style.opacity = 0;\" style=\"fill:rgb(0,0,0,0)\" /></svg><div align='center'><div style=\"color: rgb(120,120,120); font-size: 12px; margin-top: -15px;\">inputs</div><div style='display: inline; text-align: center;'\n    ><div style='display: none; color: #999; padding-top: 0px; font-size: 12px;'>0.023</div\n        ><div id='_tp_ohqqxswgdewzbfidvbyf_ind_0'\n            style='display: inline; background: rgba(255.0, 13.0, 87.0, 0.07771836007130124); border-radius: 3px; padding: 0px'\n            onclick=\"\n            if (this.previousSibling.style.display == 'none') {\n                this.previousSibling.style.display = 'block';\n                this.parentNode.style.display = 'inline-block';\n            } else {\n                this.previousSibling.style.display = 'none';\n                this.parentNode.style.display = 'inline';\n            }\"\n            onmouseover=\"document.getElementById('_fb_ohqqxswgdewzbfidvbyf_ind_0').style.opacity = 1; document.getElementById('_fs_ohqqxswgdewzbfidvbyf_ind_0').style.opacity = 1;\"\n            onmouseout=\"document.getElementById('_fb_ohqqxswgdewzbfidvbyf_ind_0').style.opacity = 0; document.getElementById('_fs_ohqqxswgdewzbfidvbyf_ind_0').style.opacity = 0;\"\n        ></div></div><div style='display: inline; text-align: center;'\n    ><div style='display: none; color: #999; padding-top: 0px; font-size: 12px;'>0.117 / 4</div\n        ><div id='_tp_ohqqxswgdewzbfidvbyf_ind_1'\n            style='display: inline; background: rgba(255.0, 13.0, 87.0, 0.41667656961774624); border-radius: 3px; padding: 0px'\n            onclick=\"\n            if (this.previousSibling.style.display == 'none') {\n                this.previousSibling.style.display = 'block';\n                this.parentNode.style.display = 'inline-block';\n            } else {\n                this.previousSibling.style.display = 'none';\n                this.parentNode.style.display = 'inline';\n            }\"\n            onmouseover=\"document.getElementById('_fb_ohqqxswgdewzbfidvbyf_ind_1').style.opacity = 1; document.getElementById('_fs_ohqqxswgdewzbfidvbyf_ind_1').style.opacity = 1;\"\n            onmouseout=\"document.getElementById('_fb_ohqqxswgdewzbfidvbyf_ind_1').style.opacity = 0; document.getElementById('_fs_ohqqxswgdewzbfidvbyf_ind_1').style.opacity = 0;\"\n        >MADRID </div></div><div style='display: inline; text-align: center;'\n    ><div style='display: none; color: #999; padding-top: 0px; font-size: 12px;'>0.205</div\n        ><div id='_tp_ohqqxswgdewzbfidvbyf_ind_2'\n            style='display: inline; background: rgba(255.0, 13.0, 87.0, 0.7319865319865321); border-radius: 3px; padding: 0px'\n            onclick=\"\n            if (this.previousSibling.style.display == 'none') {\n                this.previousSibling.style.display = 'block';\n                this.parentNode.style.display = 'inline-block';\n            } else {\n                this.previousSibling.style.display = 'none';\n                this.parentNode.style.display = 'inline';\n            }\"\n            onmouseover=\"document.getElementById('_fb_ohqqxswgdewzbfidvbyf_ind_2').style.opacity = 1; document.getElementById('_fs_ohqqxswgdewzbfidvbyf_ind_2').style.opacity = 1;\"\n            onmouseout=\"document.getElementById('_fb_ohqqxswgdewzbfidvbyf_ind_2').style.opacity = 0; document.getElementById('_fs_ohqqxswgdewzbfidvbyf_ind_2').style.opacity = 0;\"\n        >(</div></div><div style='display: inline; text-align: center;'\n    ><div style='display: none; color: #999; padding-top: 0px; font-size: 12px;'>0.548 / 2</div\n        ><div id='_tp_ohqqxswgdewzbfidvbyf_ind_3'\n            style='display: inline; background: rgba(255.0, 13.0, 87.0, 1.0); border-radius: 3px; padding: 0px'\n            onclick=\"\n            if (this.previousSibling.style.display == 'none') {\n                this.previousSibling.style.display = 'block';\n                this.parentNode.style.display = 'inline-block';\n            } else {\n                this.previousSibling.style.display = 'none';\n                this.parentNode.style.display = 'inline';\n            }\"\n            onmouseover=\"document.getElementById('_fb_ohqqxswgdewzbfidvbyf_ind_3').style.opacity = 1; document.getElementById('_fs_ohqqxswgdewzbfidvbyf_ind_3').style.opacity = 1;\"\n            onmouseout=\"document.getElementById('_fb_ohqqxswgdewzbfidvbyf_ind_3').style.opacity = 0; document.getElementById('_fs_ohqqxswgdewzbfidvbyf_ind_3').style.opacity = 0;\"\n        >Reuters) </div></div><div style='display: inline; text-align: center;'\n    ><div style='display: none; color: #999; padding-top: 0px; font-size: 12px;'>0.009</div\n        ><div id='_tp_ohqqxswgdewzbfidvbyf_ind_4'\n            style='display: inline; background: rgba(255.0, 13.0, 87.0, 0.030421865715983164); border-radius: 3px; padding: 0px'\n            onclick=\"\n            if (this.previousSibling.style.display == 'none') {\n                this.previousSibling.style.display = 'block';\n                this.parentNode.style.display = 'inline-block';\n            } else {\n                this.previousSibling.style.display = 'none';\n                this.parentNode.style.display = 'inline';\n            }\"\n            onmouseover=\"document.getElementById('_fb_ohqqxswgdewzbfidvbyf_ind_4').style.opacity = 1; document.getElementById('_fs_ohqqxswgdewzbfidvbyf_ind_4').style.opacity = 1;\"\n            onmouseout=\"document.getElementById('_fb_ohqqxswgdewzbfidvbyf_ind_4').style.opacity = 0; document.getElementById('_fs_ohqqxswgdewzbfidvbyf_ind_4').style.opacity = 0;\"\n        >- </div></div><div style='display: inline; text-align: center;'\n    ><div style='display: none; color: #999; padding-top: 0px; font-size: 12px;'>0.033 / 3</div\n        ><div id='_tp_ohqqxswgdewzbfidvbyf_ind_5'\n            style='display: inline; background: rgba(255.0, 13.0, 87.0, 0.10924935630817992); border-radius: 3px; padding: 0px'\n            onclick=\"\n            if (this.previousSibling.style.display == 'none') {\n                this.previousSibling.style.display = 'block';\n                this.parentNode.style.display = 'inline-block';\n            } else {\n                this.previousSibling.style.display = 'none';\n                this.parentNode.style.display = 'inline';\n            }\"\n            onmouseover=\"document.getElementById('_fb_ohqqxswgdewzbfidvbyf_ind_5').style.opacity = 1; document.getElementById('_fs_ohqqxswgdewzbfidvbyf_ind_5').style.opacity = 1;\"\n            onmouseout=\"document.getElementById('_fb_ohqqxswgdewzbfidvbyf_ind_5').style.opacity = 0; document.getElementById('_fs_ohqqxswgdewzbfidvbyf_ind_5').style.opacity = 0;\"\n        >Imprisoned </div></div><div style='display: inline; text-align: center;'\n    ><div style='display: none; color: #999; padding-top: 0px; font-size: 12px;'>0.01 / 4</div\n        ><div id='_tp_ohqqxswgdewzbfidvbyf_ind_6'\n            style='display: inline; background: rgba(255.0, 13.0, 87.0, 0.030421865715983164); border-radius: 3px; padding: 0px'\n            onclick=\"\n            if (this.previousSibling.style.display == 'none') {\n                this.previousSibling.style.display = 'block';\n                this.parentNode.style.display = 'inline-block';\n            } else {\n                this.previousSibling.style.display = 'none';\n                this.parentNode.style.display = 'inline';\n            }\"\n            onmouseover=\"document.getElementById('_fb_ohqqxswgdewzbfidvbyf_ind_6').style.opacity = 1; document.getElementById('_fs_ohqqxswgdewzbfidvbyf_ind_6').style.opacity = 1;\"\n            onmouseout=\"document.getElementById('_fb_ohqqxswgdewzbfidvbyf_ind_6').style.opacity = 0; document.getElementById('_fs_ohqqxswgdewzbfidvbyf_ind_6').style.opacity = 0;\"\n        >former vice-president </div></div><div style='display: inline; text-align: center;'\n    ><div style='display: none; color: #999; padding-top: 0px; font-size: 12px;'>0.002 / 16</div\n        ><div id='_tp_ohqqxswgdewzbfidvbyf_ind_7'\n            style='display: inline; background: rgba(230.2941176470614, 26.505882352939775, 102.59215686274348, 0.0); border-radius: 3px; padding: 0px'\n            onclick=\"\n            if (this.previousSibling.style.display == 'none') {\n                this.previousSibling.style.display = 'block';\n                this.parentNode.style.display = 'inline-block';\n            } else {\n                this.previousSibling.style.display = 'none';\n                this.parentNode.style.display = 'inline';\n            }\"\n            onmouseover=\"document.getElementById('_fb_ohqqxswgdewzbfidvbyf_ind_7').style.opacity = 1; document.getElementById('_fs_ohqqxswgdewzbfidvbyf_ind_7').style.opacity = 1;\"\n            onmouseout=\"document.getElementById('_fb_ohqqxswgdewzbfidvbyf_ind_7').style.opacity = 0; document.getElementById('_fs_ohqqxswgdewzbfidvbyf_ind_7').style.opacity = 0;\"\n        >of Catalonia Oriol Junqueras and three other jailed members of his ERC </div></div><div style='display: inline; text-align: center;'\n    ><div style='display: none; color: #999; padding-top: 0px; font-size: 12px;'>0.006 / 8</div\n        ><div id='_tp_ohqqxswgdewzbfidvbyf_ind_8'\n            style='display: inline; background: rgba(255.0, 13.0, 87.0, 0.014656367597544035); border-radius: 3px; padding: 0px'\n            onclick=\"\n            if (this.previousSibling.style.display == 'none') {\n                this.previousSibling.style.display = 'block';\n                this.parentNode.style.display = 'inline-block';\n            } else {\n                this.previousSibling.style.display = 'none';\n                this.parentNode.style.display = 'inline';\n            }\"\n            onmouseover=\"document.getElementById('_fb_ohqqxswgdewzbfidvbyf_ind_8').style.opacity = 1; document.getElementById('_fs_ohqqxswgdewzbfidvbyf_ind_8').style.opacity = 1;\"\n            onmouseout=\"document.getElementById('_fb_ohqqxswgdewzbfidvbyf_ind_8').style.opacity = 0; document.getElementById('_fs_ohqqxswgdewzbfidvbyf_ind_8').style.opacity = 0;\"\n        >party will abide by a ruling giving Madrid </div></div><div style='display: inline; text-align: center;'\n    ><div style='display: none; color: #999; padding-top: 0px; font-size: 12px;'>0.028 / 5</div\n        ><div id='_tp_ohqqxswgdewzbfidvbyf_ind_9'\n            style='display: inline; background: rgba(255.0, 13.0, 87.0, 0.09348385818974037); border-radius: 3px; padding: 0px'\n            onclick=\"\n            if (this.previousSibling.style.display == 'none') {\n                this.previousSibling.style.display = 'block';\n                this.parentNode.style.display = 'inline-block';\n            } else {\n                this.previousSibling.style.display = 'none';\n                this.parentNode.style.display = 'inline';\n            }\"\n            onmouseover=\"document.getElementById('_fb_ohqqxswgdewzbfidvbyf_ind_9').style.opacity = 1; document.getElementById('_fs_ohqqxswgdewzbfidvbyf_ind_9').style.opacity = 1;\"\n            onmouseout=\"document.getElementById('_fb_ohqqxswgdewzbfidvbyf_ind_9').style.opacity = 0; document.getElementById('_fs_ohqqxswgdewzbfidvbyf_ind_9').style.opacity = 0;\"\n        >control over the region, </div></div><div style='display: inline; text-align: center;'\n    ><div style='display: none; color: #999; padding-top: 0px; font-size: 12px;'>-0.01 / 50</div\n        ><div id='_tp_ohqqxswgdewzbfidvbyf_ind_10'\n            style='display: inline; background: rgba(30.0, 136.0, 229.0, 0.03042186571598325); border-radius: 3px; padding: 0px'\n            onclick=\"\n            if (this.previousSibling.style.display == 'none') {\n                this.previousSibling.style.display = 'block';\n                this.parentNode.style.display = 'inline-block';\n            } else {\n                this.previousSibling.style.display = 'none';\n                this.parentNode.style.display = 'inline';\n            }\"\n            onmouseover=\"document.getElementById('_fb_ohqqxswgdewzbfidvbyf_ind_10').style.opacity = 1; document.getElementById('_fs_ohqqxswgdewzbfidvbyf_ind_10').style.opacity = 1;\"\n            onmouseout=\"document.getElementById('_fb_ohqqxswgdewzbfidvbyf_ind_10').style.opacity = 0; document.getElementById('_fs_ohqqxswgdewzbfidvbyf_ind_10').style.opacity = 0;\"\n        >their defense lawyer said on Tuesday. Junqueras and seven other former members of the Catalonia regional cabinet were jailed on Nov. 2 pending trial, accused of sedition, rebellion and misappropriation of funds after the local government declared independence from Spain. </div></div><div style='display: inline; text-align: center;'\n    ><div style='display: none; color: #999; padding-top: 0px; font-size: 12px;'>-0.016 / 127</div\n        ><div id='_tp_ohqqxswgdewzbfidvbyf_ind_11'\n            style='display: inline; background: rgba(30.0, 136.0, 229.0, 0.05407011289364222); border-radius: 3px; padding: 0px'\n            onclick=\"\n            if (this.previousSibling.style.display == 'none') {\n                this.previousSibling.style.display = 'block';\n                this.parentNode.style.display = 'inline-block';\n            } else {\n                this.previousSibling.style.display = 'none';\n                this.parentNode.style.display = 'inline';\n            }\"\n            onmouseover=\"document.getElementById('_fb_ohqqxswgdewzbfidvbyf_ind_11').style.opacity = 1; document.getElementById('_fs_ohqqxswgdewzbfidvbyf_ind_11').style.opacity = 1;\"\n            onmouseout=\"document.getElementById('_fb_ohqqxswgdewzbfidvbyf_ind_11').style.opacity = 0; document.getElementById('_fs_ohqqxswgdewzbfidvbyf_ind_11').style.opacity = 0;\"\n        >Catalonia s secession drive has tipped Spain into its worst political crisis in decades and prompted Madrid to sack the Catalan government, led by Carles Puigdemont, and call a regional election for Dec. 21. The acceptance of Madrid s rule over the region could prompt the Supreme Court to overrule the decision to hold the defendants in custody while they await trial, and release them in time to campaign for the election. All four jailed ERC members - Junqueras, former foreign affairs chief Raul Romeva, justice affairs head Carles Mundo and work chief Dolors Bassa - have been named as candidates in the election. </div></div><div style='display: inline; text-align: center;'\n    ><div style='display: none; color: #999; padding-top: 0px; font-size: 12px;'>-0.013 / 90</div\n        ><div id='_tp_ohqqxswgdewzbfidvbyf_ind_12'\n            style='display: inline; background: rgba(30.0, 136.0, 229.0, 0.04618736383442258); border-radius: 3px; padding: 0px'\n            onclick=\"\n            if (this.previousSibling.style.display == 'none') {\n                this.previousSibling.style.display = 'block';\n                this.parentNode.style.display = 'inline-block';\n            } else {\n                this.previousSibling.style.display = 'none';\n                this.parentNode.style.display = 'inline';\n            }\"\n            onmouseover=\"document.getElementById('_fb_ohqqxswgdewzbfidvbyf_ind_12').style.opacity = 1; document.getElementById('_fs_ohqqxswgdewzbfidvbyf_ind_12').style.opacity = 1;\"\n            onmouseout=\"document.getElementById('_fb_ohqqxswgdewzbfidvbyf_ind_12').style.opacity = 0; document.getElementById('_fs_ohqqxswgdewzbfidvbyf_ind_12').style.opacity = 0;\"\n        >The defendants did not agree with the application of Article 155, which stripped the regional government of its power after the secessionist ruling, but accepted it, their lawyer said in a statement to the Supreme Court.  My charges accepted, and accept, the application of 155 ... but have done so from a position of deep political and judicial discrepancy,  the lawyer said. The lawyer added that the statement does not mean that they renounce their political convictions. </div></div><div style='display: inline; text-align: center;'\n    ><div style='display: none; color: #999; padding-top: 0px; font-size: 12px;'>-0.002 / 24</div\n        ><div id='_tp_ohqqxswgdewzbfidvbyf_ind_13'\n            style='display: inline; background: rgba(30.0, 136.0, 229.0, 0.006773618538324436); border-radius: 3px; padding: 0px'\n            onclick=\"\n            if (this.previousSibling.style.display == 'none') {\n                this.previousSibling.style.display = 'block';\n                this.parentNode.style.display = 'inline-block';\n            } else {\n                this.previousSibling.style.display = 'none';\n                this.parentNode.style.display = 'inline';\n            }\"\n            onmouseover=\"document.getElementById('_fb_ohqqxswgdewzbfidvbyf_ind_13').style.opacity = 1; document.getElementById('_fs_ohqqxswgdewzbfidvbyf_ind_13').style.opacity = 1;\"\n            onmouseout=\"document.getElementById('_fb_ohqqxswgdewzbfidvbyf_ind_13').style.opacity = 0; document.getElementById('_fs_ohqqxswgdewzbfidvbyf_ind_13').style.opacity = 0;\"\n        > Former leader of Catalonia Puigdemont, who has been in self-imposed exile in Belgium since declaring independence, </div></div><div style='display: inline; text-align: center;'\n    ><div style='display: none; color: #999; padding-top: 0px; font-size: 12px;'>-0.006 / 8</div\n        ><div id='_tp_ohqqxswgdewzbfidvbyf_ind_14'\n            style='display: inline; background: rgba(30.0, 136.0, 229.0, 0.014656367597544028); border-radius: 3px; padding: 0px'\n            onclick=\"\n            if (this.previousSibling.style.display == 'none') {\n                this.previousSibling.style.display = 'block';\n                this.parentNode.style.display = 'inline-block';\n            } else {\n                this.previousSibling.style.display = 'none';\n                this.parentNode.style.display = 'inline';\n            }\"\n            onmouseover=\"document.getElementById('_fb_ohqqxswgdewzbfidvbyf_ind_14').style.opacity = 1; document.getElementById('_fs_ohqqxswgdewzbfidvbyf_ind_14').style.opacity = 1;\"\n            onmouseout=\"document.getElementById('_fb_ohqqxswgdewzbfidvbyf_ind_14').style.opacity = 0; document.getElementById('_fs_ohqqxswgdewzbfidvbyf_ind_14').style.opacity = 0;\"\n        >said on Saturday the election would be most </div></div><div style='display: inline; text-align: center;'\n    ><div style='display: none; color: #999; padding-top: 0px; font-size: 12px;'>-0.027 / 7</div\n        ><div id='_tp_ohqqxswgdewzbfidvbyf_ind_15'\n            style='display: inline; background: rgba(30.0, 136.0, 229.0, 0.09348385818974048); border-radius: 3px; padding: 0px'\n            onclick=\"\n            if (this.previousSibling.style.display == 'none') {\n                this.previousSibling.style.display = 'block';\n                this.parentNode.style.display = 'inline-block';\n            } else {\n                this.previousSibling.style.display = 'none';\n                this.parentNode.style.display = 'inline';\n            }\"\n            onmouseover=\"document.getElementById('_fb_ohqqxswgdewzbfidvbyf_ind_15').style.opacity = 1; document.getElementById('_fs_ohqqxswgdewzbfidvbyf_ind_15').style.opacity = 1;\"\n            onmouseout=\"document.getElementById('_fb_ohqqxswgdewzbfidvbyf_ind_15').style.opacity = 0; document.getElementById('_fs_ohqqxswgdewzbfidvbyf_ind_15').style.opacity = 0;\"\n        >important in the region s history. </div></div><div style='display: inline; text-align: center;'\n    ><div style='display: none; color: #999; padding-top: 0px; font-size: 12px;'>-0.008 / 15</div\n        ><div id='_tp_ohqqxswgdewzbfidvbyf_ind_16'\n            style='display: inline; background: rgba(30.0, 136.0, 229.0, 0.022539116656763607); border-radius: 3px; padding: 0px'\n            onclick=\"\n            if (this.previousSibling.style.display == 'none') {\n                this.previousSibling.style.display = 'block';\n                this.parentNode.style.display = 'inline-block';\n            } else {\n                this.previousSibling.style.display = 'none';\n                this.parentNode.style.display = 'inline';\n            }\"\n            onmouseover=\"document.getElementById('_fb_ohqqxswgdewzbfidvbyf_ind_16').style.opacity = 1; document.getElementById('_fs_ohqqxswgdewzbfidvbyf_ind_16').style.opacity = 1;\"\n            onmouseout=\"document.getElementById('_fb_ohqqxswgdewzbfidvbyf_ind_16').style.opacity = 0; document.getElementById('_fs_ohqqxswgdewzbfidvbyf_ind_16').style.opacity = 0;\"\n        > Turnout for the election is expected to reach a record 80 percent as </div></div><div style='display: inline; text-align: center;'\n    ><div style='display: none; color: #999; padding-top: 0px; font-size: 12px;'>-0.028 / 15</div\n        ><div id='_tp_ohqqxswgdewzbfidvbyf_ind_17'\n            style='display: inline; background: rgba(30.0, 136.0, 229.0, 0.09348385818974048); border-radius: 3px; padding: 0px'\n            onclick=\"\n            if (this.previousSibling.style.display == 'none') {\n                this.previousSibling.style.display = 'block';\n                this.parentNode.style.display = 'inline-block';\n            } else {\n                this.previousSibling.style.display = 'none';\n                this.parentNode.style.display = 'inline';\n            }\"\n            onmouseover=\"document.getElementById('_fb_ohqqxswgdewzbfidvbyf_ind_17').style.opacity = 1; document.getElementById('_fs_ohqqxswgdewzbfidvbyf_ind_17').style.opacity = 1;\"\n            onmouseout=\"document.getElementById('_fb_ohqqxswgdewzbfidvbyf_ind_17').style.opacity = 0; document.getElementById('_fs_ohqqxswgdewzbfidvbyf_ind_17').style.opacity = 0;\"\n        >the deeply divisive issue of the region s secession prompts participation from both sides. </div></div><div style='display: inline; text-align: center;'\n    ><div style='display: none; color: #999; padding-top: 0px; font-size: 12px;'>0.013 / 58</div\n        ><div id='_tp_ohqqxswgdewzbfidvbyf_ind_18'\n            style='display: inline; background: rgba(255.0, 13.0, 87.0, 0.03830461477520289); border-radius: 3px; padding: 0px'\n            onclick=\"\n            if (this.previousSibling.style.display == 'none') {\n                this.previousSibling.style.display = 'block';\n                this.parentNode.style.display = 'inline-block';\n            } else {\n                this.previousSibling.style.display = 'none';\n                this.parentNode.style.display = 'inline';\n            }\"\n            onmouseover=\"document.getElementById('_fb_ohqqxswgdewzbfidvbyf_ind_18').style.opacity = 1; document.getElementById('_fs_ohqqxswgdewzbfidvbyf_ind_18').style.opacity = 1;\"\n            onmouseout=\"document.getElementById('_fb_ohqqxswgdewzbfidvbyf_ind_18').style.opacity = 0; document.getElementById('_fs_ohqqxswgdewzbfidvbyf_ind_18').style.opacity = 0;\"\n        >Less than a quarter of Catalans want to continue with a plan to claim independence from Spain, according to a poll published in El Pais newspaper on Monday. However, the same poll showed the vote evenly split between pro- and anti-independence parties in the upcoming regional election. </div></div></div></div></div>"
     },
     "metadata": {},
     "output_type": "display_data"
    }
   ],
   "source": [
    "import shap\n",
    "shap.text_plot(shap_values_dict_list[0])"
   ],
   "metadata": {
    "collapsed": false,
    "pycharm": {
     "name": "#%%\n"
    }
   }
  },
  {
   "cell_type": "code",
   "execution_count": null,
   "outputs": [],
   "source": [],
   "metadata": {
    "collapsed": false,
    "pycharm": {
     "name": "#%%\n"
    }
   }
  }
 ],
 "metadata": {
  "kernelspec": {
   "display_name": "Python 3 (ipykernel)",
   "language": "python",
   "name": "python3"
  },
  "language_info": {
   "codemirror_mode": {
    "name": "ipython",
    "version": 3
   },
   "file_extension": ".py",
   "mimetype": "text/x-python",
   "name": "python",
   "nbconvert_exporter": "python",
   "pygments_lexer": "ipython3",
   "version": "3.7.13"
  }
 },
 "nbformat": 4,
 "nbformat_minor": 1
}