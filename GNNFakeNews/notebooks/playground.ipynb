{
 "cells": [
  {
   "cell_type": "code",
   "execution_count": null,
   "outputs": [],
   "source": [
    "from pandas import read_csv, DataFrame\n",
    "from matplotlib import pyplot as plt\n",
    "import numpy as np"
   ],
   "metadata": {
    "collapsed": false,
    "pycharm": {
     "name": "#%%\n"
    }
   }
  },
  {
   "cell_type": "code",
   "execution_count": null,
   "outputs": [],
   "source": [
    "fake_news22_count = read_csv('/home/sersery/Downloads/scopus_fake_news22.csv').count()\n",
    "fake_news21_count = read_csv('/home/sersery/Downloads/scopus_fake_news21.csv').count()\n",
    "fake_news20_count = read_csv('/home/sersery/Downloads/scopus_fake_news20.csv').count()\n",
    "fake_news_before_20_file = read_csv('/home/sersery/Downloads/scopus_fake_news_before_20.csv')\n",
    "\n",
    "fake_newsbefore20_counts = fake_news_before_20_file['Year'].value_counts()\n",
    "\n",
    "fake_news_detection_file_dir = '/home/sersery/Downloads/scopus_fake_news_detection.csv'\n",
    "scopus_fake_news_detection = read_csv(fake_news_detection_file_dir)"
   ],
   "metadata": {
    "collapsed": false,
    "pycharm": {
     "name": "#%%\n"
    }
   }
  },
  {
   "cell_type": "code",
   "execution_count": null,
   "outputs": [],
   "source": [
    "scopus_fake_news_dict = {\n",
    "    'Year': [2022, 2021, 2020],\n",
    "    'Count': [fake_news22_count.Title, fake_news21_count.Title, fake_news20_count.Title]\n",
    "}\n",
    "\n",
    "for year, count in zip(fake_newsbefore20_counts.keys(), fake_newsbefore20_counts.values):\n",
    "    if year >= 2015:\n",
    "        scopus_fake_news_dict['Year'].append(year)\n",
    "        scopus_fake_news_dict['Count'].append(count)\n",
    "scopus_fake_news_df = DataFrame.from_dict(scopus_fake_news_dict)"
   ],
   "metadata": {
    "collapsed": false,
    "pycharm": {
     "name": "#%%\n"
    }
   }
  },
  {
   "cell_type": "code",
   "execution_count": null,
   "outputs": [],
   "source": [
    "scopus_fake_news_detection_dict = {'Year': [], 'Count': []}\n",
    "for year, count in zip(scopus_fake_news_detection['Year'].value_counts().keys(), scopus_fake_news_detection['Year'].value_counts().values):\n",
    "    if year == 2015 :\n",
    "        scopus_fake_news_detection_dict['Year'].append(2016)\n",
    "        scopus_fake_news_detection_dict['Count'].append(0)\n",
    "\n",
    "    scopus_fake_news_detection_dict['Year'].append(year)\n",
    "    scopus_fake_news_detection_dict['Count'].append(count)\n",
    "scopus_fake_news_detection_df = DataFrame.from_dict(scopus_fake_news_detection_dict)"
   ],
   "metadata": {
    "collapsed": false,
    "pycharm": {
     "name": "#%%\n"
    }
   }
  },
  {
   "cell_type": "code",
   "execution_count": null,
   "outputs": [],
   "source": [
    "scopus_fake_news_df = scopus_fake_news_df.sort_values(by='Year')\n",
    "scopus_fake_news_detection_df = scopus_fake_news_detection_df.sort_values(by='Year')"
   ],
   "metadata": {
    "collapsed": false,
    "pycharm": {
     "name": "#%%\n"
    }
   }
  },
  {
   "cell_type": "code",
   "execution_count": null,
   "outputs": [],
   "source": [
    "fig = plt.figure(figsize=(12, 6))\n",
    "x_axis = np.arange(len(scopus_fake_news_df['Year']))\n",
    "plt.bar(x_axis - 0.2, scopus_fake_news_df['Count'], label='Fake News', width=0.4)\n",
    "plt.bar(x_axis + 0.2, scopus_fake_news_detection_df['Count'], label='Fake News Detection', width=0.4)\n",
    "plt.xticks(x_axis, scopus_fake_news_df['Year'])\n",
    "plt.axis('on')\n",
    "plt.legend()\n",
    "plt.savefig('FN_vs_FND_Publications.pdf', bbox_inches='tight')\n",
    "plt.show()"
   ],
   "metadata": {
    "collapsed": false,
    "pycharm": {
     "name": "#%%\n"
    }
   }
  }
 ],
 "metadata": {
  "kernelspec": {
   "display_name": "Python 3",
   "language": "python",
   "name": "python3"
  },
  "language_info": {
   "codemirror_mode": {
    "name": "ipython",
    "version": 2
   },
   "file_extension": ".py",
   "mimetype": "text/x-python",
   "name": "python",
   "nbconvert_exporter": "python",
   "pygments_lexer": "ipython2",
   "version": "2.7.6"
  }
 },
 "nbformat": 4,
 "nbformat_minor": 0
}